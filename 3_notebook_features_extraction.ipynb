{
 "cells": [
  {
   "cell_type": "code",
   "execution_count": 7,
   "id": "initial_id",
   "metadata": {
    "collapsed": true,
    "ExecuteTime": {
     "end_time": "2024-04-06T21:48:08.691040200Z",
     "start_time": "2024-04-06T21:48:08.225995Z"
    }
   },
   "outputs": [
    {
     "data": {
      "text/plain": "       Num_Bank_Accounts  Num_Credit_Card  Interest_Rate  Num_of_Loan  \\\n0                    1.0                3              2            2   \n1                    5.0                1             10            4   \n2                    5.0                7              8            3   \n3                    7.0                7              9            4   \n4                    2.0                3              9            1   \n...                  ...              ...            ...          ...   \n65819                4.0                5             12            4   \n65820                2.0                5              7            0   \n65821                5.0                5              3            3   \n65822                1.0                7              3            3   \n65823               10.0               10             34            9   \n\n       Delay_from_due_date  Num_of_Delayed_Payment  Changed_Credit_Limit  \\\n0                       14                       6                  4.97   \n1                       12                      10                  6.24   \n2                       28                       8                  1.85   \n3                       16                      13                 11.24   \n4                        2                       9                  9.94   \n...                    ...                     ...                   ...   \n65819                    7                      11                  3.17   \n65820                   -2                      12                  5.16   \n65821                   12                       9                  5.55   \n65822                   12                       9                  3.90   \n65823                   41                      23                  7.50   \n\n       Num_Credit_Inquiries  Credit_Utilization_Ratio  Credit_History_Age  \\\n0                       4.0                 42.681159           24.750000   \n1                       0.0                 40.090839           28.916667   \n2                       4.0                 23.607892           26.750000   \n3                       3.0                 27.094189            0.000000   \n4                       1.0                 26.205042           24.250000   \n...                     ...                       ...                 ...   \n65819                   5.0                 32.072697           32.166667   \n65820                   0.0                 27.192416           20.333333   \n65821                   1.0                 35.131041           23.000000   \n65822                   2.0                 36.826610           16.666667   \n65823                  11.0                 37.579855           11.500000   \n\n       ...  Payment_of_Min_Amount_NM  Payment_of_Min_Amount_No  \\\n0      ...                     False                      True   \n1      ...                     False                      True   \n2      ...                     False                      True   \n3      ...                     False                      True   \n4      ...                      True                     False   \n...    ...                       ...                       ...   \n65819  ...                      True                     False   \n65820  ...                     False                      True   \n65821  ...                     False                      True   \n65822  ...                     False                      True   \n65823  ...                      True                     False   \n\n       Payment_of_Min_Amount_Yes  Payment_Behaviour_!@9#%8  \\\n0                          False                     False   \n1                          False                     False   \n2                          False                     False   \n3                          False                     False   \n4                          False                     False   \n...                          ...                       ...   \n65819                      False                     False   \n65820                      False                     False   \n65821                      False                     False   \n65822                      False                     False   \n65823                      False                     False   \n\n       Payment_Behaviour_High_spent_Large_value_payments  \\\n0                                                  False   \n1                                                   True   \n2                                                  False   \n3                                                  False   \n4                                                  False   \n...                                                  ...   \n65819                                               True   \n65820                                              False   \n65821                                              False   \n65822                                              False   \n65823                                              False   \n\n       Payment_Behaviour_High_spent_Medium_value_payments  \\\n0                                                   True    \n1                                                  False    \n2                                                  False    \n3                                                  False    \n4                                                   True    \n...                                                  ...    \n65819                                              False    \n65820                                              False    \n65821                                              False    \n65822                                              False    \n65823                                              False    \n\n       Payment_Behaviour_High_spent_Small_value_payments  \\\n0                                                  False   \n1                                                  False   \n2                                                  False   \n3                                                  False   \n4                                                  False   \n...                                                  ...   \n65819                                              False   \n65820                                              False   \n65821                                               True   \n65822                                              False   \n65823                                              False   \n\n       Payment_Behaviour_Low_spent_Large_value_payments  \\\n0                                                 False   \n1                                                 False   \n2                                                 False   \n3                                                  True   \n4                                                 False   \n...                                                 ...   \n65819                                             False   \n65820                                             False   \n65821                                             False   \n65822                                              True   \n65823                                             False   \n\n       Payment_Behaviour_Low_spent_Medium_value_payments  \\\n0                                                  False   \n1                                                  False   \n2                                                  False   \n3                                                  False   \n4                                                  False   \n...                                                  ...   \n65819                                              False   \n65820                                              False   \n65821                                              False   \n65822                                              False   \n65823                                              False   \n\n       Payment_Behaviour_Low_spent_Small_value_payments  \n0                                                 False  \n1                                                 False  \n2                                                  True  \n3                                                 False  \n4                                                 False  \n...                                                 ...  \n65819                                             False  \n65820                                              True  \n65821                                             False  \n65822                                             False  \n65823                                              True  \n\n[65824 rows x 54 columns]",
      "text/html": "<div>\n<style scoped>\n    .dataframe tbody tr th:only-of-type {\n        vertical-align: middle;\n    }\n\n    .dataframe tbody tr th {\n        vertical-align: top;\n    }\n\n    .dataframe thead th {\n        text-align: right;\n    }\n</style>\n<table border=\"1\" class=\"dataframe\">\n  <thead>\n    <tr style=\"text-align: right;\">\n      <th></th>\n      <th>Num_Bank_Accounts</th>\n      <th>Num_Credit_Card</th>\n      <th>Interest_Rate</th>\n      <th>Num_of_Loan</th>\n      <th>Delay_from_due_date</th>\n      <th>Num_of_Delayed_Payment</th>\n      <th>Changed_Credit_Limit</th>\n      <th>Num_Credit_Inquiries</th>\n      <th>Credit_Utilization_Ratio</th>\n      <th>Credit_History_Age</th>\n      <th>...</th>\n      <th>Payment_of_Min_Amount_NM</th>\n      <th>Payment_of_Min_Amount_No</th>\n      <th>Payment_of_Min_Amount_Yes</th>\n      <th>Payment_Behaviour_!@9#%8</th>\n      <th>Payment_Behaviour_High_spent_Large_value_payments</th>\n      <th>Payment_Behaviour_High_spent_Medium_value_payments</th>\n      <th>Payment_Behaviour_High_spent_Small_value_payments</th>\n      <th>Payment_Behaviour_Low_spent_Large_value_payments</th>\n      <th>Payment_Behaviour_Low_spent_Medium_value_payments</th>\n      <th>Payment_Behaviour_Low_spent_Small_value_payments</th>\n    </tr>\n  </thead>\n  <tbody>\n    <tr>\n      <th>0</th>\n      <td>1.0</td>\n      <td>3</td>\n      <td>2</td>\n      <td>2</td>\n      <td>14</td>\n      <td>6</td>\n      <td>4.97</td>\n      <td>4.0</td>\n      <td>42.681159</td>\n      <td>24.750000</td>\n      <td>...</td>\n      <td>False</td>\n      <td>True</td>\n      <td>False</td>\n      <td>False</td>\n      <td>False</td>\n      <td>True</td>\n      <td>False</td>\n      <td>False</td>\n      <td>False</td>\n      <td>False</td>\n    </tr>\n    <tr>\n      <th>1</th>\n      <td>5.0</td>\n      <td>1</td>\n      <td>10</td>\n      <td>4</td>\n      <td>12</td>\n      <td>10</td>\n      <td>6.24</td>\n      <td>0.0</td>\n      <td>40.090839</td>\n      <td>28.916667</td>\n      <td>...</td>\n      <td>False</td>\n      <td>True</td>\n      <td>False</td>\n      <td>False</td>\n      <td>True</td>\n      <td>False</td>\n      <td>False</td>\n      <td>False</td>\n      <td>False</td>\n      <td>False</td>\n    </tr>\n    <tr>\n      <th>2</th>\n      <td>5.0</td>\n      <td>7</td>\n      <td>8</td>\n      <td>3</td>\n      <td>28</td>\n      <td>8</td>\n      <td>1.85</td>\n      <td>4.0</td>\n      <td>23.607892</td>\n      <td>26.750000</td>\n      <td>...</td>\n      <td>False</td>\n      <td>True</td>\n      <td>False</td>\n      <td>False</td>\n      <td>False</td>\n      <td>False</td>\n      <td>False</td>\n      <td>False</td>\n      <td>False</td>\n      <td>True</td>\n    </tr>\n    <tr>\n      <th>3</th>\n      <td>7.0</td>\n      <td>7</td>\n      <td>9</td>\n      <td>4</td>\n      <td>16</td>\n      <td>13</td>\n      <td>11.24</td>\n      <td>3.0</td>\n      <td>27.094189</td>\n      <td>0.000000</td>\n      <td>...</td>\n      <td>False</td>\n      <td>True</td>\n      <td>False</td>\n      <td>False</td>\n      <td>False</td>\n      <td>False</td>\n      <td>False</td>\n      <td>True</td>\n      <td>False</td>\n      <td>False</td>\n    </tr>\n    <tr>\n      <th>4</th>\n      <td>2.0</td>\n      <td>3</td>\n      <td>9</td>\n      <td>1</td>\n      <td>2</td>\n      <td>9</td>\n      <td>9.94</td>\n      <td>1.0</td>\n      <td>26.205042</td>\n      <td>24.250000</td>\n      <td>...</td>\n      <td>True</td>\n      <td>False</td>\n      <td>False</td>\n      <td>False</td>\n      <td>False</td>\n      <td>True</td>\n      <td>False</td>\n      <td>False</td>\n      <td>False</td>\n      <td>False</td>\n    </tr>\n    <tr>\n      <th>...</th>\n      <td>...</td>\n      <td>...</td>\n      <td>...</td>\n      <td>...</td>\n      <td>...</td>\n      <td>...</td>\n      <td>...</td>\n      <td>...</td>\n      <td>...</td>\n      <td>...</td>\n      <td>...</td>\n      <td>...</td>\n      <td>...</td>\n      <td>...</td>\n      <td>...</td>\n      <td>...</td>\n      <td>...</td>\n      <td>...</td>\n      <td>...</td>\n      <td>...</td>\n      <td>...</td>\n    </tr>\n    <tr>\n      <th>65819</th>\n      <td>4.0</td>\n      <td>5</td>\n      <td>12</td>\n      <td>4</td>\n      <td>7</td>\n      <td>11</td>\n      <td>3.17</td>\n      <td>5.0</td>\n      <td>32.072697</td>\n      <td>32.166667</td>\n      <td>...</td>\n      <td>True</td>\n      <td>False</td>\n      <td>False</td>\n      <td>False</td>\n      <td>True</td>\n      <td>False</td>\n      <td>False</td>\n      <td>False</td>\n      <td>False</td>\n      <td>False</td>\n    </tr>\n    <tr>\n      <th>65820</th>\n      <td>2.0</td>\n      <td>5</td>\n      <td>7</td>\n      <td>0</td>\n      <td>-2</td>\n      <td>12</td>\n      <td>5.16</td>\n      <td>0.0</td>\n      <td>27.192416</td>\n      <td>20.333333</td>\n      <td>...</td>\n      <td>False</td>\n      <td>True</td>\n      <td>False</td>\n      <td>False</td>\n      <td>False</td>\n      <td>False</td>\n      <td>False</td>\n      <td>False</td>\n      <td>False</td>\n      <td>True</td>\n    </tr>\n    <tr>\n      <th>65821</th>\n      <td>5.0</td>\n      <td>5</td>\n      <td>3</td>\n      <td>3</td>\n      <td>12</td>\n      <td>9</td>\n      <td>5.55</td>\n      <td>1.0</td>\n      <td>35.131041</td>\n      <td>23.000000</td>\n      <td>...</td>\n      <td>False</td>\n      <td>True</td>\n      <td>False</td>\n      <td>False</td>\n      <td>False</td>\n      <td>False</td>\n      <td>True</td>\n      <td>False</td>\n      <td>False</td>\n      <td>False</td>\n    </tr>\n    <tr>\n      <th>65822</th>\n      <td>1.0</td>\n      <td>7</td>\n      <td>3</td>\n      <td>3</td>\n      <td>12</td>\n      <td>9</td>\n      <td>3.90</td>\n      <td>2.0</td>\n      <td>36.826610</td>\n      <td>16.666667</td>\n      <td>...</td>\n      <td>False</td>\n      <td>True</td>\n      <td>False</td>\n      <td>False</td>\n      <td>False</td>\n      <td>False</td>\n      <td>False</td>\n      <td>True</td>\n      <td>False</td>\n      <td>False</td>\n    </tr>\n    <tr>\n      <th>65823</th>\n      <td>10.0</td>\n      <td>10</td>\n      <td>34</td>\n      <td>9</td>\n      <td>41</td>\n      <td>23</td>\n      <td>7.50</td>\n      <td>11.0</td>\n      <td>37.579855</td>\n      <td>11.500000</td>\n      <td>...</td>\n      <td>True</td>\n      <td>False</td>\n      <td>False</td>\n      <td>False</td>\n      <td>False</td>\n      <td>False</td>\n      <td>False</td>\n      <td>False</td>\n      <td>False</td>\n      <td>True</td>\n    </tr>\n  </tbody>\n</table>\n<p>65824 rows × 54 columns</p>\n</div>"
     },
     "execution_count": 7,
     "metadata": {},
     "output_type": "execute_result"
    }
   ],
   "source": [
    "import pandas as pd\n",
    "\n",
    "train_data = pd.read_csv(\"data/train_data_preprocessed.csv\")\n",
    "test_data = pd.read_csv(\"data/test_data_preprocessed.csv\")\n",
    "\n",
    "train_y = train_data[\"Credit_Score\"]\n",
    "train_x = train_data.drop([\"Credit_Score\"], axis=1)\n",
    "train_x"
   ]
  },
  {
   "cell_type": "code",
   "execution_count": 8,
   "outputs": [
    {
     "name": "stdout",
     "output_type": "stream",
     "text": [
      "0.6176518735241039\n"
     ]
    }
   ],
   "source": [
    "from sklearn.model_selection import cross_val_score\n",
    "from sklearn.linear_model import LogisticRegression\n",
    "\n",
    "model = LogisticRegression(max_iter=10000, random_state=42)\n",
    "print(cross_val_score(model, train_x, train_y, scoring=\"f1_macro\", n_jobs=-1).mean())"
   ],
   "metadata": {
    "collapsed": false,
    "ExecuteTime": {
     "end_time": "2024-04-06T21:48:36.195119400Z",
     "start_time": "2024-04-06T21:48:08.688214600Z"
    }
   },
   "id": "16d8db192f4fc235"
  },
  {
   "cell_type": "code",
   "execution_count": 9,
   "outputs": [
    {
     "data": {
      "text/plain": "array([5.58852348e+03, 6.11226625e+03, 9.56113321e+03, 4.63812727e+03,\n       7.00688798e+03, 3.61975051e+03, 1.67547630e+03, 7.34884473e+03,\n       6.07273406e+01, 3.15436919e+03, 3.40467098e-01, 3.79818153e+00,\n       4.76337959e-01, 2.71343812e+00, 1.34552987e+00, 6.34349135e+00,\n       2.54372408e+00, 3.31736081e+00, 2.39864273e+00, 5.38379315e+00,\n       3.83546404e+00, 3.37117642e+00, 1.10413008e+00, 1.40472717e+00,\n       2.77884923e+01, 3.78686698e-01, 4.24397220e+02, 6.99063877e+00,\n       3.81583234e+01, 5.48340230e+01, 9.64792278e+02, 7.76667952e+02,\n       7.55171122e+02, 6.83314450e+02, 6.76630116e+02, 6.29113600e+02,\n       7.90579821e+02, 6.75570086e+02, 7.73565083e+02, 7.37236135e+02,\n       4.41485611e+03, 8.49092389e+03, 3.93489051e+03, 2.01957058e-01,\n       4.48797877e+00, 6.67776968e+03, 6.40015766e+03, 1.63673690e-01,\n       1.62043622e+02, 5.53679817e+01, 6.84661187e+00, 1.66102032e+00,\n       7.74439514e+00, 3.07519206e+02])"
     },
     "execution_count": 9,
     "metadata": {},
     "output_type": "execute_result"
    }
   ],
   "source": [
    "from sklearn.feature_selection import f_classif\n",
    "\n",
    "train_features = train_x.keys()\n",
    "f_statistic, p_values = f_classif(train_x, train_y)\n",
    "f_statistic"
   ],
   "metadata": {
    "collapsed": false,
    "ExecuteTime": {
     "end_time": "2024-04-06T21:48:36.196123300Z",
     "start_time": "2024-04-06T21:48:34.351432400Z"
    }
   },
   "id": "6d13a9e04c6b9595"
  },
  {
   "cell_type": "code",
   "execution_count": 10,
   "outputs": [
    {
     "data": {
      "text/plain": "['Credit_Utilization_Ratio',\n 'Occupation_Accountant',\n 'Occupation_Architect',\n 'Occupation_Developer',\n 'Occupation_Doctor',\n 'Occupation_Engineer',\n 'Occupation_Entrepreneur',\n 'Occupation_Journalist',\n 'Occupation_Lawyer',\n 'Occupation_Manager',\n 'Occupation_Mechanic',\n 'Occupation_Media_Manager',\n 'Occupation_Musician',\n 'Occupation_Scientist',\n 'Occupation_Teacher',\n 'Occupation_Writer',\n 'Occupation________',\n 'Age_categories_Youth',\n 'Age_categories_Young_Adult',\n 'Age_categories_Adult',\n 'Credit_Mix__',\n 'Payment_of_Min_Amount_NM',\n 'Payment_Behaviour_!@9#%8',\n 'Payment_Behaviour_High_spent_Large_value_payments',\n 'Payment_Behaviour_High_spent_Medium_value_payments',\n 'Payment_Behaviour_High_spent_Small_value_payments',\n 'Payment_Behaviour_Low_spent_Large_value_payments',\n 'Payment_Behaviour_Low_spent_Medium_value_payments']"
     },
     "execution_count": 10,
     "metadata": {},
     "output_type": "execute_result"
    }
   ],
   "source": [
    "from pandas import Index\n",
    "\n",
    "corr_bad_columns = list(Index(['Credit_Utilization_Ratio',\n",
    "                          'Occupation_Accountant', 'Occupation_Architect', 'Occupation_Developer',\n",
    "                          'Occupation_Doctor', 'Occupation_Engineer', 'Occupation_Entrepreneur',\n",
    "                          'Occupation_Journalist', 'Occupation_Lawyer', 'Occupation_Manager',\n",
    "                          'Occupation_Mechanic', 'Occupation_Media_Manager',\n",
    "                          'Occupation_Musician', 'Occupation_Scientist', 'Occupation_Teacher',\n",
    "                          'Occupation_Writer', 'Occupation________', 'Age_categories_Youth',\n",
    "                          'Age_categories_Young_Adult', 'Age_categories_Adult',\n",
    "                          'Credit_Mix_Standard', 'Credit_Mix__', 'Payment_of_Min_Amount_NM',\n",
    "                          'Payment_Behaviour_!@9#%8',\n",
    "                          'Payment_Behaviour_High_spent_Large_value_payments',\n",
    "                          'Payment_Behaviour_High_spent_Medium_value_payments',\n",
    "                          'Payment_Behaviour_High_spent_Small_value_payments',\n",
    "                          'Payment_Behaviour_Low_spent_Large_value_payments',\n",
    "                          'Payment_Behaviour_Low_spent_Medium_value_payments',\n",
    "                          'Payment_Behaviour_Low_spent_Small_value_payments'],\n",
    "                         dtype='object'))\n",
    "\n",
    "columns_to_delete = pd.Series(f_statistic).where(f_statistic < 300).dropna().index\n",
    "f_score_bad_columns = list(train_features[columns_to_delete])\n",
    "f_score_bad_columns"
   ],
   "metadata": {
    "collapsed": false,
    "ExecuteTime": {
     "end_time": "2024-04-06T21:48:36.197131600Z",
     "start_time": "2024-04-06T21:48:34.481429200Z"
    }
   },
   "id": "11dab2f79781c421"
  },
  {
   "cell_type": "code",
   "execution_count": 11,
   "outputs": [
    {
     "name": "stdout",
     "output_type": "stream",
     "text": [
      "Features number before deletion: 55\n",
      "Features number to delete: 30\n"
     ]
    },
    {
     "data": {
      "text/plain": "['Occupation_Engineer',\n 'Occupation_Writer',\n 'Credit_Mix_Standard',\n 'Occupation_Doctor',\n 'Payment_Behaviour_Low_spent_Medium_value_payments',\n 'Payment_Behaviour_!@9#%8',\n 'Payment_Behaviour_Low_spent_Large_value_payments',\n 'Payment_of_Min_Amount_NM',\n 'Age_categories_Young_Adult',\n 'Credit_Mix__',\n 'Payment_Behaviour_Low_spent_Small_value_payments',\n 'Occupation_Lawyer',\n 'Occupation_Teacher',\n 'Occupation_Developer',\n 'Occupation________',\n 'Payment_Behaviour_High_spent_Medium_value_payments',\n 'Occupation_Scientist',\n 'Credit_Utilization_Ratio',\n 'Payment_Behaviour_High_spent_Small_value_payments',\n 'Occupation_Mechanic',\n 'Occupation_Journalist',\n 'Occupation_Musician',\n 'Age_categories_Adult',\n 'Occupation_Media_Manager',\n 'Occupation_Accountant',\n 'Payment_Behaviour_High_spent_Large_value_payments',\n 'Occupation_Architect',\n 'Age_categories_Youth',\n 'Occupation_Manager',\n 'Occupation_Entrepreneur']"
     },
     "execution_count": 11,
     "metadata": {},
     "output_type": "execute_result"
    }
   ],
   "source": [
    "bad_columns = list(set(f_score_bad_columns + corr_bad_columns))\n",
    "print(f\"Features number before deletion: {train_data.shape[1]}\")\n",
    "print(f\"Features number to delete: {len(bad_columns)}\")\n",
    "bad_columns"
   ],
   "metadata": {
    "collapsed": false,
    "ExecuteTime": {
     "end_time": "2024-04-06T21:48:36.198125100Z",
     "start_time": "2024-04-06T21:48:34.497425500Z"
    }
   },
   "id": "ff934165de2deccc"
  },
  {
   "cell_type": "code",
   "execution_count": 12,
   "outputs": [],
   "source": [
    "train_data = train_data.drop(bad_columns, axis=1)\n",
    "test_data = test_data.drop(bad_columns, axis=1)"
   ],
   "metadata": {
    "collapsed": false,
    "ExecuteTime": {
     "end_time": "2024-04-06T21:48:36.198125100Z",
     "start_time": "2024-04-06T21:48:34.511449Z"
    }
   },
   "id": "3574b9d00f95d117"
  },
  {
   "cell_type": "code",
   "execution_count": 13,
   "outputs": [
    {
     "data": {
      "text/plain": "       Num_Bank_Accounts  Num_Credit_Card  Interest_Rate  Num_of_Loan  \\\n0                    1.0                3              2            2   \n1                    5.0                1             10            4   \n2                    5.0                7              8            3   \n3                    7.0                7              9            4   \n4                    2.0                3              9            1   \n...                  ...              ...            ...          ...   \n65819                4.0                5             12            4   \n65820                2.0                5              7            0   \n65821                5.0                5              3            3   \n65822                1.0                7              3            3   \n65823               10.0               10             34            9   \n\n       Delay_from_due_date  Num_of_Delayed_Payment  Changed_Credit_Limit  \\\n0                       14                       6                  4.97   \n1                       12                      10                  6.24   \n2                       28                       8                  1.85   \n3                       16                      13                 11.24   \n4                        2                       9                  9.94   \n...                    ...                     ...                   ...   \n65819                    7                      11                  3.17   \n65820                   -2                      12                  5.16   \n65821                   12                       9                  5.55   \n65822                   12                       9                  3.90   \n65823                   41                      23                  7.50   \n\n       Num_Credit_Inquiries  Credit_History_Age Credit_Score  ...  \\\n0                       4.0           24.750000     Standard  ...   \n1                       0.0           28.916667         Good  ...   \n2                       4.0           26.750000         Good  ...   \n3                       3.0            0.000000     Standard  ...   \n4                       1.0           24.250000         Good  ...   \n...                     ...                 ...          ...  ...   \n65819                   5.0           32.166667         Good  ...   \n65820                   0.0           20.333333         Good  ...   \n65821                   1.0           23.000000         Good  ...   \n65822                   2.0           16.666667     Standard  ...   \n65823                  11.0           11.500000         Poor  ...   \n\n       Home Equity Loan  Not Specified  Debt Consolidation Loan  Student Loan  \\\n0                     0              0                        0             0   \n1                     1              1                        1             0   \n2                     0              0                        1             1   \n3                     0              0                        1             1   \n4                     0              0                        0             0   \n...                 ...            ...                      ...           ...   \n65819                 0              0                        0             1   \n65820                 0              0                        0             0   \n65821                 1              1                        0             0   \n65822                 0              0                        2             0   \n65823                 1              1                        0             0   \n\n       Auto Loan  Payday Loan  Credit_Mix_Bad  Credit_Mix_Good  \\\n0              0            0           False             True   \n1              0            0           False             True   \n2              0            0           False            False   \n3              1            0           False            False   \n4              1            0           False             True   \n...          ...          ...             ...              ...   \n65819          2            1           False             True   \n65820          0            0           False             True   \n65821          1            0           False             True   \n65822          0            0           False            False   \n65823          2            1            True            False   \n\n       Payment_of_Min_Amount_No  Payment_of_Min_Amount_Yes  \n0                          True                      False  \n1                          True                      False  \n2                          True                      False  \n3                          True                      False  \n4                         False                      False  \n...                         ...                        ...  \n65819                     False                      False  \n65820                      True                      False  \n65821                      True                      False  \n65822                      True                      False  \n65823                     False                      False  \n\n[65824 rows x 25 columns]",
      "text/html": "<div>\n<style scoped>\n    .dataframe tbody tr th:only-of-type {\n        vertical-align: middle;\n    }\n\n    .dataframe tbody tr th {\n        vertical-align: top;\n    }\n\n    .dataframe thead th {\n        text-align: right;\n    }\n</style>\n<table border=\"1\" class=\"dataframe\">\n  <thead>\n    <tr style=\"text-align: right;\">\n      <th></th>\n      <th>Num_Bank_Accounts</th>\n      <th>Num_Credit_Card</th>\n      <th>Interest_Rate</th>\n      <th>Num_of_Loan</th>\n      <th>Delay_from_due_date</th>\n      <th>Num_of_Delayed_Payment</th>\n      <th>Changed_Credit_Limit</th>\n      <th>Num_Credit_Inquiries</th>\n      <th>Credit_History_Age</th>\n      <th>Credit_Score</th>\n      <th>...</th>\n      <th>Home Equity Loan</th>\n      <th>Not Specified</th>\n      <th>Debt Consolidation Loan</th>\n      <th>Student Loan</th>\n      <th>Auto Loan</th>\n      <th>Payday Loan</th>\n      <th>Credit_Mix_Bad</th>\n      <th>Credit_Mix_Good</th>\n      <th>Payment_of_Min_Amount_No</th>\n      <th>Payment_of_Min_Amount_Yes</th>\n    </tr>\n  </thead>\n  <tbody>\n    <tr>\n      <th>0</th>\n      <td>1.0</td>\n      <td>3</td>\n      <td>2</td>\n      <td>2</td>\n      <td>14</td>\n      <td>6</td>\n      <td>4.97</td>\n      <td>4.0</td>\n      <td>24.750000</td>\n      <td>Standard</td>\n      <td>...</td>\n      <td>0</td>\n      <td>0</td>\n      <td>0</td>\n      <td>0</td>\n      <td>0</td>\n      <td>0</td>\n      <td>False</td>\n      <td>True</td>\n      <td>True</td>\n      <td>False</td>\n    </tr>\n    <tr>\n      <th>1</th>\n      <td>5.0</td>\n      <td>1</td>\n      <td>10</td>\n      <td>4</td>\n      <td>12</td>\n      <td>10</td>\n      <td>6.24</td>\n      <td>0.0</td>\n      <td>28.916667</td>\n      <td>Good</td>\n      <td>...</td>\n      <td>1</td>\n      <td>1</td>\n      <td>1</td>\n      <td>0</td>\n      <td>0</td>\n      <td>0</td>\n      <td>False</td>\n      <td>True</td>\n      <td>True</td>\n      <td>False</td>\n    </tr>\n    <tr>\n      <th>2</th>\n      <td>5.0</td>\n      <td>7</td>\n      <td>8</td>\n      <td>3</td>\n      <td>28</td>\n      <td>8</td>\n      <td>1.85</td>\n      <td>4.0</td>\n      <td>26.750000</td>\n      <td>Good</td>\n      <td>...</td>\n      <td>0</td>\n      <td>0</td>\n      <td>1</td>\n      <td>1</td>\n      <td>0</td>\n      <td>0</td>\n      <td>False</td>\n      <td>False</td>\n      <td>True</td>\n      <td>False</td>\n    </tr>\n    <tr>\n      <th>3</th>\n      <td>7.0</td>\n      <td>7</td>\n      <td>9</td>\n      <td>4</td>\n      <td>16</td>\n      <td>13</td>\n      <td>11.24</td>\n      <td>3.0</td>\n      <td>0.000000</td>\n      <td>Standard</td>\n      <td>...</td>\n      <td>0</td>\n      <td>0</td>\n      <td>1</td>\n      <td>1</td>\n      <td>1</td>\n      <td>0</td>\n      <td>False</td>\n      <td>False</td>\n      <td>True</td>\n      <td>False</td>\n    </tr>\n    <tr>\n      <th>4</th>\n      <td>2.0</td>\n      <td>3</td>\n      <td>9</td>\n      <td>1</td>\n      <td>2</td>\n      <td>9</td>\n      <td>9.94</td>\n      <td>1.0</td>\n      <td>24.250000</td>\n      <td>Good</td>\n      <td>...</td>\n      <td>0</td>\n      <td>0</td>\n      <td>0</td>\n      <td>0</td>\n      <td>1</td>\n      <td>0</td>\n      <td>False</td>\n      <td>True</td>\n      <td>False</td>\n      <td>False</td>\n    </tr>\n    <tr>\n      <th>...</th>\n      <td>...</td>\n      <td>...</td>\n      <td>...</td>\n      <td>...</td>\n      <td>...</td>\n      <td>...</td>\n      <td>...</td>\n      <td>...</td>\n      <td>...</td>\n      <td>...</td>\n      <td>...</td>\n      <td>...</td>\n      <td>...</td>\n      <td>...</td>\n      <td>...</td>\n      <td>...</td>\n      <td>...</td>\n      <td>...</td>\n      <td>...</td>\n      <td>...</td>\n      <td>...</td>\n    </tr>\n    <tr>\n      <th>65819</th>\n      <td>4.0</td>\n      <td>5</td>\n      <td>12</td>\n      <td>4</td>\n      <td>7</td>\n      <td>11</td>\n      <td>3.17</td>\n      <td>5.0</td>\n      <td>32.166667</td>\n      <td>Good</td>\n      <td>...</td>\n      <td>0</td>\n      <td>0</td>\n      <td>0</td>\n      <td>1</td>\n      <td>2</td>\n      <td>1</td>\n      <td>False</td>\n      <td>True</td>\n      <td>False</td>\n      <td>False</td>\n    </tr>\n    <tr>\n      <th>65820</th>\n      <td>2.0</td>\n      <td>5</td>\n      <td>7</td>\n      <td>0</td>\n      <td>-2</td>\n      <td>12</td>\n      <td>5.16</td>\n      <td>0.0</td>\n      <td>20.333333</td>\n      <td>Good</td>\n      <td>...</td>\n      <td>0</td>\n      <td>0</td>\n      <td>0</td>\n      <td>0</td>\n      <td>0</td>\n      <td>0</td>\n      <td>False</td>\n      <td>True</td>\n      <td>True</td>\n      <td>False</td>\n    </tr>\n    <tr>\n      <th>65821</th>\n      <td>5.0</td>\n      <td>5</td>\n      <td>3</td>\n      <td>3</td>\n      <td>12</td>\n      <td>9</td>\n      <td>5.55</td>\n      <td>1.0</td>\n      <td>23.000000</td>\n      <td>Good</td>\n      <td>...</td>\n      <td>1</td>\n      <td>1</td>\n      <td>0</td>\n      <td>0</td>\n      <td>1</td>\n      <td>0</td>\n      <td>False</td>\n      <td>True</td>\n      <td>True</td>\n      <td>False</td>\n    </tr>\n    <tr>\n      <th>65822</th>\n      <td>1.0</td>\n      <td>7</td>\n      <td>3</td>\n      <td>3</td>\n      <td>12</td>\n      <td>9</td>\n      <td>3.90</td>\n      <td>2.0</td>\n      <td>16.666667</td>\n      <td>Standard</td>\n      <td>...</td>\n      <td>0</td>\n      <td>0</td>\n      <td>2</td>\n      <td>0</td>\n      <td>0</td>\n      <td>0</td>\n      <td>False</td>\n      <td>False</td>\n      <td>True</td>\n      <td>False</td>\n    </tr>\n    <tr>\n      <th>65823</th>\n      <td>10.0</td>\n      <td>10</td>\n      <td>34</td>\n      <td>9</td>\n      <td>41</td>\n      <td>23</td>\n      <td>7.50</td>\n      <td>11.0</td>\n      <td>11.500000</td>\n      <td>Poor</td>\n      <td>...</td>\n      <td>1</td>\n      <td>1</td>\n      <td>0</td>\n      <td>0</td>\n      <td>2</td>\n      <td>1</td>\n      <td>True</td>\n      <td>False</td>\n      <td>False</td>\n      <td>False</td>\n    </tr>\n  </tbody>\n</table>\n<p>65824 rows × 25 columns</p>\n</div>"
     },
     "execution_count": 13,
     "metadata": {},
     "output_type": "execute_result"
    }
   ],
   "source": [
    "train_data"
   ],
   "metadata": {
    "collapsed": false,
    "ExecuteTime": {
     "end_time": "2024-04-06T21:48:36.200123200Z",
     "start_time": "2024-04-06T21:48:34.525613300Z"
    }
   },
   "id": "6e3633b11e327c3c"
  },
  {
   "cell_type": "code",
   "execution_count": 14,
   "outputs": [
    {
     "data": {
      "text/plain": "       Num_Bank_Accounts  Num_Credit_Card  Interest_Rate  Num_of_Loan  \\\n0                      1                5             10            0   \n1                      8                7             18            6   \n2                      5                2             11            2   \n3                      6                6             32            2   \n4                      1                2             12            4   \n...                  ...              ...            ...          ...   \n19995                  8                7              8            5   \n19996                  7                3              9            4   \n19997                  4                3             14            5   \n19998                  6                4             14            3   \n19999                  6                9             16            4   \n\n       Delay_from_due_date  Num_of_Delayed_Payment  Changed_Credit_Limit  \\\n0                        9                       6                 10.72   \n1                       18                      17                 21.91   \n2                        3                       0                  3.82   \n3                       15                      13                 10.40   \n4                        1                       0                  9.74   \n...                    ...                     ...                   ...   \n19995                   12                      15                 16.11   \n19996                    8                      14                  7.68   \n19997                   13                      20                 12.30   \n19998                    4                      10                  7.14   \n19999                   15                      11                  5.58   \n\n       Num_Credit_Inquiries  Credit_History_Age Credit_Score  ...  \\\n0                       0.0           23.666667         Good  ...   \n1                       9.0            0.000000         Poor  ...   \n2                     645.0           15.916667         Good  ...   \n3                      11.0           19.333333         Poor  ...   \n4                       4.0           20.750000         Good  ...   \n...                     ...                 ...          ...  ...   \n19995                   6.0           12.416667     Standard  ...   \n19996                   5.0           14.166667     Standard  ...   \n19997                  10.0            0.000000         Poor  ...   \n19998                   0.0           21.000000     Standard  ...   \n19999                  12.0           11.916667     Standard  ...   \n\n       Student Loan  Debt Consolidation Loan  Credit-Builder Loan  \\\n0                 0                        0                    0   \n1                 2                        0                    0   \n2                 0                        1                    0   \n3                 0                        0                    1   \n4                 0                        0                    0   \n...             ...                      ...                  ...   \n19995             2                        1                    1   \n19996             1                        0                    0   \n19997             0                        0                    0   \n19998             0                        0                    1   \n19999             0                        0                    1   \n\n       Home Equity Loan  Auto Loan  Payday Loan  Credit_Mix_Bad  \\\n0                     0          0            0           False   \n1                     0          0            0            True   \n2                     0          0            0           False   \n3                     1          0            0           False   \n4                     0          1            0           False   \n...                 ...        ...          ...             ...   \n19995                 0          0            0           False   \n19996                 1          0            1           False   \n19997                 1          0            2           False   \n19998                 1          0            0           False   \n19999                 1          0            1           False   \n\n       Credit_Mix_Good  Payment_of_Min_Amount_No  Payment_of_Min_Amount_Yes  \n0                 True                      True                      False  \n1                False                     False                       True  \n2                 True                      True                      False  \n3                False                     False                       True  \n4                 True                      True                      False  \n...                ...                       ...                        ...  \n19995            False                     False                       True  \n19996            False                     False                       True  \n19997            False                     False                       True  \n19998            False                      True                      False  \n19999            False                     False                       True  \n\n[20000 rows x 25 columns]",
      "text/html": "<div>\n<style scoped>\n    .dataframe tbody tr th:only-of-type {\n        vertical-align: middle;\n    }\n\n    .dataframe tbody tr th {\n        vertical-align: top;\n    }\n\n    .dataframe thead th {\n        text-align: right;\n    }\n</style>\n<table border=\"1\" class=\"dataframe\">\n  <thead>\n    <tr style=\"text-align: right;\">\n      <th></th>\n      <th>Num_Bank_Accounts</th>\n      <th>Num_Credit_Card</th>\n      <th>Interest_Rate</th>\n      <th>Num_of_Loan</th>\n      <th>Delay_from_due_date</th>\n      <th>Num_of_Delayed_Payment</th>\n      <th>Changed_Credit_Limit</th>\n      <th>Num_Credit_Inquiries</th>\n      <th>Credit_History_Age</th>\n      <th>Credit_Score</th>\n      <th>...</th>\n      <th>Student Loan</th>\n      <th>Debt Consolidation Loan</th>\n      <th>Credit-Builder Loan</th>\n      <th>Home Equity Loan</th>\n      <th>Auto Loan</th>\n      <th>Payday Loan</th>\n      <th>Credit_Mix_Bad</th>\n      <th>Credit_Mix_Good</th>\n      <th>Payment_of_Min_Amount_No</th>\n      <th>Payment_of_Min_Amount_Yes</th>\n    </tr>\n  </thead>\n  <tbody>\n    <tr>\n      <th>0</th>\n      <td>1</td>\n      <td>5</td>\n      <td>10</td>\n      <td>0</td>\n      <td>9</td>\n      <td>6</td>\n      <td>10.72</td>\n      <td>0.0</td>\n      <td>23.666667</td>\n      <td>Good</td>\n      <td>...</td>\n      <td>0</td>\n      <td>0</td>\n      <td>0</td>\n      <td>0</td>\n      <td>0</td>\n      <td>0</td>\n      <td>False</td>\n      <td>True</td>\n      <td>True</td>\n      <td>False</td>\n    </tr>\n    <tr>\n      <th>1</th>\n      <td>8</td>\n      <td>7</td>\n      <td>18</td>\n      <td>6</td>\n      <td>18</td>\n      <td>17</td>\n      <td>21.91</td>\n      <td>9.0</td>\n      <td>0.000000</td>\n      <td>Poor</td>\n      <td>...</td>\n      <td>2</td>\n      <td>0</td>\n      <td>0</td>\n      <td>0</td>\n      <td>0</td>\n      <td>0</td>\n      <td>True</td>\n      <td>False</td>\n      <td>False</td>\n      <td>True</td>\n    </tr>\n    <tr>\n      <th>2</th>\n      <td>5</td>\n      <td>2</td>\n      <td>11</td>\n      <td>2</td>\n      <td>3</td>\n      <td>0</td>\n      <td>3.82</td>\n      <td>645.0</td>\n      <td>15.916667</td>\n      <td>Good</td>\n      <td>...</td>\n      <td>0</td>\n      <td>1</td>\n      <td>0</td>\n      <td>0</td>\n      <td>0</td>\n      <td>0</td>\n      <td>False</td>\n      <td>True</td>\n      <td>True</td>\n      <td>False</td>\n    </tr>\n    <tr>\n      <th>3</th>\n      <td>6</td>\n      <td>6</td>\n      <td>32</td>\n      <td>2</td>\n      <td>15</td>\n      <td>13</td>\n      <td>10.40</td>\n      <td>11.0</td>\n      <td>19.333333</td>\n      <td>Poor</td>\n      <td>...</td>\n      <td>0</td>\n      <td>0</td>\n      <td>1</td>\n      <td>1</td>\n      <td>0</td>\n      <td>0</td>\n      <td>False</td>\n      <td>False</td>\n      <td>False</td>\n      <td>True</td>\n    </tr>\n    <tr>\n      <th>4</th>\n      <td>1</td>\n      <td>2</td>\n      <td>12</td>\n      <td>4</td>\n      <td>1</td>\n      <td>0</td>\n      <td>9.74</td>\n      <td>4.0</td>\n      <td>20.750000</td>\n      <td>Good</td>\n      <td>...</td>\n      <td>0</td>\n      <td>0</td>\n      <td>0</td>\n      <td>0</td>\n      <td>1</td>\n      <td>0</td>\n      <td>False</td>\n      <td>True</td>\n      <td>True</td>\n      <td>False</td>\n    </tr>\n    <tr>\n      <th>...</th>\n      <td>...</td>\n      <td>...</td>\n      <td>...</td>\n      <td>...</td>\n      <td>...</td>\n      <td>...</td>\n      <td>...</td>\n      <td>...</td>\n      <td>...</td>\n      <td>...</td>\n      <td>...</td>\n      <td>...</td>\n      <td>...</td>\n      <td>...</td>\n      <td>...</td>\n      <td>...</td>\n      <td>...</td>\n      <td>...</td>\n      <td>...</td>\n      <td>...</td>\n      <td>...</td>\n    </tr>\n    <tr>\n      <th>19995</th>\n      <td>8</td>\n      <td>7</td>\n      <td>8</td>\n      <td>5</td>\n      <td>12</td>\n      <td>15</td>\n      <td>16.11</td>\n      <td>6.0</td>\n      <td>12.416667</td>\n      <td>Standard</td>\n      <td>...</td>\n      <td>2</td>\n      <td>1</td>\n      <td>1</td>\n      <td>0</td>\n      <td>0</td>\n      <td>0</td>\n      <td>False</td>\n      <td>False</td>\n      <td>False</td>\n      <td>True</td>\n    </tr>\n    <tr>\n      <th>19996</th>\n      <td>7</td>\n      <td>3</td>\n      <td>9</td>\n      <td>4</td>\n      <td>8</td>\n      <td>14</td>\n      <td>7.68</td>\n      <td>5.0</td>\n      <td>14.166667</td>\n      <td>Standard</td>\n      <td>...</td>\n      <td>1</td>\n      <td>0</td>\n      <td>0</td>\n      <td>1</td>\n      <td>0</td>\n      <td>1</td>\n      <td>False</td>\n      <td>False</td>\n      <td>False</td>\n      <td>True</td>\n    </tr>\n    <tr>\n      <th>19997</th>\n      <td>4</td>\n      <td>3</td>\n      <td>14</td>\n      <td>5</td>\n      <td>13</td>\n      <td>20</td>\n      <td>12.30</td>\n      <td>10.0</td>\n      <td>0.000000</td>\n      <td>Poor</td>\n      <td>...</td>\n      <td>0</td>\n      <td>0</td>\n      <td>0</td>\n      <td>1</td>\n      <td>0</td>\n      <td>2</td>\n      <td>False</td>\n      <td>False</td>\n      <td>False</td>\n      <td>True</td>\n    </tr>\n    <tr>\n      <th>19998</th>\n      <td>6</td>\n      <td>4</td>\n      <td>14</td>\n      <td>3</td>\n      <td>4</td>\n      <td>10</td>\n      <td>7.14</td>\n      <td>0.0</td>\n      <td>21.000000</td>\n      <td>Standard</td>\n      <td>...</td>\n      <td>0</td>\n      <td>0</td>\n      <td>1</td>\n      <td>1</td>\n      <td>0</td>\n      <td>0</td>\n      <td>False</td>\n      <td>False</td>\n      <td>True</td>\n      <td>False</td>\n    </tr>\n    <tr>\n      <th>19999</th>\n      <td>6</td>\n      <td>9</td>\n      <td>16</td>\n      <td>4</td>\n      <td>15</td>\n      <td>11</td>\n      <td>5.58</td>\n      <td>12.0</td>\n      <td>11.916667</td>\n      <td>Standard</td>\n      <td>...</td>\n      <td>0</td>\n      <td>0</td>\n      <td>1</td>\n      <td>1</td>\n      <td>0</td>\n      <td>1</td>\n      <td>False</td>\n      <td>False</td>\n      <td>False</td>\n      <td>True</td>\n    </tr>\n  </tbody>\n</table>\n<p>20000 rows × 25 columns</p>\n</div>"
     },
     "execution_count": 14,
     "metadata": {},
     "output_type": "execute_result"
    }
   ],
   "source": [
    "test_data"
   ],
   "metadata": {
    "collapsed": false,
    "ExecuteTime": {
     "end_time": "2024-04-06T21:48:36.218121400Z",
     "start_time": "2024-04-06T21:48:34.572124300Z"
    }
   },
   "id": "6420faaaf3ee9d3"
  },
  {
   "cell_type": "code",
   "execution_count": 15,
   "outputs": [
    {
     "name": "stdout",
     "output_type": "stream",
     "text": [
      "0.6083786932093285\n"
     ]
    }
   ],
   "source": [
    "y = train_data[\"Credit_Score\"]\n",
    "x = train_data.drop([\"Credit_Score\"], axis=1)\n",
    "\n",
    "print(cross_val_score(model, x, y, scoring=\"f1_macro\", n_jobs=-1).mean())"
   ],
   "metadata": {
    "collapsed": false,
    "ExecuteTime": {
     "end_time": "2024-04-06T21:48:48.623300500Z",
     "start_time": "2024-04-06T21:48:34.603115200Z"
    }
   },
   "id": "c4713ca6bfabd1de"
  },
  {
   "cell_type": "code",
   "execution_count": 16,
   "outputs": [],
   "source": [
    "train_data.to_csv(\"data/train_data_features_selected.csv\", index=False)\n",
    "test_data.to_csv(\"data/test_data_features_selected.csv\", index=False)"
   ],
   "metadata": {
    "collapsed": false,
    "ExecuteTime": {
     "end_time": "2024-04-06T21:48:49.375367300Z",
     "start_time": "2024-04-06T21:48:48.625300500Z"
    }
   },
   "id": "114ef0f573f6adac"
  },
  {
   "cell_type": "code",
   "execution_count": 17,
   "outputs": [
    {
     "name": "stdout",
     "output_type": "stream",
     "text": [
      "Optimal number of features: 52\n"
     ]
    },
    {
     "data": {
      "text/plain": "array([ True,  True,  True,  True,  True,  True,  True,  True, False,\n        True,  True,  True,  True,  True,  True, False,  True,  True,\n        True,  True,  True,  True,  True,  True,  True,  True,  True,\n        True,  True,  True,  True,  True,  True,  True,  True,  True,\n        True,  True,  True,  True,  True,  True,  True,  True,  True,\n        True,  True,  True,  True,  True,  True,  True,  True,  True])"
     },
     "execution_count": 17,
     "metadata": {},
     "output_type": "execute_result"
    }
   ],
   "source": [
    "from sklearn.feature_selection import RFECV\n",
    "\n",
    "rfecv = RFECV(\n",
    "    estimator=model,\n",
    "    scoring=\"f1_macro\",\n",
    "    n_jobs=-1,\n",
    "    min_features_to_select=10\n",
    ")\n",
    "rfecv.fit(train_x, train_y)\n",
    "print(f\"Optimal number of features: {rfecv.n_features_}\")\n",
    "rfecv.support_"
   ],
   "metadata": {
    "collapsed": false,
    "ExecuteTime": {
     "end_time": "2024-04-06T21:54:19.662197300Z",
     "start_time": "2024-04-06T21:48:49.377368600Z"
    }
   },
   "id": "3f82030bfd7d456d"
  },
  {
   "cell_type": "code",
   "execution_count": 18,
   "outputs": [
    {
     "data": {
      "text/plain": "array([ True,  True,  True,  True,  True,  True,  True,  True, False,\n        True,  True,  True,  True,  True,  True, False,  True,  True,\n        True,  True,  True,  True,  True,  True,  True,  True,  True,\n        True,  True,  True,  True,  True,  True,  True,  True,  True,\n        True,  True,  True,  True,  True,  True,  True,  True,  True,\n        True,  True,  True,  True,  True,  True,  True,  True,  True])"
     },
     "execution_count": 18,
     "metadata": {},
     "output_type": "execute_result"
    }
   ],
   "source": [
    "rfecv.support_"
   ],
   "metadata": {
    "collapsed": false,
    "ExecuteTime": {
     "end_time": "2024-04-06T21:54:19.715191800Z",
     "start_time": "2024-04-06T21:54:19.658196700Z"
    }
   },
   "id": "f776dade4594bbf1"
  },
  {
   "cell_type": "code",
   "execution_count": 19,
   "outputs": [
    {
     "name": "stdout",
     "output_type": "stream",
     "text": [
      "0.6179312359364846\n"
     ]
    }
   ],
   "source": [
    "rfecv_good_columns = list(train_x.keys()[rfecv.support_])\n",
    "print(cross_val_score(model, train_x[rfecv_good_columns], train_y, scoring=\"f1_macro\", n_jobs=-1).mean())"
   ],
   "metadata": {
    "collapsed": false,
    "ExecuteTime": {
     "end_time": "2024-04-06T21:54:37.988753700Z",
     "start_time": "2024-04-06T21:54:19.675200200Z"
    }
   },
   "id": "9384f7e8015fd4fa"
  },
  {
   "cell_type": "code",
   "execution_count": 20,
   "outputs": [],
   "source": [
    "train_data = pd.read_csv(\"data/train_data_preprocessed.csv\")\n",
    "test_data = pd.read_csv(\"data/test_data_preprocessed.csv\")"
   ],
   "metadata": {
    "collapsed": false,
    "ExecuteTime": {
     "end_time": "2024-04-06T21:54:38.384695Z",
     "start_time": "2024-04-06T21:54:37.992761Z"
    }
   },
   "id": "474a4b6e421aeea1"
  },
  {
   "cell_type": "code",
   "execution_count": 21,
   "outputs": [],
   "source": [
    "train_data = train_data[rfecv_good_columns + [\"Credit_Score\"]]\n",
    "test_data = test_data[rfecv_good_columns + [\"Credit_Score\"]]"
   ],
   "metadata": {
    "collapsed": false,
    "ExecuteTime": {
     "end_time": "2024-04-06T21:54:38.421987700Z",
     "start_time": "2024-04-06T21:54:38.385691700Z"
    }
   },
   "id": "41f5e368f4929cf7"
  },
  {
   "cell_type": "code",
   "execution_count": 22,
   "outputs": [
    {
     "data": {
      "text/plain": "       Num_Bank_Accounts  Num_Credit_Card  Interest_Rate  Num_of_Loan  \\\n0                    1.0                3              2            2   \n1                    5.0                1             10            4   \n2                    5.0                7              8            3   \n3                    7.0                7              9            4   \n4                    2.0                3              9            1   \n...                  ...              ...            ...          ...   \n65819                4.0                5             12            4   \n65820                2.0                5              7            0   \n65821                5.0                5              3            3   \n65822                1.0                7              3            3   \n65823               10.0               10             34            9   \n\n       Delay_from_due_date  Num_of_Delayed_Payment  Changed_Credit_Limit  \\\n0                       14                       6                  4.97   \n1                       12                      10                  6.24   \n2                       28                       8                  1.85   \n3                       16                      13                 11.24   \n4                        2                       9                  9.94   \n...                    ...                     ...                   ...   \n65819                    7                      11                  3.17   \n65820                   -2                      12                  5.16   \n65821                   12                       9                  5.55   \n65822                   12                       9                  3.90   \n65823                   41                      23                  7.50   \n\n       Num_Credit_Inquiries  Credit_History_Age  Occupation_Accountant  ...  \\\n0                       4.0           24.750000                  False  ...   \n1                       0.0           28.916667                   True  ...   \n2                       4.0           26.750000                  False  ...   \n3                       3.0            0.000000                  False  ...   \n4                       1.0           24.250000                  False  ...   \n...                     ...                 ...                    ...  ...   \n65819                   5.0           32.166667                  False  ...   \n65820                   0.0           20.333333                   True  ...   \n65821                   1.0           23.000000                  False  ...   \n65822                   2.0           16.666667                  False  ...   \n65823                  11.0           11.500000                  False  ...   \n\n       Payment_of_Min_Amount_No  Payment_of_Min_Amount_Yes  \\\n0                          True                      False   \n1                          True                      False   \n2                          True                      False   \n3                          True                      False   \n4                         False                      False   \n...                         ...                        ...   \n65819                     False                      False   \n65820                      True                      False   \n65821                      True                      False   \n65822                      True                      False   \n65823                     False                      False   \n\n       Payment_Behaviour_!@9#%8  \\\n0                         False   \n1                         False   \n2                         False   \n3                         False   \n4                         False   \n...                         ...   \n65819                     False   \n65820                     False   \n65821                     False   \n65822                     False   \n65823                     False   \n\n       Payment_Behaviour_High_spent_Large_value_payments  \\\n0                                                  False   \n1                                                   True   \n2                                                  False   \n3                                                  False   \n4                                                  False   \n...                                                  ...   \n65819                                               True   \n65820                                              False   \n65821                                              False   \n65822                                              False   \n65823                                              False   \n\n       Payment_Behaviour_High_spent_Medium_value_payments  \\\n0                                                   True    \n1                                                  False    \n2                                                  False    \n3                                                  False    \n4                                                   True    \n...                                                  ...    \n65819                                              False    \n65820                                              False    \n65821                                              False    \n65822                                              False    \n65823                                              False    \n\n       Payment_Behaviour_High_spent_Small_value_payments  \\\n0                                                  False   \n1                                                  False   \n2                                                  False   \n3                                                  False   \n4                                                  False   \n...                                                  ...   \n65819                                              False   \n65820                                              False   \n65821                                               True   \n65822                                              False   \n65823                                              False   \n\n       Payment_Behaviour_Low_spent_Large_value_payments  \\\n0                                                 False   \n1                                                 False   \n2                                                 False   \n3                                                  True   \n4                                                 False   \n...                                                 ...   \n65819                                             False   \n65820                                             False   \n65821                                             False   \n65822                                              True   \n65823                                             False   \n\n       Payment_Behaviour_Low_spent_Medium_value_payments  \\\n0                                                  False   \n1                                                  False   \n2                                                  False   \n3                                                  False   \n4                                                  False   \n...                                                  ...   \n65819                                              False   \n65820                                              False   \n65821                                              False   \n65822                                              False   \n65823                                              False   \n\n       Payment_Behaviour_Low_spent_Small_value_payments  Credit_Score  \n0                                                 False      Standard  \n1                                                 False          Good  \n2                                                  True          Good  \n3                                                 False      Standard  \n4                                                 False          Good  \n...                                                 ...           ...  \n65819                                             False          Good  \n65820                                              True          Good  \n65821                                             False          Good  \n65822                                             False      Standard  \n65823                                              True          Poor  \n\n[65824 rows x 53 columns]",
      "text/html": "<div>\n<style scoped>\n    .dataframe tbody tr th:only-of-type {\n        vertical-align: middle;\n    }\n\n    .dataframe tbody tr th {\n        vertical-align: top;\n    }\n\n    .dataframe thead th {\n        text-align: right;\n    }\n</style>\n<table border=\"1\" class=\"dataframe\">\n  <thead>\n    <tr style=\"text-align: right;\">\n      <th></th>\n      <th>Num_Bank_Accounts</th>\n      <th>Num_Credit_Card</th>\n      <th>Interest_Rate</th>\n      <th>Num_of_Loan</th>\n      <th>Delay_from_due_date</th>\n      <th>Num_of_Delayed_Payment</th>\n      <th>Changed_Credit_Limit</th>\n      <th>Num_Credit_Inquiries</th>\n      <th>Credit_History_Age</th>\n      <th>Occupation_Accountant</th>\n      <th>...</th>\n      <th>Payment_of_Min_Amount_No</th>\n      <th>Payment_of_Min_Amount_Yes</th>\n      <th>Payment_Behaviour_!@9#%8</th>\n      <th>Payment_Behaviour_High_spent_Large_value_payments</th>\n      <th>Payment_Behaviour_High_spent_Medium_value_payments</th>\n      <th>Payment_Behaviour_High_spent_Small_value_payments</th>\n      <th>Payment_Behaviour_Low_spent_Large_value_payments</th>\n      <th>Payment_Behaviour_Low_spent_Medium_value_payments</th>\n      <th>Payment_Behaviour_Low_spent_Small_value_payments</th>\n      <th>Credit_Score</th>\n    </tr>\n  </thead>\n  <tbody>\n    <tr>\n      <th>0</th>\n      <td>1.0</td>\n      <td>3</td>\n      <td>2</td>\n      <td>2</td>\n      <td>14</td>\n      <td>6</td>\n      <td>4.97</td>\n      <td>4.0</td>\n      <td>24.750000</td>\n      <td>False</td>\n      <td>...</td>\n      <td>True</td>\n      <td>False</td>\n      <td>False</td>\n      <td>False</td>\n      <td>True</td>\n      <td>False</td>\n      <td>False</td>\n      <td>False</td>\n      <td>False</td>\n      <td>Standard</td>\n    </tr>\n    <tr>\n      <th>1</th>\n      <td>5.0</td>\n      <td>1</td>\n      <td>10</td>\n      <td>4</td>\n      <td>12</td>\n      <td>10</td>\n      <td>6.24</td>\n      <td>0.0</td>\n      <td>28.916667</td>\n      <td>True</td>\n      <td>...</td>\n      <td>True</td>\n      <td>False</td>\n      <td>False</td>\n      <td>True</td>\n      <td>False</td>\n      <td>False</td>\n      <td>False</td>\n      <td>False</td>\n      <td>False</td>\n      <td>Good</td>\n    </tr>\n    <tr>\n      <th>2</th>\n      <td>5.0</td>\n      <td>7</td>\n      <td>8</td>\n      <td>3</td>\n      <td>28</td>\n      <td>8</td>\n      <td>1.85</td>\n      <td>4.0</td>\n      <td>26.750000</td>\n      <td>False</td>\n      <td>...</td>\n      <td>True</td>\n      <td>False</td>\n      <td>False</td>\n      <td>False</td>\n      <td>False</td>\n      <td>False</td>\n      <td>False</td>\n      <td>False</td>\n      <td>True</td>\n      <td>Good</td>\n    </tr>\n    <tr>\n      <th>3</th>\n      <td>7.0</td>\n      <td>7</td>\n      <td>9</td>\n      <td>4</td>\n      <td>16</td>\n      <td>13</td>\n      <td>11.24</td>\n      <td>3.0</td>\n      <td>0.000000</td>\n      <td>False</td>\n      <td>...</td>\n      <td>True</td>\n      <td>False</td>\n      <td>False</td>\n      <td>False</td>\n      <td>False</td>\n      <td>False</td>\n      <td>True</td>\n      <td>False</td>\n      <td>False</td>\n      <td>Standard</td>\n    </tr>\n    <tr>\n      <th>4</th>\n      <td>2.0</td>\n      <td>3</td>\n      <td>9</td>\n      <td>1</td>\n      <td>2</td>\n      <td>9</td>\n      <td>9.94</td>\n      <td>1.0</td>\n      <td>24.250000</td>\n      <td>False</td>\n      <td>...</td>\n      <td>False</td>\n      <td>False</td>\n      <td>False</td>\n      <td>False</td>\n      <td>True</td>\n      <td>False</td>\n      <td>False</td>\n      <td>False</td>\n      <td>False</td>\n      <td>Good</td>\n    </tr>\n    <tr>\n      <th>...</th>\n      <td>...</td>\n      <td>...</td>\n      <td>...</td>\n      <td>...</td>\n      <td>...</td>\n      <td>...</td>\n      <td>...</td>\n      <td>...</td>\n      <td>...</td>\n      <td>...</td>\n      <td>...</td>\n      <td>...</td>\n      <td>...</td>\n      <td>...</td>\n      <td>...</td>\n      <td>...</td>\n      <td>...</td>\n      <td>...</td>\n      <td>...</td>\n      <td>...</td>\n      <td>...</td>\n    </tr>\n    <tr>\n      <th>65819</th>\n      <td>4.0</td>\n      <td>5</td>\n      <td>12</td>\n      <td>4</td>\n      <td>7</td>\n      <td>11</td>\n      <td>3.17</td>\n      <td>5.0</td>\n      <td>32.166667</td>\n      <td>False</td>\n      <td>...</td>\n      <td>False</td>\n      <td>False</td>\n      <td>False</td>\n      <td>True</td>\n      <td>False</td>\n      <td>False</td>\n      <td>False</td>\n      <td>False</td>\n      <td>False</td>\n      <td>Good</td>\n    </tr>\n    <tr>\n      <th>65820</th>\n      <td>2.0</td>\n      <td>5</td>\n      <td>7</td>\n      <td>0</td>\n      <td>-2</td>\n      <td>12</td>\n      <td>5.16</td>\n      <td>0.0</td>\n      <td>20.333333</td>\n      <td>True</td>\n      <td>...</td>\n      <td>True</td>\n      <td>False</td>\n      <td>False</td>\n      <td>False</td>\n      <td>False</td>\n      <td>False</td>\n      <td>False</td>\n      <td>False</td>\n      <td>True</td>\n      <td>Good</td>\n    </tr>\n    <tr>\n      <th>65821</th>\n      <td>5.0</td>\n      <td>5</td>\n      <td>3</td>\n      <td>3</td>\n      <td>12</td>\n      <td>9</td>\n      <td>5.55</td>\n      <td>1.0</td>\n      <td>23.000000</td>\n      <td>False</td>\n      <td>...</td>\n      <td>True</td>\n      <td>False</td>\n      <td>False</td>\n      <td>False</td>\n      <td>False</td>\n      <td>True</td>\n      <td>False</td>\n      <td>False</td>\n      <td>False</td>\n      <td>Good</td>\n    </tr>\n    <tr>\n      <th>65822</th>\n      <td>1.0</td>\n      <td>7</td>\n      <td>3</td>\n      <td>3</td>\n      <td>12</td>\n      <td>9</td>\n      <td>3.90</td>\n      <td>2.0</td>\n      <td>16.666667</td>\n      <td>False</td>\n      <td>...</td>\n      <td>True</td>\n      <td>False</td>\n      <td>False</td>\n      <td>False</td>\n      <td>False</td>\n      <td>False</td>\n      <td>True</td>\n      <td>False</td>\n      <td>False</td>\n      <td>Standard</td>\n    </tr>\n    <tr>\n      <th>65823</th>\n      <td>10.0</td>\n      <td>10</td>\n      <td>34</td>\n      <td>9</td>\n      <td>41</td>\n      <td>23</td>\n      <td>7.50</td>\n      <td>11.0</td>\n      <td>11.500000</td>\n      <td>False</td>\n      <td>...</td>\n      <td>False</td>\n      <td>False</td>\n      <td>False</td>\n      <td>False</td>\n      <td>False</td>\n      <td>False</td>\n      <td>False</td>\n      <td>False</td>\n      <td>True</td>\n      <td>Poor</td>\n    </tr>\n  </tbody>\n</table>\n<p>65824 rows × 53 columns</p>\n</div>"
     },
     "execution_count": 22,
     "metadata": {},
     "output_type": "execute_result"
    }
   ],
   "source": [
    "train_data"
   ],
   "metadata": {
    "collapsed": false,
    "ExecuteTime": {
     "end_time": "2024-04-06T21:54:38.465993200Z",
     "start_time": "2024-04-06T21:54:38.416979200Z"
    }
   },
   "id": "5c9889a8f3f53409"
  },
  {
   "cell_type": "code",
   "execution_count": 23,
   "outputs": [
    {
     "data": {
      "text/plain": "       Num_Bank_Accounts  Num_Credit_Card  Interest_Rate  Num_of_Loan  \\\n0                      1                5             10            0   \n1                      8                7             18            6   \n2                      5                2             11            2   \n3                      6                6             32            2   \n4                      1                2             12            4   \n...                  ...              ...            ...          ...   \n19995                  8                7              8            5   \n19996                  7                3              9            4   \n19997                  4                3             14            5   \n19998                  6                4             14            3   \n19999                  6                9             16            4   \n\n       Delay_from_due_date  Num_of_Delayed_Payment  Changed_Credit_Limit  \\\n0                        9                       6                 10.72   \n1                       18                      17                 21.91   \n2                        3                       0                  3.82   \n3                       15                      13                 10.40   \n4                        1                       0                  9.74   \n...                    ...                     ...                   ...   \n19995                   12                      15                 16.11   \n19996                    8                      14                  7.68   \n19997                   13                      20                 12.30   \n19998                    4                      10                  7.14   \n19999                   15                      11                  5.58   \n\n       Num_Credit_Inquiries  Credit_History_Age  Occupation_Accountant  ...  \\\n0                       0.0           23.666667                  False  ...   \n1                       9.0            0.000000                  False  ...   \n2                     645.0           15.916667                  False  ...   \n3                      11.0           19.333333                  False  ...   \n4                       4.0           20.750000                  False  ...   \n...                     ...                 ...                    ...  ...   \n19995                   6.0           12.416667                  False  ...   \n19996                   5.0           14.166667                  False  ...   \n19997                  10.0            0.000000                  False  ...   \n19998                   0.0           21.000000                  False  ...   \n19999                  12.0           11.916667                  False  ...   \n\n       Payment_of_Min_Amount_No  Payment_of_Min_Amount_Yes  \\\n0                          True                      False   \n1                         False                       True   \n2                          True                      False   \n3                         False                       True   \n4                          True                      False   \n...                         ...                        ...   \n19995                     False                       True   \n19996                     False                       True   \n19997                     False                       True   \n19998                      True                      False   \n19999                     False                       True   \n\n       Payment_Behaviour_!@9#%8  \\\n0                         False   \n1                         False   \n2                         False   \n3                         False   \n4                         False   \n...                         ...   \n19995                     False   \n19996                     False   \n19997                     False   \n19998                     False   \n19999                     False   \n\n       Payment_Behaviour_High_spent_Large_value_payments  \\\n0                                                   True   \n1                                                  False   \n2                                                  False   \n3                                                  False   \n4                                                  False   \n...                                                  ...   \n19995                                              False   \n19996                                              False   \n19997                                              False   \n19998                                              False   \n19999                                              False   \n\n       Payment_Behaviour_High_spent_Medium_value_payments  \\\n0                                                  False    \n1                                                  False    \n2                                                  False    \n3                                                  False    \n4                                                   True    \n...                                                  ...    \n19995                                              False    \n19996                                               True    \n19997                                              False    \n19998                                              False    \n19999                                              False    \n\n       Payment_Behaviour_High_spent_Small_value_payments  \\\n0                                                  False   \n1                                                  False   \n2                                                  False   \n3                                                  False   \n4                                                  False   \n...                                                  ...   \n19995                                              False   \n19996                                              False   \n19997                                              False   \n19998                                              False   \n19999                                              False   \n\n       Payment_Behaviour_Low_spent_Large_value_payments  \\\n0                                                 False   \n1                                                 False   \n2                                                 False   \n3                                                 False   \n4                                                 False   \n...                                                 ...   \n19995                                              True   \n19996                                             False   \n19997                                             False   \n19998                                             False   \n19999                                             False   \n\n       Payment_Behaviour_Low_spent_Medium_value_payments  \\\n0                                                  False   \n1                                                  False   \n2                                                  False   \n3                                                  False   \n4                                                  False   \n...                                                  ...   \n19995                                              False   \n19996                                              False   \n19997                                              False   \n19998                                              False   \n19999                                              False   \n\n       Payment_Behaviour_Low_spent_Small_value_payments  Credit_Score  \n0                                                 False          Good  \n1                                                  True          Poor  \n2                                                  True          Good  \n3                                                  True          Poor  \n4                                                 False          Good  \n...                                                 ...           ...  \n19995                                             False      Standard  \n19996                                             False      Standard  \n19997                                              True          Poor  \n19998                                              True      Standard  \n19999                                              True      Standard  \n\n[20000 rows x 53 columns]",
      "text/html": "<div>\n<style scoped>\n    .dataframe tbody tr th:only-of-type {\n        vertical-align: middle;\n    }\n\n    .dataframe tbody tr th {\n        vertical-align: top;\n    }\n\n    .dataframe thead th {\n        text-align: right;\n    }\n</style>\n<table border=\"1\" class=\"dataframe\">\n  <thead>\n    <tr style=\"text-align: right;\">\n      <th></th>\n      <th>Num_Bank_Accounts</th>\n      <th>Num_Credit_Card</th>\n      <th>Interest_Rate</th>\n      <th>Num_of_Loan</th>\n      <th>Delay_from_due_date</th>\n      <th>Num_of_Delayed_Payment</th>\n      <th>Changed_Credit_Limit</th>\n      <th>Num_Credit_Inquiries</th>\n      <th>Credit_History_Age</th>\n      <th>Occupation_Accountant</th>\n      <th>...</th>\n      <th>Payment_of_Min_Amount_No</th>\n      <th>Payment_of_Min_Amount_Yes</th>\n      <th>Payment_Behaviour_!@9#%8</th>\n      <th>Payment_Behaviour_High_spent_Large_value_payments</th>\n      <th>Payment_Behaviour_High_spent_Medium_value_payments</th>\n      <th>Payment_Behaviour_High_spent_Small_value_payments</th>\n      <th>Payment_Behaviour_Low_spent_Large_value_payments</th>\n      <th>Payment_Behaviour_Low_spent_Medium_value_payments</th>\n      <th>Payment_Behaviour_Low_spent_Small_value_payments</th>\n      <th>Credit_Score</th>\n    </tr>\n  </thead>\n  <tbody>\n    <tr>\n      <th>0</th>\n      <td>1</td>\n      <td>5</td>\n      <td>10</td>\n      <td>0</td>\n      <td>9</td>\n      <td>6</td>\n      <td>10.72</td>\n      <td>0.0</td>\n      <td>23.666667</td>\n      <td>False</td>\n      <td>...</td>\n      <td>True</td>\n      <td>False</td>\n      <td>False</td>\n      <td>True</td>\n      <td>False</td>\n      <td>False</td>\n      <td>False</td>\n      <td>False</td>\n      <td>False</td>\n      <td>Good</td>\n    </tr>\n    <tr>\n      <th>1</th>\n      <td>8</td>\n      <td>7</td>\n      <td>18</td>\n      <td>6</td>\n      <td>18</td>\n      <td>17</td>\n      <td>21.91</td>\n      <td>9.0</td>\n      <td>0.000000</td>\n      <td>False</td>\n      <td>...</td>\n      <td>False</td>\n      <td>True</td>\n      <td>False</td>\n      <td>False</td>\n      <td>False</td>\n      <td>False</td>\n      <td>False</td>\n      <td>False</td>\n      <td>True</td>\n      <td>Poor</td>\n    </tr>\n    <tr>\n      <th>2</th>\n      <td>5</td>\n      <td>2</td>\n      <td>11</td>\n      <td>2</td>\n      <td>3</td>\n      <td>0</td>\n      <td>3.82</td>\n      <td>645.0</td>\n      <td>15.916667</td>\n      <td>False</td>\n      <td>...</td>\n      <td>True</td>\n      <td>False</td>\n      <td>False</td>\n      <td>False</td>\n      <td>False</td>\n      <td>False</td>\n      <td>False</td>\n      <td>False</td>\n      <td>True</td>\n      <td>Good</td>\n    </tr>\n    <tr>\n      <th>3</th>\n      <td>6</td>\n      <td>6</td>\n      <td>32</td>\n      <td>2</td>\n      <td>15</td>\n      <td>13</td>\n      <td>10.40</td>\n      <td>11.0</td>\n      <td>19.333333</td>\n      <td>False</td>\n      <td>...</td>\n      <td>False</td>\n      <td>True</td>\n      <td>False</td>\n      <td>False</td>\n      <td>False</td>\n      <td>False</td>\n      <td>False</td>\n      <td>False</td>\n      <td>True</td>\n      <td>Poor</td>\n    </tr>\n    <tr>\n      <th>4</th>\n      <td>1</td>\n      <td>2</td>\n      <td>12</td>\n      <td>4</td>\n      <td>1</td>\n      <td>0</td>\n      <td>9.74</td>\n      <td>4.0</td>\n      <td>20.750000</td>\n      <td>False</td>\n      <td>...</td>\n      <td>True</td>\n      <td>False</td>\n      <td>False</td>\n      <td>False</td>\n      <td>True</td>\n      <td>False</td>\n      <td>False</td>\n      <td>False</td>\n      <td>False</td>\n      <td>Good</td>\n    </tr>\n    <tr>\n      <th>...</th>\n      <td>...</td>\n      <td>...</td>\n      <td>...</td>\n      <td>...</td>\n      <td>...</td>\n      <td>...</td>\n      <td>...</td>\n      <td>...</td>\n      <td>...</td>\n      <td>...</td>\n      <td>...</td>\n      <td>...</td>\n      <td>...</td>\n      <td>...</td>\n      <td>...</td>\n      <td>...</td>\n      <td>...</td>\n      <td>...</td>\n      <td>...</td>\n      <td>...</td>\n      <td>...</td>\n    </tr>\n    <tr>\n      <th>19995</th>\n      <td>8</td>\n      <td>7</td>\n      <td>8</td>\n      <td>5</td>\n      <td>12</td>\n      <td>15</td>\n      <td>16.11</td>\n      <td>6.0</td>\n      <td>12.416667</td>\n      <td>False</td>\n      <td>...</td>\n      <td>False</td>\n      <td>True</td>\n      <td>False</td>\n      <td>False</td>\n      <td>False</td>\n      <td>False</td>\n      <td>True</td>\n      <td>False</td>\n      <td>False</td>\n      <td>Standard</td>\n    </tr>\n    <tr>\n      <th>19996</th>\n      <td>7</td>\n      <td>3</td>\n      <td>9</td>\n      <td>4</td>\n      <td>8</td>\n      <td>14</td>\n      <td>7.68</td>\n      <td>5.0</td>\n      <td>14.166667</td>\n      <td>False</td>\n      <td>...</td>\n      <td>False</td>\n      <td>True</td>\n      <td>False</td>\n      <td>False</td>\n      <td>True</td>\n      <td>False</td>\n      <td>False</td>\n      <td>False</td>\n      <td>False</td>\n      <td>Standard</td>\n    </tr>\n    <tr>\n      <th>19997</th>\n      <td>4</td>\n      <td>3</td>\n      <td>14</td>\n      <td>5</td>\n      <td>13</td>\n      <td>20</td>\n      <td>12.30</td>\n      <td>10.0</td>\n      <td>0.000000</td>\n      <td>False</td>\n      <td>...</td>\n      <td>False</td>\n      <td>True</td>\n      <td>False</td>\n      <td>False</td>\n      <td>False</td>\n      <td>False</td>\n      <td>False</td>\n      <td>False</td>\n      <td>True</td>\n      <td>Poor</td>\n    </tr>\n    <tr>\n      <th>19998</th>\n      <td>6</td>\n      <td>4</td>\n      <td>14</td>\n      <td>3</td>\n      <td>4</td>\n      <td>10</td>\n      <td>7.14</td>\n      <td>0.0</td>\n      <td>21.000000</td>\n      <td>False</td>\n      <td>...</td>\n      <td>True</td>\n      <td>False</td>\n      <td>False</td>\n      <td>False</td>\n      <td>False</td>\n      <td>False</td>\n      <td>False</td>\n      <td>False</td>\n      <td>True</td>\n      <td>Standard</td>\n    </tr>\n    <tr>\n      <th>19999</th>\n      <td>6</td>\n      <td>9</td>\n      <td>16</td>\n      <td>4</td>\n      <td>15</td>\n      <td>11</td>\n      <td>5.58</td>\n      <td>12.0</td>\n      <td>11.916667</td>\n      <td>False</td>\n      <td>...</td>\n      <td>False</td>\n      <td>True</td>\n      <td>False</td>\n      <td>False</td>\n      <td>False</td>\n      <td>False</td>\n      <td>False</td>\n      <td>False</td>\n      <td>True</td>\n      <td>Standard</td>\n    </tr>\n  </tbody>\n</table>\n<p>20000 rows × 53 columns</p>\n</div>"
     },
     "execution_count": 23,
     "metadata": {},
     "output_type": "execute_result"
    }
   ],
   "source": [
    "test_data"
   ],
   "metadata": {
    "collapsed": false,
    "ExecuteTime": {
     "end_time": "2024-04-06T21:54:38.517000800Z",
     "start_time": "2024-04-06T21:54:38.464985700Z"
    }
   },
   "id": "ed655778d291e8e2"
  },
  {
   "cell_type": "code",
   "execution_count": 24,
   "outputs": [],
   "source": [
    "train_data.to_csv(\"data/train_data_features_selected.csv\", index=False)\n",
    "test_data.to_csv(\"data/test_data_features_selected.csv\", index=False)"
   ],
   "metadata": {
    "collapsed": false,
    "ExecuteTime": {
     "end_time": "2024-04-06T21:54:39.988973500Z",
     "start_time": "2024-04-06T21:54:38.497984500Z"
    }
   },
   "id": "faea3e9807078d71"
  },
  {
   "cell_type": "code",
   "execution_count": 25,
   "outputs": [
    {
     "data": {
      "text/plain": "Index(['Num_Bank_Accounts', 'Num_Credit_Card', 'Interest_Rate', 'Num_of_Loan',\n       'Delay_from_due_date', 'Num_of_Delayed_Payment', 'Changed_Credit_Limit',\n       'Num_Credit_Inquiries', 'Credit_History_Age', 'Occupation_Accountant',\n       'Occupation_Architect', 'Occupation_Developer', 'Occupation_Doctor',\n       'Occupation_Engineer', 'Occupation_Journalist', 'Occupation_Lawyer',\n       'Occupation_Manager', 'Occupation_Mechanic', 'Occupation_Media_Manager',\n       'Occupation_Musician', 'Occupation_Scientist', 'Occupation_Teacher',\n       'Occupation_Writer', 'Occupation________', 'Age_categories_Teenager',\n       'Age_categories_Youth', 'Age_categories_Young_Adult',\n       'Age_categories_Adult', 'Age_categories_Senior', 'Mortgage Loan',\n       'Personal Loan', 'Credit-Builder Loan', 'Home Equity Loan',\n       'Not Specified', 'Debt Consolidation Loan', 'Student Loan', 'Auto Loan',\n       'Payday Loan', 'Credit_Mix_Bad', 'Credit_Mix_Good',\n       'Credit_Mix_Standard', 'Credit_Mix__', 'Payment_of_Min_Amount_NM',\n       'Payment_of_Min_Amount_No', 'Payment_of_Min_Amount_Yes',\n       'Payment_Behaviour_!@9#%8',\n       'Payment_Behaviour_High_spent_Large_value_payments',\n       'Payment_Behaviour_High_spent_Medium_value_payments',\n       'Payment_Behaviour_High_spent_Small_value_payments',\n       'Payment_Behaviour_Low_spent_Large_value_payments',\n       'Payment_Behaviour_Low_spent_Medium_value_payments',\n       'Payment_Behaviour_Low_spent_Small_value_payments'],\n      dtype='object')"
     },
     "execution_count": 25,
     "metadata": {},
     "output_type": "execute_result"
    }
   ],
   "source": [
    "train_data.drop([\"Credit_Score\"], axis=1).keys()"
   ],
   "metadata": {
    "collapsed": false,
    "ExecuteTime": {
     "end_time": "2024-04-06T21:54:40.006971900Z",
     "start_time": "2024-04-06T21:54:39.992975500Z"
    }
   },
   "id": "827b625e7f8c90cb"
  }
 ],
 "metadata": {
  "kernelspec": {
   "display_name": "Python 3",
   "language": "python",
   "name": "python3"
  },
  "language_info": {
   "codemirror_mode": {
    "name": "ipython",
    "version": 2
   },
   "file_extension": ".py",
   "mimetype": "text/x-python",
   "name": "python",
   "nbconvert_exporter": "python",
   "pygments_lexer": "ipython2",
   "version": "2.7.6"
  }
 },
 "nbformat": 4,
 "nbformat_minor": 5
}
