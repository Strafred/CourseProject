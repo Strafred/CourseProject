{
 "cells": [
  {
   "cell_type": "code",
   "execution_count": 1,
   "id": "initial_id",
   "metadata": {
    "collapsed": true,
    "ExecuteTime": {
     "end_time": "2024-04-06T21:36:47.924419700Z",
     "start_time": "2024-04-06T21:36:47.908423400Z"
    }
   },
   "outputs": [],
   "source": [
    "import numpy as np\n",
    "import pandas as pd\n",
    "import seaborn as sns\n",
    "from matplotlib import pyplot as plt"
   ]
  },
  {
   "cell_type": "code",
   "execution_count": 2,
   "outputs": [
    {
     "data": {
      "text/plain": "            ID Customer_ID     Month             Name  Age          SSN  \\\n0      0x1cebe  CUS_0x475f       May             Tomz   20  782-04-7216   \n1      0x134d9  CUS_0x88e5     April  Poornima Guptav   25  680-32-0710   \n2      0x11d78  CUS_0xb59c      July         Robertad   49    #F%$D@*&8   \n3       0x6582  CUS_0x2543   January         Robertai   34  272-87-2927   \n4      0x23551  CUS_0x20dc    August         Pascaleb   28  285-71-9431   \n...        ...         ...       ...              ...  ...          ...   \n79995   0x3ab7  CUS_0x36f9  February     Lucy Hornbyr   46  992-38-5349   \n79996  0x15798  CUS_0x70a3      July            Islan   20  291-89-8959   \n79997  0x1d81e  CUS_0x1cf3       May           Henryc   38  229-46-4057   \n79998   0x1b0a  CUS_0x2c0d       May           ernieh  55_  784-23-6447   \n79999   0x728d  CUS_0x79d5     April             Tomx   33  788-50-6387   \n\n          Occupation Annual_Income  Monthly_Inhand_Salary  Num_Bank_Accounts  \\\n0         Journalist     101399.13            8535.927500                  1   \n1         Accountant     112882.68            9684.890000                  5   \n2          Scientist      28101.46            2173.463807                  5   \n3            Manager      22438.27            1856.855833                  7   \n4      Media_Manager       20975.4            1943.950000                  2   \n...              ...           ...                    ...                ...   \n79995      Developer      82065.16            6771.763333                  5   \n79996     Accountant      14920.97            1424.414167                  6   \n79997        Manager      66858.27            5770.522500                  3   \n79998         Doctor    19403.405_            1904.950417                  1   \n79999      Architect      19171.68                    NaN                 10   \n\n       ...  Credit_Mix  Outstanding_Debt Credit_Utilization_Ratio  \\\n0      ...        Good           1061.06                42.681159   \n1      ...        Good             722.9                40.090839   \n2      ...    Standard            454.67                23.607892   \n3      ...           _            167.57                27.094189   \n4      ...        Good             731.4                26.205042   \n...    ...         ...               ...                      ...   \n79995  ...        Good            106.83                35.131041   \n79996  ...    Standard           1288.58                33.572279   \n79997  ...    Standard            601.58                37.982933   \n79998  ...           _            339.11                36.826610   \n79999  ...         Bad           2092.74                37.579855   \n\n           Credit_History_Age  Payment_of_Min_Amount Total_EMI_per_month  \\\n0       24 Years and 9 Months                     No          132.674897   \n1      28 Years and 11 Months                     No          353.616124   \n2       26 Years and 9 Months                     No          268.268012   \n3                         NaN                     No           58.436308   \n4       24 Years and 3 Months                     NM           16.196792   \n...                       ...                    ...                 ...   \n79995   23 Years and 0 Months                     No          180.340607   \n79996   13 Years and 5 Months                    Yes           19.909512   \n79997   28 Years and 1 Months                     NM          175.015182   \n79998   16 Years and 8 Months                     No           39.214914   \n79999   11 Years and 6 Months                     NM           92.590913   \n\n      Amount_invested_monthly                 Payment_Behaviour  \\\n0           114.2993860848862  High_spent_Medium_value_payments   \n1          166.44641009831145   High_spent_Large_value_payments   \n2                         NaN    Low_spent_Small_value_payments   \n3          105.16564449441844    Low_spent_Large_value_payments   \n4           67.15820105635807  High_spent_Medium_value_payments   \n...                       ...                               ...   \n79995      439.84017944810165   High_spent_Small_value_payments   \n79996      110.08423954093125    Low_spent_Small_value_payments   \n79997      364.70705194223035   Low_spent_Medium_value_payments   \n79998      169.85819735076564    Low_spent_Large_value_payments   \n79999      52.613915154204705    Low_spent_Small_value_payments   \n\n          Monthly_Balance Credit_Score  \n0       856.6184673945337     Standard  \n1       688.4264658667721         Good  \n2      242.92108023576716         Good  \n3       292.0836308808341     Standard  \n4       361.0400067119549         Good  \n...                   ...          ...  \n79995    316.995547225631         Good  \n79996  302.44766467037635         Poor  \n79997   317.3300163104016     Standard  \n79998   251.4219298811392     Standard  \n79999  286.15917179141763         Poor  \n\n[80000 rows x 28 columns]",
      "text/html": "<div>\n<style scoped>\n    .dataframe tbody tr th:only-of-type {\n        vertical-align: middle;\n    }\n\n    .dataframe tbody tr th {\n        vertical-align: top;\n    }\n\n    .dataframe thead th {\n        text-align: right;\n    }\n</style>\n<table border=\"1\" class=\"dataframe\">\n  <thead>\n    <tr style=\"text-align: right;\">\n      <th></th>\n      <th>ID</th>\n      <th>Customer_ID</th>\n      <th>Month</th>\n      <th>Name</th>\n      <th>Age</th>\n      <th>SSN</th>\n      <th>Occupation</th>\n      <th>Annual_Income</th>\n      <th>Monthly_Inhand_Salary</th>\n      <th>Num_Bank_Accounts</th>\n      <th>...</th>\n      <th>Credit_Mix</th>\n      <th>Outstanding_Debt</th>\n      <th>Credit_Utilization_Ratio</th>\n      <th>Credit_History_Age</th>\n      <th>Payment_of_Min_Amount</th>\n      <th>Total_EMI_per_month</th>\n      <th>Amount_invested_monthly</th>\n      <th>Payment_Behaviour</th>\n      <th>Monthly_Balance</th>\n      <th>Credit_Score</th>\n    </tr>\n  </thead>\n  <tbody>\n    <tr>\n      <th>0</th>\n      <td>0x1cebe</td>\n      <td>CUS_0x475f</td>\n      <td>May</td>\n      <td>Tomz</td>\n      <td>20</td>\n      <td>782-04-7216</td>\n      <td>Journalist</td>\n      <td>101399.13</td>\n      <td>8535.927500</td>\n      <td>1</td>\n      <td>...</td>\n      <td>Good</td>\n      <td>1061.06</td>\n      <td>42.681159</td>\n      <td>24 Years and 9 Months</td>\n      <td>No</td>\n      <td>132.674897</td>\n      <td>114.2993860848862</td>\n      <td>High_spent_Medium_value_payments</td>\n      <td>856.6184673945337</td>\n      <td>Standard</td>\n    </tr>\n    <tr>\n      <th>1</th>\n      <td>0x134d9</td>\n      <td>CUS_0x88e5</td>\n      <td>April</td>\n      <td>Poornima Guptav</td>\n      <td>25</td>\n      <td>680-32-0710</td>\n      <td>Accountant</td>\n      <td>112882.68</td>\n      <td>9684.890000</td>\n      <td>5</td>\n      <td>...</td>\n      <td>Good</td>\n      <td>722.9</td>\n      <td>40.090839</td>\n      <td>28 Years and 11 Months</td>\n      <td>No</td>\n      <td>353.616124</td>\n      <td>166.44641009831145</td>\n      <td>High_spent_Large_value_payments</td>\n      <td>688.4264658667721</td>\n      <td>Good</td>\n    </tr>\n    <tr>\n      <th>2</th>\n      <td>0x11d78</td>\n      <td>CUS_0xb59c</td>\n      <td>July</td>\n      <td>Robertad</td>\n      <td>49</td>\n      <td>#F%$D@*&amp;8</td>\n      <td>Scientist</td>\n      <td>28101.46</td>\n      <td>2173.463807</td>\n      <td>5</td>\n      <td>...</td>\n      <td>Standard</td>\n      <td>454.67</td>\n      <td>23.607892</td>\n      <td>26 Years and 9 Months</td>\n      <td>No</td>\n      <td>268.268012</td>\n      <td>NaN</td>\n      <td>Low_spent_Small_value_payments</td>\n      <td>242.92108023576716</td>\n      <td>Good</td>\n    </tr>\n    <tr>\n      <th>3</th>\n      <td>0x6582</td>\n      <td>CUS_0x2543</td>\n      <td>January</td>\n      <td>Robertai</td>\n      <td>34</td>\n      <td>272-87-2927</td>\n      <td>Manager</td>\n      <td>22438.27</td>\n      <td>1856.855833</td>\n      <td>7</td>\n      <td>...</td>\n      <td>_</td>\n      <td>167.57</td>\n      <td>27.094189</td>\n      <td>NaN</td>\n      <td>No</td>\n      <td>58.436308</td>\n      <td>105.16564449441844</td>\n      <td>Low_spent_Large_value_payments</td>\n      <td>292.0836308808341</td>\n      <td>Standard</td>\n    </tr>\n    <tr>\n      <th>4</th>\n      <td>0x23551</td>\n      <td>CUS_0x20dc</td>\n      <td>August</td>\n      <td>Pascaleb</td>\n      <td>28</td>\n      <td>285-71-9431</td>\n      <td>Media_Manager</td>\n      <td>20975.4</td>\n      <td>1943.950000</td>\n      <td>2</td>\n      <td>...</td>\n      <td>Good</td>\n      <td>731.4</td>\n      <td>26.205042</td>\n      <td>24 Years and 3 Months</td>\n      <td>NM</td>\n      <td>16.196792</td>\n      <td>67.15820105635807</td>\n      <td>High_spent_Medium_value_payments</td>\n      <td>361.0400067119549</td>\n      <td>Good</td>\n    </tr>\n    <tr>\n      <th>...</th>\n      <td>...</td>\n      <td>...</td>\n      <td>...</td>\n      <td>...</td>\n      <td>...</td>\n      <td>...</td>\n      <td>...</td>\n      <td>...</td>\n      <td>...</td>\n      <td>...</td>\n      <td>...</td>\n      <td>...</td>\n      <td>...</td>\n      <td>...</td>\n      <td>...</td>\n      <td>...</td>\n      <td>...</td>\n      <td>...</td>\n      <td>...</td>\n      <td>...</td>\n      <td>...</td>\n    </tr>\n    <tr>\n      <th>79995</th>\n      <td>0x3ab7</td>\n      <td>CUS_0x36f9</td>\n      <td>February</td>\n      <td>Lucy Hornbyr</td>\n      <td>46</td>\n      <td>992-38-5349</td>\n      <td>Developer</td>\n      <td>82065.16</td>\n      <td>6771.763333</td>\n      <td>5</td>\n      <td>...</td>\n      <td>Good</td>\n      <td>106.83</td>\n      <td>35.131041</td>\n      <td>23 Years and 0 Months</td>\n      <td>No</td>\n      <td>180.340607</td>\n      <td>439.84017944810165</td>\n      <td>High_spent_Small_value_payments</td>\n      <td>316.995547225631</td>\n      <td>Good</td>\n    </tr>\n    <tr>\n      <th>79996</th>\n      <td>0x15798</td>\n      <td>CUS_0x70a3</td>\n      <td>July</td>\n      <td>Islan</td>\n      <td>20</td>\n      <td>291-89-8959</td>\n      <td>Accountant</td>\n      <td>14920.97</td>\n      <td>1424.414167</td>\n      <td>6</td>\n      <td>...</td>\n      <td>Standard</td>\n      <td>1288.58</td>\n      <td>33.572279</td>\n      <td>13 Years and 5 Months</td>\n      <td>Yes</td>\n      <td>19.909512</td>\n      <td>110.08423954093125</td>\n      <td>Low_spent_Small_value_payments</td>\n      <td>302.44766467037635</td>\n      <td>Poor</td>\n    </tr>\n    <tr>\n      <th>79997</th>\n      <td>0x1d81e</td>\n      <td>CUS_0x1cf3</td>\n      <td>May</td>\n      <td>Henryc</td>\n      <td>38</td>\n      <td>229-46-4057</td>\n      <td>Manager</td>\n      <td>66858.27</td>\n      <td>5770.522500</td>\n      <td>3</td>\n      <td>...</td>\n      <td>Standard</td>\n      <td>601.58</td>\n      <td>37.982933</td>\n      <td>28 Years and 1 Months</td>\n      <td>NM</td>\n      <td>175.015182</td>\n      <td>364.70705194223035</td>\n      <td>Low_spent_Medium_value_payments</td>\n      <td>317.3300163104016</td>\n      <td>Standard</td>\n    </tr>\n    <tr>\n      <th>79998</th>\n      <td>0x1b0a</td>\n      <td>CUS_0x2c0d</td>\n      <td>May</td>\n      <td>ernieh</td>\n      <td>55_</td>\n      <td>784-23-6447</td>\n      <td>Doctor</td>\n      <td>19403.405_</td>\n      <td>1904.950417</td>\n      <td>1</td>\n      <td>...</td>\n      <td>_</td>\n      <td>339.11</td>\n      <td>36.826610</td>\n      <td>16 Years and 8 Months</td>\n      <td>No</td>\n      <td>39.214914</td>\n      <td>169.85819735076564</td>\n      <td>Low_spent_Large_value_payments</td>\n      <td>251.4219298811392</td>\n      <td>Standard</td>\n    </tr>\n    <tr>\n      <th>79999</th>\n      <td>0x728d</td>\n      <td>CUS_0x79d5</td>\n      <td>April</td>\n      <td>Tomx</td>\n      <td>33</td>\n      <td>788-50-6387</td>\n      <td>Architect</td>\n      <td>19171.68</td>\n      <td>NaN</td>\n      <td>10</td>\n      <td>...</td>\n      <td>Bad</td>\n      <td>2092.74</td>\n      <td>37.579855</td>\n      <td>11 Years and 6 Months</td>\n      <td>NM</td>\n      <td>92.590913</td>\n      <td>52.613915154204705</td>\n      <td>Low_spent_Small_value_payments</td>\n      <td>286.15917179141763</td>\n      <td>Poor</td>\n    </tr>\n  </tbody>\n</table>\n<p>80000 rows × 28 columns</p>\n</div>"
     },
     "execution_count": 2,
     "metadata": {},
     "output_type": "execute_result"
    }
   ],
   "source": [
    "train_data = pd.read_csv(\"data/train.csv\", encoding=\"UTF-8\")\n",
    "train_data"
   ],
   "metadata": {
    "collapsed": false,
    "ExecuteTime": {
     "end_time": "2024-04-06T21:36:48.587428900Z",
     "start_time": "2024-04-06T21:36:47.924419700Z"
    }
   },
   "id": "7bc3e839fa42c0b5"
  },
  {
   "cell_type": "code",
   "execution_count": 3,
   "outputs": [
    {
     "data": {
      "text/plain": "            ID Customer_ID     Month             Name Age          SSN  \\\n0      0x1d1af  CUS_0x3539  February      an Arakalid  30  995-31-4669   \n1      0x1ebd6  CUS_0x8716   January         Matthewz  18  185-99-8068   \n2       0x8a66  CUS_0x21dc   January       Tom Miless  41  241-53-8475   \n3      0x1d769  CUS_0x32d3     April            Lisaa  35  204-78-6176   \n4      0x236dd  CUS_0xadad    August           Masond  27  027-11-6852   \n...        ...         ...       ...              ...  ..          ...   \n19995   0xd4fd   CUS_0x765     April          Taylorl  28  282-28-8981   \n19996   0xc1c3  CUS_0x3b9a  February     Seetharamanw  32  983-37-5040   \n19997   0xf3d8  CUS_0x5a6b      July        Charmiant  40  567-66-4662   \n19998  0x14f03  CUS_0xc6ac      June      Pav Jordank  37  057-64-6271   \n19999  0x10e80  CUS_0xbaee     March  Karen Freifelds  41  015-50-7138   \n\n          Occupation Annual_Income  Monthly_Inhand_Salary  Num_Bank_Accounts  \\\n0            Manager      43391.96            3688.996667                  1   \n1          Scientist      14351.21                    NaN                  8   \n2          Developer     130125.04           10871.753333                  5   \n3            Manager      20107.21            1631.600833                  6   \n4             Doctor      92186.19            7487.182500                  1   \n...              ...           ...                    ...                ...   \n19995  Media_Manager     50940.09_            4106.007500                  8   \n19996         Doctor      30819.56            2547.296667                  7   \n19997      Architect       24004.5            1935.375000                  4   \n19998       Engineer      35185.56                    NaN                  6   \n19999     Journalist      66349.96            5333.163333                  6   \n\n       ...  Credit_Mix  Outstanding_Debt Credit_Utilization_Ratio  \\\n0      ...        Good           1468.28                29.112468   \n1      ...         Bad           4766.87                39.849732   \n2      ...        Good           1195.05                21.542892   \n3      ...    Standard            2544.6                32.423759   \n4      ...        Good            809.01                39.543131   \n...    ...         ...               ...                      ...   \n19995  ...    Standard           2414.34                34.099913   \n19996  ...    Standard            401.26                38.868023   \n19997  ...    Standard            1215.0                34.074416   \n19998  ...    Standard            379.47                28.452911   \n19999  ...    Standard           1740.14                28.336654   \n\n           Credit_History_Age  Payment_of_Min_Amount Total_EMI_per_month  \\\n0       23 Years and 8 Months                     No            0.000000   \n1                         NaN                    Yes           61.098718   \n2      15 Years and 11 Months                     No          204.285650   \n3       19 Years and 4 Months                    Yes           27.106395   \n4       20 Years and 9 Months                     No          185.797654   \n...                       ...                    ...                 ...   \n19995   12 Years and 5 Months                    Yes          210.550380   \n19996   14 Years and 2 Months                    Yes           96.848591   \n19997                     NaN                    Yes           56.365016   \n19998   21 Years and 0 Months                     No           83.278064   \n19999  11 Years and 11 Months                    Yes          165.025519   \n\n      Amount_invested_monthly                 Payment_Behaviour  \\\n0          53.969385063055675   High_spent_Large_value_payments   \n1          118.08021357217683    Low_spent_Small_value_payments   \n2          1255.8993022448951    Low_spent_Small_value_payments   \n3           66.81977464950728    Low_spent_Small_value_payments   \n4          115.52003931707223  High_spent_Medium_value_payments   \n...                       ...                               ...   \n19995      266.03756049601714    Low_spent_Large_value_payments   \n19996        70.8621814922001  High_spent_Medium_value_payments   \n19997                     NaN    Low_spent_Small_value_payments   \n19998       343.9291924398982    Low_spent_Small_value_payments   \n19999       391.7890393382444    Low_spent_Small_value_payments   \n\n          Monthly_Balance Credit_Score  \n0       554.9302816036111         Good  \n1       238.3144849566528         Poor  \n2                     NaN         Good  \n3      359.23391378882377         Poor  \n4       697.4005568630175         Good  \n...                   ...          ...  \n19995  204.01280945992798     Standard  \n19996   337.0188942793012     Standard  \n19997  355.88961809725936         Poor  \n19998   159.0057433126893     Standard  \n19999  266.50177526280345     Standard  \n\n[20000 rows x 28 columns]",
      "text/html": "<div>\n<style scoped>\n    .dataframe tbody tr th:only-of-type {\n        vertical-align: middle;\n    }\n\n    .dataframe tbody tr th {\n        vertical-align: top;\n    }\n\n    .dataframe thead th {\n        text-align: right;\n    }\n</style>\n<table border=\"1\" class=\"dataframe\">\n  <thead>\n    <tr style=\"text-align: right;\">\n      <th></th>\n      <th>ID</th>\n      <th>Customer_ID</th>\n      <th>Month</th>\n      <th>Name</th>\n      <th>Age</th>\n      <th>SSN</th>\n      <th>Occupation</th>\n      <th>Annual_Income</th>\n      <th>Monthly_Inhand_Salary</th>\n      <th>Num_Bank_Accounts</th>\n      <th>...</th>\n      <th>Credit_Mix</th>\n      <th>Outstanding_Debt</th>\n      <th>Credit_Utilization_Ratio</th>\n      <th>Credit_History_Age</th>\n      <th>Payment_of_Min_Amount</th>\n      <th>Total_EMI_per_month</th>\n      <th>Amount_invested_monthly</th>\n      <th>Payment_Behaviour</th>\n      <th>Monthly_Balance</th>\n      <th>Credit_Score</th>\n    </tr>\n  </thead>\n  <tbody>\n    <tr>\n      <th>0</th>\n      <td>0x1d1af</td>\n      <td>CUS_0x3539</td>\n      <td>February</td>\n      <td>an Arakalid</td>\n      <td>30</td>\n      <td>995-31-4669</td>\n      <td>Manager</td>\n      <td>43391.96</td>\n      <td>3688.996667</td>\n      <td>1</td>\n      <td>...</td>\n      <td>Good</td>\n      <td>1468.28</td>\n      <td>29.112468</td>\n      <td>23 Years and 8 Months</td>\n      <td>No</td>\n      <td>0.000000</td>\n      <td>53.969385063055675</td>\n      <td>High_spent_Large_value_payments</td>\n      <td>554.9302816036111</td>\n      <td>Good</td>\n    </tr>\n    <tr>\n      <th>1</th>\n      <td>0x1ebd6</td>\n      <td>CUS_0x8716</td>\n      <td>January</td>\n      <td>Matthewz</td>\n      <td>18</td>\n      <td>185-99-8068</td>\n      <td>Scientist</td>\n      <td>14351.21</td>\n      <td>NaN</td>\n      <td>8</td>\n      <td>...</td>\n      <td>Bad</td>\n      <td>4766.87</td>\n      <td>39.849732</td>\n      <td>NaN</td>\n      <td>Yes</td>\n      <td>61.098718</td>\n      <td>118.08021357217683</td>\n      <td>Low_spent_Small_value_payments</td>\n      <td>238.3144849566528</td>\n      <td>Poor</td>\n    </tr>\n    <tr>\n      <th>2</th>\n      <td>0x8a66</td>\n      <td>CUS_0x21dc</td>\n      <td>January</td>\n      <td>Tom Miless</td>\n      <td>41</td>\n      <td>241-53-8475</td>\n      <td>Developer</td>\n      <td>130125.04</td>\n      <td>10871.753333</td>\n      <td>5</td>\n      <td>...</td>\n      <td>Good</td>\n      <td>1195.05</td>\n      <td>21.542892</td>\n      <td>15 Years and 11 Months</td>\n      <td>No</td>\n      <td>204.285650</td>\n      <td>1255.8993022448951</td>\n      <td>Low_spent_Small_value_payments</td>\n      <td>NaN</td>\n      <td>Good</td>\n    </tr>\n    <tr>\n      <th>3</th>\n      <td>0x1d769</td>\n      <td>CUS_0x32d3</td>\n      <td>April</td>\n      <td>Lisaa</td>\n      <td>35</td>\n      <td>204-78-6176</td>\n      <td>Manager</td>\n      <td>20107.21</td>\n      <td>1631.600833</td>\n      <td>6</td>\n      <td>...</td>\n      <td>Standard</td>\n      <td>2544.6</td>\n      <td>32.423759</td>\n      <td>19 Years and 4 Months</td>\n      <td>Yes</td>\n      <td>27.106395</td>\n      <td>66.81977464950728</td>\n      <td>Low_spent_Small_value_payments</td>\n      <td>359.23391378882377</td>\n      <td>Poor</td>\n    </tr>\n    <tr>\n      <th>4</th>\n      <td>0x236dd</td>\n      <td>CUS_0xadad</td>\n      <td>August</td>\n      <td>Masond</td>\n      <td>27</td>\n      <td>027-11-6852</td>\n      <td>Doctor</td>\n      <td>92186.19</td>\n      <td>7487.182500</td>\n      <td>1</td>\n      <td>...</td>\n      <td>Good</td>\n      <td>809.01</td>\n      <td>39.543131</td>\n      <td>20 Years and 9 Months</td>\n      <td>No</td>\n      <td>185.797654</td>\n      <td>115.52003931707223</td>\n      <td>High_spent_Medium_value_payments</td>\n      <td>697.4005568630175</td>\n      <td>Good</td>\n    </tr>\n    <tr>\n      <th>...</th>\n      <td>...</td>\n      <td>...</td>\n      <td>...</td>\n      <td>...</td>\n      <td>...</td>\n      <td>...</td>\n      <td>...</td>\n      <td>...</td>\n      <td>...</td>\n      <td>...</td>\n      <td>...</td>\n      <td>...</td>\n      <td>...</td>\n      <td>...</td>\n      <td>...</td>\n      <td>...</td>\n      <td>...</td>\n      <td>...</td>\n      <td>...</td>\n      <td>...</td>\n      <td>...</td>\n    </tr>\n    <tr>\n      <th>19995</th>\n      <td>0xd4fd</td>\n      <td>CUS_0x765</td>\n      <td>April</td>\n      <td>Taylorl</td>\n      <td>28</td>\n      <td>282-28-8981</td>\n      <td>Media_Manager</td>\n      <td>50940.09_</td>\n      <td>4106.007500</td>\n      <td>8</td>\n      <td>...</td>\n      <td>Standard</td>\n      <td>2414.34</td>\n      <td>34.099913</td>\n      <td>12 Years and 5 Months</td>\n      <td>Yes</td>\n      <td>210.550380</td>\n      <td>266.03756049601714</td>\n      <td>Low_spent_Large_value_payments</td>\n      <td>204.01280945992798</td>\n      <td>Standard</td>\n    </tr>\n    <tr>\n      <th>19996</th>\n      <td>0xc1c3</td>\n      <td>CUS_0x3b9a</td>\n      <td>February</td>\n      <td>Seetharamanw</td>\n      <td>32</td>\n      <td>983-37-5040</td>\n      <td>Doctor</td>\n      <td>30819.56</td>\n      <td>2547.296667</td>\n      <td>7</td>\n      <td>...</td>\n      <td>Standard</td>\n      <td>401.26</td>\n      <td>38.868023</td>\n      <td>14 Years and 2 Months</td>\n      <td>Yes</td>\n      <td>96.848591</td>\n      <td>70.8621814922001</td>\n      <td>High_spent_Medium_value_payments</td>\n      <td>337.0188942793012</td>\n      <td>Standard</td>\n    </tr>\n    <tr>\n      <th>19997</th>\n      <td>0xf3d8</td>\n      <td>CUS_0x5a6b</td>\n      <td>July</td>\n      <td>Charmiant</td>\n      <td>40</td>\n      <td>567-66-4662</td>\n      <td>Architect</td>\n      <td>24004.5</td>\n      <td>1935.375000</td>\n      <td>4</td>\n      <td>...</td>\n      <td>Standard</td>\n      <td>1215.0</td>\n      <td>34.074416</td>\n      <td>NaN</td>\n      <td>Yes</td>\n      <td>56.365016</td>\n      <td>NaN</td>\n      <td>Low_spent_Small_value_payments</td>\n      <td>355.88961809725936</td>\n      <td>Poor</td>\n    </tr>\n    <tr>\n      <th>19998</th>\n      <td>0x14f03</td>\n      <td>CUS_0xc6ac</td>\n      <td>June</td>\n      <td>Pav Jordank</td>\n      <td>37</td>\n      <td>057-64-6271</td>\n      <td>Engineer</td>\n      <td>35185.56</td>\n      <td>NaN</td>\n      <td>6</td>\n      <td>...</td>\n      <td>Standard</td>\n      <td>379.47</td>\n      <td>28.452911</td>\n      <td>21 Years and 0 Months</td>\n      <td>No</td>\n      <td>83.278064</td>\n      <td>343.9291924398982</td>\n      <td>Low_spent_Small_value_payments</td>\n      <td>159.0057433126893</td>\n      <td>Standard</td>\n    </tr>\n    <tr>\n      <th>19999</th>\n      <td>0x10e80</td>\n      <td>CUS_0xbaee</td>\n      <td>March</td>\n      <td>Karen Freifelds</td>\n      <td>41</td>\n      <td>015-50-7138</td>\n      <td>Journalist</td>\n      <td>66349.96</td>\n      <td>5333.163333</td>\n      <td>6</td>\n      <td>...</td>\n      <td>Standard</td>\n      <td>1740.14</td>\n      <td>28.336654</td>\n      <td>11 Years and 11 Months</td>\n      <td>Yes</td>\n      <td>165.025519</td>\n      <td>391.7890393382444</td>\n      <td>Low_spent_Small_value_payments</td>\n      <td>266.50177526280345</td>\n      <td>Standard</td>\n    </tr>\n  </tbody>\n</table>\n<p>20000 rows × 28 columns</p>\n</div>"
     },
     "execution_count": 3,
     "metadata": {},
     "output_type": "execute_result"
    }
   ],
   "source": [
    "test_data = pd.read_csv(\"data/test.csv\", encoding=\"UTF-8\")\n",
    "test_data"
   ],
   "metadata": {
    "collapsed": false,
    "ExecuteTime": {
     "end_time": "2024-04-06T21:36:48.802428200Z",
     "start_time": "2024-04-06T21:36:48.581419800Z"
    }
   },
   "id": "a547d2f2e809dd31"
  },
  {
   "cell_type": "code",
   "execution_count": 4,
   "outputs": [],
   "source": [
    "train_data = train_data.reset_index(drop=True)\n",
    "test_data = test_data.reset_index(drop=True)"
   ],
   "metadata": {
    "collapsed": false,
    "ExecuteTime": {
     "end_time": "2024-04-06T21:36:48.845418400Z",
     "start_time": "2024-04-06T21:36:48.783432900Z"
    }
   },
   "id": "4ac29d46a23af14c"
  },
  {
   "cell_type": "code",
   "execution_count": 5,
   "outputs": [],
   "source": [
    "train_data = train_data.drop([\"ID\", \"Name\"], axis=1)\n",
    "test_data = test_data.drop([\"ID\", \"Name\"], axis=1)"
   ],
   "metadata": {
    "collapsed": false,
    "ExecuteTime": {
     "end_time": "2024-04-06T21:36:48.898414800Z",
     "start_time": "2024-04-06T21:36:48.816423600Z"
    }
   },
   "id": "6c37c858c9602f7"
  },
  {
   "cell_type": "code",
   "execution_count": 6,
   "outputs": [],
   "source": [
    "import re\n",
    "\n",
    "def find_correct_column_value_by_id(data, id, column, wrong_value):\n",
    "    data_of_id = data[(data[\"Customer_ID\"] == id) & (data[column] != wrong_value)]\n",
    "    if len(data_of_id) > 0:\n",
    "        return data_of_id[column].value_counts().head(1).index[0]\n",
    "    else:\n",
    "        return np.NaN\n",
    "\n",
    "def is_convertible_to_int(value):\n",
    "    try:\n",
    "        int(value)\n",
    "        return True\n",
    "    except ValueError:\n",
    "        return False\n",
    "\n",
    "def correct_ages(train_data, test_data):\n",
    "    train_data[\"Age\"] = train_data.apply(lambda el: re.findall(r'-?\\d+', el[\"Age\"])[0], axis=1)\n",
    "    test_data[\"Age\"] = test_data.apply(lambda el: re.findall(r'-?\\d+', el[\"Age\"])[0], axis=1)\n",
    "    all_data = pd.concat([train_data, test_data])\n",
    "    \n",
    "    for i in range(len(train_data)):\n",
    "        if int(train_data[\"Age\"][i]) < 14 or int(train_data[\"Age\"][i]) > 80:\n",
    "            age = find_correct_column_value_by_id(all_data, train_data[\"Customer_ID\"][i], \"Age\", train_data[\"Age\"][i])\n",
    "            train_data[\"Age\"][i] = age\n",
    "            \n",
    "    for i in range(len(test_data)):\n",
    "        if int(test_data[\"Age\"][i]) < 14 or int(test_data[\"Age\"][i]) > 80:\n",
    "            age = find_correct_column_value_by_id(all_data, test_data[\"Customer_ID\"][i], \"Age\", test_data[\"Age\"][i])\n",
    "            test_data[\"Age\"][i] = age\n",
    "    \n",
    "    return train_data, test_data"
   ],
   "metadata": {
    "collapsed": false,
    "ExecuteTime": {
     "end_time": "2024-04-06T21:36:48.919416600Z",
     "start_time": "2024-04-06T21:36:48.868422200Z"
    }
   },
   "id": "e77383d8d7c9a368"
  },
  {
   "cell_type": "code",
   "source": [
    "train_data, test_data = correct_ages(train_data, test_data)"
   ],
   "metadata": {
    "collapsed": false
   },
   "id": "f8f40ed077110783",
   "outputs": [],
   "execution_count": null
  },
  {
   "cell_type": "code",
   "execution_count": 8,
   "outputs": [],
   "source": [
    "train_data[\"Age\"] = train_data[\"Age\"].astype(int)\n",
    "test_data[\"Age\"] = test_data[\"Age\"].astype(int)"
   ],
   "metadata": {
    "collapsed": false,
    "ExecuteTime": {
     "end_time": "2024-04-06T21:37:38.437511200Z",
     "start_time": "2024-04-06T21:37:38.326498700Z"
    }
   },
   "id": "a6fae0750c7366e1"
  },
  {
   "cell_type": "code",
   "execution_count": 9,
   "outputs": [],
   "source": [
    "poor_credit_train = train_data[train_data[\"Credit_Score\"] == \"Poor\"]\n",
    "standard_credit_train = train_data[train_data[\"Credit_Score\"] == \"Standard\"]\n",
    "good_credit_train = train_data[train_data[\"Credit_Score\"] == \"Good\"]"
   ],
   "metadata": {
    "collapsed": false,
    "ExecuteTime": {
     "end_time": "2024-04-06T21:37:38.437511200Z",
     "start_time": "2024-04-06T21:37:38.342486Z"
    }
   },
   "id": "f7e61a5bd89c121a"
  },
  {
   "cell_type": "code",
   "execution_count": 10,
   "outputs": [
    {
     "data": {
      "text/plain": "<Figure size 432x288 with 1 Axes>",
      "image/png": "[encoded data removed]"
     },
     "metadata": {
      "needs_background": "light"
     },
     "output_type": "display_data"
    }
   ],
   "source": [
    "poor_credit_train[\"Age\"].plot.hist(alpha=0.3, color='red', bins=15)\n",
    "\n",
    "plt.legend(['poor'])\n",
    "plt.xlabel(\"Age\")\n",
    "plt.ylabel(\"Number of people\")\n",
    "plt.show()"
   ],
   "metadata": {
    "collapsed": false,
    "ExecuteTime": {
     "end_time": "2024-04-06T21:37:38.679485300Z",
     "start_time": "2024-04-06T21:37:38.390489500Z"
    }
   },
   "id": "45179b6420f6e4df"
  },
  {
   "cell_type": "code",
   "execution_count": 11,
   "outputs": [
    {
     "data": {
      "text/plain": "<Figure size 432x288 with 1 Axes>",
      "image/png": "[encoded data removed]"
     },
     "metadata": {
      "needs_background": "light"
     },
     "output_type": "display_data"
    }
   ],
   "source": [
    "standard_credit_train[\"Age\"].plot.hist(alpha=0.3, color='yellow', bins=15)\n",
    "\n",
    "plt.legend(['std'])\n",
    "plt.xlabel(\"Age\")\n",
    "plt.ylabel(\"Number of people\")\n",
    "plt.show()"
   ],
   "metadata": {
    "collapsed": false,
    "ExecuteTime": {
     "end_time": "2024-04-06T21:37:38.920842700Z",
     "start_time": "2024-04-06T21:37:38.661486500Z"
    }
   },
   "id": "e2243bd4ce251739"
  },
  {
   "cell_type": "code",
   "execution_count": 12,
   "outputs": [
    {
     "data": {
      "text/plain": "<Figure size 432x288 with 1 Axes>",
      "image/png": "[encoded data removed]"
     },
     "metadata": {
      "needs_background": "light"
     },
     "output_type": "display_data"
    }
   ],
   "source": [
    "good_credit_train[\"Age\"].plot.hist(alpha=0.3, color='green', bins=15)\n",
    "\n",
    "plt.legend(['good'])\n",
    "plt.xlabel(\"Age\")\n",
    "plt.ylabel(\"Number of people\")\n",
    "plt.show()"
   ],
   "metadata": {
    "collapsed": false,
    "ExecuteTime": {
     "end_time": "2024-04-06T21:37:39.154653100Z",
     "start_time": "2024-04-06T21:37:38.914841700Z"
    }
   },
   "id": "4bf42bcf001c0fd"
  },
  {
   "cell_type": "code",
   "execution_count": 13,
   "outputs": [
    {
     "data": {
      "text/plain": "<Figure size 432x288 with 1 Axes>",
      "image/png": "[encoded data removed]"
     },
     "metadata": {
      "needs_background": "light"
     },
     "output_type": "display_data"
    }
   ],
   "source": [
    "poor_credit_train[\"Age\"].plot.hist(alpha=0.3, color='red', bins=15)\n",
    "standard_credit_train[\"Age\"].plot.hist(alpha=0.3, color='yellow', bins=15)\n",
    "good_credit_train[\"Age\"].plot.hist(alpha=0.3, color='green', bins=15)\n",
    "\n",
    "plt.legend(['poor','std', 'good'])\n",
    "plt.xlabel(\"Age\")\n",
    "plt.ylabel(\"Number of people\")\n",
    "plt.show()"
   ],
   "metadata": {
    "collapsed": false,
    "ExecuteTime": {
     "end_time": "2024-04-06T21:37:39.469658200Z",
     "start_time": "2024-04-06T21:37:39.154653100Z"
    }
   },
   "id": "84e34fbc6c409abd"
  },
  {
   "cell_type": "code",
   "execution_count": 14,
   "outputs": [],
   "source": [
    "def process_age(df, cut_points, label_names):\n",
    "    df[\"Age_categories\"] = pd.cut(df[\"Age\"], cut_points, labels=label_names)\n",
    "    return df\n",
    "\n",
    "cut_points = [0, 17, 20, 28, 44, 60]\n",
    "label_names = [\"Teenager\", \"Youth\", \"Young_Adult\", \"Adult\", \"Senior\"]"
   ],
   "metadata": {
    "collapsed": false,
    "ExecuteTime": {
     "end_time": "2024-04-06T21:37:39.546694400Z",
     "start_time": "2024-04-06T21:37:39.470659300Z"
    }
   },
   "id": "43bd83fe67823808"
  },
  {
   "cell_type": "code",
   "execution_count": 15,
   "outputs": [
    {
     "data": {
      "text/plain": "      Customer_ID     Month  Age          SSN     Occupation Annual_Income  \\\n0      CUS_0x475f       May   20  782-04-7216     Journalist     101399.13   \n1      CUS_0x88e5     April   25  680-32-0710     Accountant     112882.68   \n2      CUS_0xb59c      July   49    #F%$D@*&8      Scientist      28101.46   \n3      CUS_0x2543   January   34  272-87-2927        Manager      22438.27   \n4      CUS_0x20dc    August   28  285-71-9431  Media_Manager       20975.4   \n...           ...       ...  ...          ...            ...           ...   \n79995  CUS_0x36f9  February   46  992-38-5349      Developer      82065.16   \n79996  CUS_0x70a3      July   20  291-89-8959     Accountant      14920.97   \n79997  CUS_0x1cf3       May   38  229-46-4057        Manager      66858.27   \n79998  CUS_0x2c0d       May   55  784-23-6447         Doctor    19403.405_   \n79999  CUS_0x79d5     April   33  788-50-6387      Architect      19171.68   \n\n       Monthly_Inhand_Salary  Num_Bank_Accounts  Num_Credit_Card  \\\n0                8535.927500                  1                3   \n1                9684.890000                  5                1   \n2                2173.463807                  5                7   \n3                1856.855833                  7                7   \n4                1943.950000                  2                3   \n...                      ...                ...              ...   \n79995            6771.763333                  5                5   \n79996            1424.414167                  6               10   \n79997            5770.522500                  3                6   \n79998            1904.950417                  1                7   \n79999                    NaN                 10               10   \n\n       Interest_Rate  ... Outstanding_Debt Credit_Utilization_Ratio  \\\n0                  2  ...          1061.06                42.681159   \n1                 10  ...            722.9                40.090839   \n2                  8  ...           454.67                23.607892   \n3                  9  ...           167.57                27.094189   \n4                  9  ...            731.4                26.205042   \n...              ...  ...              ...                      ...   \n79995              3  ...           106.83                35.131041   \n79996             16  ...          1288.58                33.572279   \n79997           3990  ...           601.58                37.982933   \n79998              3  ...           339.11                36.826610   \n79999             34  ...          2092.74                37.579855   \n\n           Credit_History_Age Payment_of_Min_Amount Total_EMI_per_month  \\\n0       24 Years and 9 Months                    No          132.674897   \n1      28 Years and 11 Months                    No          353.616124   \n2       26 Years and 9 Months                    No          268.268012   \n3                         NaN                    No           58.436308   \n4       24 Years and 3 Months                    NM           16.196792   \n...                       ...                   ...                 ...   \n79995   23 Years and 0 Months                    No          180.340607   \n79996   13 Years and 5 Months                   Yes           19.909512   \n79997   28 Years and 1 Months                    NM          175.015182   \n79998   16 Years and 8 Months                    No           39.214914   \n79999   11 Years and 6 Months                    NM           92.590913   \n\n       Amount_invested_monthly                 Payment_Behaviour  \\\n0            114.2993860848862  High_spent_Medium_value_payments   \n1           166.44641009831145   High_spent_Large_value_payments   \n2                          NaN    Low_spent_Small_value_payments   \n3           105.16564449441844    Low_spent_Large_value_payments   \n4            67.15820105635807  High_spent_Medium_value_payments   \n...                        ...                               ...   \n79995       439.84017944810165   High_spent_Small_value_payments   \n79996       110.08423954093125    Low_spent_Small_value_payments   \n79997       364.70705194223035   Low_spent_Medium_value_payments   \n79998       169.85819735076564    Low_spent_Large_value_payments   \n79999       52.613915154204705    Low_spent_Small_value_payments   \n\n          Monthly_Balance  Credit_Score Age_categories  \n0       856.6184673945337      Standard          Youth  \n1       688.4264658667721          Good    Young_Adult  \n2      242.92108023576716          Good         Senior  \n3       292.0836308808341      Standard          Adult  \n4       361.0400067119549          Good    Young_Adult  \n...                   ...           ...            ...  \n79995    316.995547225631          Good         Senior  \n79996  302.44766467037635          Poor          Youth  \n79997   317.3300163104016      Standard          Adult  \n79998   251.4219298811392      Standard         Senior  \n79999  286.15917179141763          Poor          Adult  \n\n[80000 rows x 27 columns]",
      "text/html": "<div>\n<style scoped>\n    .dataframe tbody tr th:only-of-type {\n        vertical-align: middle;\n    }\n\n    .dataframe tbody tr th {\n        vertical-align: top;\n    }\n\n    .dataframe thead th {\n        text-align: right;\n    }\n</style>\n<table border=\"1\" class=\"dataframe\">\n  <thead>\n    <tr style=\"text-align: right;\">\n      <th></th>\n      <th>Customer_ID</th>\n      <th>Month</th>\n      <th>Age</th>\n      <th>SSN</th>\n      <th>Occupation</th>\n      <th>Annual_Income</th>\n      <th>Monthly_Inhand_Salary</th>\n      <th>Num_Bank_Accounts</th>\n      <th>Num_Credit_Card</th>\n      <th>Interest_Rate</th>\n      <th>...</th>\n      <th>Outstanding_Debt</th>\n      <th>Credit_Utilization_Ratio</th>\n      <th>Credit_History_Age</th>\n      <th>Payment_of_Min_Amount</th>\n      <th>Total_EMI_per_month</th>\n      <th>Amount_invested_monthly</th>\n      <th>Payment_Behaviour</th>\n      <th>Monthly_Balance</th>\n      <th>Credit_Score</th>\n      <th>Age_categories</th>\n    </tr>\n  </thead>\n  <tbody>\n    <tr>\n      <th>0</th>\n      <td>CUS_0x475f</td>\n      <td>May</td>\n      <td>20</td>\n      <td>782-04-7216</td>\n      <td>Journalist</td>\n      <td>101399.13</td>\n      <td>8535.927500</td>\n      <td>1</td>\n      <td>3</td>\n      <td>2</td>\n      <td>...</td>\n      <td>1061.06</td>\n      <td>42.681159</td>\n      <td>24 Years and 9 Months</td>\n      <td>No</td>\n      <td>132.674897</td>\n      <td>114.2993860848862</td>\n      <td>High_spent_Medium_value_payments</td>\n      <td>856.6184673945337</td>\n      <td>Standard</td>\n      <td>Youth</td>\n    </tr>\n    <tr>\n      <th>1</th>\n      <td>CUS_0x88e5</td>\n      <td>April</td>\n      <td>25</td>\n      <td>680-32-0710</td>\n      <td>Accountant</td>\n      <td>112882.68</td>\n      <td>9684.890000</td>\n      <td>5</td>\n      <td>1</td>\n      <td>10</td>\n      <td>...</td>\n      <td>722.9</td>\n      <td>40.090839</td>\n      <td>28 Years and 11 Months</td>\n      <td>No</td>\n      <td>353.616124</td>\n      <td>166.44641009831145</td>\n      <td>High_spent_Large_value_payments</td>\n      <td>688.4264658667721</td>\n      <td>Good</td>\n      <td>Young_Adult</td>\n    </tr>\n    <tr>\n      <th>2</th>\n      <td>CUS_0xb59c</td>\n      <td>July</td>\n      <td>49</td>\n      <td>#F%$D@*&amp;8</td>\n      <td>Scientist</td>\n      <td>28101.46</td>\n      <td>2173.463807</td>\n      <td>5</td>\n      <td>7</td>\n      <td>8</td>\n      <td>...</td>\n      <td>454.67</td>\n      <td>23.607892</td>\n      <td>26 Years and 9 Months</td>\n      <td>No</td>\n      <td>268.268012</td>\n      <td>NaN</td>\n      <td>Low_spent_Small_value_payments</td>\n      <td>242.92108023576716</td>\n      <td>Good</td>\n      <td>Senior</td>\n    </tr>\n    <tr>\n      <th>3</th>\n      <td>CUS_0x2543</td>\n      <td>January</td>\n      <td>34</td>\n      <td>272-87-2927</td>\n      <td>Manager</td>\n      <td>22438.27</td>\n      <td>1856.855833</td>\n      <td>7</td>\n      <td>7</td>\n      <td>9</td>\n      <td>...</td>\n      <td>167.57</td>\n      <td>27.094189</td>\n      <td>NaN</td>\n      <td>No</td>\n      <td>58.436308</td>\n      <td>105.16564449441844</td>\n      <td>Low_spent_Large_value_payments</td>\n      <td>292.0836308808341</td>\n      <td>Standard</td>\n      <td>Adult</td>\n    </tr>\n    <tr>\n      <th>4</th>\n      <td>CUS_0x20dc</td>\n      <td>August</td>\n      <td>28</td>\n      <td>285-71-9431</td>\n      <td>Media_Manager</td>\n      <td>20975.4</td>\n      <td>1943.950000</td>\n      <td>2</td>\n      <td>3</td>\n      <td>9</td>\n      <td>...</td>\n      <td>731.4</td>\n      <td>26.205042</td>\n      <td>24 Years and 3 Months</td>\n      <td>NM</td>\n      <td>16.196792</td>\n      <td>67.15820105635807</td>\n      <td>High_spent_Medium_value_payments</td>\n      <td>361.0400067119549</td>\n      <td>Good</td>\n      <td>Young_Adult</td>\n    </tr>\n    <tr>\n      <th>...</th>\n      <td>...</td>\n      <td>...</td>\n      <td>...</td>\n      <td>...</td>\n      <td>...</td>\n      <td>...</td>\n      <td>...</td>\n      <td>...</td>\n      <td>...</td>\n      <td>...</td>\n      <td>...</td>\n      <td>...</td>\n      <td>...</td>\n      <td>...</td>\n      <td>...</td>\n      <td>...</td>\n      <td>...</td>\n      <td>...</td>\n      <td>...</td>\n      <td>...</td>\n      <td>...</td>\n    </tr>\n    <tr>\n      <th>79995</th>\n      <td>CUS_0x36f9</td>\n      <td>February</td>\n      <td>46</td>\n      <td>992-38-5349</td>\n      <td>Developer</td>\n      <td>82065.16</td>\n      <td>6771.763333</td>\n      <td>5</td>\n      <td>5</td>\n      <td>3</td>\n      <td>...</td>\n      <td>106.83</td>\n      <td>35.131041</td>\n      <td>23 Years and 0 Months</td>\n      <td>No</td>\n      <td>180.340607</td>\n      <td>439.84017944810165</td>\n      <td>High_spent_Small_value_payments</td>\n      <td>316.995547225631</td>\n      <td>Good</td>\n      <td>Senior</td>\n    </tr>\n    <tr>\n      <th>79996</th>\n      <td>CUS_0x70a3</td>\n      <td>July</td>\n      <td>20</td>\n      <td>291-89-8959</td>\n      <td>Accountant</td>\n      <td>14920.97</td>\n      <td>1424.414167</td>\n      <td>6</td>\n      <td>10</td>\n      <td>16</td>\n      <td>...</td>\n      <td>1288.58</td>\n      <td>33.572279</td>\n      <td>13 Years and 5 Months</td>\n      <td>Yes</td>\n      <td>19.909512</td>\n      <td>110.08423954093125</td>\n      <td>Low_spent_Small_value_payments</td>\n      <td>302.44766467037635</td>\n      <td>Poor</td>\n      <td>Youth</td>\n    </tr>\n    <tr>\n      <th>79997</th>\n      <td>CUS_0x1cf3</td>\n      <td>May</td>\n      <td>38</td>\n      <td>229-46-4057</td>\n      <td>Manager</td>\n      <td>66858.27</td>\n      <td>5770.522500</td>\n      <td>3</td>\n      <td>6</td>\n      <td>3990</td>\n      <td>...</td>\n      <td>601.58</td>\n      <td>37.982933</td>\n      <td>28 Years and 1 Months</td>\n      <td>NM</td>\n      <td>175.015182</td>\n      <td>364.70705194223035</td>\n      <td>Low_spent_Medium_value_payments</td>\n      <td>317.3300163104016</td>\n      <td>Standard</td>\n      <td>Adult</td>\n    </tr>\n    <tr>\n      <th>79998</th>\n      <td>CUS_0x2c0d</td>\n      <td>May</td>\n      <td>55</td>\n      <td>784-23-6447</td>\n      <td>Doctor</td>\n      <td>19403.405_</td>\n      <td>1904.950417</td>\n      <td>1</td>\n      <td>7</td>\n      <td>3</td>\n      <td>...</td>\n      <td>339.11</td>\n      <td>36.826610</td>\n      <td>16 Years and 8 Months</td>\n      <td>No</td>\n      <td>39.214914</td>\n      <td>169.85819735076564</td>\n      <td>Low_spent_Large_value_payments</td>\n      <td>251.4219298811392</td>\n      <td>Standard</td>\n      <td>Senior</td>\n    </tr>\n    <tr>\n      <th>79999</th>\n      <td>CUS_0x79d5</td>\n      <td>April</td>\n      <td>33</td>\n      <td>788-50-6387</td>\n      <td>Architect</td>\n      <td>19171.68</td>\n      <td>NaN</td>\n      <td>10</td>\n      <td>10</td>\n      <td>34</td>\n      <td>...</td>\n      <td>2092.74</td>\n      <td>37.579855</td>\n      <td>11 Years and 6 Months</td>\n      <td>NM</td>\n      <td>92.590913</td>\n      <td>52.613915154204705</td>\n      <td>Low_spent_Small_value_payments</td>\n      <td>286.15917179141763</td>\n      <td>Poor</td>\n      <td>Adult</td>\n    </tr>\n  </tbody>\n</table>\n<p>80000 rows × 27 columns</p>\n</div>"
     },
     "execution_count": 15,
     "metadata": {},
     "output_type": "execute_result"
    }
   ],
   "source": [
    "train_data = process_age(train_data, cut_points, label_names)\n",
    "test_data = process_age(test_data, cut_points, label_names)\n",
    "train_data"
   ],
   "metadata": {
    "collapsed": false,
    "ExecuteTime": {
     "end_time": "2024-04-06T21:37:39.603675600Z",
     "start_time": "2024-04-06T21:37:39.485648500Z"
    }
   },
   "id": "36343f57ddd04c23"
  },
  {
   "cell_type": "code",
   "execution_count": 16,
   "outputs": [
    {
     "data": {
      "text/plain": "      Customer_ID     Month  Age          SSN     Occupation Annual_Income  \\\n0      CUS_0x3539  February   30  995-31-4669        Manager      43391.96   \n1      CUS_0x8716   January   18  185-99-8068      Scientist      14351.21   \n2      CUS_0x21dc   January   41  241-53-8475      Developer     130125.04   \n3      CUS_0x32d3     April   35  204-78-6176        Manager      20107.21   \n4      CUS_0xadad    August   27  027-11-6852         Doctor      92186.19   \n...           ...       ...  ...          ...            ...           ...   \n19995   CUS_0x765     April   28  282-28-8981  Media_Manager     50940.09_   \n19996  CUS_0x3b9a  February   32  983-37-5040         Doctor      30819.56   \n19997  CUS_0x5a6b      July   40  567-66-4662      Architect       24004.5   \n19998  CUS_0xc6ac      June   37  057-64-6271       Engineer      35185.56   \n19999  CUS_0xbaee     March   41  015-50-7138     Journalist      66349.96   \n\n       Monthly_Inhand_Salary  Num_Bank_Accounts  Num_Credit_Card  \\\n0                3688.996667                  1                5   \n1                        NaN                  8                7   \n2               10871.753333                  5                2   \n3                1631.600833                  6                6   \n4                7487.182500                  1                2   \n...                      ...                ...              ...   \n19995            4106.007500                  8                7   \n19996            2547.296667                  7                3   \n19997            1935.375000                  4                3   \n19998                    NaN                  6                4   \n19999            5333.163333                  6                9   \n\n       Interest_Rate  ... Outstanding_Debt Credit_Utilization_Ratio  \\\n0                 10  ...          1468.28                29.112468   \n1                 18  ...          4766.87                39.849732   \n2                 11  ...          1195.05                21.542892   \n3                 32  ...           2544.6                32.423759   \n4                 12  ...           809.01                39.543131   \n...              ...  ...              ...                      ...   \n19995              8  ...          2414.34                34.099913   \n19996              9  ...           401.26                38.868023   \n19997             14  ...           1215.0                34.074416   \n19998             14  ...           379.47                28.452911   \n19999             16  ...          1740.14                28.336654   \n\n           Credit_History_Age Payment_of_Min_Amount Total_EMI_per_month  \\\n0       23 Years and 8 Months                    No            0.000000   \n1                         NaN                   Yes           61.098718   \n2      15 Years and 11 Months                    No          204.285650   \n3       19 Years and 4 Months                   Yes           27.106395   \n4       20 Years and 9 Months                    No          185.797654   \n...                       ...                   ...                 ...   \n19995   12 Years and 5 Months                   Yes          210.550380   \n19996   14 Years and 2 Months                   Yes           96.848591   \n19997                     NaN                   Yes           56.365016   \n19998   21 Years and 0 Months                    No           83.278064   \n19999  11 Years and 11 Months                   Yes          165.025519   \n\n       Amount_invested_monthly                 Payment_Behaviour  \\\n0           53.969385063055675   High_spent_Large_value_payments   \n1           118.08021357217683    Low_spent_Small_value_payments   \n2           1255.8993022448951    Low_spent_Small_value_payments   \n3            66.81977464950728    Low_spent_Small_value_payments   \n4           115.52003931707223  High_spent_Medium_value_payments   \n...                        ...                               ...   \n19995       266.03756049601714    Low_spent_Large_value_payments   \n19996         70.8621814922001  High_spent_Medium_value_payments   \n19997                      NaN    Low_spent_Small_value_payments   \n19998        343.9291924398982    Low_spent_Small_value_payments   \n19999        391.7890393382444    Low_spent_Small_value_payments   \n\n          Monthly_Balance  Credit_Score Age_categories  \n0       554.9302816036111          Good          Adult  \n1       238.3144849566528          Poor          Youth  \n2                     NaN          Good          Adult  \n3      359.23391378882377          Poor          Adult  \n4       697.4005568630175          Good    Young_Adult  \n...                   ...           ...            ...  \n19995  204.01280945992798      Standard    Young_Adult  \n19996   337.0188942793012      Standard          Adult  \n19997  355.88961809725936          Poor          Adult  \n19998   159.0057433126893      Standard          Adult  \n19999  266.50177526280345      Standard          Adult  \n\n[20000 rows x 27 columns]",
      "text/html": "<div>\n<style scoped>\n    .dataframe tbody tr th:only-of-type {\n        vertical-align: middle;\n    }\n\n    .dataframe tbody tr th {\n        vertical-align: top;\n    }\n\n    .dataframe thead th {\n        text-align: right;\n    }\n</style>\n<table border=\"1\" class=\"dataframe\">\n  <thead>\n    <tr style=\"text-align: right;\">\n      <th></th>\n      <th>Customer_ID</th>\n      <th>Month</th>\n      <th>Age</th>\n      <th>SSN</th>\n      <th>Occupation</th>\n      <th>Annual_Income</th>\n      <th>Monthly_Inhand_Salary</th>\n      <th>Num_Bank_Accounts</th>\n      <th>Num_Credit_Card</th>\n      <th>Interest_Rate</th>\n      <th>...</th>\n      <th>Outstanding_Debt</th>\n      <th>Credit_Utilization_Ratio</th>\n      <th>Credit_History_Age</th>\n      <th>Payment_of_Min_Amount</th>\n      <th>Total_EMI_per_month</th>\n      <th>Amount_invested_monthly</th>\n      <th>Payment_Behaviour</th>\n      <th>Monthly_Balance</th>\n      <th>Credit_Score</th>\n      <th>Age_categories</th>\n    </tr>\n  </thead>\n  <tbody>\n    <tr>\n      <th>0</th>\n      <td>CUS_0x3539</td>\n      <td>February</td>\n      <td>30</td>\n      <td>995-31-4669</td>\n      <td>Manager</td>\n      <td>43391.96</td>\n      <td>3688.996667</td>\n      <td>1</td>\n      <td>5</td>\n      <td>10</td>\n      <td>...</td>\n      <td>1468.28</td>\n      <td>29.112468</td>\n      <td>23 Years and 8 Months</td>\n      <td>No</td>\n      <td>0.000000</td>\n      <td>53.969385063055675</td>\n      <td>High_spent_Large_value_payments</td>\n      <td>554.9302816036111</td>\n      <td>Good</td>\n      <td>Adult</td>\n    </tr>\n    <tr>\n      <th>1</th>\n      <td>CUS_0x8716</td>\n      <td>January</td>\n      <td>18</td>\n      <td>185-99-8068</td>\n      <td>Scientist</td>\n      <td>14351.21</td>\n      <td>NaN</td>\n      <td>8</td>\n      <td>7</td>\n      <td>18</td>\n      <td>...</td>\n      <td>4766.87</td>\n      <td>39.849732</td>\n      <td>NaN</td>\n      <td>Yes</td>\n      <td>61.098718</td>\n      <td>118.08021357217683</td>\n      <td>Low_spent_Small_value_payments</td>\n      <td>238.3144849566528</td>\n      <td>Poor</td>\n      <td>Youth</td>\n    </tr>\n    <tr>\n      <th>2</th>\n      <td>CUS_0x21dc</td>\n      <td>January</td>\n      <td>41</td>\n      <td>241-53-8475</td>\n      <td>Developer</td>\n      <td>130125.04</td>\n      <td>10871.753333</td>\n      <td>5</td>\n      <td>2</td>\n      <td>11</td>\n      <td>...</td>\n      <td>1195.05</td>\n      <td>21.542892</td>\n      <td>15 Years and 11 Months</td>\n      <td>No</td>\n      <td>204.285650</td>\n      <td>1255.8993022448951</td>\n      <td>Low_spent_Small_value_payments</td>\n      <td>NaN</td>\n      <td>Good</td>\n      <td>Adult</td>\n    </tr>\n    <tr>\n      <th>3</th>\n      <td>CUS_0x32d3</td>\n      <td>April</td>\n      <td>35</td>\n      <td>204-78-6176</td>\n      <td>Manager</td>\n      <td>20107.21</td>\n      <td>1631.600833</td>\n      <td>6</td>\n      <td>6</td>\n      <td>32</td>\n      <td>...</td>\n      <td>2544.6</td>\n      <td>32.423759</td>\n      <td>19 Years and 4 Months</td>\n      <td>Yes</td>\n      <td>27.106395</td>\n      <td>66.81977464950728</td>\n      <td>Low_spent_Small_value_payments</td>\n      <td>359.23391378882377</td>\n      <td>Poor</td>\n      <td>Adult</td>\n    </tr>\n    <tr>\n      <th>4</th>\n      <td>CUS_0xadad</td>\n      <td>August</td>\n      <td>27</td>\n      <td>027-11-6852</td>\n      <td>Doctor</td>\n      <td>92186.19</td>\n      <td>7487.182500</td>\n      <td>1</td>\n      <td>2</td>\n      <td>12</td>\n      <td>...</td>\n      <td>809.01</td>\n      <td>39.543131</td>\n      <td>20 Years and 9 Months</td>\n      <td>No</td>\n      <td>185.797654</td>\n      <td>115.52003931707223</td>\n      <td>High_spent_Medium_value_payments</td>\n      <td>697.4005568630175</td>\n      <td>Good</td>\n      <td>Young_Adult</td>\n    </tr>\n    <tr>\n      <th>...</th>\n      <td>...</td>\n      <td>...</td>\n      <td>...</td>\n      <td>...</td>\n      <td>...</td>\n      <td>...</td>\n      <td>...</td>\n      <td>...</td>\n      <td>...</td>\n      <td>...</td>\n      <td>...</td>\n      <td>...</td>\n      <td>...</td>\n      <td>...</td>\n      <td>...</td>\n      <td>...</td>\n      <td>...</td>\n      <td>...</td>\n      <td>...</td>\n      <td>...</td>\n      <td>...</td>\n    </tr>\n    <tr>\n      <th>19995</th>\n      <td>CUS_0x765</td>\n      <td>April</td>\n      <td>28</td>\n      <td>282-28-8981</td>\n      <td>Media_Manager</td>\n      <td>50940.09_</td>\n      <td>4106.007500</td>\n      <td>8</td>\n      <td>7</td>\n      <td>8</td>\n      <td>...</td>\n      <td>2414.34</td>\n      <td>34.099913</td>\n      <td>12 Years and 5 Months</td>\n      <td>Yes</td>\n      <td>210.550380</td>\n      <td>266.03756049601714</td>\n      <td>Low_spent_Large_value_payments</td>\n      <td>204.01280945992798</td>\n      <td>Standard</td>\n      <td>Young_Adult</td>\n    </tr>\n    <tr>\n      <th>19996</th>\n      <td>CUS_0x3b9a</td>\n      <td>February</td>\n      <td>32</td>\n      <td>983-37-5040</td>\n      <td>Doctor</td>\n      <td>30819.56</td>\n      <td>2547.296667</td>\n      <td>7</td>\n      <td>3</td>\n      <td>9</td>\n      <td>...</td>\n      <td>401.26</td>\n      <td>38.868023</td>\n      <td>14 Years and 2 Months</td>\n      <td>Yes</td>\n      <td>96.848591</td>\n      <td>70.8621814922001</td>\n      <td>High_spent_Medium_value_payments</td>\n      <td>337.0188942793012</td>\n      <td>Standard</td>\n      <td>Adult</td>\n    </tr>\n    <tr>\n      <th>19997</th>\n      <td>CUS_0x5a6b</td>\n      <td>July</td>\n      <td>40</td>\n      <td>567-66-4662</td>\n      <td>Architect</td>\n      <td>24004.5</td>\n      <td>1935.375000</td>\n      <td>4</td>\n      <td>3</td>\n      <td>14</td>\n      <td>...</td>\n      <td>1215.0</td>\n      <td>34.074416</td>\n      <td>NaN</td>\n      <td>Yes</td>\n      <td>56.365016</td>\n      <td>NaN</td>\n      <td>Low_spent_Small_value_payments</td>\n      <td>355.88961809725936</td>\n      <td>Poor</td>\n      <td>Adult</td>\n    </tr>\n    <tr>\n      <th>19998</th>\n      <td>CUS_0xc6ac</td>\n      <td>June</td>\n      <td>37</td>\n      <td>057-64-6271</td>\n      <td>Engineer</td>\n      <td>35185.56</td>\n      <td>NaN</td>\n      <td>6</td>\n      <td>4</td>\n      <td>14</td>\n      <td>...</td>\n      <td>379.47</td>\n      <td>28.452911</td>\n      <td>21 Years and 0 Months</td>\n      <td>No</td>\n      <td>83.278064</td>\n      <td>343.9291924398982</td>\n      <td>Low_spent_Small_value_payments</td>\n      <td>159.0057433126893</td>\n      <td>Standard</td>\n      <td>Adult</td>\n    </tr>\n    <tr>\n      <th>19999</th>\n      <td>CUS_0xbaee</td>\n      <td>March</td>\n      <td>41</td>\n      <td>015-50-7138</td>\n      <td>Journalist</td>\n      <td>66349.96</td>\n      <td>5333.163333</td>\n      <td>6</td>\n      <td>9</td>\n      <td>16</td>\n      <td>...</td>\n      <td>1740.14</td>\n      <td>28.336654</td>\n      <td>11 Years and 11 Months</td>\n      <td>Yes</td>\n      <td>165.025519</td>\n      <td>391.7890393382444</td>\n      <td>Low_spent_Small_value_payments</td>\n      <td>266.50177526280345</td>\n      <td>Standard</td>\n      <td>Adult</td>\n    </tr>\n  </tbody>\n</table>\n<p>20000 rows × 27 columns</p>\n</div>"
     },
     "execution_count": 16,
     "metadata": {},
     "output_type": "execute_result"
    }
   ],
   "source": [
    "test_data"
   ],
   "metadata": {
    "collapsed": false,
    "ExecuteTime": {
     "end_time": "2024-04-06T21:37:39.752653200Z",
     "start_time": "2024-04-06T21:37:39.582659400Z"
    }
   },
   "id": "6251bf92c1246ab8"
  },
  {
   "cell_type": "code",
   "execution_count": 17,
   "outputs": [
    {
     "name": "stderr",
     "output_type": "stream",
     "text": [
      "C:\\Users\\bred7\\anaconda3\\envs\\veindata\\lib\\site-packages\\seaborn\\_oldcore.py:1119: FutureWarning: use_inf_as_na option is deprecated and will be removed in a future version. Convert inf values to NaN before operating instead.\n",
      "  with pd.option_context('mode.use_inf_as_na', True):\n",
      "C:\\Users\\bred7\\anaconda3\\envs\\veindata\\lib\\site-packages\\seaborn\\_oldcore.py:1119: FutureWarning: use_inf_as_na option is deprecated and will be removed in a future version. Convert inf values to NaN before operating instead.\n",
      "  with pd.option_context('mode.use_inf_as_na', True):\n",
      "C:\\Users\\bred7\\anaconda3\\envs\\veindata\\lib\\site-packages\\seaborn\\_oldcore.py:1119: FutureWarning: use_inf_as_na option is deprecated and will be removed in a future version. Convert inf values to NaN before operating instead.\n",
      "  with pd.option_context('mode.use_inf_as_na', True):\n"
     ]
    },
    {
     "data": {
      "text/plain": "<Figure size 432x288 with 1 Axes>",
      "image/png": "[encoded data removed]"
     },
     "metadata": {
      "needs_background": "light"
     },
     "output_type": "display_data"
    }
   ],
   "source": [
    "sns.histplot(poor_credit_train[\"Month\"], color='red', bins=15, alpha=0.3)\n",
    "sns.histplot(standard_credit_train[\"Month\"], color='yellow', bins=15, alpha=0.3)\n",
    "sns.histplot(good_credit_train[\"Month\"], color='green', bins=15, alpha=0.3)\n",
    "plt.show()"
   ],
   "metadata": {
    "collapsed": false,
    "ExecuteTime": {
     "end_time": "2024-04-06T21:37:40.022644600Z",
     "start_time": "2024-04-06T21:37:39.641651200Z"
    }
   },
   "id": "f7ca7110554fd7d8"
  },
  {
   "cell_type": "code",
   "execution_count": 18,
   "outputs": [
    {
     "data": {
      "text/plain": "      Customer_ID  Age     Occupation Annual_Income  Monthly_Inhand_Salary  \\\n0      CUS_0x475f   20     Journalist     101399.13            8535.927500   \n1      CUS_0x88e5   25     Accountant     112882.68            9684.890000   \n2      CUS_0xb59c   49      Scientist      28101.46            2173.463807   \n3      CUS_0x2543   34        Manager      22438.27            1856.855833   \n4      CUS_0x20dc   28  Media_Manager       20975.4            1943.950000   \n...           ...  ...            ...           ...                    ...   \n79995  CUS_0x36f9   46      Developer      82065.16            6771.763333   \n79996  CUS_0x70a3   20     Accountant      14920.97            1424.414167   \n79997  CUS_0x1cf3   38        Manager      66858.27            5770.522500   \n79998  CUS_0x2c0d   55         Doctor    19403.405_            1904.950417   \n79999  CUS_0x79d5   33      Architect      19171.68                    NaN   \n\n       Num_Bank_Accounts  Num_Credit_Card  Interest_Rate Num_of_Loan  \\\n0                      1                3              2           2   \n1                      5                1             10           4   \n2                      5                7              8           3   \n3                      7                7              9           4   \n4                      2                3              9           1   \n...                  ...              ...            ...         ...   \n79995                  5                5              3           3   \n79996                  6               10             16           2   \n79997                  3                6           3990           4   \n79998                  1                7              3           3   \n79999                 10               10             34           9   \n\n                                            Type_of_Loan  ...  \\\n0                       Mortgage Loan, and Personal Loan  ...   \n1      Credit-Builder Loan, Home Equity Loan, Not Spe...  ...   \n2      Student Loan, Credit-Builder Loan, and Debt Co...  ...   \n3      Mortgage Loan, Debt Consolidation Loan, Studen...  ...   \n4                                              Auto Loan  ...   \n...                                                  ...  ...   \n79995     Not Specified, Home Equity Loan, and Auto Loan  ...   \n79996                        Auto Loan, and Student Loan  ...   \n79997  Student Loan, Home Equity Loan, Payday Loan, a...  ...   \n79998  Debt Consolidation Loan, Debt Consolidation Lo...  ...   \n79999  Not Specified, Mortgage Loan, Auto Loan, Payda...  ...   \n\n       Outstanding_Debt Credit_Utilization_Ratio      Credit_History_Age  \\\n0               1061.06                42.681159   24 Years and 9 Months   \n1                 722.9                40.090839  28 Years and 11 Months   \n2                454.67                23.607892   26 Years and 9 Months   \n3                167.57                27.094189                     NaN   \n4                 731.4                26.205042   24 Years and 3 Months   \n...                 ...                      ...                     ...   \n79995            106.83                35.131041   23 Years and 0 Months   \n79996           1288.58                33.572279   13 Years and 5 Months   \n79997            601.58                37.982933   28 Years and 1 Months   \n79998            339.11                36.826610   16 Years and 8 Months   \n79999           2092.74                37.579855   11 Years and 6 Months   \n\n       Payment_of_Min_Amount Total_EMI_per_month Amount_invested_monthly  \\\n0                         No          132.674897       114.2993860848862   \n1                         No          353.616124      166.44641009831145   \n2                         No          268.268012                     NaN   \n3                         No           58.436308      105.16564449441844   \n4                         NM           16.196792       67.15820105635807   \n...                      ...                 ...                     ...   \n79995                     No          180.340607      439.84017944810165   \n79996                    Yes           19.909512      110.08423954093125   \n79997                     NM          175.015182      364.70705194223035   \n79998                     No           39.214914      169.85819735076564   \n79999                     NM           92.590913      52.613915154204705   \n\n                      Payment_Behaviour     Monthly_Balance Credit_Score  \\\n0      High_spent_Medium_value_payments   856.6184673945337     Standard   \n1       High_spent_Large_value_payments   688.4264658667721         Good   \n2        Low_spent_Small_value_payments  242.92108023576716         Good   \n3        Low_spent_Large_value_payments   292.0836308808341     Standard   \n4      High_spent_Medium_value_payments   361.0400067119549         Good   \n...                                 ...                 ...          ...   \n79995   High_spent_Small_value_payments    316.995547225631         Good   \n79996    Low_spent_Small_value_payments  302.44766467037635         Poor   \n79997   Low_spent_Medium_value_payments   317.3300163104016     Standard   \n79998    Low_spent_Large_value_payments   251.4219298811392     Standard   \n79999    Low_spent_Small_value_payments  286.15917179141763         Poor   \n\n       Age_categories  \n0               Youth  \n1         Young_Adult  \n2              Senior  \n3               Adult  \n4         Young_Adult  \n...               ...  \n79995          Senior  \n79996           Youth  \n79997           Adult  \n79998          Senior  \n79999           Adult  \n\n[80000 rows x 25 columns]",
      "text/html": "<div>\n<style scoped>\n    .dataframe tbody tr th:only-of-type {\n        vertical-align: middle;\n    }\n\n    .dataframe tbody tr th {\n        vertical-align: top;\n    }\n\n    .dataframe thead th {\n        text-align: right;\n    }\n</style>\n<table border=\"1\" class=\"dataframe\">\n  <thead>\n    <tr style=\"text-align: right;\">\n      <th></th>\n      <th>Customer_ID</th>\n      <th>Age</th>\n      <th>Occupation</th>\n      <th>Annual_Income</th>\n      <th>Monthly_Inhand_Salary</th>\n      <th>Num_Bank_Accounts</th>\n      <th>Num_Credit_Card</th>\n      <th>Interest_Rate</th>\n      <th>Num_of_Loan</th>\n      <th>Type_of_Loan</th>\n      <th>...</th>\n      <th>Outstanding_Debt</th>\n      <th>Credit_Utilization_Ratio</th>\n      <th>Credit_History_Age</th>\n      <th>Payment_of_Min_Amount</th>\n      <th>Total_EMI_per_month</th>\n      <th>Amount_invested_monthly</th>\n      <th>Payment_Behaviour</th>\n      <th>Monthly_Balance</th>\n      <th>Credit_Score</th>\n      <th>Age_categories</th>\n    </tr>\n  </thead>\n  <tbody>\n    <tr>\n      <th>0</th>\n      <td>CUS_0x475f</td>\n      <td>20</td>\n      <td>Journalist</td>\n      <td>101399.13</td>\n      <td>8535.927500</td>\n      <td>1</td>\n      <td>3</td>\n      <td>2</td>\n      <td>2</td>\n      <td>Mortgage Loan, and Personal Loan</td>\n      <td>...</td>\n      <td>1061.06</td>\n      <td>42.681159</td>\n      <td>24 Years and 9 Months</td>\n      <td>No</td>\n      <td>132.674897</td>\n      <td>114.2993860848862</td>\n      <td>High_spent_Medium_value_payments</td>\n      <td>856.6184673945337</td>\n      <td>Standard</td>\n      <td>Youth</td>\n    </tr>\n    <tr>\n      <th>1</th>\n      <td>CUS_0x88e5</td>\n      <td>25</td>\n      <td>Accountant</td>\n      <td>112882.68</td>\n      <td>9684.890000</td>\n      <td>5</td>\n      <td>1</td>\n      <td>10</td>\n      <td>4</td>\n      <td>Credit-Builder Loan, Home Equity Loan, Not Spe...</td>\n      <td>...</td>\n      <td>722.9</td>\n      <td>40.090839</td>\n      <td>28 Years and 11 Months</td>\n      <td>No</td>\n      <td>353.616124</td>\n      <td>166.44641009831145</td>\n      <td>High_spent_Large_value_payments</td>\n      <td>688.4264658667721</td>\n      <td>Good</td>\n      <td>Young_Adult</td>\n    </tr>\n    <tr>\n      <th>2</th>\n      <td>CUS_0xb59c</td>\n      <td>49</td>\n      <td>Scientist</td>\n      <td>28101.46</td>\n      <td>2173.463807</td>\n      <td>5</td>\n      <td>7</td>\n      <td>8</td>\n      <td>3</td>\n      <td>Student Loan, Credit-Builder Loan, and Debt Co...</td>\n      <td>...</td>\n      <td>454.67</td>\n      <td>23.607892</td>\n      <td>26 Years and 9 Months</td>\n      <td>No</td>\n      <td>268.268012</td>\n      <td>NaN</td>\n      <td>Low_spent_Small_value_payments</td>\n      <td>242.92108023576716</td>\n      <td>Good</td>\n      <td>Senior</td>\n    </tr>\n    <tr>\n      <th>3</th>\n      <td>CUS_0x2543</td>\n      <td>34</td>\n      <td>Manager</td>\n      <td>22438.27</td>\n      <td>1856.855833</td>\n      <td>7</td>\n      <td>7</td>\n      <td>9</td>\n      <td>4</td>\n      <td>Mortgage Loan, Debt Consolidation Loan, Studen...</td>\n      <td>...</td>\n      <td>167.57</td>\n      <td>27.094189</td>\n      <td>NaN</td>\n      <td>No</td>\n      <td>58.436308</td>\n      <td>105.16564449441844</td>\n      <td>Low_spent_Large_value_payments</td>\n      <td>292.0836308808341</td>\n      <td>Standard</td>\n      <td>Adult</td>\n    </tr>\n    <tr>\n      <th>4</th>\n      <td>CUS_0x20dc</td>\n      <td>28</td>\n      <td>Media_Manager</td>\n      <td>20975.4</td>\n      <td>1943.950000</td>\n      <td>2</td>\n      <td>3</td>\n      <td>9</td>\n      <td>1</td>\n      <td>Auto Loan</td>\n      <td>...</td>\n      <td>731.4</td>\n      <td>26.205042</td>\n      <td>24 Years and 3 Months</td>\n      <td>NM</td>\n      <td>16.196792</td>\n      <td>67.15820105635807</td>\n      <td>High_spent_Medium_value_payments</td>\n      <td>361.0400067119549</td>\n      <td>Good</td>\n      <td>Young_Adult</td>\n    </tr>\n    <tr>\n      <th>...</th>\n      <td>...</td>\n      <td>...</td>\n      <td>...</td>\n      <td>...</td>\n      <td>...</td>\n      <td>...</td>\n      <td>...</td>\n      <td>...</td>\n      <td>...</td>\n      <td>...</td>\n      <td>...</td>\n      <td>...</td>\n      <td>...</td>\n      <td>...</td>\n      <td>...</td>\n      <td>...</td>\n      <td>...</td>\n      <td>...</td>\n      <td>...</td>\n      <td>...</td>\n      <td>...</td>\n    </tr>\n    <tr>\n      <th>79995</th>\n      <td>CUS_0x36f9</td>\n      <td>46</td>\n      <td>Developer</td>\n      <td>82065.16</td>\n      <td>6771.763333</td>\n      <td>5</td>\n      <td>5</td>\n      <td>3</td>\n      <td>3</td>\n      <td>Not Specified, Home Equity Loan, and Auto Loan</td>\n      <td>...</td>\n      <td>106.83</td>\n      <td>35.131041</td>\n      <td>23 Years and 0 Months</td>\n      <td>No</td>\n      <td>180.340607</td>\n      <td>439.84017944810165</td>\n      <td>High_spent_Small_value_payments</td>\n      <td>316.995547225631</td>\n      <td>Good</td>\n      <td>Senior</td>\n    </tr>\n    <tr>\n      <th>79996</th>\n      <td>CUS_0x70a3</td>\n      <td>20</td>\n      <td>Accountant</td>\n      <td>14920.97</td>\n      <td>1424.414167</td>\n      <td>6</td>\n      <td>10</td>\n      <td>16</td>\n      <td>2</td>\n      <td>Auto Loan, and Student Loan</td>\n      <td>...</td>\n      <td>1288.58</td>\n      <td>33.572279</td>\n      <td>13 Years and 5 Months</td>\n      <td>Yes</td>\n      <td>19.909512</td>\n      <td>110.08423954093125</td>\n      <td>Low_spent_Small_value_payments</td>\n      <td>302.44766467037635</td>\n      <td>Poor</td>\n      <td>Youth</td>\n    </tr>\n    <tr>\n      <th>79997</th>\n      <td>CUS_0x1cf3</td>\n      <td>38</td>\n      <td>Manager</td>\n      <td>66858.27</td>\n      <td>5770.522500</td>\n      <td>3</td>\n      <td>6</td>\n      <td>3990</td>\n      <td>4</td>\n      <td>Student Loan, Home Equity Loan, Payday Loan, a...</td>\n      <td>...</td>\n      <td>601.58</td>\n      <td>37.982933</td>\n      <td>28 Years and 1 Months</td>\n      <td>NM</td>\n      <td>175.015182</td>\n      <td>364.70705194223035</td>\n      <td>Low_spent_Medium_value_payments</td>\n      <td>317.3300163104016</td>\n      <td>Standard</td>\n      <td>Adult</td>\n    </tr>\n    <tr>\n      <th>79998</th>\n      <td>CUS_0x2c0d</td>\n      <td>55</td>\n      <td>Doctor</td>\n      <td>19403.405_</td>\n      <td>1904.950417</td>\n      <td>1</td>\n      <td>7</td>\n      <td>3</td>\n      <td>3</td>\n      <td>Debt Consolidation Loan, Debt Consolidation Lo...</td>\n      <td>...</td>\n      <td>339.11</td>\n      <td>36.826610</td>\n      <td>16 Years and 8 Months</td>\n      <td>No</td>\n      <td>39.214914</td>\n      <td>169.85819735076564</td>\n      <td>Low_spent_Large_value_payments</td>\n      <td>251.4219298811392</td>\n      <td>Standard</td>\n      <td>Senior</td>\n    </tr>\n    <tr>\n      <th>79999</th>\n      <td>CUS_0x79d5</td>\n      <td>33</td>\n      <td>Architect</td>\n      <td>19171.68</td>\n      <td>NaN</td>\n      <td>10</td>\n      <td>10</td>\n      <td>34</td>\n      <td>9</td>\n      <td>Not Specified, Mortgage Loan, Auto Loan, Payda...</td>\n      <td>...</td>\n      <td>2092.74</td>\n      <td>37.579855</td>\n      <td>11 Years and 6 Months</td>\n      <td>NM</td>\n      <td>92.590913</td>\n      <td>52.613915154204705</td>\n      <td>Low_spent_Small_value_payments</td>\n      <td>286.15917179141763</td>\n      <td>Poor</td>\n      <td>Adult</td>\n    </tr>\n  </tbody>\n</table>\n<p>80000 rows × 25 columns</p>\n</div>"
     },
     "execution_count": 18,
     "metadata": {},
     "output_type": "execute_result"
    }
   ],
   "source": [
    "train_data = train_data.drop([\"Month\", \"SSN\"], axis=1)\n",
    "test_data = test_data.drop([\"Month\", \"SSN\"], axis=1)\n",
    "train_data"
   ],
   "metadata": {
    "collapsed": false,
    "ExecuteTime": {
     "end_time": "2024-04-06T21:37:40.131651500Z",
     "start_time": "2024-04-06T21:37:40.003657700Z"
    }
   },
   "id": "66a9fa67f006a201"
  },
  {
   "cell_type": "code",
   "execution_count": 19,
   "outputs": [
    {
     "data": {
      "text/plain": "      Customer_ID  Age     Occupation Annual_Income  Monthly_Inhand_Salary  \\\n0      CUS_0x3539   30        Manager      43391.96            3688.996667   \n1      CUS_0x8716   18      Scientist      14351.21                    NaN   \n2      CUS_0x21dc   41      Developer     130125.04           10871.753333   \n3      CUS_0x32d3   35        Manager      20107.21            1631.600833   \n4      CUS_0xadad   27         Doctor      92186.19            7487.182500   \n...           ...  ...            ...           ...                    ...   \n19995   CUS_0x765   28  Media_Manager     50940.09_            4106.007500   \n19996  CUS_0x3b9a   32         Doctor      30819.56            2547.296667   \n19997  CUS_0x5a6b   40      Architect       24004.5            1935.375000   \n19998  CUS_0xc6ac   37       Engineer      35185.56                    NaN   \n19999  CUS_0xbaee   41     Journalist      66349.96            5333.163333   \n\n       Num_Bank_Accounts  Num_Credit_Card  Interest_Rate Num_of_Loan  \\\n0                      1                5             10           0   \n1                      8                7             18           6   \n2                      5                2             11           2   \n3                      6                6             32           2   \n4                      1                2             12           4   \n...                  ...              ...            ...         ...   \n19995                  8                7              8           5   \n19996                  7                3              9           4   \n19997                  4                3             14           5   \n19998                  6                4             14           3   \n19999                  6                9             16           4   \n\n                                            Type_of_Loan  ...  \\\n0                                                    NaN  ...   \n1      Mortgage Loan, Personal Loan, Not Specified, S...  ...   \n2             Mortgage Loan, and Debt Consolidation Loan  ...   \n3              Credit-Builder Loan, and Home Equity Loan  ...   \n4      Personal Loan, Auto Loan, Not Specified, and P...  ...   \n...                                                  ...  ...   \n19995  Student Loan, Student Loan, Debt Consolidation...  ...   \n19996  Payday Loan, Student Loan, Not Specified, and ...  ...   \n19997  Home Equity Loan, Not Specified, Mortgage Loan...  ...   \n19998  Mortgage Loan, Home Equity Loan, and Credit-Bu...  ...   \n19999  Payday Loan, Credit-Builder Loan, Home Equity ...  ...   \n\n       Outstanding_Debt Credit_Utilization_Ratio      Credit_History_Age  \\\n0               1468.28                29.112468   23 Years and 8 Months   \n1               4766.87                39.849732                     NaN   \n2               1195.05                21.542892  15 Years and 11 Months   \n3                2544.6                32.423759   19 Years and 4 Months   \n4                809.01                39.543131   20 Years and 9 Months   \n...                 ...                      ...                     ...   \n19995           2414.34                34.099913   12 Years and 5 Months   \n19996            401.26                38.868023   14 Years and 2 Months   \n19997            1215.0                34.074416                     NaN   \n19998            379.47                28.452911   21 Years and 0 Months   \n19999           1740.14                28.336654  11 Years and 11 Months   \n\n       Payment_of_Min_Amount Total_EMI_per_month Amount_invested_monthly  \\\n0                         No            0.000000      53.969385063055675   \n1                        Yes           61.098718      118.08021357217683   \n2                         No          204.285650      1255.8993022448951   \n3                        Yes           27.106395       66.81977464950728   \n4                         No          185.797654      115.52003931707223   \n...                      ...                 ...                     ...   \n19995                    Yes          210.550380      266.03756049601714   \n19996                    Yes           96.848591        70.8621814922001   \n19997                    Yes           56.365016                     NaN   \n19998                     No           83.278064       343.9291924398982   \n19999                    Yes          165.025519       391.7890393382444   \n\n                      Payment_Behaviour     Monthly_Balance Credit_Score  \\\n0       High_spent_Large_value_payments   554.9302816036111         Good   \n1        Low_spent_Small_value_payments   238.3144849566528         Poor   \n2        Low_spent_Small_value_payments                 NaN         Good   \n3        Low_spent_Small_value_payments  359.23391378882377         Poor   \n4      High_spent_Medium_value_payments   697.4005568630175         Good   \n...                                 ...                 ...          ...   \n19995    Low_spent_Large_value_payments  204.01280945992798     Standard   \n19996  High_spent_Medium_value_payments   337.0188942793012     Standard   \n19997    Low_spent_Small_value_payments  355.88961809725936         Poor   \n19998    Low_spent_Small_value_payments   159.0057433126893     Standard   \n19999    Low_spent_Small_value_payments  266.50177526280345     Standard   \n\n       Age_categories  \n0               Adult  \n1               Youth  \n2               Adult  \n3               Adult  \n4         Young_Adult  \n...               ...  \n19995     Young_Adult  \n19996           Adult  \n19997           Adult  \n19998           Adult  \n19999           Adult  \n\n[20000 rows x 25 columns]",
      "text/html": "<div>\n<style scoped>\n    .dataframe tbody tr th:only-of-type {\n        vertical-align: middle;\n    }\n\n    .dataframe tbody tr th {\n        vertical-align: top;\n    }\n\n    .dataframe thead th {\n        text-align: right;\n    }\n</style>\n<table border=\"1\" class=\"dataframe\">\n  <thead>\n    <tr style=\"text-align: right;\">\n      <th></th>\n      <th>Customer_ID</th>\n      <th>Age</th>\n      <th>Occupation</th>\n      <th>Annual_Income</th>\n      <th>Monthly_Inhand_Salary</th>\n      <th>Num_Bank_Accounts</th>\n      <th>Num_Credit_Card</th>\n      <th>Interest_Rate</th>\n      <th>Num_of_Loan</th>\n      <th>Type_of_Loan</th>\n      <th>...</th>\n      <th>Outstanding_Debt</th>\n      <th>Credit_Utilization_Ratio</th>\n      <th>Credit_History_Age</th>\n      <th>Payment_of_Min_Amount</th>\n      <th>Total_EMI_per_month</th>\n      <th>Amount_invested_monthly</th>\n      <th>Payment_Behaviour</th>\n      <th>Monthly_Balance</th>\n      <th>Credit_Score</th>\n      <th>Age_categories</th>\n    </tr>\n  </thead>\n  <tbody>\n    <tr>\n      <th>0</th>\n      <td>CUS_0x3539</td>\n      <td>30</td>\n      <td>Manager</td>\n      <td>43391.96</td>\n      <td>3688.996667</td>\n      <td>1</td>\n      <td>5</td>\n      <td>10</td>\n      <td>0</td>\n      <td>NaN</td>\n      <td>...</td>\n      <td>1468.28</td>\n      <td>29.112468</td>\n      <td>23 Years and 8 Months</td>\n      <td>No</td>\n      <td>0.000000</td>\n      <td>53.969385063055675</td>\n      <td>High_spent_Large_value_payments</td>\n      <td>554.9302816036111</td>\n      <td>Good</td>\n      <td>Adult</td>\n    </tr>\n    <tr>\n      <th>1</th>\n      <td>CUS_0x8716</td>\n      <td>18</td>\n      <td>Scientist</td>\n      <td>14351.21</td>\n      <td>NaN</td>\n      <td>8</td>\n      <td>7</td>\n      <td>18</td>\n      <td>6</td>\n      <td>Mortgage Loan, Personal Loan, Not Specified, S...</td>\n      <td>...</td>\n      <td>4766.87</td>\n      <td>39.849732</td>\n      <td>NaN</td>\n      <td>Yes</td>\n      <td>61.098718</td>\n      <td>118.08021357217683</td>\n      <td>Low_spent_Small_value_payments</td>\n      <td>238.3144849566528</td>\n      <td>Poor</td>\n      <td>Youth</td>\n    </tr>\n    <tr>\n      <th>2</th>\n      <td>CUS_0x21dc</td>\n      <td>41</td>\n      <td>Developer</td>\n      <td>130125.04</td>\n      <td>10871.753333</td>\n      <td>5</td>\n      <td>2</td>\n      <td>11</td>\n      <td>2</td>\n      <td>Mortgage Loan, and Debt Consolidation Loan</td>\n      <td>...</td>\n      <td>1195.05</td>\n      <td>21.542892</td>\n      <td>15 Years and 11 Months</td>\n      <td>No</td>\n      <td>204.285650</td>\n      <td>1255.8993022448951</td>\n      <td>Low_spent_Small_value_payments</td>\n      <td>NaN</td>\n      <td>Good</td>\n      <td>Adult</td>\n    </tr>\n    <tr>\n      <th>3</th>\n      <td>CUS_0x32d3</td>\n      <td>35</td>\n      <td>Manager</td>\n      <td>20107.21</td>\n      <td>1631.600833</td>\n      <td>6</td>\n      <td>6</td>\n      <td>32</td>\n      <td>2</td>\n      <td>Credit-Builder Loan, and Home Equity Loan</td>\n      <td>...</td>\n      <td>2544.6</td>\n      <td>32.423759</td>\n      <td>19 Years and 4 Months</td>\n      <td>Yes</td>\n      <td>27.106395</td>\n      <td>66.81977464950728</td>\n      <td>Low_spent_Small_value_payments</td>\n      <td>359.23391378882377</td>\n      <td>Poor</td>\n      <td>Adult</td>\n    </tr>\n    <tr>\n      <th>4</th>\n      <td>CUS_0xadad</td>\n      <td>27</td>\n      <td>Doctor</td>\n      <td>92186.19</td>\n      <td>7487.182500</td>\n      <td>1</td>\n      <td>2</td>\n      <td>12</td>\n      <td>4</td>\n      <td>Personal Loan, Auto Loan, Not Specified, and P...</td>\n      <td>...</td>\n      <td>809.01</td>\n      <td>39.543131</td>\n      <td>20 Years and 9 Months</td>\n      <td>No</td>\n      <td>185.797654</td>\n      <td>115.52003931707223</td>\n      <td>High_spent_Medium_value_payments</td>\n      <td>697.4005568630175</td>\n      <td>Good</td>\n      <td>Young_Adult</td>\n    </tr>\n    <tr>\n      <th>...</th>\n      <td>...</td>\n      <td>...</td>\n      <td>...</td>\n      <td>...</td>\n      <td>...</td>\n      <td>...</td>\n      <td>...</td>\n      <td>...</td>\n      <td>...</td>\n      <td>...</td>\n      <td>...</td>\n      <td>...</td>\n      <td>...</td>\n      <td>...</td>\n      <td>...</td>\n      <td>...</td>\n      <td>...</td>\n      <td>...</td>\n      <td>...</td>\n      <td>...</td>\n      <td>...</td>\n    </tr>\n    <tr>\n      <th>19995</th>\n      <td>CUS_0x765</td>\n      <td>28</td>\n      <td>Media_Manager</td>\n      <td>50940.09_</td>\n      <td>4106.007500</td>\n      <td>8</td>\n      <td>7</td>\n      <td>8</td>\n      <td>5</td>\n      <td>Student Loan, Student Loan, Debt Consolidation...</td>\n      <td>...</td>\n      <td>2414.34</td>\n      <td>34.099913</td>\n      <td>12 Years and 5 Months</td>\n      <td>Yes</td>\n      <td>210.550380</td>\n      <td>266.03756049601714</td>\n      <td>Low_spent_Large_value_payments</td>\n      <td>204.01280945992798</td>\n      <td>Standard</td>\n      <td>Young_Adult</td>\n    </tr>\n    <tr>\n      <th>19996</th>\n      <td>CUS_0x3b9a</td>\n      <td>32</td>\n      <td>Doctor</td>\n      <td>30819.56</td>\n      <td>2547.296667</td>\n      <td>7</td>\n      <td>3</td>\n      <td>9</td>\n      <td>4</td>\n      <td>Payday Loan, Student Loan, Not Specified, and ...</td>\n      <td>...</td>\n      <td>401.26</td>\n      <td>38.868023</td>\n      <td>14 Years and 2 Months</td>\n      <td>Yes</td>\n      <td>96.848591</td>\n      <td>70.8621814922001</td>\n      <td>High_spent_Medium_value_payments</td>\n      <td>337.0188942793012</td>\n      <td>Standard</td>\n      <td>Adult</td>\n    </tr>\n    <tr>\n      <th>19997</th>\n      <td>CUS_0x5a6b</td>\n      <td>40</td>\n      <td>Architect</td>\n      <td>24004.5</td>\n      <td>1935.375000</td>\n      <td>4</td>\n      <td>3</td>\n      <td>14</td>\n      <td>5</td>\n      <td>Home Equity Loan, Not Specified, Mortgage Loan...</td>\n      <td>...</td>\n      <td>1215.0</td>\n      <td>34.074416</td>\n      <td>NaN</td>\n      <td>Yes</td>\n      <td>56.365016</td>\n      <td>NaN</td>\n      <td>Low_spent_Small_value_payments</td>\n      <td>355.88961809725936</td>\n      <td>Poor</td>\n      <td>Adult</td>\n    </tr>\n    <tr>\n      <th>19998</th>\n      <td>CUS_0xc6ac</td>\n      <td>37</td>\n      <td>Engineer</td>\n      <td>35185.56</td>\n      <td>NaN</td>\n      <td>6</td>\n      <td>4</td>\n      <td>14</td>\n      <td>3</td>\n      <td>Mortgage Loan, Home Equity Loan, and Credit-Bu...</td>\n      <td>...</td>\n      <td>379.47</td>\n      <td>28.452911</td>\n      <td>21 Years and 0 Months</td>\n      <td>No</td>\n      <td>83.278064</td>\n      <td>343.9291924398982</td>\n      <td>Low_spent_Small_value_payments</td>\n      <td>159.0057433126893</td>\n      <td>Standard</td>\n      <td>Adult</td>\n    </tr>\n    <tr>\n      <th>19999</th>\n      <td>CUS_0xbaee</td>\n      <td>41</td>\n      <td>Journalist</td>\n      <td>66349.96</td>\n      <td>5333.163333</td>\n      <td>6</td>\n      <td>9</td>\n      <td>16</td>\n      <td>4</td>\n      <td>Payday Loan, Credit-Builder Loan, Home Equity ...</td>\n      <td>...</td>\n      <td>1740.14</td>\n      <td>28.336654</td>\n      <td>11 Years and 11 Months</td>\n      <td>Yes</td>\n      <td>165.025519</td>\n      <td>391.7890393382444</td>\n      <td>Low_spent_Small_value_payments</td>\n      <td>266.50177526280345</td>\n      <td>Standard</td>\n      <td>Adult</td>\n    </tr>\n  </tbody>\n</table>\n<p>20000 rows × 25 columns</p>\n</div>"
     },
     "execution_count": 19,
     "metadata": {},
     "output_type": "execute_result"
    }
   ],
   "source": [
    "test_data"
   ],
   "metadata": {
    "collapsed": false,
    "ExecuteTime": {
     "end_time": "2024-04-06T21:37:40.249644200Z",
     "start_time": "2024-04-06T21:37:40.129651500Z"
    }
   },
   "id": "94dc3a1f4c93c111"
  },
  {
   "cell_type": "code",
   "execution_count": 20,
   "outputs": [],
   "source": [
    "train_data[\"Annual_Income\"] = train_data.apply(lambda el: re.findall(r'\\d+.?\\d+', el[\"Annual_Income\"])[0], axis=1)\n",
    "test_data[\"Annual_Income\"] = test_data.apply(lambda el: re.findall(r'\\d+.?\\d+', el[\"Annual_Income\"])[0], axis=1)"
   ],
   "metadata": {
    "collapsed": false,
    "ExecuteTime": {
     "end_time": "2024-04-06T21:37:41.081650400Z",
     "start_time": "2024-04-06T21:37:40.178650300Z"
    }
   },
   "id": "e28c4e960192bb9"
  },
  {
   "cell_type": "code",
   "execution_count": 21,
   "outputs": [],
   "source": [
    "train_data[\"Annual_Income\"] = train_data[\"Annual_Income\"].astype(float)\n",
    "test_data[\"Annual_Income\"] = test_data[\"Annual_Income\"].astype(float)"
   ],
   "metadata": {
    "collapsed": false,
    "ExecuteTime": {
     "end_time": "2024-04-06T21:37:41.138670700Z",
     "start_time": "2024-04-06T21:37:41.082649400Z"
    }
   },
   "id": "1042c7e6eb52829c"
  },
  {
   "cell_type": "code",
   "execution_count": 22,
   "outputs": [],
   "source": [
    "def correct_integers(train_data, test_data, column_name):\n",
    "    train_data[column_name] = train_data.apply(lambda el: re.findall(r'-?\\d+', el[column_name])[0], axis=1)\n",
    "    test_data[column_name] = test_data.apply(lambda el: re.findall(r'-?\\d+', el[column_name])[0], axis=1)\n",
    "\n",
    "    return train_data, test_data\n",
    "\n",
    "train_data, test_data = correct_integers(train_data, test_data, \"Num_of_Loan\")"
   ],
   "metadata": {
    "collapsed": false,
    "ExecuteTime": {
     "end_time": "2024-04-06T21:37:42.004657100Z",
     "start_time": "2024-04-06T21:37:41.132658500Z"
    }
   },
   "id": "63f24d813c22dcaf"
  },
  {
   "cell_type": "code",
   "execution_count": 23,
   "outputs": [],
   "source": [
    "train_data[\"Num_of_Loan\"] = train_data[\"Num_of_Loan\"].astype(int)\n",
    "test_data[\"Num_of_Loan\"] = test_data[\"Num_of_Loan\"].astype(int)"
   ],
   "metadata": {
    "collapsed": false,
    "ExecuteTime": {
     "end_time": "2024-04-06T21:37:42.023657300Z",
     "start_time": "2024-04-06T21:37:42.016672100Z"
    }
   },
   "id": "75bad96e0dc3578f"
  },
  {
   "cell_type": "code",
   "execution_count": 24,
   "outputs": [
    {
     "data": {
      "text/plain": "      Customer_ID  Age     Occupation  Annual_Income  Monthly_Inhand_Salary  \\\n0      CUS_0x475f   20     Journalist     101399.130            8535.927500   \n1      CUS_0x88e5   25     Accountant     112882.680            9684.890000   \n2      CUS_0xb59c   49      Scientist      28101.460            2173.463807   \n3      CUS_0x2543   34        Manager      22438.270            1856.855833   \n4      CUS_0x20dc   28  Media_Manager      20975.400            1943.950000   \n...           ...  ...            ...            ...                    ...   \n79995  CUS_0x36f9   46      Developer      82065.160            6771.763333   \n79996  CUS_0x70a3   20     Accountant      14920.970            1424.414167   \n79997  CUS_0x1cf3   38        Manager      66858.270            5770.522500   \n79998  CUS_0x2c0d   55         Doctor      19403.405            1904.950417   \n79999  CUS_0x79d5   33      Architect      19171.680                    NaN   \n\n       Num_Bank_Accounts  Num_Credit_Card  Interest_Rate  Num_of_Loan  \\\n0                      1                3              2            2   \n1                      5                1             10            4   \n2                      5                7              8            3   \n3                      7                7              9            4   \n4                      2                3              9            1   \n...                  ...              ...            ...          ...   \n79995                  5                5              3            3   \n79996                  6               10             16            2   \n79997                  3                6           3990            4   \n79998                  1                7              3            3   \n79999                 10               10             34            9   \n\n                                            Type_of_Loan  ...  \\\n0                       Mortgage Loan, and Personal Loan  ...   \n1      Credit-Builder Loan, Home Equity Loan, Not Spe...  ...   \n2      Student Loan, Credit-Builder Loan, and Debt Co...  ...   \n3      Mortgage Loan, Debt Consolidation Loan, Studen...  ...   \n4                                              Auto Loan  ...   \n...                                                  ...  ...   \n79995     Not Specified, Home Equity Loan, and Auto Loan  ...   \n79996                        Auto Loan, and Student Loan  ...   \n79997  Student Loan, Home Equity Loan, Payday Loan, a...  ...   \n79998  Debt Consolidation Loan, Debt Consolidation Lo...  ...   \n79999  Not Specified, Mortgage Loan, Auto Loan, Payda...  ...   \n\n       Outstanding_Debt Credit_Utilization_Ratio      Credit_History_Age  \\\n0               1061.06                42.681159   24 Years and 9 Months   \n1                 722.9                40.090839  28 Years and 11 Months   \n2                454.67                23.607892   26 Years and 9 Months   \n3                167.57                27.094189                     NaN   \n4                 731.4                26.205042   24 Years and 3 Months   \n...                 ...                      ...                     ...   \n79995            106.83                35.131041   23 Years and 0 Months   \n79996           1288.58                33.572279   13 Years and 5 Months   \n79997            601.58                37.982933   28 Years and 1 Months   \n79998            339.11                36.826610   16 Years and 8 Months   \n79999           2092.74                37.579855   11 Years and 6 Months   \n\n       Payment_of_Min_Amount Total_EMI_per_month Amount_invested_monthly  \\\n0                         No          132.674897       114.2993860848862   \n1                         No          353.616124      166.44641009831145   \n2                         No          268.268012                     NaN   \n3                         No           58.436308      105.16564449441844   \n4                         NM           16.196792       67.15820105635807   \n...                      ...                 ...                     ...   \n79995                     No          180.340607      439.84017944810165   \n79996                    Yes           19.909512      110.08423954093125   \n79997                     NM          175.015182      364.70705194223035   \n79998                     No           39.214914      169.85819735076564   \n79999                     NM           92.590913      52.613915154204705   \n\n                      Payment_Behaviour     Monthly_Balance Credit_Score  \\\n0      High_spent_Medium_value_payments   856.6184673945337     Standard   \n1       High_spent_Large_value_payments   688.4264658667721         Good   \n2        Low_spent_Small_value_payments  242.92108023576716         Good   \n3        Low_spent_Large_value_payments   292.0836308808341     Standard   \n4      High_spent_Medium_value_payments   361.0400067119549         Good   \n...                                 ...                 ...          ...   \n79995   High_spent_Small_value_payments    316.995547225631         Good   \n79996    Low_spent_Small_value_payments  302.44766467037635         Poor   \n79997   Low_spent_Medium_value_payments   317.3300163104016     Standard   \n79998    Low_spent_Large_value_payments   251.4219298811392     Standard   \n79999    Low_spent_Small_value_payments  286.15917179141763         Poor   \n\n       Age_categories  \n0               Youth  \n1         Young_Adult  \n2              Senior  \n3               Adult  \n4         Young_Adult  \n...               ...  \n79995          Senior  \n79996           Youth  \n79997           Adult  \n79998          Senior  \n79999           Adult  \n\n[80000 rows x 25 columns]",
      "text/html": "<div>\n<style scoped>\n    .dataframe tbody tr th:only-of-type {\n        vertical-align: middle;\n    }\n\n    .dataframe tbody tr th {\n        vertical-align: top;\n    }\n\n    .dataframe thead th {\n        text-align: right;\n    }\n</style>\n<table border=\"1\" class=\"dataframe\">\n  <thead>\n    <tr style=\"text-align: right;\">\n      <th></th>\n      <th>Customer_ID</th>\n      <th>Age</th>\n      <th>Occupation</th>\n      <th>Annual_Income</th>\n      <th>Monthly_Inhand_Salary</th>\n      <th>Num_Bank_Accounts</th>\n      <th>Num_Credit_Card</th>\n      <th>Interest_Rate</th>\n      <th>Num_of_Loan</th>\n      <th>Type_of_Loan</th>\n      <th>...</th>\n      <th>Outstanding_Debt</th>\n      <th>Credit_Utilization_Ratio</th>\n      <th>Credit_History_Age</th>\n      <th>Payment_of_Min_Amount</th>\n      <th>Total_EMI_per_month</th>\n      <th>Amount_invested_monthly</th>\n      <th>Payment_Behaviour</th>\n      <th>Monthly_Balance</th>\n      <th>Credit_Score</th>\n      <th>Age_categories</th>\n    </tr>\n  </thead>\n  <tbody>\n    <tr>\n      <th>0</th>\n      <td>CUS_0x475f</td>\n      <td>20</td>\n      <td>Journalist</td>\n      <td>101399.130</td>\n      <td>8535.927500</td>\n      <td>1</td>\n      <td>3</td>\n      <td>2</td>\n      <td>2</td>\n      <td>Mortgage Loan, and Personal Loan</td>\n      <td>...</td>\n      <td>1061.06</td>\n      <td>42.681159</td>\n      <td>24 Years and 9 Months</td>\n      <td>No</td>\n      <td>132.674897</td>\n      <td>114.2993860848862</td>\n      <td>High_spent_Medium_value_payments</td>\n      <td>856.6184673945337</td>\n      <td>Standard</td>\n      <td>Youth</td>\n    </tr>\n    <tr>\n      <th>1</th>\n      <td>CUS_0x88e5</td>\n      <td>25</td>\n      <td>Accountant</td>\n      <td>112882.680</td>\n      <td>9684.890000</td>\n      <td>5</td>\n      <td>1</td>\n      <td>10</td>\n      <td>4</td>\n      <td>Credit-Builder Loan, Home Equity Loan, Not Spe...</td>\n      <td>...</td>\n      <td>722.9</td>\n      <td>40.090839</td>\n      <td>28 Years and 11 Months</td>\n      <td>No</td>\n      <td>353.616124</td>\n      <td>166.44641009831145</td>\n      <td>High_spent_Large_value_payments</td>\n      <td>688.4264658667721</td>\n      <td>Good</td>\n      <td>Young_Adult</td>\n    </tr>\n    <tr>\n      <th>2</th>\n      <td>CUS_0xb59c</td>\n      <td>49</td>\n      <td>Scientist</td>\n      <td>28101.460</td>\n      <td>2173.463807</td>\n      <td>5</td>\n      <td>7</td>\n      <td>8</td>\n      <td>3</td>\n      <td>Student Loan, Credit-Builder Loan, and Debt Co...</td>\n      <td>...</td>\n      <td>454.67</td>\n      <td>23.607892</td>\n      <td>26 Years and 9 Months</td>\n      <td>No</td>\n      <td>268.268012</td>\n      <td>NaN</td>\n      <td>Low_spent_Small_value_payments</td>\n      <td>242.92108023576716</td>\n      <td>Good</td>\n      <td>Senior</td>\n    </tr>\n    <tr>\n      <th>3</th>\n      <td>CUS_0x2543</td>\n      <td>34</td>\n      <td>Manager</td>\n      <td>22438.270</td>\n      <td>1856.855833</td>\n      <td>7</td>\n      <td>7</td>\n      <td>9</td>\n      <td>4</td>\n      <td>Mortgage Loan, Debt Consolidation Loan, Studen...</td>\n      <td>...</td>\n      <td>167.57</td>\n      <td>27.094189</td>\n      <td>NaN</td>\n      <td>No</td>\n      <td>58.436308</td>\n      <td>105.16564449441844</td>\n      <td>Low_spent_Large_value_payments</td>\n      <td>292.0836308808341</td>\n      <td>Standard</td>\n      <td>Adult</td>\n    </tr>\n    <tr>\n      <th>4</th>\n      <td>CUS_0x20dc</td>\n      <td>28</td>\n      <td>Media_Manager</td>\n      <td>20975.400</td>\n      <td>1943.950000</td>\n      <td>2</td>\n      <td>3</td>\n      <td>9</td>\n      <td>1</td>\n      <td>Auto Loan</td>\n      <td>...</td>\n      <td>731.4</td>\n      <td>26.205042</td>\n      <td>24 Years and 3 Months</td>\n      <td>NM</td>\n      <td>16.196792</td>\n      <td>67.15820105635807</td>\n      <td>High_spent_Medium_value_payments</td>\n      <td>361.0400067119549</td>\n      <td>Good</td>\n      <td>Young_Adult</td>\n    </tr>\n    <tr>\n      <th>...</th>\n      <td>...</td>\n      <td>...</td>\n      <td>...</td>\n      <td>...</td>\n      <td>...</td>\n      <td>...</td>\n      <td>...</td>\n      <td>...</td>\n      <td>...</td>\n      <td>...</td>\n      <td>...</td>\n      <td>...</td>\n      <td>...</td>\n      <td>...</td>\n      <td>...</td>\n      <td>...</td>\n      <td>...</td>\n      <td>...</td>\n      <td>...</td>\n      <td>...</td>\n      <td>...</td>\n    </tr>\n    <tr>\n      <th>79995</th>\n      <td>CUS_0x36f9</td>\n      <td>46</td>\n      <td>Developer</td>\n      <td>82065.160</td>\n      <td>6771.763333</td>\n      <td>5</td>\n      <td>5</td>\n      <td>3</td>\n      <td>3</td>\n      <td>Not Specified, Home Equity Loan, and Auto Loan</td>\n      <td>...</td>\n      <td>106.83</td>\n      <td>35.131041</td>\n      <td>23 Years and 0 Months</td>\n      <td>No</td>\n      <td>180.340607</td>\n      <td>439.84017944810165</td>\n      <td>High_spent_Small_value_payments</td>\n      <td>316.995547225631</td>\n      <td>Good</td>\n      <td>Senior</td>\n    </tr>\n    <tr>\n      <th>79996</th>\n      <td>CUS_0x70a3</td>\n      <td>20</td>\n      <td>Accountant</td>\n      <td>14920.970</td>\n      <td>1424.414167</td>\n      <td>6</td>\n      <td>10</td>\n      <td>16</td>\n      <td>2</td>\n      <td>Auto Loan, and Student Loan</td>\n      <td>...</td>\n      <td>1288.58</td>\n      <td>33.572279</td>\n      <td>13 Years and 5 Months</td>\n      <td>Yes</td>\n      <td>19.909512</td>\n      <td>110.08423954093125</td>\n      <td>Low_spent_Small_value_payments</td>\n      <td>302.44766467037635</td>\n      <td>Poor</td>\n      <td>Youth</td>\n    </tr>\n    <tr>\n      <th>79997</th>\n      <td>CUS_0x1cf3</td>\n      <td>38</td>\n      <td>Manager</td>\n      <td>66858.270</td>\n      <td>5770.522500</td>\n      <td>3</td>\n      <td>6</td>\n      <td>3990</td>\n      <td>4</td>\n      <td>Student Loan, Home Equity Loan, Payday Loan, a...</td>\n      <td>...</td>\n      <td>601.58</td>\n      <td>37.982933</td>\n      <td>28 Years and 1 Months</td>\n      <td>NM</td>\n      <td>175.015182</td>\n      <td>364.70705194223035</td>\n      <td>Low_spent_Medium_value_payments</td>\n      <td>317.3300163104016</td>\n      <td>Standard</td>\n      <td>Adult</td>\n    </tr>\n    <tr>\n      <th>79998</th>\n      <td>CUS_0x2c0d</td>\n      <td>55</td>\n      <td>Doctor</td>\n      <td>19403.405</td>\n      <td>1904.950417</td>\n      <td>1</td>\n      <td>7</td>\n      <td>3</td>\n      <td>3</td>\n      <td>Debt Consolidation Loan, Debt Consolidation Lo...</td>\n      <td>...</td>\n      <td>339.11</td>\n      <td>36.826610</td>\n      <td>16 Years and 8 Months</td>\n      <td>No</td>\n      <td>39.214914</td>\n      <td>169.85819735076564</td>\n      <td>Low_spent_Large_value_payments</td>\n      <td>251.4219298811392</td>\n      <td>Standard</td>\n      <td>Senior</td>\n    </tr>\n    <tr>\n      <th>79999</th>\n      <td>CUS_0x79d5</td>\n      <td>33</td>\n      <td>Architect</td>\n      <td>19171.680</td>\n      <td>NaN</td>\n      <td>10</td>\n      <td>10</td>\n      <td>34</td>\n      <td>9</td>\n      <td>Not Specified, Mortgage Loan, Auto Loan, Payda...</td>\n      <td>...</td>\n      <td>2092.74</td>\n      <td>37.579855</td>\n      <td>11 Years and 6 Months</td>\n      <td>NM</td>\n      <td>92.590913</td>\n      <td>52.613915154204705</td>\n      <td>Low_spent_Small_value_payments</td>\n      <td>286.15917179141763</td>\n      <td>Poor</td>\n      <td>Adult</td>\n    </tr>\n  </tbody>\n</table>\n<p>80000 rows × 25 columns</p>\n</div>"
     },
     "execution_count": 24,
     "metadata": {},
     "output_type": "execute_result"
    }
   ],
   "source": [
    "train_data[\"Num_Bank_Accounts\"] = train_data[\"Num_Bank_Accounts\"].astype(int)\n",
    "train_data[\"Num_Credit_Card\"] = train_data[\"Num_Credit_Card\"].astype(int)\n",
    "train_data[\"Interest_Rate\"] = train_data[\"Interest_Rate\"].astype(int)\n",
    "train_data"
   ],
   "metadata": {
    "collapsed": false,
    "ExecuteTime": {
     "end_time": "2024-04-06T21:37:42.144651200Z",
     "start_time": "2024-04-06T21:37:42.022652Z"
    }
   },
   "id": "9cb0049fef4d6575"
  },
  {
   "cell_type": "code",
   "execution_count": 25,
   "outputs": [],
   "source": [
    "def describe_data(data):\n",
    "    print(\"Data description:\")\n",
    "    for _, column_name in enumerate(data):\n",
    "        print(data[column_name].describe())\n",
    "        print(f\"Number of NaN values: {data[column_name].isna().sum()}\")\n",
    "        print(\"=====================================\")"
   ],
   "metadata": {
    "collapsed": false,
    "ExecuteTime": {
     "end_time": "2024-04-06T21:37:42.148648800Z",
     "start_time": "2024-04-06T21:37:42.132648200Z"
    }
   },
   "id": "d8feab5360b4c504"
  },
  {
   "cell_type": "code",
   "execution_count": 26,
   "outputs": [],
   "source": [
    "def correct_delayed_payments_number(row):\n",
    "    if pd.isna(row[\"Num_of_Delayed_Payment\"]):\n",
    "        return \"0\"\n",
    "    else:\n",
    "        return re.findall(r'-?\\d+', row[\"Num_of_Delayed_Payment\"])[0]\n",
    "\n",
    "train_data[\"Num_of_Delayed_Payment\"] = train_data.apply(correct_delayed_payments_number, axis=1)\n",
    "test_data[\"Num_of_Delayed_Payment\"] = test_data.apply(correct_delayed_payments_number, axis=1)"
   ],
   "metadata": {
    "collapsed": false,
    "ExecuteTime": {
     "end_time": "2024-04-06T21:37:43.372644400Z",
     "start_time": "2024-04-06T21:37:42.148648800Z"
    }
   },
   "id": "8ae2752ff15c7caa"
  },
  {
   "cell_type": "code",
   "execution_count": 27,
   "outputs": [],
   "source": [
    "train_data[\"Num_of_Delayed_Payment\"] = train_data[\"Num_of_Delayed_Payment\"].astype(int)\n",
    "test_data[\"Num_of_Delayed_Payment\"] = test_data[\"Num_of_Delayed_Payment\"].astype(int)"
   ],
   "metadata": {
    "collapsed": false,
    "ExecuteTime": {
     "end_time": "2024-04-06T21:37:43.412643800Z",
     "start_time": "2024-04-06T21:37:43.369651300Z"
    }
   },
   "id": "b3eaa68fbee0ba49"
  },
  {
   "cell_type": "code",
   "execution_count": 28,
   "outputs": [],
   "source": [
    "def correct_changed_credit_limit(row):\n",
    "    if row[\"Changed_Credit_Limit\"] == \"_\":\n",
    "        return \"0.0\"\n",
    "    else:\n",
    "        return re.findall(r'-?\\d+.\\d+', row[\"Changed_Credit_Limit\"])[0]\n",
    "\n",
    "train_data[\"Changed_Credit_Limit\"] = train_data.apply(correct_changed_credit_limit, axis=1)\n",
    "test_data[\"Changed_Credit_Limit\"] = test_data.apply(correct_changed_credit_limit, axis=1)"
   ],
   "metadata": {
    "collapsed": false,
    "ExecuteTime": {
     "end_time": "2024-04-06T21:37:44.565644700Z",
     "start_time": "2024-04-06T21:37:43.399646200Z"
    }
   },
   "id": "bdc06cdd2fb7c940"
  },
  {
   "cell_type": "code",
   "execution_count": 29,
   "outputs": [],
   "source": [
    "train_data[\"Changed_Credit_Limit\"] = train_data[\"Changed_Credit_Limit\"].astype(float)\n",
    "test_data[\"Changed_Credit_Limit\"] = test_data[\"Changed_Credit_Limit\"].astype(float)"
   ],
   "metadata": {
    "collapsed": false,
    "ExecuteTime": {
     "end_time": "2024-04-06T21:37:44.634643700Z",
     "start_time": "2024-04-06T21:37:44.555647800Z"
    }
   },
   "id": "c652d13064d73f50"
  },
  {
   "cell_type": "code",
   "execution_count": 30,
   "outputs": [],
   "source": [
    "train_data[\"Outstanding_Debt\"] = train_data.apply(lambda el: re.findall(r'\\d+.?\\d+', el[\"Outstanding_Debt\"])[0], axis=1)\n",
    "test_data[\"Outstanding_Debt\"] = test_data.apply(lambda el: re.findall(r'\\d+.?\\d+', el[\"Outstanding_Debt\"])[0], axis=1)"
   ],
   "metadata": {
    "collapsed": false,
    "ExecuteTime": {
     "end_time": "2024-04-06T21:37:45.500644700Z",
     "start_time": "2024-04-06T21:37:44.622655200Z"
    }
   },
   "id": "6330ef870520d0d4"
  },
  {
   "cell_type": "code",
   "execution_count": 31,
   "outputs": [],
   "source": [
    "train_data[\"Outstanding_Debt\"] = train_data[\"Outstanding_Debt\"].astype(float)\n",
    "test_data[\"Outstanding_Debt\"] = test_data[\"Outstanding_Debt\"].astype(float)"
   ],
   "metadata": {
    "collapsed": false,
    "ExecuteTime": {
     "end_time": "2024-04-06T21:37:45.549660400Z",
     "start_time": "2024-04-06T21:37:45.501646800Z"
    }
   },
   "id": "aeb1969b2b4b8179"
  },
  {
   "cell_type": "code",
   "source": [
    "def correct_credit_history_age(row):\n",
    "    if row[\"Credit_History_Age\"] == \"NA\":\n",
    "        return \"0.0\"\n",
    "    else:\n",
    "        print(row[\"Credit_History_Age\"])\n",
    "        try:\n",
    "            numbers = re.findall(r'\\d+', row[\"Credit_History_Age\"])\n",
    "            first_number = int(numbers[0])\n",
    "            second_number = int(numbers[1]) / 12\n",
    "            return first_number + second_number\n",
    "        except:\n",
    "            return \"0.0\"\n",
    "\n",
    "train_data[\"Credit_History_Age\"] = train_data.apply(correct_credit_history_age, axis=1)\n",
    "test_data[\"Credit_History_Age\"] = test_data.apply(correct_credit_history_age, axis=1)"
   ],
   "metadata": {
    "collapsed": false
   },
   "id": "be20ba40d4c5d027",
   "outputs": [],
   "execution_count": null
  },
  {
   "cell_type": "code",
   "execution_count": 33,
   "outputs": [],
   "source": [
    "train_data[\"Credit_History_Age\"] = train_data[\"Credit_History_Age\"].astype(float)\n",
    "test_data[\"Credit_History_Age\"] = test_data[\"Credit_History_Age\"].astype(float)"
   ],
   "metadata": {
    "collapsed": false,
    "ExecuteTime": {
     "end_time": "2024-04-06T21:37:47.669643Z",
     "start_time": "2024-04-06T21:37:47.553670700Z"
    }
   },
   "id": "32bb7feb096e8da1"
  },
  {
   "cell_type": "code",
   "execution_count": 34,
   "outputs": [],
   "source": [
    "def correct_amount_invested_monthly(row):\n",
    "    try:\n",
    "        numbers = re.findall(r'\\d+.?\\d+', row[\"Amount_invested_monthly\"])\n",
    "        return \".\".join(numbers)\n",
    "    except:\n",
    "        return \"0.0\"\n",
    "    \n",
    "train_data[\"Amount_invested_monthly\"] = train_data.apply(correct_amount_invested_monthly, axis=1)\n",
    "test_data[\"Amount_invested_monthly\"] = test_data.apply(correct_amount_invested_monthly, axis=1)"
   ],
   "metadata": {
    "collapsed": false,
    "ExecuteTime": {
     "end_time": "2024-04-06T21:37:48.508646600Z",
     "start_time": "2024-04-06T21:37:47.565646300Z"
    }
   },
   "id": "7bfc81aa710c5fa2"
  },
  {
   "cell_type": "code",
   "execution_count": 35,
   "outputs": [],
   "source": [
    "train_data[\"Amount_invested_monthly\"] = train_data[\"Amount_invested_monthly\"].astype(float)\n",
    "test_data[\"Amount_invested_monthly\"] = test_data[\"Amount_invested_monthly\"].astype(float)"
   ],
   "metadata": {
    "collapsed": false,
    "ExecuteTime": {
     "end_time": "2024-04-06T21:37:48.588656200Z",
     "start_time": "2024-04-06T21:37:48.508646600Z"
    }
   },
   "id": "a6dd7ebbc61f8b58"
  },
  {
   "cell_type": "code",
   "execution_count": 36,
   "outputs": [],
   "source": [
    "def correct_monthly_balance(row):\n",
    "    try:\n",
    "        numbers = re.findall(r'\\d+.?\\d+', row[\"Monthly_Balance\"])\n",
    "        return \".\".join(numbers)\n",
    "    except:\n",
    "        return \"0.0\"\n",
    "    \n",
    "train_data[\"Monthly_Balance\"] = train_data.apply(correct_monthly_balance, axis=1)\n",
    "test_data[\"Monthly_Balance\"] = test_data.apply(correct_monthly_balance, axis=1)\n",
    "\n",
    "train_data[\"Monthly_Balance\"] = train_data[\"Monthly_Balance\"].astype(float)\n",
    "test_data[\"Monthly_Balance\"] = test_data[\"Monthly_Balance\"].astype(float)"
   ],
   "metadata": {
    "collapsed": false,
    "ExecuteTime": {
     "end_time": "2024-04-06T21:37:49.524650800Z",
     "start_time": "2024-04-06T21:37:48.571646800Z"
    }
   },
   "id": "403e8cfd61d81842"
  },
  {
   "cell_type": "code",
   "execution_count": 37,
   "outputs": [
    {
     "name": "stdout",
     "output_type": "stream",
     "text": [
      "(80000, 24)\n"
     ]
    }
   ],
   "source": [
    "train_data.drop([\"Customer_ID\"], axis=1, inplace=True)\n",
    "test_data.drop([\"Customer_ID\"], axis=1, inplace=True)\n",
    "print(train_data.shape)"
   ],
   "metadata": {
    "collapsed": false,
    "ExecuteTime": {
     "end_time": "2024-04-06T21:37:49.618648300Z",
     "start_time": "2024-04-06T21:37:49.526649400Z"
    }
   },
   "id": "fc2de741ecccdf20"
  },
  {
   "cell_type": "code",
   "execution_count": 38,
   "outputs": [],
   "source": [
    "train_data.drop([\"Monthly_Inhand_Salary\"], axis=1, inplace=True)\n",
    "test_data.drop([\"Monthly_Inhand_Salary\"], axis=1, inplace=True)"
   ],
   "metadata": {
    "collapsed": false,
    "ExecuteTime": {
     "end_time": "2024-04-06T21:37:49.631645800Z",
     "start_time": "2024-04-06T21:37:49.560653Z"
    }
   },
   "id": "1dde8dff9d7a09a3"
  },
  {
   "cell_type": "code",
   "execution_count": 39,
   "outputs": [],
   "source": [
    "def draw_box_plots(data):\n",
    "    for column in data:\n",
    "        if data[column].dtype == \"int64\" or data[column].dtype == \"float64\":\n",
    "            sns.boxplot(data[column])\n",
    "            plt.title(column + \" boxplot\")\n",
    "            plt.ylabel(\"Values\")\n",
    "            plt.show()"
   ],
   "metadata": {
    "collapsed": false,
    "ExecuteTime": {
     "end_time": "2024-04-06T21:37:49.631645800Z",
     "start_time": "2024-04-06T21:37:49.596646500Z"
    }
   },
   "id": "884f6ed322394396"
  },
  {
   "cell_type": "code",
   "execution_count": 40,
   "outputs": [
    {
     "data": {
      "text/plain": "<Figure size 432x288 with 1 Axes>",
      "image/png": "[encoded data removed]"
     },
     "metadata": {
      "needs_background": "light"
     },
     "output_type": "display_data"
    },
    {
     "data": {
      "text/plain": "<Figure size 432x288 with 1 Axes>",
      "image/png": "[encoded data removed]"
     },
     "metadata": {
      "needs_background": "light"
     },
     "output_type": "display_data"
    },
    {
     "data": {
      "text/plain": "<Figure size 432x288 with 1 Axes>",
      "image/png": "[encoded data removed]"
     },
     "metadata": {
      "needs_background": "light"
     },
     "output_type": "display_data"
    },
    {
     "data": {
      "text/plain": "<Figure size 432x288 with 1 Axes>",
      "image/png": "[encoded data removed]"
     },
     "metadata": {
      "needs_background": "light"
     },
     "output_type": "display_data"
    },
    {
     "data": {
      "text/plain": "<Figure size 432x288 with 1 Axes>",
      "image/png": "[encoded data removed]"
     },
     "metadata": {
      "needs_background": "light"
     },
     "output_type": "display_data"
    },
    {
     "data": {
      "text/plain": "<Figure size 432x288 with 1 Axes>",
      "image/png": "[encoded data removed]"
     },
     "metadata": {
      "needs_background": "light"
     },
     "output_type": "display_data"
    },
    {
     "data": {
      "text/plain": "<Figure size 432x288 with 1 Axes>",
      "image/png": "[encoded data removed]"
     },
     "metadata": {
      "needs_background": "light"
     },
     "output_type": "display_data"
    },
    {
     "data": {
      "text/plain": "<Figure size 432x288 with 1 Axes>",
      "image/png": "[encoded data removed]"
     },
     "metadata": {
      "needs_background": "light"
     },
     "output_type": "display_data"
    },
    {
     "data": {
      "text/plain": "<Figure size 432x288 with 1 Axes>",
      "image/png": "[encoded data removed]"
     },
     "metadata": {
      "needs_background": "light"
     },
     "output_type": "display_data"
    },
    {
     "data": {
      "text/plain": "<Figure size 432x288 with 1 Axes>",
      "image/png": "[encoded data removed]"
     },
     "metadata": {
      "needs_background": "light"
     },
     "output_type": "display_data"
    }
   ],
   "source": [
    "draw_box_plots(train_data)"
   ],
   "metadata": {
    "collapsed": false,
    "ExecuteTime": {
     "end_time": "2024-04-06T21:37:51.147197900Z",
     "start_time": "2024-04-06T21:37:49.606645700Z"
    }
   },
   "id": "ed80290916832aee"
  },
  {
   "cell_type": "code",
   "execution_count": 41,
   "outputs": [
    {
     "data": {
      "text/plain": "<Figure size 432x288 with 1 Axes>",
      "image/png": "[encoded data removed]"
     },
     "metadata": {
      "needs_background": "light"
     },
     "output_type": "display_data"
    }
   ],
   "source": [
    "def plot_distributions(input_data):\n",
    "    for column in input_data.columns:\n",
    "        plt.figure(figsize=(15, 10))\n",
    "\n",
    "        if input_data[column].dtype == \"int64\" or input_data[column].dtype == \"float64\":\n",
    "            ax = sns.histplot(input_data[column], kde=True)\n",
    "            ax.set(xlabel=column, ylabel='Count')\n",
    "            plt.title(f\"Distribution of {column}\")\n",
    "            plt.show()\n",
    "        elif len(input_data[column].unique()) < 50:\n",
    "            ax = sns.barplot(x = input_data[column].value_counts().index, y = input_data[column].value_counts())\n",
    "            ax.set(xlabel=column, ylabel='Count')\n",
    "            ax.set_xticklabels(ax.get_xticklabels(), rotation=55)\n",
    "            plt.title(f\"Distribution of {column}\")\n",
    "            plt.show()\n",
    "        else:\n",
    "            ax = sns.barplot(x = input_data[column].value_counts().head(50).index, y = input_data[column].value_counts().head(50))\n",
    "            ax.set(xlabel=column, ylabel='Count')\n",
    "            ax.set_xticklabels(ax.get_xticklabels(), rotation=55)\n",
    "            plt.title(f\"Distribution of top 50 {column} values\")\n",
    "            plt.show()\n",
    "\n",
    "plt.hist(train_data['Total_EMI_per_month'], bins=20, edgecolor='black')\n",
    "plt.xlabel('Total EMI per month')\n",
    "plt.ylabel('Frequency')\n",
    "plt.title('Histogram of Total EMI per month')\n",
    "plt.show()"
   ],
   "metadata": {
    "collapsed": false,
    "ExecuteTime": {
     "end_time": "2024-04-06T21:37:51.415192300Z",
     "start_time": "2024-04-06T21:37:51.155191500Z"
    }
   },
   "id": "9e730030e078926b"
  },
  {
   "cell_type": "code",
   "execution_count": 42,
   "outputs": [
    {
     "data": {
      "text/plain": "count    80000.000000\nmean      1424.354367\nstd       8384.897755\nmin          0.000000\n25%         30.306460\n50%         69.292156\n75%        161.747685\nmax      82331.000000\nName: Total_EMI_per_month, dtype: float64"
     },
     "execution_count": 42,
     "metadata": {},
     "output_type": "execute_result"
    }
   ],
   "source": [
    "train_data[\"Total_EMI_per_month\"].describe()"
   ],
   "metadata": {
    "collapsed": false,
    "ExecuteTime": {
     "end_time": "2024-04-06T21:37:51.448197900Z",
     "start_time": "2024-04-06T21:37:51.403193100Z"
    }
   },
   "id": "e00219ce1dd22b9a"
  },
  {
   "cell_type": "code",
   "execution_count": 43,
   "outputs": [
    {
     "data": {
      "text/plain": "<Figure size 432x288 with 1 Axes>",
      "image/png": "[encoded data removed]"
     },
     "metadata": {
      "needs_background": "light"
     },
     "output_type": "display_data"
    }
   ],
   "source": [
    "plt.hist(train_data.where(train_data[\"Total_EMI_per_month\"] > 1000).dropna()[\"Total_EMI_per_month\"], bins=20, edgecolor='black')\n",
    "plt.xlabel('Total EMI per month')\n",
    "plt.ylabel('Frequency')\n",
    "plt.title('Histogram of Total EMI per month')\n",
    "plt.show()"
   ],
   "metadata": {
    "collapsed": false,
    "ExecuteTime": {
     "end_time": "2024-04-06T21:37:51.823197300Z",
     "start_time": "2024-04-06T21:37:51.422186600Z"
    }
   },
   "id": "fb308f46bb364dda"
  },
  {
   "cell_type": "code",
   "execution_count": 44,
   "outputs": [
    {
     "data": {
      "text/plain": "Credit_Score\nStandard    0.525761\nPoor        0.311371\nGood        0.162868\nName: proportion, dtype: float64"
     },
     "execution_count": 44,
     "metadata": {},
     "output_type": "execute_result"
    }
   ],
   "source": [
    "train_data.where(train_data[\"Total_EMI_per_month\"] < 2000).dropna()[\"Credit_Score\"].value_counts(normalize=True)"
   ],
   "metadata": {
    "collapsed": false,
    "ExecuteTime": {
     "end_time": "2024-04-06T21:37:51.918217Z",
     "start_time": "2024-04-06T21:37:51.815187800Z"
    }
   },
   "id": "1cc3d19d776e282b"
  },
  {
   "cell_type": "code",
   "execution_count": 45,
   "outputs": [
    {
     "data": {
      "text/plain": "Credit_Score\nStandard    0.532188\nPoor        0.289050\nGood        0.178762\nName: proportion, dtype: float64"
     },
     "execution_count": 45,
     "metadata": {},
     "output_type": "execute_result"
    }
   ],
   "source": [
    "train_data[\"Credit_Score\"].value_counts(normalize=True)"
   ],
   "metadata": {
    "collapsed": false,
    "ExecuteTime": {
     "end_time": "2024-04-06T21:37:51.996186100Z",
     "start_time": "2024-04-06T21:37:51.911200300Z"
    }
   },
   "id": "a3f8580589296a88"
  },
  {
   "cell_type": "code",
   "execution_count": 46,
   "outputs": [],
   "source": [
    "noisy_features = [\"Annual_Income\", \"Outstanding_Debt\", \"Amount_invested_monthly\", \"Monthly_Balance\", \"Total_EMI_per_month\"]\n",
    "\n",
    "train_data.drop(noisy_features, axis=1, inplace=True)\n",
    "test_data.drop(noisy_features, axis=1, inplace=True)"
   ],
   "metadata": {
    "collapsed": false,
    "ExecuteTime": {
     "end_time": "2024-04-06T21:37:52.048196800Z",
     "start_time": "2024-04-06T21:37:51.943189Z"
    }
   },
   "id": "6981ab5eb5553822"
  },
  {
   "cell_type": "code",
   "execution_count": 47,
   "outputs": [
    {
     "name": "stdout",
     "output_type": "stream",
     "text": [
      "Index(['Age', 'Num_Bank_Accounts', 'Num_Credit_Card', 'Interest_Rate',\n",
      "       'Num_of_Loan', 'Delay_from_due_date', 'Num_of_Delayed_Payment',\n",
      "       'Changed_Credit_Limit', 'Num_Credit_Inquiries',\n",
      "       'Credit_Utilization_Ratio', 'Credit_History_Age'],\n",
      "      dtype='object')\n",
      "(67182, 18)\n"
     ]
    }
   ],
   "source": [
    "def remove_outliers_iqr(data):\n",
    "    numeric_cols = data.select_dtypes(include=['number']).columns\n",
    "    print(numeric_cols)\n",
    "    \n",
    "    Q1 = data[numeric_cols].quantile(0.25)\n",
    "    Q3 = data[numeric_cols].quantile(0.75)\n",
    "    IQR = Q3 - Q1\n",
    "\n",
    "    outliers_mask = ((data[numeric_cols] < (Q1 - 1.5 * IQR)) | (data[numeric_cols] > (Q3 + 1.5 * IQR))).any(axis=1)\n",
    "\n",
    "    data = data[~outliers_mask]\n",
    "\n",
    "    return data\n",
    "\n",
    "train_data = remove_outliers_iqr(train_data)\n",
    "print(train_data.shape)"
   ],
   "metadata": {
    "collapsed": false,
    "ExecuteTime": {
     "end_time": "2024-04-06T21:37:52.107187100Z",
     "start_time": "2024-04-06T21:37:51.975190800Z"
    }
   },
   "id": "ac28ffda5dddef6a"
  },
  {
   "cell_type": "code",
   "execution_count": 48,
   "outputs": [
    {
     "name": "stderr",
     "output_type": "stream",
     "text": [
      "C:\\Users\\bred7\\AppData\\Local\\Temp\\ipykernel_856\\3295301688.py:1: SettingWithCopyWarning: \n",
      "A value is trying to be set on a copy of a slice from a DataFrame.\n",
      "Try using .loc[row_indexer,col_indexer] = value instead\n",
      "\n",
      "See the caveats in the documentation: https://pandas.pydata.org/pandas-docs/stable/user_guide/indexing.html#returning-a-view-versus-a-copy\n",
      "  train_data[\"Num_Bank_Accounts\"] = train_data[\"Num_Bank_Accounts\"].where(train_data[\"Num_Bank_Accounts\"] >= 0)\n"
     ]
    }
   ],
   "source": [
    "train_data[\"Num_Bank_Accounts\"] = train_data[\"Num_Bank_Accounts\"].where(train_data[\"Num_Bank_Accounts\"] >= 0)"
   ],
   "metadata": {
    "collapsed": false,
    "ExecuteTime": {
     "end_time": "2024-04-06T21:37:52.107187100Z",
     "start_time": "2024-04-06T21:37:52.053192500Z"
    }
   },
   "id": "958ab374d2500ffe"
  },
  {
   "cell_type": "code",
   "execution_count": 49,
   "outputs": [],
   "source": [
    "train_data = train_data.drop([\"Age\"], axis=1)\n",
    "test_data = test_data.drop([\"Age\"], axis=1)"
   ],
   "metadata": {
    "collapsed": false,
    "ExecuteTime": {
     "end_time": "2024-04-06T21:37:52.157458300Z",
     "start_time": "2024-04-06T21:37:52.070189200Z"
    }
   },
   "id": "832511ded84bb4ec"
  },
  {
   "cell_type": "code",
   "execution_count": 50,
   "outputs": [],
   "source": [
    "def create_dummies(df, column_name):\n",
    "    dummies = pd.get_dummies(df[column_name], prefix=column_name)\n",
    "    for i in dummies.columns:\n",
    "        df[i] = dummies[i]\n",
    "    return df\n",
    "\n",
    "train_data = create_dummies(train_data, \"Occupation\")\n",
    "test_data = create_dummies(test_data, \"Occupation\")"
   ],
   "metadata": {
    "collapsed": false,
    "ExecuteTime": {
     "end_time": "2024-04-06T21:37:52.220456200Z",
     "start_time": "2024-04-06T21:37:52.101204900Z"
    }
   },
   "id": "503320f8651d54aa"
  },
  {
   "cell_type": "code",
   "execution_count": 51,
   "outputs": [],
   "source": [
    "train_data = create_dummies(train_data, \"Age_categories\")\n",
    "test_data = create_dummies(test_data, \"Age_categories\")"
   ],
   "metadata": {
    "collapsed": false,
    "ExecuteTime": {
     "end_time": "2024-04-06T21:37:52.221452900Z",
     "start_time": "2024-04-06T21:37:52.131189200Z"
    }
   },
   "id": "befa725a3c621d48"
  },
  {
   "cell_type": "code",
   "execution_count": 52,
   "outputs": [],
   "source": [
    "train_data = train_data.drop([\"Occupation\", \"Age_categories\"], axis=1)\n",
    "test_data = test_data.drop([\"Occupation\", \"Age_categories\"], axis=1)"
   ],
   "metadata": {
    "collapsed": false,
    "ExecuteTime": {
     "end_time": "2024-04-06T21:37:52.249464300Z",
     "start_time": "2024-04-06T21:37:52.146459100Z"
    }
   },
   "id": "37660bde6c2d8895"
  },
  {
   "cell_type": "code",
   "execution_count": 53,
   "outputs": [
    {
     "name": "stdout",
     "output_type": "stream",
     "text": [
      "['Mortgage Loan', 'Personal Loan', 'Credit-Builder Loan', 'Home Equity Loan', 'Not Specified', 'Debt Consolidation Loan', 'Student Loan', 'Auto Loan', 'Payday Loan', 0]\n",
      "[0, 'Mortgage Loan', 'Personal Loan', 'Not Specified', 'Student Loan', 'Debt Consolidation Loan', 'Credit-Builder Loan', 'Home Equity Loan', 'Auto Loan', 'Payday Loan']\n"
     ]
    }
   ],
   "source": [
    "def extract_loan_info(row):\n",
    "    if pd.isna(row[\"Type_of_Loan\"]):\n",
    "        return np.nan\n",
    "    else:\n",
    "        answer = {}\n",
    "        all_person_loans = np.array(re.findall(r'[A-Z][a-z]+[-\\s]?[A-Z]*[a-z]*\\s[L]*[A-Za-z]*', row[\"Type_of_Loan\"]))\n",
    "        for loan in all_person_loans:\n",
    "            if loan not in answer:\n",
    "                answer[loan] = 1\n",
    "            else:\n",
    "                answer[loan] += 1\n",
    "        return answer\n",
    "\n",
    "\n",
    "def process_loan_data(data):\n",
    "    data[\"Taken_Loans\"] = data.apply(extract_loan_info, axis=1)\n",
    "    return data\n",
    "\n",
    "\n",
    "train_data = process_loan_data(train_data)\n",
    "test_data = process_loan_data(test_data)\n",
    "\n",
    "additional_columns : pd.DataFrame = train_data[\"Taken_Loans\"].apply(pd.Series).fillna(0).astype(int)\n",
    "print(list(additional_columns.keys()))\n",
    "train_data = pd.concat([train_data, additional_columns], axis=1)\n",
    "additional_columns : pd.DataFrame = test_data[\"Taken_Loans\"].apply(pd.Series).fillna(0).astype(int)\n",
    "print(list(additional_columns.keys()))\n",
    "test_data = pd.concat([test_data, additional_columns], axis=1)\n",
    "\n",
    "train_data.drop([\"Type_of_Loan\", \"Taken_Loans\"], axis=1, inplace=True)\n",
    "test_data.drop([\"Type_of_Loan\", \"Taken_Loans\"], axis=1, inplace=True)"
   ],
   "metadata": {
    "collapsed": false,
    "ExecuteTime": {
     "end_time": "2024-04-06T21:38:17.644725100Z",
     "start_time": "2024-04-06T21:37:52.183478300Z"
    }
   },
   "id": "8c3f48b1a7ca2cf0"
  },
  {
   "cell_type": "code",
   "execution_count": 54,
   "outputs": [],
   "source": [
    "train_data = create_dummies(train_data, \"Credit_Mix\")\n",
    "test_data = create_dummies(test_data, \"Credit_Mix\")\n",
    "train_data.drop([\"Credit_Mix\"], axis=1, inplace=True)\n",
    "test_data.drop([\"Credit_Mix\"], axis=1, inplace=True)"
   ],
   "metadata": {
    "collapsed": false,
    "ExecuteTime": {
     "end_time": "2024-04-06T21:38:17.693706500Z",
     "start_time": "2024-04-06T21:38:17.641720500Z"
    }
   },
   "id": "756062543c7b2852"
  },
  {
   "cell_type": "code",
   "execution_count": 55,
   "outputs": [],
   "source": [
    "train_data = create_dummies(train_data, \"Payment_of_Min_Amount\")\n",
    "test_data = create_dummies(test_data, \"Payment_of_Min_Amount\")\n",
    "train_data.drop([\"Payment_of_Min_Amount\"], axis=1, inplace=True)\n",
    "test_data.drop([\"Payment_of_Min_Amount\"], axis=1, inplace=True)"
   ],
   "metadata": {
    "collapsed": false,
    "ExecuteTime": {
     "end_time": "2024-04-06T21:38:17.716766700Z",
     "start_time": "2024-04-06T21:38:17.671727200Z"
    }
   },
   "id": "2390673c9fc53298"
  },
  {
   "cell_type": "code",
   "execution_count": 56,
   "outputs": [],
   "source": [
    "train_data = create_dummies(train_data, \"Payment_Behaviour\")\n",
    "test_data = create_dummies(test_data, \"Payment_Behaviour\")\n",
    "train_data.drop([\"Payment_Behaviour\"], axis=1, inplace=True)\n",
    "test_data.drop([\"Payment_Behaviour\"], axis=1, inplace=True)"
   ],
   "metadata": {
    "collapsed": false,
    "ExecuteTime": {
     "end_time": "2024-04-06T21:38:17.766767Z",
     "start_time": "2024-04-06T21:38:17.702702Z"
    }
   },
   "id": "68147ac902d0da9"
  },
  {
   "cell_type": "code",
   "execution_count": 57,
   "outputs": [
    {
     "data": {
      "text/plain": "       Num_Bank_Accounts  Num_Credit_Card  Interest_Rate  Num_of_Loan  \\\n0                    1.0                3              2            2   \n1                    5.0                1             10            4   \n2                    5.0                7              8            3   \n3                    7.0                7              9            4   \n4                    2.0                3              9            1   \n...                  ...              ...            ...          ...   \n79990                4.0                5             12            4   \n79994                2.0                5              7            0   \n79995                5.0                5              3            3   \n79998                1.0                7              3            3   \n79999               10.0               10             34            9   \n\n       Delay_from_due_date  Num_of_Delayed_Payment  Changed_Credit_Limit  \\\n0                       14                       6                  4.97   \n1                       12                      10                  6.24   \n2                       28                       8                  1.85   \n3                       16                      13                 11.24   \n4                        2                       9                  9.94   \n...                    ...                     ...                   ...   \n79990                    7                      11                  3.17   \n79994                   -2                      12                  5.16   \n79995                   12                       9                  5.55   \n79998                   12                       9                  3.90   \n79999                   41                      23                  7.50   \n\n       Num_Credit_Inquiries  Credit_Utilization_Ratio  Credit_History_Age  \\\n0                       4.0                 42.681159           24.750000   \n1                       0.0                 40.090839           28.916667   \n2                       4.0                 23.607892           26.750000   \n3                       3.0                 27.094189            0.000000   \n4                       1.0                 26.205042           24.250000   \n...                     ...                       ...                 ...   \n79990                   5.0                 32.072697           32.166667   \n79994                   0.0                 27.192416           20.333333   \n79995                   1.0                 35.131041           23.000000   \n79998                   2.0                 36.826610           16.666667   \n79999                  11.0                 37.579855           11.500000   \n\n       ... Payment_of_Min_Amount_NM  Payment_of_Min_Amount_No  \\\n0      ...                    False                      True   \n1      ...                    False                      True   \n2      ...                    False                      True   \n3      ...                    False                      True   \n4      ...                     True                     False   \n...    ...                      ...                       ...   \n79990  ...                     True                     False   \n79994  ...                    False                      True   \n79995  ...                    False                      True   \n79998  ...                    False                      True   \n79999  ...                     True                     False   \n\n       Payment_of_Min_Amount_Yes  Payment_Behaviour_!@9#%8  \\\n0                          False                     False   \n1                          False                     False   \n2                          False                     False   \n3                          False                     False   \n4                          False                     False   \n...                          ...                       ...   \n79990                      False                     False   \n79994                      False                     False   \n79995                      False                     False   \n79998                      False                     False   \n79999                      False                     False   \n\n       Payment_Behaviour_High_spent_Large_value_payments  \\\n0                                                  False   \n1                                                   True   \n2                                                  False   \n3                                                  False   \n4                                                  False   \n...                                                  ...   \n79990                                               True   \n79994                                              False   \n79995                                              False   \n79998                                              False   \n79999                                              False   \n\n       Payment_Behaviour_High_spent_Medium_value_payments  \\\n0                                                   True    \n1                                                  False    \n2                                                  False    \n3                                                  False    \n4                                                   True    \n...                                                  ...    \n79990                                              False    \n79994                                              False    \n79995                                              False    \n79998                                              False    \n79999                                              False    \n\n       Payment_Behaviour_High_spent_Small_value_payments  \\\n0                                                  False   \n1                                                  False   \n2                                                  False   \n3                                                  False   \n4                                                  False   \n...                                                  ...   \n79990                                              False   \n79994                                              False   \n79995                                               True   \n79998                                              False   \n79999                                              False   \n\n       Payment_Behaviour_Low_spent_Large_value_payments  \\\n0                                                 False   \n1                                                 False   \n2                                                 False   \n3                                                  True   \n4                                                 False   \n...                                                 ...   \n79990                                             False   \n79994                                             False   \n79995                                             False   \n79998                                              True   \n79999                                             False   \n\n       Payment_Behaviour_Low_spent_Medium_value_payments  \\\n0                                                  False   \n1                                                  False   \n2                                                  False   \n3                                                  False   \n4                                                  False   \n...                                                  ...   \n79990                                              False   \n79994                                              False   \n79995                                              False   \n79998                                              False   \n79999                                              False   \n\n       Payment_Behaviour_Low_spent_Small_value_payments  \n0                                                 False  \n1                                                 False  \n2                                                  True  \n3                                                 False  \n4                                                 False  \n...                                                 ...  \n79990                                             False  \n79994                                              True  \n79995                                             False  \n79998                                             False  \n79999                                              True  \n\n[65824 rows x 55 columns]",
      "text/html": "<div>\n<style scoped>\n    .dataframe tbody tr th:only-of-type {\n        vertical-align: middle;\n    }\n\n    .dataframe tbody tr th {\n        vertical-align: top;\n    }\n\n    .dataframe thead th {\n        text-align: right;\n    }\n</style>\n<table border=\"1\" class=\"dataframe\">\n  <thead>\n    <tr style=\"text-align: right;\">\n      <th></th>\n      <th>Num_Bank_Accounts</th>\n      <th>Num_Credit_Card</th>\n      <th>Interest_Rate</th>\n      <th>Num_of_Loan</th>\n      <th>Delay_from_due_date</th>\n      <th>Num_of_Delayed_Payment</th>\n      <th>Changed_Credit_Limit</th>\n      <th>Num_Credit_Inquiries</th>\n      <th>Credit_Utilization_Ratio</th>\n      <th>Credit_History_Age</th>\n      <th>...</th>\n      <th>Payment_of_Min_Amount_NM</th>\n      <th>Payment_of_Min_Amount_No</th>\n      <th>Payment_of_Min_Amount_Yes</th>\n      <th>Payment_Behaviour_!@9#%8</th>\n      <th>Payment_Behaviour_High_spent_Large_value_payments</th>\n      <th>Payment_Behaviour_High_spent_Medium_value_payments</th>\n      <th>Payment_Behaviour_High_spent_Small_value_payments</th>\n      <th>Payment_Behaviour_Low_spent_Large_value_payments</th>\n      <th>Payment_Behaviour_Low_spent_Medium_value_payments</th>\n      <th>Payment_Behaviour_Low_spent_Small_value_payments</th>\n    </tr>\n  </thead>\n  <tbody>\n    <tr>\n      <th>0</th>\n      <td>1.0</td>\n      <td>3</td>\n      <td>2</td>\n      <td>2</td>\n      <td>14</td>\n      <td>6</td>\n      <td>4.97</td>\n      <td>4.0</td>\n      <td>42.681159</td>\n      <td>24.750000</td>\n      <td>...</td>\n      <td>False</td>\n      <td>True</td>\n      <td>False</td>\n      <td>False</td>\n      <td>False</td>\n      <td>True</td>\n      <td>False</td>\n      <td>False</td>\n      <td>False</td>\n      <td>False</td>\n    </tr>\n    <tr>\n      <th>1</th>\n      <td>5.0</td>\n      <td>1</td>\n      <td>10</td>\n      <td>4</td>\n      <td>12</td>\n      <td>10</td>\n      <td>6.24</td>\n      <td>0.0</td>\n      <td>40.090839</td>\n      <td>28.916667</td>\n      <td>...</td>\n      <td>False</td>\n      <td>True</td>\n      <td>False</td>\n      <td>False</td>\n      <td>True</td>\n      <td>False</td>\n      <td>False</td>\n      <td>False</td>\n      <td>False</td>\n      <td>False</td>\n    </tr>\n    <tr>\n      <th>2</th>\n      <td>5.0</td>\n      <td>7</td>\n      <td>8</td>\n      <td>3</td>\n      <td>28</td>\n      <td>8</td>\n      <td>1.85</td>\n      <td>4.0</td>\n      <td>23.607892</td>\n      <td>26.750000</td>\n      <td>...</td>\n      <td>False</td>\n      <td>True</td>\n      <td>False</td>\n      <td>False</td>\n      <td>False</td>\n      <td>False</td>\n      <td>False</td>\n      <td>False</td>\n      <td>False</td>\n      <td>True</td>\n    </tr>\n    <tr>\n      <th>3</th>\n      <td>7.0</td>\n      <td>7</td>\n      <td>9</td>\n      <td>4</td>\n      <td>16</td>\n      <td>13</td>\n      <td>11.24</td>\n      <td>3.0</td>\n      <td>27.094189</td>\n      <td>0.000000</td>\n      <td>...</td>\n      <td>False</td>\n      <td>True</td>\n      <td>False</td>\n      <td>False</td>\n      <td>False</td>\n      <td>False</td>\n      <td>False</td>\n      <td>True</td>\n      <td>False</td>\n      <td>False</td>\n    </tr>\n    <tr>\n      <th>4</th>\n      <td>2.0</td>\n      <td>3</td>\n      <td>9</td>\n      <td>1</td>\n      <td>2</td>\n      <td>9</td>\n      <td>9.94</td>\n      <td>1.0</td>\n      <td>26.205042</td>\n      <td>24.250000</td>\n      <td>...</td>\n      <td>True</td>\n      <td>False</td>\n      <td>False</td>\n      <td>False</td>\n      <td>False</td>\n      <td>True</td>\n      <td>False</td>\n      <td>False</td>\n      <td>False</td>\n      <td>False</td>\n    </tr>\n    <tr>\n      <th>...</th>\n      <td>...</td>\n      <td>...</td>\n      <td>...</td>\n      <td>...</td>\n      <td>...</td>\n      <td>...</td>\n      <td>...</td>\n      <td>...</td>\n      <td>...</td>\n      <td>...</td>\n      <td>...</td>\n      <td>...</td>\n      <td>...</td>\n      <td>...</td>\n      <td>...</td>\n      <td>...</td>\n      <td>...</td>\n      <td>...</td>\n      <td>...</td>\n      <td>...</td>\n      <td>...</td>\n    </tr>\n    <tr>\n      <th>79990</th>\n      <td>4.0</td>\n      <td>5</td>\n      <td>12</td>\n      <td>4</td>\n      <td>7</td>\n      <td>11</td>\n      <td>3.17</td>\n      <td>5.0</td>\n      <td>32.072697</td>\n      <td>32.166667</td>\n      <td>...</td>\n      <td>True</td>\n      <td>False</td>\n      <td>False</td>\n      <td>False</td>\n      <td>True</td>\n      <td>False</td>\n      <td>False</td>\n      <td>False</td>\n      <td>False</td>\n      <td>False</td>\n    </tr>\n    <tr>\n      <th>79994</th>\n      <td>2.0</td>\n      <td>5</td>\n      <td>7</td>\n      <td>0</td>\n      <td>-2</td>\n      <td>12</td>\n      <td>5.16</td>\n      <td>0.0</td>\n      <td>27.192416</td>\n      <td>20.333333</td>\n      <td>...</td>\n      <td>False</td>\n      <td>True</td>\n      <td>False</td>\n      <td>False</td>\n      <td>False</td>\n      <td>False</td>\n      <td>False</td>\n      <td>False</td>\n      <td>False</td>\n      <td>True</td>\n    </tr>\n    <tr>\n      <th>79995</th>\n      <td>5.0</td>\n      <td>5</td>\n      <td>3</td>\n      <td>3</td>\n      <td>12</td>\n      <td>9</td>\n      <td>5.55</td>\n      <td>1.0</td>\n      <td>35.131041</td>\n      <td>23.000000</td>\n      <td>...</td>\n      <td>False</td>\n      <td>True</td>\n      <td>False</td>\n      <td>False</td>\n      <td>False</td>\n      <td>False</td>\n      <td>True</td>\n      <td>False</td>\n      <td>False</td>\n      <td>False</td>\n    </tr>\n    <tr>\n      <th>79998</th>\n      <td>1.0</td>\n      <td>7</td>\n      <td>3</td>\n      <td>3</td>\n      <td>12</td>\n      <td>9</td>\n      <td>3.90</td>\n      <td>2.0</td>\n      <td>36.826610</td>\n      <td>16.666667</td>\n      <td>...</td>\n      <td>False</td>\n      <td>True</td>\n      <td>False</td>\n      <td>False</td>\n      <td>False</td>\n      <td>False</td>\n      <td>False</td>\n      <td>True</td>\n      <td>False</td>\n      <td>False</td>\n    </tr>\n    <tr>\n      <th>79999</th>\n      <td>10.0</td>\n      <td>10</td>\n      <td>34</td>\n      <td>9</td>\n      <td>41</td>\n      <td>23</td>\n      <td>7.50</td>\n      <td>11.0</td>\n      <td>37.579855</td>\n      <td>11.500000</td>\n      <td>...</td>\n      <td>True</td>\n      <td>False</td>\n      <td>False</td>\n      <td>False</td>\n      <td>False</td>\n      <td>False</td>\n      <td>False</td>\n      <td>False</td>\n      <td>False</td>\n      <td>True</td>\n    </tr>\n  </tbody>\n</table>\n<p>65824 rows × 55 columns</p>\n</div>"
     },
     "execution_count": 57,
     "metadata": {},
     "output_type": "execute_result"
    }
   ],
   "source": [
    "train_data.drop([0], axis=1, inplace=True)\n",
    "test_data.drop([0], axis=1, inplace=True)\n",
    "\n",
    "train_data = train_data.dropna()\n",
    "train_data"
   ],
   "metadata": {
    "collapsed": false,
    "ExecuteTime": {
     "end_time": "2024-04-06T21:38:17.843759200Z",
     "start_time": "2024-04-06T21:38:17.749757700Z"
    }
   },
   "id": "e48e6c24ae2122ac"
  },
  {
   "cell_type": "code",
   "execution_count": 58,
   "outputs": [
    {
     "data": {
      "text/plain": "       Num_Bank_Accounts  Num_Credit_Card  Interest_Rate  Num_of_Loan  \\\n0                      1                5             10            0   \n1                      8                7             18            6   \n2                      5                2             11            2   \n3                      6                6             32            2   \n4                      1                2             12            4   \n...                  ...              ...            ...          ...   \n19995                  8                7              8            5   \n19996                  7                3              9            4   \n19997                  4                3             14            5   \n19998                  6                4             14            3   \n19999                  6                9             16            4   \n\n       Delay_from_due_date  Num_of_Delayed_Payment  Changed_Credit_Limit  \\\n0                        9                       6                 10.72   \n1                       18                      17                 21.91   \n2                        3                       0                  3.82   \n3                       15                      13                 10.40   \n4                        1                       0                  9.74   \n...                    ...                     ...                   ...   \n19995                   12                      15                 16.11   \n19996                    8                      14                  7.68   \n19997                   13                      20                 12.30   \n19998                    4                      10                  7.14   \n19999                   15                      11                  5.58   \n\n       Num_Credit_Inquiries  Credit_Utilization_Ratio  Credit_History_Age  \\\n0                       0.0                 29.112468           23.666667   \n1                       9.0                 39.849732            0.000000   \n2                     645.0                 21.542892           15.916667   \n3                      11.0                 32.423759           19.333333   \n4                       4.0                 39.543131           20.750000   \n...                     ...                       ...                 ...   \n19995                   6.0                 34.099913           12.416667   \n19996                   5.0                 38.868023           14.166667   \n19997                  10.0                 34.074416            0.000000   \n19998                   0.0                 28.452911           21.000000   \n19999                  12.0                 28.336654           11.916667   \n\n       ... Payment_of_Min_Amount_NM  Payment_of_Min_Amount_No  \\\n0      ...                    False                      True   \n1      ...                    False                     False   \n2      ...                    False                      True   \n3      ...                    False                     False   \n4      ...                    False                      True   \n...    ...                      ...                       ...   \n19995  ...                    False                     False   \n19996  ...                    False                     False   \n19997  ...                    False                     False   \n19998  ...                    False                      True   \n19999  ...                    False                     False   \n\n       Payment_of_Min_Amount_Yes  Payment_Behaviour_!@9#%8  \\\n0                          False                     False   \n1                           True                     False   \n2                          False                     False   \n3                           True                     False   \n4                          False                     False   \n...                          ...                       ...   \n19995                       True                     False   \n19996                       True                     False   \n19997                       True                     False   \n19998                      False                     False   \n19999                       True                     False   \n\n       Payment_Behaviour_High_spent_Large_value_payments  \\\n0                                                   True   \n1                                                  False   \n2                                                  False   \n3                                                  False   \n4                                                  False   \n...                                                  ...   \n19995                                              False   \n19996                                              False   \n19997                                              False   \n19998                                              False   \n19999                                              False   \n\n       Payment_Behaviour_High_spent_Medium_value_payments  \\\n0                                                  False    \n1                                                  False    \n2                                                  False    \n3                                                  False    \n4                                                   True    \n...                                                  ...    \n19995                                              False    \n19996                                               True    \n19997                                              False    \n19998                                              False    \n19999                                              False    \n\n       Payment_Behaviour_High_spent_Small_value_payments  \\\n0                                                  False   \n1                                                  False   \n2                                                  False   \n3                                                  False   \n4                                                  False   \n...                                                  ...   \n19995                                              False   \n19996                                              False   \n19997                                              False   \n19998                                              False   \n19999                                              False   \n\n       Payment_Behaviour_Low_spent_Large_value_payments  \\\n0                                                 False   \n1                                                 False   \n2                                                 False   \n3                                                 False   \n4                                                 False   \n...                                                 ...   \n19995                                              True   \n19996                                             False   \n19997                                             False   \n19998                                             False   \n19999                                             False   \n\n       Payment_Behaviour_Low_spent_Medium_value_payments  \\\n0                                                  False   \n1                                                  False   \n2                                                  False   \n3                                                  False   \n4                                                  False   \n...                                                  ...   \n19995                                              False   \n19996                                              False   \n19997                                              False   \n19998                                              False   \n19999                                              False   \n\n       Payment_Behaviour_Low_spent_Small_value_payments  \n0                                                 False  \n1                                                  True  \n2                                                  True  \n3                                                  True  \n4                                                 False  \n...                                                 ...  \n19995                                             False  \n19996                                             False  \n19997                                              True  \n19998                                              True  \n19999                                              True  \n\n[20000 rows x 55 columns]",
      "text/html": "<div>\n<style scoped>\n    .dataframe tbody tr th:only-of-type {\n        vertical-align: middle;\n    }\n\n    .dataframe tbody tr th {\n        vertical-align: top;\n    }\n\n    .dataframe thead th {\n        text-align: right;\n    }\n</style>\n<table border=\"1\" class=\"dataframe\">\n  <thead>\n    <tr style=\"text-align: right;\">\n      <th></th>\n      <th>Num_Bank_Accounts</th>\n      <th>Num_Credit_Card</th>\n      <th>Interest_Rate</th>\n      <th>Num_of_Loan</th>\n      <th>Delay_from_due_date</th>\n      <th>Num_of_Delayed_Payment</th>\n      <th>Changed_Credit_Limit</th>\n      <th>Num_Credit_Inquiries</th>\n      <th>Credit_Utilization_Ratio</th>\n      <th>Credit_History_Age</th>\n      <th>...</th>\n      <th>Payment_of_Min_Amount_NM</th>\n      <th>Payment_of_Min_Amount_No</th>\n      <th>Payment_of_Min_Amount_Yes</th>\n      <th>Payment_Behaviour_!@9#%8</th>\n      <th>Payment_Behaviour_High_spent_Large_value_payments</th>\n      <th>Payment_Behaviour_High_spent_Medium_value_payments</th>\n      <th>Payment_Behaviour_High_spent_Small_value_payments</th>\n      <th>Payment_Behaviour_Low_spent_Large_value_payments</th>\n      <th>Payment_Behaviour_Low_spent_Medium_value_payments</th>\n      <th>Payment_Behaviour_Low_spent_Small_value_payments</th>\n    </tr>\n  </thead>\n  <tbody>\n    <tr>\n      <th>0</th>\n      <td>1</td>\n      <td>5</td>\n      <td>10</td>\n      <td>0</td>\n      <td>9</td>\n      <td>6</td>\n      <td>10.72</td>\n      <td>0.0</td>\n      <td>29.112468</td>\n      <td>23.666667</td>\n      <td>...</td>\n      <td>False</td>\n      <td>True</td>\n      <td>False</td>\n      <td>False</td>\n      <td>True</td>\n      <td>False</td>\n      <td>False</td>\n      <td>False</td>\n      <td>False</td>\n      <td>False</td>\n    </tr>\n    <tr>\n      <th>1</th>\n      <td>8</td>\n      <td>7</td>\n      <td>18</td>\n      <td>6</td>\n      <td>18</td>\n      <td>17</td>\n      <td>21.91</td>\n      <td>9.0</td>\n      <td>39.849732</td>\n      <td>0.000000</td>\n      <td>...</td>\n      <td>False</td>\n      <td>False</td>\n      <td>True</td>\n      <td>False</td>\n      <td>False</td>\n      <td>False</td>\n      <td>False</td>\n      <td>False</td>\n      <td>False</td>\n      <td>True</td>\n    </tr>\n    <tr>\n      <th>2</th>\n      <td>5</td>\n      <td>2</td>\n      <td>11</td>\n      <td>2</td>\n      <td>3</td>\n      <td>0</td>\n      <td>3.82</td>\n      <td>645.0</td>\n      <td>21.542892</td>\n      <td>15.916667</td>\n      <td>...</td>\n      <td>False</td>\n      <td>True</td>\n      <td>False</td>\n      <td>False</td>\n      <td>False</td>\n      <td>False</td>\n      <td>False</td>\n      <td>False</td>\n      <td>False</td>\n      <td>True</td>\n    </tr>\n    <tr>\n      <th>3</th>\n      <td>6</td>\n      <td>6</td>\n      <td>32</td>\n      <td>2</td>\n      <td>15</td>\n      <td>13</td>\n      <td>10.40</td>\n      <td>11.0</td>\n      <td>32.423759</td>\n      <td>19.333333</td>\n      <td>...</td>\n      <td>False</td>\n      <td>False</td>\n      <td>True</td>\n      <td>False</td>\n      <td>False</td>\n      <td>False</td>\n      <td>False</td>\n      <td>False</td>\n      <td>False</td>\n      <td>True</td>\n    </tr>\n    <tr>\n      <th>4</th>\n      <td>1</td>\n      <td>2</td>\n      <td>12</td>\n      <td>4</td>\n      <td>1</td>\n      <td>0</td>\n      <td>9.74</td>\n      <td>4.0</td>\n      <td>39.543131</td>\n      <td>20.750000</td>\n      <td>...</td>\n      <td>False</td>\n      <td>True</td>\n      <td>False</td>\n      <td>False</td>\n      <td>False</td>\n      <td>True</td>\n      <td>False</td>\n      <td>False</td>\n      <td>False</td>\n      <td>False</td>\n    </tr>\n    <tr>\n      <th>...</th>\n      <td>...</td>\n      <td>...</td>\n      <td>...</td>\n      <td>...</td>\n      <td>...</td>\n      <td>...</td>\n      <td>...</td>\n      <td>...</td>\n      <td>...</td>\n      <td>...</td>\n      <td>...</td>\n      <td>...</td>\n      <td>...</td>\n      <td>...</td>\n      <td>...</td>\n      <td>...</td>\n      <td>...</td>\n      <td>...</td>\n      <td>...</td>\n      <td>...</td>\n      <td>...</td>\n    </tr>\n    <tr>\n      <th>19995</th>\n      <td>8</td>\n      <td>7</td>\n      <td>8</td>\n      <td>5</td>\n      <td>12</td>\n      <td>15</td>\n      <td>16.11</td>\n      <td>6.0</td>\n      <td>34.099913</td>\n      <td>12.416667</td>\n      <td>...</td>\n      <td>False</td>\n      <td>False</td>\n      <td>True</td>\n      <td>False</td>\n      <td>False</td>\n      <td>False</td>\n      <td>False</td>\n      <td>True</td>\n      <td>False</td>\n      <td>False</td>\n    </tr>\n    <tr>\n      <th>19996</th>\n      <td>7</td>\n      <td>3</td>\n      <td>9</td>\n      <td>4</td>\n      <td>8</td>\n      <td>14</td>\n      <td>7.68</td>\n      <td>5.0</td>\n      <td>38.868023</td>\n      <td>14.166667</td>\n      <td>...</td>\n      <td>False</td>\n      <td>False</td>\n      <td>True</td>\n      <td>False</td>\n      <td>False</td>\n      <td>True</td>\n      <td>False</td>\n      <td>False</td>\n      <td>False</td>\n      <td>False</td>\n    </tr>\n    <tr>\n      <th>19997</th>\n      <td>4</td>\n      <td>3</td>\n      <td>14</td>\n      <td>5</td>\n      <td>13</td>\n      <td>20</td>\n      <td>12.30</td>\n      <td>10.0</td>\n      <td>34.074416</td>\n      <td>0.000000</td>\n      <td>...</td>\n      <td>False</td>\n      <td>False</td>\n      <td>True</td>\n      <td>False</td>\n      <td>False</td>\n      <td>False</td>\n      <td>False</td>\n      <td>False</td>\n      <td>False</td>\n      <td>True</td>\n    </tr>\n    <tr>\n      <th>19998</th>\n      <td>6</td>\n      <td>4</td>\n      <td>14</td>\n      <td>3</td>\n      <td>4</td>\n      <td>10</td>\n      <td>7.14</td>\n      <td>0.0</td>\n      <td>28.452911</td>\n      <td>21.000000</td>\n      <td>...</td>\n      <td>False</td>\n      <td>True</td>\n      <td>False</td>\n      <td>False</td>\n      <td>False</td>\n      <td>False</td>\n      <td>False</td>\n      <td>False</td>\n      <td>False</td>\n      <td>True</td>\n    </tr>\n    <tr>\n      <th>19999</th>\n      <td>6</td>\n      <td>9</td>\n      <td>16</td>\n      <td>4</td>\n      <td>15</td>\n      <td>11</td>\n      <td>5.58</td>\n      <td>12.0</td>\n      <td>28.336654</td>\n      <td>11.916667</td>\n      <td>...</td>\n      <td>False</td>\n      <td>False</td>\n      <td>True</td>\n      <td>False</td>\n      <td>False</td>\n      <td>False</td>\n      <td>False</td>\n      <td>False</td>\n      <td>False</td>\n      <td>True</td>\n    </tr>\n  </tbody>\n</table>\n<p>20000 rows × 55 columns</p>\n</div>"
     },
     "execution_count": 58,
     "metadata": {},
     "output_type": "execute_result"
    }
   ],
   "source": [
    "test_data"
   ],
   "metadata": {
    "collapsed": false,
    "ExecuteTime": {
     "end_time": "2024-04-06T21:38:17.865771200Z",
     "start_time": "2024-04-06T21:38:17.828760900Z"
    }
   },
   "id": "b0ae135747d5a5d9"
  },
  {
   "cell_type": "code",
   "execution_count": 59,
   "outputs": [],
   "source": [
    "train_data.to_csv(\"data/train_data_preprocessed.csv\", index=False)\n",
    "test_data.to_csv(\"data/test_data_preprocessed.csv\", index=False)"
   ],
   "metadata": {
    "collapsed": false,
    "ExecuteTime": {
     "end_time": "2024-04-06T21:38:19.444283200Z",
     "start_time": "2024-04-06T21:38:17.861774700Z"
    }
   },
   "id": "f0525d14a591a98"
  }
 ],
 "metadata": {
  "kernelspec": {
   "display_name": "Python 3",
   "language": "python",
   "name": "python3"
  },
  "language_info": {
   "codemirror_mode": {
    "name": "ipython",
    "version": 2
   },
   "file_extension": ".py",
   "mimetype": "text/x-python",
   "name": "python",
   "nbconvert_exporter": "python",
   "pygments_lexer": "ipython2",
   "version": "2.7.6"
  }
 },
 "nbformat": 4,
 "nbformat_minor": 5
}
