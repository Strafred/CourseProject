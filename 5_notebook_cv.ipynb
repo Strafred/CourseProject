{
 "cells": [
  {
   "cell_type": "code",
   "execution_count": 1,
   "id": "initial_id",
   "metadata": {
    "collapsed": true,
    "ExecuteTime": {
     "end_time": "2024-04-06T23:16:20.484516500Z",
     "start_time": "2024-04-06T23:16:19.963519400Z"
    }
   },
   "outputs": [
    {
     "name": "stderr",
     "output_type": "stream",
     "text": [
      "C:\\Users\\bred7\\anaconda3\\envs\\veindata\\lib\\site-packages\\pandas\\core\\arrays\\masked.py:60: UserWarning: Pandas requires version '1.3.6' or newer of 'bottleneck' (version '1.3.5' currently installed).\n",
      "  from pandas.core import (\n"
     ]
    }
   ],
   "source": [
    "import pandas as pd"
   ]
  },
  {
   "cell_type": "code",
   "execution_count": 2,
   "outputs": [
    {
     "data": {
      "text/plain": "Credit_Score\nStandard    0.333333\nPoor        0.333333\nGood        0.333333\nName: proportion, dtype: float64"
     },
     "execution_count": 2,
     "metadata": {},
     "output_type": "execute_result"
    }
   ],
   "source": [
    "train = pd.read_csv('data/train_data_features_selected_upsampled.csv')\n",
    "test = pd.read_csv('data/test_data_features_selected.csv')\n",
    "\n",
    "train[\"Credit_Score\"].value_counts(normalize=True)"
   ],
   "metadata": {
    "collapsed": false,
    "ExecuteTime": {
     "end_time": "2024-04-06T23:16:21.021518Z",
     "start_time": "2024-04-06T23:16:20.478520900Z"
    }
   },
   "id": "db2fb69840faaa38"
  },
  {
   "cell_type": "code",
   "execution_count": 3,
   "outputs": [
    {
     "data": {
      "text/plain": "Credit_Score\nStandard    0.52995\nPoor        0.29370\nGood        0.17635\nName: proportion, dtype: float64"
     },
     "execution_count": 3,
     "metadata": {},
     "output_type": "execute_result"
    }
   ],
   "source": [
    "test[\"Credit_Score\"].value_counts(normalize=True)"
   ],
   "metadata": {
    "collapsed": false,
    "ExecuteTime": {
     "end_time": "2024-04-06T23:16:21.060518700Z",
     "start_time": "2024-04-06T23:16:21.022522300Z"
    }
   },
   "id": "be41cf8e10e1dffe"
  },
  {
   "cell_type": "code",
   "execution_count": 4,
   "outputs": [],
   "source": [
    "train_y = train[\"Credit_Score\"]\n",
    "train_x = train.drop([\"Credit_Score\"], axis=1)\n",
    "\n",
    "test_y = test[\"Credit_Score\"]\n",
    "test_x = test.drop([\"Credit_Score\"], axis=1)"
   ],
   "metadata": {
    "collapsed": false,
    "ExecuteTime": {
     "end_time": "2024-04-06T23:16:21.063520100Z",
     "start_time": "2024-04-06T23:16:21.035540300Z"
    }
   },
   "id": "98617f5ae72afc5c"
  },
  {
   "cell_type": "code",
   "execution_count": 5,
   "outputs": [
    {
     "data": {
      "text/plain": "        Num_Bank_Accounts  Num_Credit_Card  Interest_Rate  Num_of_Loan  \\\n0                     1.0                3              2            2   \n1                     7.0                7              9            4   \n2                     5.0                4             18            3   \n3                     8.0                7             24            8   \n4                     5.0                3             18            1   \n...                   ...              ...            ...          ...   \n106684                5.0                2              7            3   \n106685                4.0                1              1            2   \n106686                8.0                7             15            3   \n106687                3.0                1              4            4   \n106688                5.0                3             10            4   \n\n        Delay_from_due_date  Num_of_Delayed_Payment  Changed_Credit_Limit  \\\n0                        14                       6                  4.97   \n1                        16                      13                 11.24   \n2                        24                      12                 18.76   \n3                        45                      23                 16.28   \n4                        14                       8                  3.56   \n...                     ...                     ...                   ...   \n106684                   12                      12                  7.64   \n106685                    3                      13                 11.41   \n106686                   24                      16                 16.68   \n106687                    5                      11                 12.78   \n106688                   23                      18                 19.82   \n\n        Num_Credit_Inquiries  Credit_History_Age  Occupation_Accountant  ...  \\\n0                        4.0           24.750000                  False  ...   \n1                        3.0            0.000000                  False  ...   \n2                        8.0           24.083333                  False  ...   \n3                       12.0            6.500000                  False  ...   \n4                        5.0           29.333333                  False  ...   \n...                      ...                 ...                    ...  ...   \n106684                   5.0           25.583333                  False  ...   \n106685                   3.0            0.000000                  False  ...   \n106686                   9.0           26.833333                  False  ...   \n106687                   0.0           26.750000                  False  ...   \n106688                   5.0           10.333333                  False  ...   \n\n        Payment_of_Min_Amount_NM  Payment_of_Min_Amount_No  \\\n0                          False                      True   \n1                          False                      True   \n2                          False                     False   \n3                          False                     False   \n4                          False                      True   \n...                          ...                       ...   \n106684                     False                      True   \n106685                     False                      True   \n106686                     False                     False   \n106687                     False                      True   \n106688                     False                     False   \n\n        Payment_of_Min_Amount_Yes  Payment_Behaviour_!@9#%8  \\\n0                           False                     False   \n1                           False                     False   \n2                            True                      True   \n3                            True                      True   \n4                           False                     False   \n...                           ...                       ...   \n106684                      False                     False   \n106685                      False                     False   \n106686                       True                      True   \n106687                      False                     False   \n106688                       True                     False   \n\n        Payment_Behaviour_High_spent_Large_value_payments  \\\n0                                                   False   \n1                                                   False   \n2                                                   False   \n3                                                   False   \n4                                                   False   \n...                                                   ...   \n106684                                              False   \n106685                                              False   \n106686                                              False   \n106687                                              False   \n106688                                              False   \n\n        Payment_Behaviour_High_spent_Medium_value_payments  \\\n0                                                    True    \n1                                                   False    \n2                                                   False    \n3                                                   False    \n4                                                    True    \n...                                                   ...    \n106684                                               True    \n106685                                               True    \n106686                                              False    \n106687                                              False    \n106688                                              False    \n\n        Payment_Behaviour_High_spent_Small_value_payments  \\\n0                                                   False   \n1                                                   False   \n2                                                   False   \n3                                                   False   \n4                                                   False   \n...                                                   ...   \n106684                                              False   \n106685                                              False   \n106686                                              False   \n106687                                              False   \n106688                                               True   \n\n        Payment_Behaviour_Low_spent_Large_value_payments  \\\n0                                                  False   \n1                                                   True   \n2                                                  False   \n3                                                  False   \n4                                                  False   \n...                                                  ...   \n106684                                             False   \n106685                                             False   \n106686                                             False   \n106687                                             False   \n106688                                             False   \n\n        Payment_Behaviour_Low_spent_Medium_value_payments  \\\n0                                                   False   \n1                                                   False   \n2                                                   False   \n3                                                   False   \n4                                                   False   \n...                                                   ...   \n106684                                              False   \n106685                                              False   \n106686                                              False   \n106687                                              False   \n106688                                              False   \n\n        Payment_Behaviour_Low_spent_Small_value_payments  \n0                                                  False  \n1                                                  False  \n2                                                  False  \n3                                                  False  \n4                                                  False  \n...                                                  ...  \n106684                                             False  \n106685                                             False  \n106686                                             False  \n106687                                              True  \n106688                                             False  \n\n[106689 rows x 52 columns]",
      "text/html": "<div>\n<style scoped>\n    .dataframe tbody tr th:only-of-type {\n        vertical-align: middle;\n    }\n\n    .dataframe tbody tr th {\n        vertical-align: top;\n    }\n\n    .dataframe thead th {\n        text-align: right;\n    }\n</style>\n<table border=\"1\" class=\"dataframe\">\n  <thead>\n    <tr style=\"text-align: right;\">\n      <th></th>\n      <th>Num_Bank_Accounts</th>\n      <th>Num_Credit_Card</th>\n      <th>Interest_Rate</th>\n      <th>Num_of_Loan</th>\n      <th>Delay_from_due_date</th>\n      <th>Num_of_Delayed_Payment</th>\n      <th>Changed_Credit_Limit</th>\n      <th>Num_Credit_Inquiries</th>\n      <th>Credit_History_Age</th>\n      <th>Occupation_Accountant</th>\n      <th>...</th>\n      <th>Payment_of_Min_Amount_NM</th>\n      <th>Payment_of_Min_Amount_No</th>\n      <th>Payment_of_Min_Amount_Yes</th>\n      <th>Payment_Behaviour_!@9#%8</th>\n      <th>Payment_Behaviour_High_spent_Large_value_payments</th>\n      <th>Payment_Behaviour_High_spent_Medium_value_payments</th>\n      <th>Payment_Behaviour_High_spent_Small_value_payments</th>\n      <th>Payment_Behaviour_Low_spent_Large_value_payments</th>\n      <th>Payment_Behaviour_Low_spent_Medium_value_payments</th>\n      <th>Payment_Behaviour_Low_spent_Small_value_payments</th>\n    </tr>\n  </thead>\n  <tbody>\n    <tr>\n      <th>0</th>\n      <td>1.0</td>\n      <td>3</td>\n      <td>2</td>\n      <td>2</td>\n      <td>14</td>\n      <td>6</td>\n      <td>4.97</td>\n      <td>4.0</td>\n      <td>24.750000</td>\n      <td>False</td>\n      <td>...</td>\n      <td>False</td>\n      <td>True</td>\n      <td>False</td>\n      <td>False</td>\n      <td>False</td>\n      <td>True</td>\n      <td>False</td>\n      <td>False</td>\n      <td>False</td>\n      <td>False</td>\n    </tr>\n    <tr>\n      <th>1</th>\n      <td>7.0</td>\n      <td>7</td>\n      <td>9</td>\n      <td>4</td>\n      <td>16</td>\n      <td>13</td>\n      <td>11.24</td>\n      <td>3.0</td>\n      <td>0.000000</td>\n      <td>False</td>\n      <td>...</td>\n      <td>False</td>\n      <td>True</td>\n      <td>False</td>\n      <td>False</td>\n      <td>False</td>\n      <td>False</td>\n      <td>False</td>\n      <td>True</td>\n      <td>False</td>\n      <td>False</td>\n    </tr>\n    <tr>\n      <th>2</th>\n      <td>5.0</td>\n      <td>4</td>\n      <td>18</td>\n      <td>3</td>\n      <td>24</td>\n      <td>12</td>\n      <td>18.76</td>\n      <td>8.0</td>\n      <td>24.083333</td>\n      <td>False</td>\n      <td>...</td>\n      <td>False</td>\n      <td>False</td>\n      <td>True</td>\n      <td>True</td>\n      <td>False</td>\n      <td>False</td>\n      <td>False</td>\n      <td>False</td>\n      <td>False</td>\n      <td>False</td>\n    </tr>\n    <tr>\n      <th>3</th>\n      <td>8.0</td>\n      <td>7</td>\n      <td>24</td>\n      <td>8</td>\n      <td>45</td>\n      <td>23</td>\n      <td>16.28</td>\n      <td>12.0</td>\n      <td>6.500000</td>\n      <td>False</td>\n      <td>...</td>\n      <td>False</td>\n      <td>False</td>\n      <td>True</td>\n      <td>True</td>\n      <td>False</td>\n      <td>False</td>\n      <td>False</td>\n      <td>False</td>\n      <td>False</td>\n      <td>False</td>\n    </tr>\n    <tr>\n      <th>4</th>\n      <td>5.0</td>\n      <td>3</td>\n      <td>18</td>\n      <td>1</td>\n      <td>14</td>\n      <td>8</td>\n      <td>3.56</td>\n      <td>5.0</td>\n      <td>29.333333</td>\n      <td>False</td>\n      <td>...</td>\n      <td>False</td>\n      <td>True</td>\n      <td>False</td>\n      <td>False</td>\n      <td>False</td>\n      <td>True</td>\n      <td>False</td>\n      <td>False</td>\n      <td>False</td>\n      <td>False</td>\n    </tr>\n    <tr>\n      <th>...</th>\n      <td>...</td>\n      <td>...</td>\n      <td>...</td>\n      <td>...</td>\n      <td>...</td>\n      <td>...</td>\n      <td>...</td>\n      <td>...</td>\n      <td>...</td>\n      <td>...</td>\n      <td>...</td>\n      <td>...</td>\n      <td>...</td>\n      <td>...</td>\n      <td>...</td>\n      <td>...</td>\n      <td>...</td>\n      <td>...</td>\n      <td>...</td>\n      <td>...</td>\n      <td>...</td>\n    </tr>\n    <tr>\n      <th>106684</th>\n      <td>5.0</td>\n      <td>2</td>\n      <td>7</td>\n      <td>3</td>\n      <td>12</td>\n      <td>12</td>\n      <td>7.64</td>\n      <td>5.0</td>\n      <td>25.583333</td>\n      <td>False</td>\n      <td>...</td>\n      <td>False</td>\n      <td>True</td>\n      <td>False</td>\n      <td>False</td>\n      <td>False</td>\n      <td>True</td>\n      <td>False</td>\n      <td>False</td>\n      <td>False</td>\n      <td>False</td>\n    </tr>\n    <tr>\n      <th>106685</th>\n      <td>4.0</td>\n      <td>1</td>\n      <td>1</td>\n      <td>2</td>\n      <td>3</td>\n      <td>13</td>\n      <td>11.41</td>\n      <td>3.0</td>\n      <td>0.000000</td>\n      <td>False</td>\n      <td>...</td>\n      <td>False</td>\n      <td>True</td>\n      <td>False</td>\n      <td>False</td>\n      <td>False</td>\n      <td>True</td>\n      <td>False</td>\n      <td>False</td>\n      <td>False</td>\n      <td>False</td>\n    </tr>\n    <tr>\n      <th>106686</th>\n      <td>8.0</td>\n      <td>7</td>\n      <td>15</td>\n      <td>3</td>\n      <td>24</td>\n      <td>16</td>\n      <td>16.68</td>\n      <td>9.0</td>\n      <td>26.833333</td>\n      <td>False</td>\n      <td>...</td>\n      <td>False</td>\n      <td>False</td>\n      <td>True</td>\n      <td>True</td>\n      <td>False</td>\n      <td>False</td>\n      <td>False</td>\n      <td>False</td>\n      <td>False</td>\n      <td>False</td>\n    </tr>\n    <tr>\n      <th>106687</th>\n      <td>3.0</td>\n      <td>1</td>\n      <td>4</td>\n      <td>4</td>\n      <td>5</td>\n      <td>11</td>\n      <td>12.78</td>\n      <td>0.0</td>\n      <td>26.750000</td>\n      <td>False</td>\n      <td>...</td>\n      <td>False</td>\n      <td>True</td>\n      <td>False</td>\n      <td>False</td>\n      <td>False</td>\n      <td>False</td>\n      <td>False</td>\n      <td>False</td>\n      <td>False</td>\n      <td>True</td>\n    </tr>\n    <tr>\n      <th>106688</th>\n      <td>5.0</td>\n      <td>3</td>\n      <td>10</td>\n      <td>4</td>\n      <td>23</td>\n      <td>18</td>\n      <td>19.82</td>\n      <td>5.0</td>\n      <td>10.333333</td>\n      <td>False</td>\n      <td>...</td>\n      <td>False</td>\n      <td>False</td>\n      <td>True</td>\n      <td>False</td>\n      <td>False</td>\n      <td>False</td>\n      <td>True</td>\n      <td>False</td>\n      <td>False</td>\n      <td>False</td>\n    </tr>\n  </tbody>\n</table>\n<p>106689 rows × 52 columns</p>\n</div>"
     },
     "execution_count": 5,
     "metadata": {},
     "output_type": "execute_result"
    }
   ],
   "source": [
    "train_x"
   ],
   "metadata": {
    "collapsed": false,
    "ExecuteTime": {
     "end_time": "2024-04-06T23:16:21.115531300Z",
     "start_time": "2024-04-06T23:16:21.050527500Z"
    }
   },
   "id": "6e777359e6e1bee8"
  },
  {
   "cell_type": "code",
   "execution_count": 6,
   "outputs": [
    {
     "data": {
      "text/plain": "0         Standard\n1         Standard\n2         Standard\n3         Standard\n4         Standard\n            ...   \n106684        Good\n106685        Good\n106686        Good\n106687        Good\n106688        Good\nName: Credit_Score, Length: 106689, dtype: object"
     },
     "execution_count": 6,
     "metadata": {},
     "output_type": "execute_result"
    }
   ],
   "source": [
    "train_y"
   ],
   "metadata": {
    "collapsed": false,
    "ExecuteTime": {
     "end_time": "2024-04-06T23:16:21.154517800Z",
     "start_time": "2024-04-06T23:16:21.096519500Z"
    }
   },
   "id": "643946073608f57c"
  },
  {
   "cell_type": "code",
   "execution_count": 7,
   "outputs": [],
   "source": [
    "from sklearn.linear_model import LogisticRegression\n",
    "from sklearn.preprocessing import StandardScaler, MinMaxScaler\n",
    "from sklearn.pipeline import Pipeline\n",
    "\n",
    "cv_number = 3\n",
    "penalties = ['l1', 'l2', 'none']\n",
    "c_values = [1, 3, 5, 10, 30]\n",
    "random_state = [42]\n",
    "max_features = ['sqrt', 'log2']\n",
    "n_estimators = [10, 50, 100, 150]\n",
    "\n",
    "methods_stats_df = pd.DataFrame(data=None, columns=['method', 'f1_macro', 'scaler', 'params'])\n",
    "methods_stats_df_index = 0\n",
    "\n",
    "def append_method_stats(method, accuracy, scaler, params):\n",
    "    global methods_stats_df_index\n",
    "    methods_stats_df.loc[methods_stats_df_index] = [method, accuracy, scaler, params]\n",
    "    methods_stats_df_index += 1"
   ],
   "metadata": {
    "collapsed": false,
    "ExecuteTime": {
     "end_time": "2024-04-06T23:16:21.918520300Z",
     "start_time": "2024-04-06T23:16:21.112523900Z"
    }
   },
   "id": "2fb034de8d957c0c"
  },
  {
   "cell_type": "code",
   "execution_count": 8,
   "outputs": [],
   "source": [
    "standard_scaler_pipeline = Pipeline([('scaler', StandardScaler()),\n",
    "                                     ('logreg', LogisticRegression())])\n",
    "\n",
    "min_max_scaler_pipeline = Pipeline([('scaler', MinMaxScaler()),\n",
    "                                    ('logreg', LogisticRegression())])\n",
    "\n",
    "param_grid = {\n",
    "    'logreg__penalty': penalties,\n",
    "    'logreg__C': c_values,\n",
    "    'logreg__random_state': random_state\n",
    "}"
   ],
   "metadata": {
    "collapsed": false,
    "ExecuteTime": {
     "end_time": "2024-04-06T23:16:21.933516400Z",
     "start_time": "2024-04-06T23:16:21.921523400Z"
    }
   },
   "id": "5ff5cd69bdcf105e"
  },
  {
   "cell_type": "code",
   "execution_count": 9,
   "outputs": [
    {
     "name": "stderr",
     "output_type": "stream",
     "text": [
      "C:\\Users\\bred7\\anaconda3\\envs\\veindata\\lib\\site-packages\\sklearn\\linear_model\\_logistic.py:1182: FutureWarning: `penalty='none'`has been deprecated in 1.2 and will be removed in 1.4. To keep the past behaviour, set `penalty=None`.\n",
      "  warnings.warn(\n",
      "C:\\Users\\bred7\\anaconda3\\envs\\veindata\\lib\\site-packages\\sklearn\\linear_model\\_logistic.py:1182: FutureWarning: `penalty='none'`has been deprecated in 1.2 and will be removed in 1.4. To keep the past behaviour, set `penalty=None`.\n",
      "  warnings.warn(\n",
      "C:\\Users\\bred7\\anaconda3\\envs\\veindata\\lib\\site-packages\\sklearn\\linear_model\\_logistic.py:1182: FutureWarning: `penalty='none'`has been deprecated in 1.2 and will be removed in 1.4. To keep the past behaviour, set `penalty=None`.\n",
      "  warnings.warn(\n",
      "C:\\Users\\bred7\\anaconda3\\envs\\veindata\\lib\\site-packages\\sklearn\\linear_model\\_logistic.py:1182: FutureWarning: `penalty='none'`has been deprecated in 1.2 and will be removed in 1.4. To keep the past behaviour, set `penalty=None`.\n",
      "  warnings.warn(\n",
      "C:\\Users\\bred7\\anaconda3\\envs\\veindata\\lib\\site-packages\\sklearn\\linear_model\\_logistic.py:1192: UserWarning: Setting penalty=None will ignore the C and l1_ratio parameters\n",
      "  warnings.warn(\n",
      "C:\\Users\\bred7\\anaconda3\\envs\\veindata\\lib\\site-packages\\sklearn\\linear_model\\_logistic.py:1182: FutureWarning: `penalty='none'`has been deprecated in 1.2 and will be removed in 1.4. To keep the past behaviour, set `penalty=None`.\n",
      "  warnings.warn(\n",
      "C:\\Users\\bred7\\anaconda3\\envs\\veindata\\lib\\site-packages\\sklearn\\linear_model\\_logistic.py:1192: UserWarning: Setting penalty=None will ignore the C and l1_ratio parameters\n",
      "  warnings.warn(\n",
      "C:\\Users\\bred7\\anaconda3\\envs\\veindata\\lib\\site-packages\\sklearn\\linear_model\\_logistic.py:1182: FutureWarning: `penalty='none'`has been deprecated in 1.2 and will be removed in 1.4. To keep the past behaviour, set `penalty=None`.\n",
      "  warnings.warn(\n",
      "C:\\Users\\bred7\\anaconda3\\envs\\veindata\\lib\\site-packages\\sklearn\\linear_model\\_logistic.py:1192: UserWarning: Setting penalty=None will ignore the C and l1_ratio parameters\n",
      "  warnings.warn(\n",
      "C:\\Users\\bred7\\anaconda3\\envs\\veindata\\lib\\site-packages\\sklearn\\linear_model\\_logistic.py:1182: FutureWarning: `penalty='none'`has been deprecated in 1.2 and will be removed in 1.4. To keep the past behaviour, set `penalty=None`.\n",
      "  warnings.warn(\n",
      "C:\\Users\\bred7\\anaconda3\\envs\\veindata\\lib\\site-packages\\sklearn\\linear_model\\_logistic.py:1192: UserWarning: Setting penalty=None will ignore the C and l1_ratio parameters\n",
      "  warnings.warn(\n",
      "C:\\Users\\bred7\\anaconda3\\envs\\veindata\\lib\\site-packages\\sklearn\\linear_model\\_logistic.py:1182: FutureWarning: `penalty='none'`has been deprecated in 1.2 and will be removed in 1.4. To keep the past behaviour, set `penalty=None`.\n",
      "  warnings.warn(\n",
      "C:\\Users\\bred7\\anaconda3\\envs\\veindata\\lib\\site-packages\\sklearn\\linear_model\\_logistic.py:1192: UserWarning: Setting penalty=None will ignore the C and l1_ratio parameters\n",
      "  warnings.warn(\n",
      "C:\\Users\\bred7\\anaconda3\\envs\\veindata\\lib\\site-packages\\sklearn\\linear_model\\_logistic.py:1182: FutureWarning: `penalty='none'`has been deprecated in 1.2 and will be removed in 1.4. To keep the past behaviour, set `penalty=None`.\n",
      "  warnings.warn(\n",
      "C:\\Users\\bred7\\anaconda3\\envs\\veindata\\lib\\site-packages\\sklearn\\linear_model\\_logistic.py:1192: UserWarning: Setting penalty=None will ignore the C and l1_ratio parameters\n",
      "  warnings.warn(\n",
      "C:\\Users\\bred7\\anaconda3\\envs\\veindata\\lib\\site-packages\\sklearn\\linear_model\\_logistic.py:1182: FutureWarning: `penalty='none'`has been deprecated in 1.2 and will be removed in 1.4. To keep the past behaviour, set `penalty=None`.\n",
      "  warnings.warn(\n",
      "C:\\Users\\bred7\\anaconda3\\envs\\veindata\\lib\\site-packages\\sklearn\\linear_model\\_logistic.py:1192: UserWarning: Setting penalty=None will ignore the C and l1_ratio parameters\n",
      "  warnings.warn(\n",
      "C:\\Users\\bred7\\anaconda3\\envs\\veindata\\lib\\site-packages\\sklearn\\linear_model\\_logistic.py:1182: FutureWarning: `penalty='none'`has been deprecated in 1.2 and will be removed in 1.4. To keep the past behaviour, set `penalty=None`.\n",
      "  warnings.warn(\n",
      "C:\\Users\\bred7\\anaconda3\\envs\\veindata\\lib\\site-packages\\sklearn\\linear_model\\_logistic.py:1192: UserWarning: Setting penalty=None will ignore the C and l1_ratio parameters\n",
      "  warnings.warn(\n",
      "C:\\Users\\bred7\\anaconda3\\envs\\veindata\\lib\\site-packages\\sklearn\\linear_model\\_logistic.py:1182: FutureWarning: `penalty='none'`has been deprecated in 1.2 and will be removed in 1.4. To keep the past behaviour, set `penalty=None`.\n",
      "  warnings.warn(\n",
      "C:\\Users\\bred7\\anaconda3\\envs\\veindata\\lib\\site-packages\\sklearn\\linear_model\\_logistic.py:1192: UserWarning: Setting penalty=None will ignore the C and l1_ratio parameters\n",
      "  warnings.warn(\n",
      "C:\\Users\\bred7\\anaconda3\\envs\\veindata\\lib\\site-packages\\sklearn\\linear_model\\_logistic.py:1182: FutureWarning: `penalty='none'`has been deprecated in 1.2 and will be removed in 1.4. To keep the past behaviour, set `penalty=None`.\n",
      "  warnings.warn(\n",
      "C:\\Users\\bred7\\anaconda3\\envs\\veindata\\lib\\site-packages\\sklearn\\linear_model\\_logistic.py:1192: UserWarning: Setting penalty=None will ignore the C and l1_ratio parameters\n",
      "  warnings.warn(\n",
      "C:\\Users\\bred7\\anaconda3\\envs\\veindata\\lib\\site-packages\\sklearn\\linear_model\\_logistic.py:1182: FutureWarning: `penalty='none'`has been deprecated in 1.2 and will be removed in 1.4. To keep the past behaviour, set `penalty=None`.\n",
      "  warnings.warn(\n",
      "C:\\Users\\bred7\\anaconda3\\envs\\veindata\\lib\\site-packages\\sklearn\\linear_model\\_logistic.py:1192: UserWarning: Setting penalty=None will ignore the C and l1_ratio parameters\n",
      "  warnings.warn(\n",
      "C:\\Users\\bred7\\anaconda3\\envs\\veindata\\lib\\site-packages\\sklearn\\linear_model\\_logistic.py:1182: FutureWarning: `penalty='none'`has been deprecated in 1.2 and will be removed in 1.4. To keep the past behaviour, set `penalty=None`.\n",
      "  warnings.warn(\n",
      "C:\\Users\\bred7\\anaconda3\\envs\\veindata\\lib\\site-packages\\sklearn\\linear_model\\_logistic.py:1192: UserWarning: Setting penalty=None will ignore the C and l1_ratio parameters\n",
      "  warnings.warn(\n",
      "C:\\Users\\bred7\\anaconda3\\envs\\veindata\\lib\\site-packages\\sklearn\\model_selection\\_validation.py:425: FitFailedWarning: \n",
      "15 fits failed out of a total of 45.\n",
      "The score on these train-test partitions for these parameters will be set to nan.\n",
      "If these failures are not expected, you can try to debug them by setting error_score='raise'.\n",
      "\n",
      "Below are more details about the failures:\n",
      "--------------------------------------------------------------------------------\n",
      "15 fits failed with the following error:\n",
      "Traceback (most recent call last):\n",
      "  File \"C:\\Users\\bred7\\anaconda3\\envs\\veindata\\lib\\site-packages\\sklearn\\model_selection\\_validation.py\", line 732, in _fit_and_score\n",
      "    estimator.fit(X_train, y_train, **fit_params)\n",
      "  File \"C:\\Users\\bred7\\anaconda3\\envs\\veindata\\lib\\site-packages\\sklearn\\base.py\", line 1151, in wrapper\n",
      "    return fit_method(estimator, *args, **kwargs)\n",
      "  File \"C:\\Users\\bred7\\anaconda3\\envs\\veindata\\lib\\site-packages\\sklearn\\pipeline.py\", line 420, in fit\n",
      "    self._final_estimator.fit(Xt, y, **fit_params_last_step)\n",
      "  File \"C:\\Users\\bred7\\anaconda3\\envs\\veindata\\lib\\site-packages\\sklearn\\base.py\", line 1151, in wrapper\n",
      "    return fit_method(estimator, *args, **kwargs)\n",
      "  File \"C:\\Users\\bred7\\anaconda3\\envs\\veindata\\lib\\site-packages\\sklearn\\linear_model\\_logistic.py\", line 1168, in fit\n",
      "    solver = _check_solver(self.solver, self.penalty, self.dual)\n",
      "  File \"C:\\Users\\bred7\\anaconda3\\envs\\veindata\\lib\\site-packages\\sklearn\\linear_model\\_logistic.py\", line 56, in _check_solver\n",
      "    raise ValueError(\n",
      "ValueError: Solver lbfgs supports only 'l2' or 'none' penalties, got l1 penalty.\n",
      "\n",
      "  warnings.warn(some_fits_failed_message, FitFailedWarning)\n",
      "C:\\Users\\bred7\\anaconda3\\envs\\veindata\\lib\\site-packages\\sklearn\\model_selection\\_search.py:976: UserWarning: One or more of the test scores are non-finite: [       nan 0.68258391 0.68258391        nan 0.68258391 0.68258391\n",
      "        nan 0.68258391 0.68258391        nan 0.68258391 0.68258391\n",
      "        nan 0.68258391 0.68258391]\n",
      "  warnings.warn(\n"
     ]
    },
    {
     "data": {
      "text/plain": "GridSearchCV(cv=3,\n             estimator=Pipeline(steps=[('scaler', StandardScaler()),\n                                       ('logreg', LogisticRegression())]),\n             param_grid={'logreg__C': [1, 3, 5, 10, 30],\n                         'logreg__penalty': ['l1', 'l2', 'none'],\n                         'logreg__random_state': [42]},\n             scoring='f1_macro')",
      "text/html": "<style>#sk-container-id-1 {color: black;}#sk-container-id-1 pre{padding: 0;}#sk-container-id-1 div.sk-toggleable {background-color: white;}#sk-container-id-1 label.sk-toggleable__label {cursor: pointer;display: block;width: 100%;margin-bottom: 0;padding: 0.3em;box-sizing: border-box;text-align: center;}#sk-container-id-1 label.sk-toggleable__label-arrow:before {content: \"▸\";float: left;margin-right: 0.25em;color: #696969;}#sk-container-id-1 label.sk-toggleable__label-arrow:hover:before {color: black;}#sk-container-id-1 div.sk-estimator:hover label.sk-toggleable__label-arrow:before {color: black;}#sk-container-id-1 div.sk-toggleable__content {max-height: 0;max-width: 0;overflow: hidden;text-align: left;background-color: #f0f8ff;}#sk-container-id-1 div.sk-toggleable__content pre {margin: 0.2em;color: black;border-radius: 0.25em;background-color: #f0f8ff;}#sk-container-id-1 input.sk-toggleable__control:checked~div.sk-toggleable__content {max-height: 200px;max-width: 100%;overflow: auto;}#sk-container-id-1 input.sk-toggleable__control:checked~label.sk-toggleable__label-arrow:before {content: \"▾\";}#sk-container-id-1 div.sk-estimator input.sk-toggleable__control:checked~label.sk-toggleable__label {background-color: #d4ebff;}#sk-container-id-1 div.sk-label input.sk-toggleable__control:checked~label.sk-toggleable__label {background-color: #d4ebff;}#sk-container-id-1 input.sk-hidden--visually {border: 0;clip: rect(1px 1px 1px 1px);clip: rect(1px, 1px, 1px, 1px);height: 1px;margin: -1px;overflow: hidden;padding: 0;position: absolute;width: 1px;}#sk-container-id-1 div.sk-estimator {font-family: monospace;background-color: #f0f8ff;border: 1px dotted black;border-radius: 0.25em;box-sizing: border-box;margin-bottom: 0.5em;}#sk-container-id-1 div.sk-estimator:hover {background-color: #d4ebff;}#sk-container-id-1 div.sk-parallel-item::after {content: \"\";width: 100%;border-bottom: 1px solid gray;flex-grow: 1;}#sk-container-id-1 div.sk-label:hover label.sk-toggleable__label {background-color: #d4ebff;}#sk-container-id-1 div.sk-serial::before {content: \"\";position: absolute;border-left: 1px solid gray;box-sizing: border-box;top: 0;bottom: 0;left: 50%;z-index: 0;}#sk-container-id-1 div.sk-serial {display: flex;flex-direction: column;align-items: center;background-color: white;padding-right: 0.2em;padding-left: 0.2em;position: relative;}#sk-container-id-1 div.sk-item {position: relative;z-index: 1;}#sk-container-id-1 div.sk-parallel {display: flex;align-items: stretch;justify-content: center;background-color: white;position: relative;}#sk-container-id-1 div.sk-item::before, #sk-container-id-1 div.sk-parallel-item::before {content: \"\";position: absolute;border-left: 1px solid gray;box-sizing: border-box;top: 0;bottom: 0;left: 50%;z-index: -1;}#sk-container-id-1 div.sk-parallel-item {display: flex;flex-direction: column;z-index: 1;position: relative;background-color: white;}#sk-container-id-1 div.sk-parallel-item:first-child::after {align-self: flex-end;width: 50%;}#sk-container-id-1 div.sk-parallel-item:last-child::after {align-self: flex-start;width: 50%;}#sk-container-id-1 div.sk-parallel-item:only-child::after {width: 0;}#sk-container-id-1 div.sk-dashed-wrapped {border: 1px dashed gray;margin: 0 0.4em 0.5em 0.4em;box-sizing: border-box;padding-bottom: 0.4em;background-color: white;}#sk-container-id-1 div.sk-label label {font-family: monospace;font-weight: bold;display: inline-block;line-height: 1.2em;}#sk-container-id-1 div.sk-label-container {text-align: center;}#sk-container-id-1 div.sk-container {/* jupyter's `normalize.less` sets `[hidden] { display: none; }` but bootstrap.min.css set `[hidden] { display: none !important; }` so we also need the `!important` here to be able to override the default hidden behavior on the sphinx rendered scikit-learn.org. See: https://github.com/scikit-learn/scikit-learn/issues/21755 */display: inline-block !important;position: relative;}#sk-container-id-1 div.sk-text-repr-fallback {display: none;}</style><div id=\"sk-container-id-1\" class=\"sk-top-container\"><div class=\"sk-text-repr-fallback\"><pre>GridSearchCV(cv=3,\n             estimator=Pipeline(steps=[(&#x27;scaler&#x27;, StandardScaler()),\n                                       (&#x27;logreg&#x27;, LogisticRegression())]),\n             param_grid={&#x27;logreg__C&#x27;: [1, 3, 5, 10, 30],\n                         &#x27;logreg__penalty&#x27;: [&#x27;l1&#x27;, &#x27;l2&#x27;, &#x27;none&#x27;],\n                         &#x27;logreg__random_state&#x27;: [42]},\n             scoring=&#x27;f1_macro&#x27;)</pre><b>In a Jupyter environment, please rerun this cell to show the HTML representation or trust the notebook. <br />On GitHub, the HTML representation is unable to render, please try loading this page with nbviewer.org.</b></div><div class=\"sk-container\" hidden><div class=\"sk-item sk-dashed-wrapped\"><div class=\"sk-label-container\"><div class=\"sk-label sk-toggleable\"><input class=\"sk-toggleable__control sk-hidden--visually\" id=\"sk-estimator-id-1\" type=\"checkbox\" ><label for=\"sk-estimator-id-1\" class=\"sk-toggleable__label sk-toggleable__label-arrow\">GridSearchCV</label><div class=\"sk-toggleable__content\"><pre>GridSearchCV(cv=3,\n             estimator=Pipeline(steps=[(&#x27;scaler&#x27;, StandardScaler()),\n                                       (&#x27;logreg&#x27;, LogisticRegression())]),\n             param_grid={&#x27;logreg__C&#x27;: [1, 3, 5, 10, 30],\n                         &#x27;logreg__penalty&#x27;: [&#x27;l1&#x27;, &#x27;l2&#x27;, &#x27;none&#x27;],\n                         &#x27;logreg__random_state&#x27;: [42]},\n             scoring=&#x27;f1_macro&#x27;)</pre></div></div></div><div class=\"sk-parallel\"><div class=\"sk-parallel-item\"><div class=\"sk-item\"><div class=\"sk-label-container\"><div class=\"sk-label sk-toggleable\"><input class=\"sk-toggleable__control sk-hidden--visually\" id=\"sk-estimator-id-2\" type=\"checkbox\" ><label for=\"sk-estimator-id-2\" class=\"sk-toggleable__label sk-toggleable__label-arrow\">estimator: Pipeline</label><div class=\"sk-toggleable__content\"><pre>Pipeline(steps=[(&#x27;scaler&#x27;, StandardScaler()), (&#x27;logreg&#x27;, LogisticRegression())])</pre></div></div></div><div class=\"sk-serial\"><div class=\"sk-item\"><div class=\"sk-serial\"><div class=\"sk-item\"><div class=\"sk-estimator sk-toggleable\"><input class=\"sk-toggleable__control sk-hidden--visually\" id=\"sk-estimator-id-3\" type=\"checkbox\" ><label for=\"sk-estimator-id-3\" class=\"sk-toggleable__label sk-toggleable__label-arrow\">StandardScaler</label><div class=\"sk-toggleable__content\"><pre>StandardScaler()</pre></div></div></div><div class=\"sk-item\"><div class=\"sk-estimator sk-toggleable\"><input class=\"sk-toggleable__control sk-hidden--visually\" id=\"sk-estimator-id-4\" type=\"checkbox\" ><label for=\"sk-estimator-id-4\" class=\"sk-toggleable__label sk-toggleable__label-arrow\">LogisticRegression</label><div class=\"sk-toggleable__content\"><pre>LogisticRegression()</pre></div></div></div></div></div></div></div></div></div></div></div></div>"
     },
     "execution_count": 9,
     "metadata": {},
     "output_type": "execute_result"
    }
   ],
   "source": [
    "from sklearn.model_selection import GridSearchCV\n",
    "\n",
    "gridsearch = GridSearchCV(standard_scaler_pipeline,\n",
    "                          param_grid=param_grid,\n",
    "                          scoring='f1_macro',\n",
    "                          cv=cv_number)\n",
    "gridsearch.fit(train_x, train_y)"
   ],
   "metadata": {
    "collapsed": false,
    "ExecuteTime": {
     "end_time": "2024-04-06T23:17:02.391054100Z",
     "start_time": "2024-04-06T23:16:21.936522800Z"
    }
   },
   "id": "6087c5041a6bffa2"
  },
  {
   "cell_type": "code",
   "execution_count": 10,
   "outputs": [],
   "source": [
    "append_method_stats('LogisticRegression', gridsearch.best_score_, 'StandardScaler', gridsearch.best_params_)"
   ],
   "metadata": {
    "collapsed": false,
    "ExecuteTime": {
     "end_time": "2024-04-06T23:17:02.427054200Z",
     "start_time": "2024-04-06T23:17:02.372054400Z"
    }
   },
   "id": "123859edf8af4d48"
  },
  {
   "cell_type": "code",
   "execution_count": 11,
   "outputs": [
    {
     "name": "stderr",
     "output_type": "stream",
     "text": [
      "C:\\Users\\bred7\\anaconda3\\envs\\veindata\\lib\\site-packages\\sklearn\\linear_model\\_logistic.py:460: ConvergenceWarning: lbfgs failed to converge (status=1):\n",
      "STOP: TOTAL NO. of ITERATIONS REACHED LIMIT.\n",
      "\n",
      "Increase the number of iterations (max_iter) or scale the data as shown in:\n",
      "    https://scikit-learn.org/stable/modules/preprocessing.html\n",
      "Please also refer to the documentation for alternative solver options:\n",
      "    https://scikit-learn.org/stable/modules/linear_model.html#logistic-regression\n",
      "  n_iter_i = _check_optimize_result(\n",
      "C:\\Users\\bred7\\anaconda3\\envs\\veindata\\lib\\site-packages\\sklearn\\linear_model\\_logistic.py:460: ConvergenceWarning: lbfgs failed to converge (status=1):\n",
      "STOP: TOTAL NO. of ITERATIONS REACHED LIMIT.\n",
      "\n",
      "Increase the number of iterations (max_iter) or scale the data as shown in:\n",
      "    https://scikit-learn.org/stable/modules/preprocessing.html\n",
      "Please also refer to the documentation for alternative solver options:\n",
      "    https://scikit-learn.org/stable/modules/linear_model.html#logistic-regression\n",
      "  n_iter_i = _check_optimize_result(\n",
      "C:\\Users\\bred7\\anaconda3\\envs\\veindata\\lib\\site-packages\\sklearn\\linear_model\\_logistic.py:460: ConvergenceWarning: lbfgs failed to converge (status=1):\n",
      "STOP: TOTAL NO. of ITERATIONS REACHED LIMIT.\n",
      "\n",
      "Increase the number of iterations (max_iter) or scale the data as shown in:\n",
      "    https://scikit-learn.org/stable/modules/preprocessing.html\n",
      "Please also refer to the documentation for alternative solver options:\n",
      "    https://scikit-learn.org/stable/modules/linear_model.html#logistic-regression\n",
      "  n_iter_i = _check_optimize_result(\n",
      "C:\\Users\\bred7\\anaconda3\\envs\\veindata\\lib\\site-packages\\sklearn\\linear_model\\_logistic.py:1182: FutureWarning: `penalty='none'`has been deprecated in 1.2 and will be removed in 1.4. To keep the past behaviour, set `penalty=None`.\n",
      "  warnings.warn(\n",
      "C:\\Users\\bred7\\anaconda3\\envs\\veindata\\lib\\site-packages\\sklearn\\linear_model\\_logistic.py:1182: FutureWarning: `penalty='none'`has been deprecated in 1.2 and will be removed in 1.4. To keep the past behaviour, set `penalty=None`.\n",
      "  warnings.warn(\n",
      "C:\\Users\\bred7\\anaconda3\\envs\\veindata\\lib\\site-packages\\sklearn\\linear_model\\_logistic.py:1182: FutureWarning: `penalty='none'`has been deprecated in 1.2 and will be removed in 1.4. To keep the past behaviour, set `penalty=None`.\n",
      "  warnings.warn(\n",
      "C:\\Users\\bred7\\anaconda3\\envs\\veindata\\lib\\site-packages\\sklearn\\linear_model\\_logistic.py:1182: FutureWarning: `penalty='none'`has been deprecated in 1.2 and will be removed in 1.4. To keep the past behaviour, set `penalty=None`.\n",
      "  warnings.warn(\n",
      "C:\\Users\\bred7\\anaconda3\\envs\\veindata\\lib\\site-packages\\sklearn\\linear_model\\_logistic.py:1192: UserWarning: Setting penalty=None will ignore the C and l1_ratio parameters\n",
      "  warnings.warn(\n",
      "C:\\Users\\bred7\\anaconda3\\envs\\veindata\\lib\\site-packages\\sklearn\\linear_model\\_logistic.py:1182: FutureWarning: `penalty='none'`has been deprecated in 1.2 and will be removed in 1.4. To keep the past behaviour, set `penalty=None`.\n",
      "  warnings.warn(\n",
      "C:\\Users\\bred7\\anaconda3\\envs\\veindata\\lib\\site-packages\\sklearn\\linear_model\\_logistic.py:1192: UserWarning: Setting penalty=None will ignore the C and l1_ratio parameters\n",
      "  warnings.warn(\n",
      "C:\\Users\\bred7\\anaconda3\\envs\\veindata\\lib\\site-packages\\sklearn\\linear_model\\_logistic.py:1182: FutureWarning: `penalty='none'`has been deprecated in 1.2 and will be removed in 1.4. To keep the past behaviour, set `penalty=None`.\n",
      "  warnings.warn(\n",
      "C:\\Users\\bred7\\anaconda3\\envs\\veindata\\lib\\site-packages\\sklearn\\linear_model\\_logistic.py:1192: UserWarning: Setting penalty=None will ignore the C and l1_ratio parameters\n",
      "  warnings.warn(\n",
      "C:\\Users\\bred7\\anaconda3\\envs\\veindata\\lib\\site-packages\\sklearn\\linear_model\\_logistic.py:1182: FutureWarning: `penalty='none'`has been deprecated in 1.2 and will be removed in 1.4. To keep the past behaviour, set `penalty=None`.\n",
      "  warnings.warn(\n",
      "C:\\Users\\bred7\\anaconda3\\envs\\veindata\\lib\\site-packages\\sklearn\\linear_model\\_logistic.py:1192: UserWarning: Setting penalty=None will ignore the C and l1_ratio parameters\n",
      "  warnings.warn(\n",
      "C:\\Users\\bred7\\anaconda3\\envs\\veindata\\lib\\site-packages\\sklearn\\linear_model\\_logistic.py:1182: FutureWarning: `penalty='none'`has been deprecated in 1.2 and will be removed in 1.4. To keep the past behaviour, set `penalty=None`.\n",
      "  warnings.warn(\n",
      "C:\\Users\\bred7\\anaconda3\\envs\\veindata\\lib\\site-packages\\sklearn\\linear_model\\_logistic.py:1192: UserWarning: Setting penalty=None will ignore the C and l1_ratio parameters\n",
      "  warnings.warn(\n",
      "C:\\Users\\bred7\\anaconda3\\envs\\veindata\\lib\\site-packages\\sklearn\\linear_model\\_logistic.py:1182: FutureWarning: `penalty='none'`has been deprecated in 1.2 and will be removed in 1.4. To keep the past behaviour, set `penalty=None`.\n",
      "  warnings.warn(\n",
      "C:\\Users\\bred7\\anaconda3\\envs\\veindata\\lib\\site-packages\\sklearn\\linear_model\\_logistic.py:1192: UserWarning: Setting penalty=None will ignore the C and l1_ratio parameters\n",
      "  warnings.warn(\n",
      "C:\\Users\\bred7\\anaconda3\\envs\\veindata\\lib\\site-packages\\sklearn\\linear_model\\_logistic.py:1182: FutureWarning: `penalty='none'`has been deprecated in 1.2 and will be removed in 1.4. To keep the past behaviour, set `penalty=None`.\n",
      "  warnings.warn(\n",
      "C:\\Users\\bred7\\anaconda3\\envs\\veindata\\lib\\site-packages\\sklearn\\linear_model\\_logistic.py:1192: UserWarning: Setting penalty=None will ignore the C and l1_ratio parameters\n",
      "  warnings.warn(\n",
      "C:\\Users\\bred7\\anaconda3\\envs\\veindata\\lib\\site-packages\\sklearn\\linear_model\\_logistic.py:1182: FutureWarning: `penalty='none'`has been deprecated in 1.2 and will be removed in 1.4. To keep the past behaviour, set `penalty=None`.\n",
      "  warnings.warn(\n",
      "C:\\Users\\bred7\\anaconda3\\envs\\veindata\\lib\\site-packages\\sklearn\\linear_model\\_logistic.py:1192: UserWarning: Setting penalty=None will ignore the C and l1_ratio parameters\n",
      "  warnings.warn(\n",
      "C:\\Users\\bred7\\anaconda3\\envs\\veindata\\lib\\site-packages\\sklearn\\linear_model\\_logistic.py:1182: FutureWarning: `penalty='none'`has been deprecated in 1.2 and will be removed in 1.4. To keep the past behaviour, set `penalty=None`.\n",
      "  warnings.warn(\n",
      "C:\\Users\\bred7\\anaconda3\\envs\\veindata\\lib\\site-packages\\sklearn\\linear_model\\_logistic.py:1192: UserWarning: Setting penalty=None will ignore the C and l1_ratio parameters\n",
      "  warnings.warn(\n",
      "C:\\Users\\bred7\\anaconda3\\envs\\veindata\\lib\\site-packages\\sklearn\\linear_model\\_logistic.py:1182: FutureWarning: `penalty='none'`has been deprecated in 1.2 and will be removed in 1.4. To keep the past behaviour, set `penalty=None`.\n",
      "  warnings.warn(\n",
      "C:\\Users\\bred7\\anaconda3\\envs\\veindata\\lib\\site-packages\\sklearn\\linear_model\\_logistic.py:1192: UserWarning: Setting penalty=None will ignore the C and l1_ratio parameters\n",
      "  warnings.warn(\n",
      "C:\\Users\\bred7\\anaconda3\\envs\\veindata\\lib\\site-packages\\sklearn\\linear_model\\_logistic.py:1182: FutureWarning: `penalty='none'`has been deprecated in 1.2 and will be removed in 1.4. To keep the past behaviour, set `penalty=None`.\n",
      "  warnings.warn(\n",
      "C:\\Users\\bred7\\anaconda3\\envs\\veindata\\lib\\site-packages\\sklearn\\linear_model\\_logistic.py:1192: UserWarning: Setting penalty=None will ignore the C and l1_ratio parameters\n",
      "  warnings.warn(\n",
      "C:\\Users\\bred7\\anaconda3\\envs\\veindata\\lib\\site-packages\\sklearn\\linear_model\\_logistic.py:1182: FutureWarning: `penalty='none'`has been deprecated in 1.2 and will be removed in 1.4. To keep the past behaviour, set `penalty=None`.\n",
      "  warnings.warn(\n",
      "C:\\Users\\bred7\\anaconda3\\envs\\veindata\\lib\\site-packages\\sklearn\\linear_model\\_logistic.py:1192: UserWarning: Setting penalty=None will ignore the C and l1_ratio parameters\n",
      "  warnings.warn(\n",
      "C:\\Users\\bred7\\anaconda3\\envs\\veindata\\lib\\site-packages\\sklearn\\model_selection\\_validation.py:425: FitFailedWarning: \n",
      "15 fits failed out of a total of 45.\n",
      "The score on these train-test partitions for these parameters will be set to nan.\n",
      "If these failures are not expected, you can try to debug them by setting error_score='raise'.\n",
      "\n",
      "Below are more details about the failures:\n",
      "--------------------------------------------------------------------------------\n",
      "15 fits failed with the following error:\n",
      "Traceback (most recent call last):\n",
      "  File \"C:\\Users\\bred7\\anaconda3\\envs\\veindata\\lib\\site-packages\\sklearn\\model_selection\\_validation.py\", line 732, in _fit_and_score\n",
      "    estimator.fit(X_train, y_train, **fit_params)\n",
      "  File \"C:\\Users\\bred7\\anaconda3\\envs\\veindata\\lib\\site-packages\\sklearn\\base.py\", line 1151, in wrapper\n",
      "    return fit_method(estimator, *args, **kwargs)\n",
      "  File \"C:\\Users\\bred7\\anaconda3\\envs\\veindata\\lib\\site-packages\\sklearn\\pipeline.py\", line 420, in fit\n",
      "    self._final_estimator.fit(Xt, y, **fit_params_last_step)\n",
      "  File \"C:\\Users\\bred7\\anaconda3\\envs\\veindata\\lib\\site-packages\\sklearn\\base.py\", line 1151, in wrapper\n",
      "    return fit_method(estimator, *args, **kwargs)\n",
      "  File \"C:\\Users\\bred7\\anaconda3\\envs\\veindata\\lib\\site-packages\\sklearn\\linear_model\\_logistic.py\", line 1168, in fit\n",
      "    solver = _check_solver(self.solver, self.penalty, self.dual)\n",
      "  File \"C:\\Users\\bred7\\anaconda3\\envs\\veindata\\lib\\site-packages\\sklearn\\linear_model\\_logistic.py\", line 56, in _check_solver\n",
      "    raise ValueError(\n",
      "ValueError: Solver lbfgs supports only 'l2' or 'none' penalties, got l1 penalty.\n",
      "\n",
      "  warnings.warn(some_fits_failed_message, FitFailedWarning)\n",
      "C:\\Users\\bred7\\anaconda3\\envs\\veindata\\lib\\site-packages\\sklearn\\model_selection\\_search.py:976: UserWarning: One or more of the test scores are non-finite: [       nan 0.68258842 0.68260374        nan 0.68260221 0.68260374\n",
      "        nan 0.6826027  0.68260374        nan 0.68259376 0.68260374\n",
      "        nan 0.68260374 0.68260374]\n",
      "  warnings.warn(\n",
      "C:\\Users\\bred7\\anaconda3\\envs\\veindata\\lib\\site-packages\\sklearn\\linear_model\\_logistic.py:1182: FutureWarning: `penalty='none'`has been deprecated in 1.2 and will be removed in 1.4. To keep the past behaviour, set `penalty=None`.\n",
      "  warnings.warn(\n"
     ]
    },
    {
     "data": {
      "text/plain": "GridSearchCV(cv=3,\n             estimator=Pipeline(steps=[('scaler', MinMaxScaler()),\n                                       ('logreg', LogisticRegression())]),\n             param_grid={'logreg__C': [1, 3, 5, 10, 30],\n                         'logreg__penalty': ['l1', 'l2', 'none'],\n                         'logreg__random_state': [42]},\n             scoring='f1_macro')",
      "text/html": "<style>#sk-container-id-2 {color: black;}#sk-container-id-2 pre{padding: 0;}#sk-container-id-2 div.sk-toggleable {background-color: white;}#sk-container-id-2 label.sk-toggleable__label {cursor: pointer;display: block;width: 100%;margin-bottom: 0;padding: 0.3em;box-sizing: border-box;text-align: center;}#sk-container-id-2 label.sk-toggleable__label-arrow:before {content: \"▸\";float: left;margin-right: 0.25em;color: #696969;}#sk-container-id-2 label.sk-toggleable__label-arrow:hover:before {color: black;}#sk-container-id-2 div.sk-estimator:hover label.sk-toggleable__label-arrow:before {color: black;}#sk-container-id-2 div.sk-toggleable__content {max-height: 0;max-width: 0;overflow: hidden;text-align: left;background-color: #f0f8ff;}#sk-container-id-2 div.sk-toggleable__content pre {margin: 0.2em;color: black;border-radius: 0.25em;background-color: #f0f8ff;}#sk-container-id-2 input.sk-toggleable__control:checked~div.sk-toggleable__content {max-height: 200px;max-width: 100%;overflow: auto;}#sk-container-id-2 input.sk-toggleable__control:checked~label.sk-toggleable__label-arrow:before {content: \"▾\";}#sk-container-id-2 div.sk-estimator input.sk-toggleable__control:checked~label.sk-toggleable__label {background-color: #d4ebff;}#sk-container-id-2 div.sk-label input.sk-toggleable__control:checked~label.sk-toggleable__label {background-color: #d4ebff;}#sk-container-id-2 input.sk-hidden--visually {border: 0;clip: rect(1px 1px 1px 1px);clip: rect(1px, 1px, 1px, 1px);height: 1px;margin: -1px;overflow: hidden;padding: 0;position: absolute;width: 1px;}#sk-container-id-2 div.sk-estimator {font-family: monospace;background-color: #f0f8ff;border: 1px dotted black;border-radius: 0.25em;box-sizing: border-box;margin-bottom: 0.5em;}#sk-container-id-2 div.sk-estimator:hover {background-color: #d4ebff;}#sk-container-id-2 div.sk-parallel-item::after {content: \"\";width: 100%;border-bottom: 1px solid gray;flex-grow: 1;}#sk-container-id-2 div.sk-label:hover label.sk-toggleable__label {background-color: #d4ebff;}#sk-container-id-2 div.sk-serial::before {content: \"\";position: absolute;border-left: 1px solid gray;box-sizing: border-box;top: 0;bottom: 0;left: 50%;z-index: 0;}#sk-container-id-2 div.sk-serial {display: flex;flex-direction: column;align-items: center;background-color: white;padding-right: 0.2em;padding-left: 0.2em;position: relative;}#sk-container-id-2 div.sk-item {position: relative;z-index: 1;}#sk-container-id-2 div.sk-parallel {display: flex;align-items: stretch;justify-content: center;background-color: white;position: relative;}#sk-container-id-2 div.sk-item::before, #sk-container-id-2 div.sk-parallel-item::before {content: \"\";position: absolute;border-left: 1px solid gray;box-sizing: border-box;top: 0;bottom: 0;left: 50%;z-index: -1;}#sk-container-id-2 div.sk-parallel-item {display: flex;flex-direction: column;z-index: 1;position: relative;background-color: white;}#sk-container-id-2 div.sk-parallel-item:first-child::after {align-self: flex-end;width: 50%;}#sk-container-id-2 div.sk-parallel-item:last-child::after {align-self: flex-start;width: 50%;}#sk-container-id-2 div.sk-parallel-item:only-child::after {width: 0;}#sk-container-id-2 div.sk-dashed-wrapped {border: 1px dashed gray;margin: 0 0.4em 0.5em 0.4em;box-sizing: border-box;padding-bottom: 0.4em;background-color: white;}#sk-container-id-2 div.sk-label label {font-family: monospace;font-weight: bold;display: inline-block;line-height: 1.2em;}#sk-container-id-2 div.sk-label-container {text-align: center;}#sk-container-id-2 div.sk-container {/* jupyter's `normalize.less` sets `[hidden] { display: none; }` but bootstrap.min.css set `[hidden] { display: none !important; }` so we also need the `!important` here to be able to override the default hidden behavior on the sphinx rendered scikit-learn.org. See: https://github.com/scikit-learn/scikit-learn/issues/21755 */display: inline-block !important;position: relative;}#sk-container-id-2 div.sk-text-repr-fallback {display: none;}</style><div id=\"sk-container-id-2\" class=\"sk-top-container\"><div class=\"sk-text-repr-fallback\"><pre>GridSearchCV(cv=3,\n             estimator=Pipeline(steps=[(&#x27;scaler&#x27;, MinMaxScaler()),\n                                       (&#x27;logreg&#x27;, LogisticRegression())]),\n             param_grid={&#x27;logreg__C&#x27;: [1, 3, 5, 10, 30],\n                         &#x27;logreg__penalty&#x27;: [&#x27;l1&#x27;, &#x27;l2&#x27;, &#x27;none&#x27;],\n                         &#x27;logreg__random_state&#x27;: [42]},\n             scoring=&#x27;f1_macro&#x27;)</pre><b>In a Jupyter environment, please rerun this cell to show the HTML representation or trust the notebook. <br />On GitHub, the HTML representation is unable to render, please try loading this page with nbviewer.org.</b></div><div class=\"sk-container\" hidden><div class=\"sk-item sk-dashed-wrapped\"><div class=\"sk-label-container\"><div class=\"sk-label sk-toggleable\"><input class=\"sk-toggleable__control sk-hidden--visually\" id=\"sk-estimator-id-5\" type=\"checkbox\" ><label for=\"sk-estimator-id-5\" class=\"sk-toggleable__label sk-toggleable__label-arrow\">GridSearchCV</label><div class=\"sk-toggleable__content\"><pre>GridSearchCV(cv=3,\n             estimator=Pipeline(steps=[(&#x27;scaler&#x27;, MinMaxScaler()),\n                                       (&#x27;logreg&#x27;, LogisticRegression())]),\n             param_grid={&#x27;logreg__C&#x27;: [1, 3, 5, 10, 30],\n                         &#x27;logreg__penalty&#x27;: [&#x27;l1&#x27;, &#x27;l2&#x27;, &#x27;none&#x27;],\n                         &#x27;logreg__random_state&#x27;: [42]},\n             scoring=&#x27;f1_macro&#x27;)</pre></div></div></div><div class=\"sk-parallel\"><div class=\"sk-parallel-item\"><div class=\"sk-item\"><div class=\"sk-label-container\"><div class=\"sk-label sk-toggleable\"><input class=\"sk-toggleable__control sk-hidden--visually\" id=\"sk-estimator-id-6\" type=\"checkbox\" ><label for=\"sk-estimator-id-6\" class=\"sk-toggleable__label sk-toggleable__label-arrow\">estimator: Pipeline</label><div class=\"sk-toggleable__content\"><pre>Pipeline(steps=[(&#x27;scaler&#x27;, MinMaxScaler()), (&#x27;logreg&#x27;, LogisticRegression())])</pre></div></div></div><div class=\"sk-serial\"><div class=\"sk-item\"><div class=\"sk-serial\"><div class=\"sk-item\"><div class=\"sk-estimator sk-toggleable\"><input class=\"sk-toggleable__control sk-hidden--visually\" id=\"sk-estimator-id-7\" type=\"checkbox\" ><label for=\"sk-estimator-id-7\" class=\"sk-toggleable__label sk-toggleable__label-arrow\">MinMaxScaler</label><div class=\"sk-toggleable__content\"><pre>MinMaxScaler()</pre></div></div></div><div class=\"sk-item\"><div class=\"sk-estimator sk-toggleable\"><input class=\"sk-toggleable__control sk-hidden--visually\" id=\"sk-estimator-id-8\" type=\"checkbox\" ><label for=\"sk-estimator-id-8\" class=\"sk-toggleable__label sk-toggleable__label-arrow\">LogisticRegression</label><div class=\"sk-toggleable__content\"><pre>LogisticRegression()</pre></div></div></div></div></div></div></div></div></div></div></div></div>"
     },
     "execution_count": 11,
     "metadata": {},
     "output_type": "execute_result"
    }
   ],
   "source": [
    "gridsearch = GridSearchCV(min_max_scaler_pipeline,\n",
    "                          param_grid=param_grid,\n",
    "                          scoring='f1_macro',\n",
    "                          cv=cv_number)\n",
    "gridsearch.fit(train_x, train_y)"
   ],
   "metadata": {
    "collapsed": false,
    "ExecuteTime": {
     "end_time": "2024-04-06T23:18:11.596051100Z",
     "start_time": "2024-04-06T23:17:02.392052400Z"
    }
   },
   "id": "7040e95290b8ecde"
  },
  {
   "cell_type": "code",
   "execution_count": 12,
   "outputs": [],
   "source": [
    "append_method_stats('LogisticRegression', gridsearch.best_score_, 'MinMaxScaler', gridsearch.best_params_)"
   ],
   "metadata": {
    "collapsed": false,
    "ExecuteTime": {
     "end_time": "2024-04-06T23:18:11.638052300Z",
     "start_time": "2024-04-06T23:18:11.599054200Z"
    }
   },
   "id": "52d98881be66c604"
  },
  {
   "cell_type": "code",
   "execution_count": 13,
   "outputs": [],
   "source": [
    "from sklearn.svm import SVC\n",
    "\n",
    "standard_scaler_pipeline = Pipeline([('scaler', StandardScaler()),\n",
    "                                     ('svc', SVC())])\n",
    "\n",
    "min_max_scaler_pipeline = Pipeline([('scaler', MinMaxScaler()),\n",
    "                                    ('svc', SVC())])\n",
    "\n",
    "param_grid = {\n",
    "    'svc__C': c_values,\n",
    "    'svc__random_state': random_state\n",
    "}"
   ],
   "metadata": {
    "collapsed": false,
    "ExecuteTime": {
     "end_time": "2024-04-06T23:18:11.640056300Z",
     "start_time": "2024-04-06T23:18:11.614057600Z"
    }
   },
   "id": "147d5c164cf3c8b4"
  },
  {
   "cell_type": "code",
   "execution_count": null,
   "outputs": [],
   "source": [
    "gridsearch = GridSearchCV(standard_scaler_pipeline,\n",
    "                          param_grid=param_grid,\n",
    "                          scoring='f1_macro',\n",
    "                          cv=cv_number)\n",
    "gridsearch.fit(train_x, train_y)"
   ],
   "metadata": {
    "collapsed": false,
    "is_executing": true,
    "ExecuteTime": {
     "start_time": "2024-04-06T23:18:11.631057100Z"
    }
   },
   "id": "949ac1bf617988ad"
  },
  {
   "cell_type": "code",
   "execution_count": null,
   "outputs": [],
   "source": [
    "append_method_stats('SVC', gridsearch.best_score_, 'StandardScaler', gridsearch.best_params_)"
   ],
   "metadata": {
    "collapsed": false,
    "is_executing": true
   },
   "id": "88e71fd877f00eb5"
  },
  {
   "cell_type": "code",
   "execution_count": null,
   "outputs": [],
   "source": [
    "gridsearch = GridSearchCV(min_max_scaler_pipeline,\n",
    "                          param_grid=param_grid,\n",
    "                          scoring='f1_macro',\n",
    "                          cv=cv_number)\n",
    "gridsearch.fit(train_x, train_y)"
   ],
   "metadata": {
    "collapsed": false,
    "is_executing": true
   },
   "id": "d689321feb935cd0"
  },
  {
   "cell_type": "code",
   "execution_count": null,
   "outputs": [],
   "source": [
    "append_method_stats('SVC', gridsearch.best_score_, 'MinMaxScaler', gridsearch.best_params_)"
   ],
   "metadata": {
    "collapsed": false,
    "is_executing": true
   },
   "id": "2bb81ed893c211fc"
  },
  {
   "cell_type": "code",
   "execution_count": null,
   "outputs": [],
   "source": [
    "from sklearn.neighbors import KNeighborsClassifier\n",
    "\n",
    "standard_scaler_pipeline = Pipeline([('scaler', StandardScaler()),\n",
    "                                     ('knn', KNeighborsClassifier())])\n",
    "\n",
    "min_max_scaler_pipeline = Pipeline([('scaler', MinMaxScaler()),\n",
    "                                    ('knn', KNeighborsClassifier())])\n",
    "\n",
    "param_grid = {\n",
    "    'knn__n_neighbors': [2, 3, 5, 7, 10, 15, 20, 30],\n",
    "    'knn__weights': ['uniform', 'distance'],\n",
    "    'knn__algorithm': ['auto', 'ball_tree', 'kd_tree', 'brute'],\n",
    "    'knn__p': [1, 2]\n",
    "}"
   ],
   "metadata": {
    "collapsed": false,
    "is_executing": true
   },
   "id": "4028850a7761e8b6"
  },
  {
   "cell_type": "code",
   "execution_count": null,
   "outputs": [],
   "source": [
    "gridsearch = GridSearchCV(standard_scaler_pipeline,\n",
    "                          param_grid=param_grid,\n",
    "                          scoring='f1_macro',\n",
    "                          cv=cv_number)\n",
    "gridsearch.fit(train_x, train_y)"
   ],
   "metadata": {
    "collapsed": false,
    "is_executing": true
   },
   "id": "a80c07a5e1b25281"
  },
  {
   "cell_type": "code",
   "execution_count": null,
   "outputs": [],
   "source": [
    "append_method_stats('KNeighborsClassifier', gridsearch.best_score_, 'StandardScaler', gridsearch.best_params_)"
   ],
   "metadata": {
    "collapsed": false,
    "is_executing": true
   },
   "id": "3083843d41c3fcb2"
  },
  {
   "cell_type": "code",
   "execution_count": null,
   "outputs": [],
   "source": [
    "gridsearch = GridSearchCV(min_max_scaler_pipeline,\n",
    "                          param_grid=param_grid,\n",
    "                          scoring='f1_macro',\n",
    "                          cv=cv_number)\n",
    "gridsearch.fit(train_x, train_y)"
   ],
   "metadata": {
    "collapsed": false,
    "is_executing": true
   },
   "id": "52c3071e6fd1aa99"
  },
  {
   "cell_type": "code",
   "execution_count": null,
   "outputs": [],
   "source": [
    "append_method_stats('KNeighborsClassifier', gridsearch.best_score_, 'MinMaxScaler', gridsearch.best_params_)"
   ],
   "metadata": {
    "collapsed": false,
    "is_executing": true
   },
   "id": "9103fc561a4ed19a"
  },
  {
   "cell_type": "code",
   "execution_count": null,
   "outputs": [],
   "source": [
    "from sklearn.naive_bayes import MultinomialNB\n",
    "\n",
    "min_max_scaler_pipeline = Pipeline([('scaler', MinMaxScaler()),\n",
    "                                    ('nb', MultinomialNB())])\n",
    "\n",
    "param_grid = {\n",
    "    'nb__alpha': [0, 0.5, 1.0, 1.5, 2.0],\n",
    "    'nb__fit_prior': [True, False]\n",
    "}"
   ],
   "metadata": {
    "collapsed": false,
    "is_executing": true
   },
   "id": "4ab57e974f0f44cc"
  },
  {
   "cell_type": "code",
   "execution_count": null,
   "outputs": [],
   "source": [
    "gridsearch = GridSearchCV(min_max_scaler_pipeline,\n",
    "                          param_grid=param_grid,\n",
    "                          scoring='f1_macro',\n",
    "                          cv=cv_number)\n",
    "gridsearch.fit(train_x, train_y)"
   ],
   "metadata": {
    "collapsed": false,
    "is_executing": true
   },
   "id": "9c534338c667913b"
  },
  {
   "cell_type": "code",
   "execution_count": null,
   "outputs": [],
   "source": [
    "append_method_stats('MultinomialNB', gridsearch.best_score_, 'MinMaxScaler', gridsearch.best_params_)"
   ],
   "metadata": {
    "collapsed": false,
    "is_executing": true
   },
   "id": "785c6050e784b130"
  },
  {
   "cell_type": "code",
   "execution_count": null,
   "outputs": [],
   "source": [
    "from sklearn.tree import DecisionTreeClassifier\n",
    "\n",
    "standard_scaler_pipeline = Pipeline([('scaler', StandardScaler()),\n",
    "                                     ('dt', DecisionTreeClassifier())])\n",
    "\n",
    "min_max_scaler_pipeline = Pipeline([('scaler', MinMaxScaler()),\n",
    "                                    ('dt', DecisionTreeClassifier())])\n",
    "\n",
    "param_grid = {\n",
    "    'dt__criterion': ['gini', 'entropy', 'log_loss'],\n",
    "    'dt__splitter': ['best', 'random'],\n",
    "    'dt__max_depth': [None, 10, 20],\n",
    "    'dt__min_samples_split': [2, 4, 6],\n",
    "    'dt__min_samples_leaf': [1, 2, 3],\n",
    "    'dt__max_features': max_features,\n",
    "    'dt__random_state': random_state\n",
    "}"
   ],
   "metadata": {
    "collapsed": false,
    "is_executing": true
   },
   "id": "16a9a15412597af0"
  },
  {
   "cell_type": "code",
   "execution_count": null,
   "outputs": [],
   "source": [
    "gridsearch = GridSearchCV(standard_scaler_pipeline,\n",
    "                          param_grid=param_grid,\n",
    "                          scoring='f1_macro',\n",
    "                          cv=cv_number)\n",
    "gridsearch.fit(train_x, train_y)"
   ],
   "metadata": {
    "collapsed": false,
    "is_executing": true
   },
   "id": "613a9f18d64dead7"
  },
  {
   "cell_type": "code",
   "execution_count": null,
   "outputs": [],
   "source": [
    "append_method_stats('DecisionTreeClassifier', gridsearch.best_score_, 'StandardScaler', gridsearch.best_params_)"
   ],
   "metadata": {
    "collapsed": false,
    "is_executing": true
   },
   "id": "51078ec0dc5f6b77"
  },
  {
   "cell_type": "code",
   "execution_count": null,
   "outputs": [],
   "source": [
    "gridsearch = GridSearchCV(min_max_scaler_pipeline,\n",
    "                          param_grid=param_grid,\n",
    "                          scoring='f1_macro',\n",
    "                          cv=cv_number)\n",
    "gridsearch.fit(train_x, train_y)"
   ],
   "metadata": {
    "collapsed": false,
    "is_executing": true
   },
   "id": "9b9d21151321f79d"
  },
  {
   "cell_type": "code",
   "execution_count": null,
   "outputs": [],
   "source": [
    "append_method_stats('DecisionTreeClassifier', gridsearch.best_score_, 'MinMaxScaler', gridsearch.best_params_)"
   ],
   "metadata": {
    "collapsed": false,
    "is_executing": true
   },
   "id": "90e6db6d6dc27ed0"
  },
  {
   "cell_type": "code",
   "execution_count": null,
   "outputs": [],
   "source": [
    "from sklearn.ensemble import RandomForestClassifier\n",
    "\n",
    "standard_scaler_pipeline = Pipeline([('scaler', StandardScaler()),\n",
    "                                     ('rf', RandomForestClassifier())])\n",
    "\n",
    "min_max_scaler_pipeline = Pipeline([('scaler', MinMaxScaler()),\n",
    "                                    ('rf', RandomForestClassifier())])\n",
    "\n",
    "param_grid = {\n",
    "    'rf__criterion': ['gini', 'entropy'],\n",
    "    'rf__n_estimators': n_estimators,\n",
    "    'rf__max_depth': [None, 10, 20],\n",
    "    'rf__min_samples_split': [2, 4, 6],\n",
    "    'rf__min_samples_leaf': [1, 2, 3],\n",
    "    'rf__max_features': max_features,\n",
    "    'rf__random_state': random_state\n",
    "}"
   ],
   "metadata": {
    "collapsed": false,
    "is_executing": true
   },
   "id": "459c3d55b4cf1f38"
  },
  {
   "cell_type": "code",
   "execution_count": null,
   "outputs": [],
   "source": [
    "gridsearch = GridSearchCV(standard_scaler_pipeline,\n",
    "                          param_grid=param_grid,\n",
    "                          scoring='f1_macro',\n",
    "                          cv=cv_number)\n",
    "gridsearch.fit(train_x, train_y)"
   ],
   "metadata": {
    "collapsed": false,
    "is_executing": true
   },
   "id": "c4a76b98e9398604"
  },
  {
   "cell_type": "code",
   "execution_count": null,
   "outputs": [],
   "source": [
    "append_method_stats('RandomForestClassifier', gridsearch.best_score_, 'StandardScaler', gridsearch.best_params_)"
   ],
   "metadata": {
    "collapsed": false,
    "is_executing": true
   },
   "id": "7e48bc1925878536"
  },
  {
   "cell_type": "code",
   "execution_count": null,
   "outputs": [],
   "source": [
    "gridsearch = GridSearchCV(min_max_scaler_pipeline,\n",
    "                          param_grid=param_grid,\n",
    "                          scoring='f1_macro',\n",
    "                          cv=cv_number)\n",
    "gridsearch.fit(train_x, train_y)"
   ],
   "metadata": {
    "collapsed": false,
    "is_executing": true
   },
   "id": "e6de835f715d0af2"
  },
  {
   "cell_type": "code",
   "execution_count": null,
   "outputs": [],
   "source": [
    "append_method_stats('RandomForestClassifier', gridsearch.best_score_, 'MinMaxScaler', gridsearch.best_params_)"
   ],
   "metadata": {
    "collapsed": false,
    "is_executing": true
   },
   "id": "9c98f1d0498c68ae"
  },
  {
   "cell_type": "code",
   "execution_count": null,
   "outputs": [],
   "source": [
    "from sklearn.ensemble import GradientBoostingClassifier\n",
    "\n",
    "standard_scaler_pipeline = Pipeline([('scaler', StandardScaler()),\n",
    "                                     ('gb', GradientBoostingClassifier())])\n",
    "\n",
    "min_max_scaler_pipeline = Pipeline([('scaler', MinMaxScaler()),\n",
    "                                    ('gb', GradientBoostingClassifier())])\n",
    "\n",
    "param_grid = {\n",
    "    'gb__learning_rate': [0.1, 0.5, 1.0, 2.0, 3.0],\n",
    "    'gb__max_features': max_features,\n",
    "    'gb__random_state': random_state\n",
    "}"
   ],
   "metadata": {
    "collapsed": false,
    "is_executing": true
   },
   "id": "7286656fb4d8c698"
  },
  {
   "cell_type": "code",
   "execution_count": null,
   "outputs": [],
   "source": [
    "gridsearch = GridSearchCV(standard_scaler_pipeline,\n",
    "                          param_grid=param_grid,\n",
    "                          scoring='f1_macro',\n",
    "                          cv=cv_number)\n",
    "gridsearch.fit(train_x, train_y)"
   ],
   "metadata": {
    "collapsed": false,
    "is_executing": true
   },
   "id": "a65c363df979ec5b"
  },
  {
   "cell_type": "code",
   "execution_count": null,
   "outputs": [],
   "source": [
    "append_method_stats('GradientBoostingClassifier', gridsearch.best_score_, 'StandardScaler', gridsearch.best_params_)"
   ],
   "metadata": {
    "collapsed": false,
    "is_executing": true
   },
   "id": "33a59e255572ff97"
  },
  {
   "cell_type": "code",
   "execution_count": null,
   "outputs": [],
   "source": [
    "gridsearch = GridSearchCV(min_max_scaler_pipeline,\n",
    "                          param_grid=param_grid,\n",
    "                          scoring='f1_macro',\n",
    "                          cv=cv_number)\n",
    "gridsearch.fit(train_x, train_y)"
   ],
   "metadata": {
    "collapsed": false,
    "is_executing": true
   },
   "id": "71202d63e7f4d71b"
  },
  {
   "cell_type": "code",
   "execution_count": null,
   "outputs": [],
   "source": [
    "append_method_stats('GradientBoostingClassifier', gridsearch.best_score_, 'MinMaxScaler', gridsearch.best_params_)"
   ],
   "metadata": {
    "collapsed": false,
    "is_executing": true
   },
   "id": "c7f2862972c6e26"
  },
  {
   "cell_type": "code",
   "execution_count": null,
   "outputs": [],
   "source": [
    "from sklearn.ensemble import BaggingClassifier\n",
    "\n",
    "standard_scaler_pipeline = Pipeline([('scaler', StandardScaler()),\n",
    "                                     ('bag', BaggingClassifier())])\n",
    "\n",
    "min_max_scaler_pipeline = Pipeline([('scaler', MinMaxScaler()),\n",
    "                                    ('bag', BaggingClassifier())])\n",
    "\n",
    "param_grid = {\n",
    "    'bag__n_estimators': n_estimators,\n",
    "    'bag__random_state': random_state\n",
    "}"
   ],
   "metadata": {
    "collapsed": false,
    "is_executing": true
   },
   "id": "ee2172c2a7f799c4"
  },
  {
   "cell_type": "code",
   "execution_count": null,
   "outputs": [],
   "source": [
    "gridsearch = GridSearchCV(standard_scaler_pipeline,\n",
    "                          param_grid=param_grid,\n",
    "                          scoring='f1_macro',\n",
    "                          cv=cv_number)\n",
    "gridsearch.fit(train_x, train_y)"
   ],
   "metadata": {
    "collapsed": false,
    "is_executing": true
   },
   "id": "1cbd4ac622b89d65"
  },
  {
   "cell_type": "code",
   "execution_count": null,
   "outputs": [],
   "source": [
    "append_method_stats('BaggingClassifier', gridsearch.best_score_, 'StandardScaler', gridsearch.best_params_)"
   ],
   "metadata": {
    "collapsed": false,
    "is_executing": true
   },
   "id": "de65549d3d3359e8"
  },
  {
   "cell_type": "code",
   "execution_count": null,
   "outputs": [],
   "source": [
    "gridsearch = GridSearchCV(min_max_scaler_pipeline,\n",
    "                          param_grid=param_grid,\n",
    "                          scoring='f1_macro',\n",
    "                          cv=cv_number)\n",
    "gridsearch.fit(train_x, train_y)"
   ],
   "metadata": {
    "collapsed": false,
    "is_executing": true
   },
   "id": "f9d3025b92577798"
  },
  {
   "cell_type": "code",
   "execution_count": null,
   "outputs": [],
   "source": [
    "append_method_stats('BaggingClassifier', gridsearch.best_score_, 'MinMaxScaler', gridsearch.best_params_)"
   ],
   "metadata": {
    "collapsed": false,
    "is_executing": true
   },
   "id": "a35fc7b702445295"
  },
  {
   "cell_type": "code",
   "execution_count": null,
   "outputs": [],
   "source": [
    "methods_stats_df.to_csv('stats/methods_stats.csv', index=False)"
   ],
   "metadata": {
    "collapsed": false,
    "is_executing": true
   },
   "id": "f53593c33bad452b"
  }
 ],
 "metadata": {
  "kernelspec": {
   "display_name": "Python 3",
   "language": "python",
   "name": "python3"
  },
  "language_info": {
   "codemirror_mode": {
    "name": "ipython",
    "version": 2
   },
   "file_extension": ".py",
   "mimetype": "text/x-python",
   "name": "python",
   "nbconvert_exporter": "python",
   "pygments_lexer": "ipython2",
   "version": "2.7.6"
  }
 },
 "nbformat": 4,
 "nbformat_minor": 5
}
