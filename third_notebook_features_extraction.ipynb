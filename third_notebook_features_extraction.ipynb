{
 "cells": [
  {
   "cell_type": "code",
   "execution_count": 41,
   "id": "initial_id",
   "metadata": {
    "collapsed": true,
    "ExecuteTime": {
     "end_time": "2024-03-31T15:41:32.877566500Z",
     "start_time": "2024-03-31T15:41:32.381569300Z"
    }
   },
   "outputs": [],
   "source": [
    "import pandas as pd\n",
    "\n",
    "train_data = pd.read_csv(\"train_data_preprocessed.csv\")\n",
    "test_data = pd.read_csv(\"test_data_preprocessed.csv\")\n",
    "\n",
    "train_y = train_data[\"Credit_Score\"]\n",
    "train_x = train_data.drop([\"Credit_Score\"], axis=1)"
   ]
  },
  {
   "cell_type": "code",
   "execution_count": 42,
   "outputs": [
    {
     "name": "stdout",
     "output_type": "stream",
     "text": [
      "0.6488798246716995\n"
     ]
    }
   ],
   "source": [
    "from sklearn.model_selection import cross_val_score\n",
    "from sklearn.linear_model import LogisticRegression\n",
    "\n",
    "model = LogisticRegression(max_iter=10000, random_state=42)\n",
    "print(cross_val_score(model, train_x, train_y, scoring=\"accuracy\", n_jobs=-1).mean())"
   ],
   "metadata": {
    "collapsed": false,
    "ExecuteTime": {
     "end_time": "2024-03-31T15:43:40.197983400Z",
     "start_time": "2024-03-31T15:41:32.878569700Z"
    }
   },
   "id": "16d8db192f4fc235"
  },
  {
   "cell_type": "code",
   "execution_count": 43,
   "outputs": [
    {
     "data": {
      "text/plain": "array([3.72340547e+02, 4.05426019e+03, 4.49291177e+03, 7.78897282e+03,\n       3.32195992e+03, 5.13400040e+03, 2.44208619e+03, 1.14169548e+03,\n       5.91168276e+03, 5.63659857e+03, 1.35530007e+01, 2.32806307e+03,\n       3.13496334e+02, 1.00992430e+02, 8.67159554e+02, 2.92078792e+00,\n       2.52452578e+00, 2.88337779e-02, 2.09001974e+00, 6.14842708e-01,\n       4.76524657e+00, 7.35556902e+00, 8.96216860e-01, 1.68352635e+00,\n       5.78835382e+00, 1.37550932e+00, 3.42609284e+00, 1.81448471e-01,\n       8.74545908e-01, 2.01856749e+01, 8.91821251e-02, 3.25661943e+02,\n       2.04727258e+00, 2.41027663e+01, 4.59444040e+01, 7.31476946e+02,\n       4.57715747e+02, 4.55979599e+02, 3.93982913e+02, 5.36915478e+02,\n       4.76559629e+02, 5.04449997e+02, 4.95645937e+02, 4.67804399e+02,\n       4.81410250e+02, 3.26451542e+03, 6.95859424e+03, 3.10548055e+03,\n       2.13279243e-01, 5.62962174e+00, 5.20919416e+03, 4.85243418e+03,\n       1.17283022e-01, 7.78228073e+01, 7.14668312e+01, 1.68393200e+01,\n       3.82273109e+00, 1.81964762e+01, 2.02801305e+02])"
     },
     "execution_count": 43,
     "metadata": {},
     "output_type": "execute_result"
    }
   ],
   "source": [
    "from sklearn.feature_selection import f_classif\n",
    "\n",
    "train_features = train_x.keys()\n",
    "f_statistic, p_values = f_classif(train_x, train_y)\n",
    "f_statistic"
   ],
   "metadata": {
    "collapsed": false,
    "ExecuteTime": {
     "end_time": "2024-03-31T15:43:40.305009100Z",
     "start_time": "2024-03-31T15:43:40.195976500Z"
    }
   },
   "id": "6d13a9e04c6b9595"
  },
  {
   "cell_type": "code",
   "execution_count": 44,
   "outputs": [
    {
     "data": {
      "text/plain": "['Credit_Utilization_Ratio',\n 'Amount_invested_monthly',\n 'Occupation_Accountant',\n 'Occupation_Architect',\n 'Occupation_Developer',\n 'Occupation_Doctor',\n 'Occupation_Engineer',\n 'Occupation_Entrepreneur',\n 'Occupation_Journalist',\n 'Occupation_Lawyer',\n 'Occupation_Manager',\n 'Occupation_Mechanic',\n 'Occupation_Media_Manager',\n 'Occupation_Musician',\n 'Occupation_Scientist',\n 'Occupation_Teacher',\n 'Occupation_Writer',\n 'Occupation________',\n 'Age_categories_Youth',\n 'Age_categories_Young_Adult',\n 'Age_categories_Adult',\n 'Credit_Mix__',\n 'Payment_of_Min_Amount_NM',\n 'Payment_Behaviour_!@9#%8',\n 'Payment_Behaviour_High_spent_Large_value_payments',\n 'Payment_Behaviour_High_spent_Medium_value_payments',\n 'Payment_Behaviour_High_spent_Small_value_payments',\n 'Payment_Behaviour_Low_spent_Large_value_payments',\n 'Payment_Behaviour_Low_spent_Medium_value_payments',\n 'Payment_Behaviour_Low_spent_Small_value_payments']"
     },
     "execution_count": 44,
     "metadata": {},
     "output_type": "execute_result"
    }
   ],
   "source": [
    "from pandas import Index\n",
    "\n",
    "corr_bad_columns = list(Index(['Credit_Utilization_Ratio', 'Amount_invested_monthly',\n",
    "                          'Occupation_Accountant', 'Occupation_Architect', 'Occupation_Developer',\n",
    "                          'Occupation_Doctor', 'Occupation_Engineer', 'Occupation_Entrepreneur',\n",
    "                          'Occupation_Journalist', 'Occupation_Lawyer', 'Occupation_Manager',\n",
    "                          'Occupation_Mechanic', 'Occupation_Media_Manager',\n",
    "                          'Occupation_Musician', 'Occupation_Scientist', 'Occupation_Teacher',\n",
    "                          'Occupation_Writer', 'Occupation________', 'Age_categories_Youth',\n",
    "                          'Age_categories_Young_Adult', 'Age_categories_Adult',\n",
    "                          'Credit_Mix_Standard', 'Credit_Mix__', 'Payment_of_Min_Amount_NM',\n",
    "                          'Payment_Behaviour_!@9#%8',\n",
    "                          'Payment_Behaviour_High_spent_Large_value_payments',\n",
    "                          'Payment_Behaviour_High_spent_Medium_value_payments',\n",
    "                          'Payment_Behaviour_High_spent_Small_value_payments',\n",
    "                          'Payment_Behaviour_Low_spent_Large_value_payments',\n",
    "                          'Payment_Behaviour_Low_spent_Medium_value_payments',\n",
    "                          'Payment_Behaviour_Low_spent_Small_value_payments'],\n",
    "                         dtype='object'))\n",
    "\n",
    "columns_to_delete = pd.Series(f_statistic).where(f_statistic < 300).dropna().index\n",
    "f_score_bad_columns = list(train_features[columns_to_delete])\n",
    "f_score_bad_columns"
   ],
   "metadata": {
    "collapsed": false,
    "ExecuteTime": {
     "end_time": "2024-03-31T15:43:40.340884500Z",
     "start_time": "2024-03-31T15:43:40.309007600Z"
    }
   },
   "id": "11dab2f79781c421"
  },
  {
   "cell_type": "code",
   "execution_count": 45,
   "outputs": [
    {
     "name": "stdout",
     "output_type": "stream",
     "text": [
      "Features number before deletion: 60\n",
      "Features number to delete: 31\n"
     ]
    },
    {
     "data": {
      "text/plain": "['Payment_Behaviour_High_spent_Small_value_payments',\n 'Age_categories_Adult',\n 'Amount_invested_monthly',\n 'Occupation_Engineer',\n 'Occupation_Lawyer',\n 'Occupation_Writer',\n 'Occupation_Scientist',\n 'Occupation_Media_Manager',\n 'Occupation_Journalist',\n 'Payment_Behaviour_High_spent_Medium_value_payments',\n 'Payment_Behaviour_High_spent_Large_value_payments',\n 'Age_categories_Youth',\n 'Payment_Behaviour_Low_spent_Large_value_payments',\n 'Occupation_Architect',\n 'Occupation_Musician',\n 'Occupation_Manager',\n 'Occupation_Developer',\n 'Payment_Behaviour_Low_spent_Medium_value_payments',\n 'Payment_Behaviour_!@9#%8',\n 'Payment_Behaviour_Low_spent_Small_value_payments',\n 'Occupation_Accountant',\n 'Occupation________',\n 'Credit_Mix_Standard',\n 'Age_categories_Young_Adult',\n 'Occupation_Mechanic',\n 'Occupation_Teacher',\n 'Credit_Utilization_Ratio',\n 'Occupation_Doctor',\n 'Credit_Mix__',\n 'Payment_of_Min_Amount_NM',\n 'Occupation_Entrepreneur']"
     },
     "execution_count": 45,
     "metadata": {},
     "output_type": "execute_result"
    }
   ],
   "source": [
    "bad_columns = list(set(f_score_bad_columns + corr_bad_columns))\n",
    "print(f\"Features number before deletion: {train_data.shape[1]}\")\n",
    "print(f\"Features number to delete: {len(bad_columns)}\")\n",
    "bad_columns"
   ],
   "metadata": {
    "collapsed": false,
    "ExecuteTime": {
     "end_time": "2024-03-31T15:43:40.374886300Z",
     "start_time": "2024-03-31T15:43:40.323872100Z"
    }
   },
   "id": "ff934165de2deccc"
  },
  {
   "cell_type": "code",
   "execution_count": 46,
   "outputs": [],
   "source": [
    "train_data = train_data.drop(bad_columns, axis=1)\n",
    "test_data = test_data.drop(bad_columns, axis=1)"
   ],
   "metadata": {
    "collapsed": false,
    "ExecuteTime": {
     "end_time": "2024-03-31T15:43:40.375891600Z",
     "start_time": "2024-03-31T15:43:40.339880200Z"
    }
   },
   "id": "3574b9d00f95d117"
  },
  {
   "cell_type": "code",
   "execution_count": 47,
   "outputs": [
    {
     "data": {
      "text/plain": "       Annual_Income  Num_Bank_Accounts  Num_Credit_Card  Interest_Rate  \\\n0         112882.680                5.0                1             10   \n1          28101.460                5.0                7              8   \n2          22438.270                7.0                7              9   \n3          20975.400                2.0                3              9   \n4          31751.830                5.0                4             18   \n...              ...                ...              ...            ...   \n47614      21553.810                4.0                5             12   \n47615      20799.590                2.0                5              7   \n47616      82065.160                5.0                5              3   \n47617      19403.405                1.0                7              3   \n47618      19171.680               10.0               10             34   \n\n       Num_of_Loan  Delay_from_due_date  Num_of_Delayed_Payment  \\\n0                4                   12                      10   \n1                3                   28                       8   \n2                4                   16                      13   \n3                1                    2                       9   \n4                3                   24                      12   \n...            ...                  ...                     ...   \n47614            4                    7                      11   \n47615            0                   -2                      12   \n47616            3                   12                       9   \n47617            3                   12                       9   \n47618            9                   41                      23   \n\n       Changed_Credit_Limit  Num_Credit_Inquiries  Outstanding_Debt  ...  \\\n0                      6.24                   0.0            722.90  ...   \n1                      1.85                   4.0            454.67  ...   \n2                     11.24                   3.0            167.57  ...   \n3                      9.94                   1.0            731.40  ...   \n4                     18.76                   8.0            110.73  ...   \n...                     ...                   ...               ...  ...   \n47614                  3.17                   5.0           1187.52  ...   \n47615                  5.16                   0.0             33.25  ...   \n47616                  5.55                   1.0            106.83  ...   \n47617                  3.90                   2.0            339.11  ...   \n47618                  7.50                  11.0           2092.74  ...   \n\n       Debt Consolidation Loan  Student Loan  Mortgage Loan Auto Loan  \\\n0                            1             0              0         0   \n1                            1             1              0         0   \n2                            1             1              1         1   \n3                            0             0              0         1   \n4                            0             1              0         0   \n...                        ...           ...            ...       ...   \n47614                        0             1              0         2   \n47615                        0             0              0         0   \n47616                        0             0              0         1   \n47617                        2             0              0         0   \n47618                        0             0              1         2   \n\n       Payday Loan  Personal Loan  Credit_Mix_Bad  Credit_Mix_Good  \\\n0                0              0           False             True   \n1                0              0           False            False   \n2                0              0           False            False   \n3                0              0           False             True   \n4                1              0           False            False   \n...            ...            ...             ...              ...   \n47614            1              0           False             True   \n47615            0              0           False             True   \n47616            0              0           False             True   \n47617            0              0           False            False   \n47618            1              0            True            False   \n\n       Payment_of_Min_Amount_No  Payment_of_Min_Amount_Yes  \n0                          True                      False  \n1                          True                      False  \n2                          True                      False  \n3                         False                      False  \n4                         False                       True  \n...                         ...                        ...  \n47614                     False                      False  \n47615                      True                      False  \n47616                      True                      False  \n47617                      True                      False  \n47618                     False                      False  \n\n[47619 rows x 29 columns]",
      "text/html": "<div>\n<style scoped>\n    .dataframe tbody tr th:only-of-type {\n        vertical-align: middle;\n    }\n\n    .dataframe tbody tr th {\n        vertical-align: top;\n    }\n\n    .dataframe thead th {\n        text-align: right;\n    }\n</style>\n<table border=\"1\" class=\"dataframe\">\n  <thead>\n    <tr style=\"text-align: right;\">\n      <th></th>\n      <th>Annual_Income</th>\n      <th>Num_Bank_Accounts</th>\n      <th>Num_Credit_Card</th>\n      <th>Interest_Rate</th>\n      <th>Num_of_Loan</th>\n      <th>Delay_from_due_date</th>\n      <th>Num_of_Delayed_Payment</th>\n      <th>Changed_Credit_Limit</th>\n      <th>Num_Credit_Inquiries</th>\n      <th>Outstanding_Debt</th>\n      <th>...</th>\n      <th>Debt Consolidation Loan</th>\n      <th>Student Loan</th>\n      <th>Mortgage Loan</th>\n      <th>Auto Loan</th>\n      <th>Payday Loan</th>\n      <th>Personal Loan</th>\n      <th>Credit_Mix_Bad</th>\n      <th>Credit_Mix_Good</th>\n      <th>Payment_of_Min_Amount_No</th>\n      <th>Payment_of_Min_Amount_Yes</th>\n    </tr>\n  </thead>\n  <tbody>\n    <tr>\n      <th>0</th>\n      <td>112882.680</td>\n      <td>5.0</td>\n      <td>1</td>\n      <td>10</td>\n      <td>4</td>\n      <td>12</td>\n      <td>10</td>\n      <td>6.24</td>\n      <td>0.0</td>\n      <td>722.90</td>\n      <td>...</td>\n      <td>1</td>\n      <td>0</td>\n      <td>0</td>\n      <td>0</td>\n      <td>0</td>\n      <td>0</td>\n      <td>False</td>\n      <td>True</td>\n      <td>True</td>\n      <td>False</td>\n    </tr>\n    <tr>\n      <th>1</th>\n      <td>28101.460</td>\n      <td>5.0</td>\n      <td>7</td>\n      <td>8</td>\n      <td>3</td>\n      <td>28</td>\n      <td>8</td>\n      <td>1.85</td>\n      <td>4.0</td>\n      <td>454.67</td>\n      <td>...</td>\n      <td>1</td>\n      <td>1</td>\n      <td>0</td>\n      <td>0</td>\n      <td>0</td>\n      <td>0</td>\n      <td>False</td>\n      <td>False</td>\n      <td>True</td>\n      <td>False</td>\n    </tr>\n    <tr>\n      <th>2</th>\n      <td>22438.270</td>\n      <td>7.0</td>\n      <td>7</td>\n      <td>9</td>\n      <td>4</td>\n      <td>16</td>\n      <td>13</td>\n      <td>11.24</td>\n      <td>3.0</td>\n      <td>167.57</td>\n      <td>...</td>\n      <td>1</td>\n      <td>1</td>\n      <td>1</td>\n      <td>1</td>\n      <td>0</td>\n      <td>0</td>\n      <td>False</td>\n      <td>False</td>\n      <td>True</td>\n      <td>False</td>\n    </tr>\n    <tr>\n      <th>3</th>\n      <td>20975.400</td>\n      <td>2.0</td>\n      <td>3</td>\n      <td>9</td>\n      <td>1</td>\n      <td>2</td>\n      <td>9</td>\n      <td>9.94</td>\n      <td>1.0</td>\n      <td>731.40</td>\n      <td>...</td>\n      <td>0</td>\n      <td>0</td>\n      <td>0</td>\n      <td>1</td>\n      <td>0</td>\n      <td>0</td>\n      <td>False</td>\n      <td>True</td>\n      <td>False</td>\n      <td>False</td>\n    </tr>\n    <tr>\n      <th>4</th>\n      <td>31751.830</td>\n      <td>5.0</td>\n      <td>4</td>\n      <td>18</td>\n      <td>3</td>\n      <td>24</td>\n      <td>12</td>\n      <td>18.76</td>\n      <td>8.0</td>\n      <td>110.73</td>\n      <td>...</td>\n      <td>0</td>\n      <td>1</td>\n      <td>0</td>\n      <td>0</td>\n      <td>1</td>\n      <td>0</td>\n      <td>False</td>\n      <td>False</td>\n      <td>False</td>\n      <td>True</td>\n    </tr>\n    <tr>\n      <th>...</th>\n      <td>...</td>\n      <td>...</td>\n      <td>...</td>\n      <td>...</td>\n      <td>...</td>\n      <td>...</td>\n      <td>...</td>\n      <td>...</td>\n      <td>...</td>\n      <td>...</td>\n      <td>...</td>\n      <td>...</td>\n      <td>...</td>\n      <td>...</td>\n      <td>...</td>\n      <td>...</td>\n      <td>...</td>\n      <td>...</td>\n      <td>...</td>\n      <td>...</td>\n      <td>...</td>\n    </tr>\n    <tr>\n      <th>47614</th>\n      <td>21553.810</td>\n      <td>4.0</td>\n      <td>5</td>\n      <td>12</td>\n      <td>4</td>\n      <td>7</td>\n      <td>11</td>\n      <td>3.17</td>\n      <td>5.0</td>\n      <td>1187.52</td>\n      <td>...</td>\n      <td>0</td>\n      <td>1</td>\n      <td>0</td>\n      <td>2</td>\n      <td>1</td>\n      <td>0</td>\n      <td>False</td>\n      <td>True</td>\n      <td>False</td>\n      <td>False</td>\n    </tr>\n    <tr>\n      <th>47615</th>\n      <td>20799.590</td>\n      <td>2.0</td>\n      <td>5</td>\n      <td>7</td>\n      <td>0</td>\n      <td>-2</td>\n      <td>12</td>\n      <td>5.16</td>\n      <td>0.0</td>\n      <td>33.25</td>\n      <td>...</td>\n      <td>0</td>\n      <td>0</td>\n      <td>0</td>\n      <td>0</td>\n      <td>0</td>\n      <td>0</td>\n      <td>False</td>\n      <td>True</td>\n      <td>True</td>\n      <td>False</td>\n    </tr>\n    <tr>\n      <th>47616</th>\n      <td>82065.160</td>\n      <td>5.0</td>\n      <td>5</td>\n      <td>3</td>\n      <td>3</td>\n      <td>12</td>\n      <td>9</td>\n      <td>5.55</td>\n      <td>1.0</td>\n      <td>106.83</td>\n      <td>...</td>\n      <td>0</td>\n      <td>0</td>\n      <td>0</td>\n      <td>1</td>\n      <td>0</td>\n      <td>0</td>\n      <td>False</td>\n      <td>True</td>\n      <td>True</td>\n      <td>False</td>\n    </tr>\n    <tr>\n      <th>47617</th>\n      <td>19403.405</td>\n      <td>1.0</td>\n      <td>7</td>\n      <td>3</td>\n      <td>3</td>\n      <td>12</td>\n      <td>9</td>\n      <td>3.90</td>\n      <td>2.0</td>\n      <td>339.11</td>\n      <td>...</td>\n      <td>2</td>\n      <td>0</td>\n      <td>0</td>\n      <td>0</td>\n      <td>0</td>\n      <td>0</td>\n      <td>False</td>\n      <td>False</td>\n      <td>True</td>\n      <td>False</td>\n    </tr>\n    <tr>\n      <th>47618</th>\n      <td>19171.680</td>\n      <td>10.0</td>\n      <td>10</td>\n      <td>34</td>\n      <td>9</td>\n      <td>41</td>\n      <td>23</td>\n      <td>7.50</td>\n      <td>11.0</td>\n      <td>2092.74</td>\n      <td>...</td>\n      <td>0</td>\n      <td>0</td>\n      <td>1</td>\n      <td>2</td>\n      <td>1</td>\n      <td>0</td>\n      <td>True</td>\n      <td>False</td>\n      <td>False</td>\n      <td>False</td>\n    </tr>\n  </tbody>\n</table>\n<p>47619 rows × 29 columns</p>\n</div>"
     },
     "execution_count": 47,
     "metadata": {},
     "output_type": "execute_result"
    }
   ],
   "source": [
    "train_data"
   ],
   "metadata": {
    "collapsed": false,
    "ExecuteTime": {
     "end_time": "2024-03-31T15:43:40.436907Z",
     "start_time": "2024-03-31T15:43:40.353882Z"
    }
   },
   "id": "6e3633b11e327c3c"
  },
  {
   "cell_type": "code",
   "execution_count": 48,
   "outputs": [
    {
     "data": {
      "text/plain": "       Annual_Income  Num_Bank_Accounts  Num_Credit_Card  Interest_Rate  \\\n0           43391.96                  1                5             10   \n1           14351.21                  8                7             18   \n2          130125.04                  5                2             11   \n3           20107.21                  6                6             32   \n4           92186.19                  1                2             12   \n...              ...                ...              ...            ...   \n19995       50940.09                  8                7              8   \n19996       30819.56                  7                3              9   \n19997       24004.50                  4                3             14   \n19998       35185.56                  6                4             14   \n19999       66349.96                  6                9             16   \n\n       Num_of_Loan  Delay_from_due_date  Num_of_Delayed_Payment  \\\n0                0                    9                       6   \n1                6                   18                      17   \n2                2                    3                       0   \n3                2                   15                      13   \n4                4                    1                       0   \n...            ...                  ...                     ...   \n19995            5                   12                      15   \n19996            4                    8                      14   \n19997            5                   13                      20   \n19998            3                    4                      10   \n19999            4                   15                      11   \n\n       Changed_Credit_Limit  Num_Credit_Inquiries  Outstanding_Debt  ...  \\\n0                     10.72                   0.0           1468.28  ...   \n1                     21.91                   9.0           4766.87  ...   \n2                      3.82                 645.0           1195.05  ...   \n3                     10.40                  11.0           2544.60  ...   \n4                      9.74                   4.0            809.01  ...   \n...                     ...                   ...               ...  ...   \n19995                 16.11                   6.0           2414.34  ...   \n19996                  7.68                   5.0            401.26  ...   \n19997                 12.30                  10.0           1215.00  ...   \n19998                  7.14                   0.0            379.47  ...   \n19999                  5.58                  12.0           1740.14  ...   \n\n       Student Loan  Debt Consolidation Loan  Credit-Builder Loan  \\\n0                 0                        0                    0   \n1                 2                        0                    0   \n2                 0                        1                    0   \n3                 0                        0                    1   \n4                 0                        0                    0   \n...             ...                      ...                  ...   \n19995             2                        1                    1   \n19996             1                        0                    0   \n19997             0                        0                    0   \n19998             0                        0                    1   \n19999             0                        0                    1   \n\n      Home Equity Loan  Auto Loan  Payday Loan  Credit_Mix_Bad  \\\n0                    0          0            0           False   \n1                    0          0            0            True   \n2                    0          0            0           False   \n3                    1          0            0           False   \n4                    0          1            0           False   \n...                ...        ...          ...             ...   \n19995                0          0            0           False   \n19996                1          0            1           False   \n19997                1          0            2           False   \n19998                1          0            0           False   \n19999                1          0            1           False   \n\n       Credit_Mix_Good  Payment_of_Min_Amount_No  Payment_of_Min_Amount_Yes  \n0                 True                      True                      False  \n1                False                     False                       True  \n2                 True                      True                      False  \n3                False                     False                       True  \n4                 True                      True                      False  \n...                ...                       ...                        ...  \n19995            False                     False                       True  \n19996            False                     False                       True  \n19997            False                     False                       True  \n19998            False                      True                      False  \n19999            False                     False                       True  \n\n[20000 rows x 29 columns]",
      "text/html": "<div>\n<style scoped>\n    .dataframe tbody tr th:only-of-type {\n        vertical-align: middle;\n    }\n\n    .dataframe tbody tr th {\n        vertical-align: top;\n    }\n\n    .dataframe thead th {\n        text-align: right;\n    }\n</style>\n<table border=\"1\" class=\"dataframe\">\n  <thead>\n    <tr style=\"text-align: right;\">\n      <th></th>\n      <th>Annual_Income</th>\n      <th>Num_Bank_Accounts</th>\n      <th>Num_Credit_Card</th>\n      <th>Interest_Rate</th>\n      <th>Num_of_Loan</th>\n      <th>Delay_from_due_date</th>\n      <th>Num_of_Delayed_Payment</th>\n      <th>Changed_Credit_Limit</th>\n      <th>Num_Credit_Inquiries</th>\n      <th>Outstanding_Debt</th>\n      <th>...</th>\n      <th>Student Loan</th>\n      <th>Debt Consolidation Loan</th>\n      <th>Credit-Builder Loan</th>\n      <th>Home Equity Loan</th>\n      <th>Auto Loan</th>\n      <th>Payday Loan</th>\n      <th>Credit_Mix_Bad</th>\n      <th>Credit_Mix_Good</th>\n      <th>Payment_of_Min_Amount_No</th>\n      <th>Payment_of_Min_Amount_Yes</th>\n    </tr>\n  </thead>\n  <tbody>\n    <tr>\n      <th>0</th>\n      <td>43391.96</td>\n      <td>1</td>\n      <td>5</td>\n      <td>10</td>\n      <td>0</td>\n      <td>9</td>\n      <td>6</td>\n      <td>10.72</td>\n      <td>0.0</td>\n      <td>1468.28</td>\n      <td>...</td>\n      <td>0</td>\n      <td>0</td>\n      <td>0</td>\n      <td>0</td>\n      <td>0</td>\n      <td>0</td>\n      <td>False</td>\n      <td>True</td>\n      <td>True</td>\n      <td>False</td>\n    </tr>\n    <tr>\n      <th>1</th>\n      <td>14351.21</td>\n      <td>8</td>\n      <td>7</td>\n      <td>18</td>\n      <td>6</td>\n      <td>18</td>\n      <td>17</td>\n      <td>21.91</td>\n      <td>9.0</td>\n      <td>4766.87</td>\n      <td>...</td>\n      <td>2</td>\n      <td>0</td>\n      <td>0</td>\n      <td>0</td>\n      <td>0</td>\n      <td>0</td>\n      <td>True</td>\n      <td>False</td>\n      <td>False</td>\n      <td>True</td>\n    </tr>\n    <tr>\n      <th>2</th>\n      <td>130125.04</td>\n      <td>5</td>\n      <td>2</td>\n      <td>11</td>\n      <td>2</td>\n      <td>3</td>\n      <td>0</td>\n      <td>3.82</td>\n      <td>645.0</td>\n      <td>1195.05</td>\n      <td>...</td>\n      <td>0</td>\n      <td>1</td>\n      <td>0</td>\n      <td>0</td>\n      <td>0</td>\n      <td>0</td>\n      <td>False</td>\n      <td>True</td>\n      <td>True</td>\n      <td>False</td>\n    </tr>\n    <tr>\n      <th>3</th>\n      <td>20107.21</td>\n      <td>6</td>\n      <td>6</td>\n      <td>32</td>\n      <td>2</td>\n      <td>15</td>\n      <td>13</td>\n      <td>10.40</td>\n      <td>11.0</td>\n      <td>2544.60</td>\n      <td>...</td>\n      <td>0</td>\n      <td>0</td>\n      <td>1</td>\n      <td>1</td>\n      <td>0</td>\n      <td>0</td>\n      <td>False</td>\n      <td>False</td>\n      <td>False</td>\n      <td>True</td>\n    </tr>\n    <tr>\n      <th>4</th>\n      <td>92186.19</td>\n      <td>1</td>\n      <td>2</td>\n      <td>12</td>\n      <td>4</td>\n      <td>1</td>\n      <td>0</td>\n      <td>9.74</td>\n      <td>4.0</td>\n      <td>809.01</td>\n      <td>...</td>\n      <td>0</td>\n      <td>0</td>\n      <td>0</td>\n      <td>0</td>\n      <td>1</td>\n      <td>0</td>\n      <td>False</td>\n      <td>True</td>\n      <td>True</td>\n      <td>False</td>\n    </tr>\n    <tr>\n      <th>...</th>\n      <td>...</td>\n      <td>...</td>\n      <td>...</td>\n      <td>...</td>\n      <td>...</td>\n      <td>...</td>\n      <td>...</td>\n      <td>...</td>\n      <td>...</td>\n      <td>...</td>\n      <td>...</td>\n      <td>...</td>\n      <td>...</td>\n      <td>...</td>\n      <td>...</td>\n      <td>...</td>\n      <td>...</td>\n      <td>...</td>\n      <td>...</td>\n      <td>...</td>\n      <td>...</td>\n    </tr>\n    <tr>\n      <th>19995</th>\n      <td>50940.09</td>\n      <td>8</td>\n      <td>7</td>\n      <td>8</td>\n      <td>5</td>\n      <td>12</td>\n      <td>15</td>\n      <td>16.11</td>\n      <td>6.0</td>\n      <td>2414.34</td>\n      <td>...</td>\n      <td>2</td>\n      <td>1</td>\n      <td>1</td>\n      <td>0</td>\n      <td>0</td>\n      <td>0</td>\n      <td>False</td>\n      <td>False</td>\n      <td>False</td>\n      <td>True</td>\n    </tr>\n    <tr>\n      <th>19996</th>\n      <td>30819.56</td>\n      <td>7</td>\n      <td>3</td>\n      <td>9</td>\n      <td>4</td>\n      <td>8</td>\n      <td>14</td>\n      <td>7.68</td>\n      <td>5.0</td>\n      <td>401.26</td>\n      <td>...</td>\n      <td>1</td>\n      <td>0</td>\n      <td>0</td>\n      <td>1</td>\n      <td>0</td>\n      <td>1</td>\n      <td>False</td>\n      <td>False</td>\n      <td>False</td>\n      <td>True</td>\n    </tr>\n    <tr>\n      <th>19997</th>\n      <td>24004.50</td>\n      <td>4</td>\n      <td>3</td>\n      <td>14</td>\n      <td>5</td>\n      <td>13</td>\n      <td>20</td>\n      <td>12.30</td>\n      <td>10.0</td>\n      <td>1215.00</td>\n      <td>...</td>\n      <td>0</td>\n      <td>0</td>\n      <td>0</td>\n      <td>1</td>\n      <td>0</td>\n      <td>2</td>\n      <td>False</td>\n      <td>False</td>\n      <td>False</td>\n      <td>True</td>\n    </tr>\n    <tr>\n      <th>19998</th>\n      <td>35185.56</td>\n      <td>6</td>\n      <td>4</td>\n      <td>14</td>\n      <td>3</td>\n      <td>4</td>\n      <td>10</td>\n      <td>7.14</td>\n      <td>0.0</td>\n      <td>379.47</td>\n      <td>...</td>\n      <td>0</td>\n      <td>0</td>\n      <td>1</td>\n      <td>1</td>\n      <td>0</td>\n      <td>0</td>\n      <td>False</td>\n      <td>False</td>\n      <td>True</td>\n      <td>False</td>\n    </tr>\n    <tr>\n      <th>19999</th>\n      <td>66349.96</td>\n      <td>6</td>\n      <td>9</td>\n      <td>16</td>\n      <td>4</td>\n      <td>15</td>\n      <td>11</td>\n      <td>5.58</td>\n      <td>12.0</td>\n      <td>1740.14</td>\n      <td>...</td>\n      <td>0</td>\n      <td>0</td>\n      <td>1</td>\n      <td>1</td>\n      <td>0</td>\n      <td>1</td>\n      <td>False</td>\n      <td>False</td>\n      <td>False</td>\n      <td>True</td>\n    </tr>\n  </tbody>\n</table>\n<p>20000 rows × 29 columns</p>\n</div>"
     },
     "execution_count": 48,
     "metadata": {},
     "output_type": "execute_result"
    }
   ],
   "source": [
    "test_data"
   ],
   "metadata": {
    "collapsed": false,
    "ExecuteTime": {
     "end_time": "2024-03-31T15:43:40.441892100Z",
     "start_time": "2024-03-31T15:43:40.398881100Z"
    }
   },
   "id": "6420faaaf3ee9d3"
  },
  {
   "cell_type": "code",
   "execution_count": 49,
   "outputs": [
    {
     "name": "stdout",
     "output_type": "stream",
     "text": [
      "0.6415087581898472\n"
     ]
    }
   ],
   "source": [
    "y = train_data[\"Credit_Score\"]\n",
    "x = train_data.drop([\"Credit_Score\"], axis=1)\n",
    "\n",
    "print(cross_val_score(model, x, y, scoring=\"accuracy\", n_jobs=-1).mean())"
   ],
   "metadata": {
    "collapsed": false,
    "ExecuteTime": {
     "end_time": "2024-03-31T15:44:33.453511800Z",
     "start_time": "2024-03-31T15:43:40.432904100Z"
    }
   },
   "id": "c4713ca6bfabd1de"
  },
  {
   "cell_type": "code",
   "execution_count": 50,
   "outputs": [],
   "source": [
    "train_data.to_csv(\"train_data_features_selected.csv\", index=False)\n",
    "test_data.to_csv(\"test_data_features_selected.csv\", index=False)"
   ],
   "metadata": {
    "collapsed": false,
    "ExecuteTime": {
     "end_time": "2024-03-31T15:44:34.427550400Z",
     "start_time": "2024-03-31T15:44:33.457518Z"
    }
   },
   "id": "114ef0f573f6adac"
  },
  {
   "cell_type": "code",
   "execution_count": 51,
   "outputs": [
    {
     "name": "stdout",
     "output_type": "stream",
     "text": [
      "Optimal number of features: 55\n"
     ]
    },
    {
     "data": {
      "text/plain": "array([False,  True,  True,  True,  True,  True,  True,  True,  True,\n       False,  True,  True,  True, False, False,  True,  True,  True,\n        True,  True,  True,  True,  True,  True,  True,  True,  True,\n        True,  True,  True,  True,  True,  True,  True,  True,  True,\n        True,  True,  True,  True,  True,  True,  True,  True,  True,\n        True,  True,  True,  True,  True,  True,  True,  True,  True,\n        True,  True,  True,  True,  True])"
     },
     "execution_count": 51,
     "metadata": {},
     "output_type": "execute_result"
    }
   ],
   "source": [
    "from sklearn.feature_selection import RFECV\n",
    "\n",
    "rfecv = RFECV(\n",
    "    estimator=model,\n",
    "    scoring=\"accuracy\",\n",
    "    n_jobs=-1,\n",
    "    min_features_to_select=10\n",
    ")\n",
    "rfecv.fit(train_x, train_y)\n",
    "print(f\"Optimal number of features: {rfecv.n_features_}\")\n",
    "rfecv.support_"
   ],
   "metadata": {
    "collapsed": false,
    "ExecuteTime": {
     "end_time": "2024-03-31T16:05:36.662100800Z",
     "start_time": "2024-03-31T15:44:34.431543500Z"
    }
   },
   "id": "3f82030bfd7d456d"
  },
  {
   "cell_type": "code",
   "execution_count": 52,
   "outputs": [
    {
     "name": "stdout",
     "output_type": "stream",
     "text": [
      "0.6761797130958568\n"
     ]
    }
   ],
   "source": [
    "rfecv_good_columns = list(train_x.keys()[rfecv.support_])\n",
    "\n",
    "print(cross_val_score(model, train_x[rfecv_good_columns], train_y, scoring=\"accuracy\", n_jobs=-1).mean())"
   ],
   "metadata": {
    "collapsed": false,
    "ExecuteTime": {
     "end_time": "2024-03-31T16:06:23.369272Z",
     "start_time": "2024-03-31T16:05:36.667110600Z"
    }
   },
   "id": "9384f7e8015fd4fa"
  },
  {
   "cell_type": "code",
   "execution_count": 58,
   "outputs": [],
   "source": [
    "train_data = pd.read_csv(\"train_data_preprocessed.csv\")\n",
    "test_data = pd.read_csv(\"test_data_preprocessed.csv\")"
   ],
   "metadata": {
    "collapsed": false,
    "ExecuteTime": {
     "end_time": "2024-03-31T19:02:30.821872800Z",
     "start_time": "2024-03-31T19:02:30.359866900Z"
    }
   },
   "id": "474a4b6e421aeea1"
  },
  {
   "cell_type": "code",
   "execution_count": 59,
   "outputs": [],
   "source": [
    "train_data = train_data[rfecv_good_columns + [\"Credit_Score\"]]\n",
    "test_data = test_data[rfecv_good_columns + [\"Credit_Score\"]]"
   ],
   "metadata": {
    "collapsed": false,
    "ExecuteTime": {
     "end_time": "2024-03-31T19:02:30.843863500Z",
     "start_time": "2024-03-31T19:02:30.823862100Z"
    }
   },
   "id": "41f5e368f4929cf7"
  },
  {
   "cell_type": "code",
   "execution_count": 60,
   "outputs": [
    {
     "data": {
      "text/plain": "       Num_Bank_Accounts  Num_Credit_Card  Interest_Rate  Num_of_Loan  \\\n0                    5.0                1             10            4   \n1                    5.0                7              8            3   \n2                    7.0                7              9            4   \n3                    2.0                3              9            1   \n4                    5.0                4             18            3   \n...                  ...              ...            ...          ...   \n47614                4.0                5             12            4   \n47615                2.0                5              7            0   \n47616                5.0                5              3            3   \n47617                1.0                7              3            3   \n47618               10.0               10             34            9   \n\n       Delay_from_due_date  Num_of_Delayed_Payment  Changed_Credit_Limit  \\\n0                       12                      10                  6.24   \n1                       28                       8                  1.85   \n2                       16                      13                 11.24   \n3                        2                       9                  9.94   \n4                       24                      12                 18.76   \n...                    ...                     ...                   ...   \n47614                    7                      11                  3.17   \n47615                   -2                      12                  5.16   \n47616                   12                       9                  5.55   \n47617                   12                       9                  3.90   \n47618                   41                      23                  7.50   \n\n       Num_Credit_Inquiries  Credit_Utilization_Ratio  Credit_History_Age  \\\n0                       0.0                 40.090839           28.916667   \n1                       4.0                 23.607892           26.750000   \n2                       3.0                 27.094189            0.000000   \n3                       1.0                 26.205042           24.250000   \n4                       8.0                 24.301922           24.083333   \n...                     ...                       ...                 ...   \n47614                   5.0                 32.072697           32.166667   \n47615                   0.0                 27.192416           20.333333   \n47616                   1.0                 35.131041           23.000000   \n47617                   2.0                 36.826610           16.666667   \n47618                  11.0                 37.579855           11.500000   \n\n       ...  Payment_of_Min_Amount_No  Payment_of_Min_Amount_Yes  \\\n0      ...                      True                      False   \n1      ...                      True                      False   \n2      ...                      True                      False   \n3      ...                     False                      False   \n4      ...                     False                       True   \n...    ...                       ...                        ...   \n47614  ...                     False                      False   \n47615  ...                      True                      False   \n47616  ...                      True                      False   \n47617  ...                      True                      False   \n47618  ...                     False                      False   \n\n       Payment_Behaviour_!@9#%8  \\\n0                         False   \n1                         False   \n2                         False   \n3                         False   \n4                          True   \n...                         ...   \n47614                     False   \n47615                     False   \n47616                     False   \n47617                     False   \n47618                     False   \n\n       Payment_Behaviour_High_spent_Large_value_payments  \\\n0                                                   True   \n1                                                  False   \n2                                                  False   \n3                                                  False   \n4                                                  False   \n...                                                  ...   \n47614                                               True   \n47615                                              False   \n47616                                              False   \n47617                                              False   \n47618                                              False   \n\n       Payment_Behaviour_High_spent_Medium_value_payments  \\\n0                                                  False    \n1                                                  False    \n2                                                  False    \n3                                                   True    \n4                                                  False    \n...                                                  ...    \n47614                                              False    \n47615                                              False    \n47616                                              False    \n47617                                              False    \n47618                                              False    \n\n       Payment_Behaviour_High_spent_Small_value_payments  \\\n0                                                  False   \n1                                                  False   \n2                                                  False   \n3                                                  False   \n4                                                  False   \n...                                                  ...   \n47614                                              False   \n47615                                              False   \n47616                                               True   \n47617                                              False   \n47618                                              False   \n\n       Payment_Behaviour_Low_spent_Large_value_payments  \\\n0                                                 False   \n1                                                 False   \n2                                                  True   \n3                                                 False   \n4                                                 False   \n...                                                 ...   \n47614                                             False   \n47615                                             False   \n47616                                             False   \n47617                                              True   \n47618                                             False   \n\n       Payment_Behaviour_Low_spent_Medium_value_payments  \\\n0                                                  False   \n1                                                  False   \n2                                                  False   \n3                                                  False   \n4                                                  False   \n...                                                  ...   \n47614                                              False   \n47615                                              False   \n47616                                              False   \n47617                                              False   \n47618                                              False   \n\n       Payment_Behaviour_Low_spent_Small_value_payments  Credit_Score  \n0                                                 False          Good  \n1                                                  True          Good  \n2                                                 False      Standard  \n3                                                 False          Good  \n4                                                 False      Standard  \n...                                                 ...           ...  \n47614                                             False          Good  \n47615                                              True          Good  \n47616                                             False          Good  \n47617                                             False      Standard  \n47618                                              True          Poor  \n\n[47619 rows x 56 columns]",
      "text/html": "<div>\n<style scoped>\n    .dataframe tbody tr th:only-of-type {\n        vertical-align: middle;\n    }\n\n    .dataframe tbody tr th {\n        vertical-align: top;\n    }\n\n    .dataframe thead th {\n        text-align: right;\n    }\n</style>\n<table border=\"1\" class=\"dataframe\">\n  <thead>\n    <tr style=\"text-align: right;\">\n      <th></th>\n      <th>Num_Bank_Accounts</th>\n      <th>Num_Credit_Card</th>\n      <th>Interest_Rate</th>\n      <th>Num_of_Loan</th>\n      <th>Delay_from_due_date</th>\n      <th>Num_of_Delayed_Payment</th>\n      <th>Changed_Credit_Limit</th>\n      <th>Num_Credit_Inquiries</th>\n      <th>Credit_Utilization_Ratio</th>\n      <th>Credit_History_Age</th>\n      <th>...</th>\n      <th>Payment_of_Min_Amount_No</th>\n      <th>Payment_of_Min_Amount_Yes</th>\n      <th>Payment_Behaviour_!@9#%8</th>\n      <th>Payment_Behaviour_High_spent_Large_value_payments</th>\n      <th>Payment_Behaviour_High_spent_Medium_value_payments</th>\n      <th>Payment_Behaviour_High_spent_Small_value_payments</th>\n      <th>Payment_Behaviour_Low_spent_Large_value_payments</th>\n      <th>Payment_Behaviour_Low_spent_Medium_value_payments</th>\n      <th>Payment_Behaviour_Low_spent_Small_value_payments</th>\n      <th>Credit_Score</th>\n    </tr>\n  </thead>\n  <tbody>\n    <tr>\n      <th>0</th>\n      <td>5.0</td>\n      <td>1</td>\n      <td>10</td>\n      <td>4</td>\n      <td>12</td>\n      <td>10</td>\n      <td>6.24</td>\n      <td>0.0</td>\n      <td>40.090839</td>\n      <td>28.916667</td>\n      <td>...</td>\n      <td>True</td>\n      <td>False</td>\n      <td>False</td>\n      <td>True</td>\n      <td>False</td>\n      <td>False</td>\n      <td>False</td>\n      <td>False</td>\n      <td>False</td>\n      <td>Good</td>\n    </tr>\n    <tr>\n      <th>1</th>\n      <td>5.0</td>\n      <td>7</td>\n      <td>8</td>\n      <td>3</td>\n      <td>28</td>\n      <td>8</td>\n      <td>1.85</td>\n      <td>4.0</td>\n      <td>23.607892</td>\n      <td>26.750000</td>\n      <td>...</td>\n      <td>True</td>\n      <td>False</td>\n      <td>False</td>\n      <td>False</td>\n      <td>False</td>\n      <td>False</td>\n      <td>False</td>\n      <td>False</td>\n      <td>True</td>\n      <td>Good</td>\n    </tr>\n    <tr>\n      <th>2</th>\n      <td>7.0</td>\n      <td>7</td>\n      <td>9</td>\n      <td>4</td>\n      <td>16</td>\n      <td>13</td>\n      <td>11.24</td>\n      <td>3.0</td>\n      <td>27.094189</td>\n      <td>0.000000</td>\n      <td>...</td>\n      <td>True</td>\n      <td>False</td>\n      <td>False</td>\n      <td>False</td>\n      <td>False</td>\n      <td>False</td>\n      <td>True</td>\n      <td>False</td>\n      <td>False</td>\n      <td>Standard</td>\n    </tr>\n    <tr>\n      <th>3</th>\n      <td>2.0</td>\n      <td>3</td>\n      <td>9</td>\n      <td>1</td>\n      <td>2</td>\n      <td>9</td>\n      <td>9.94</td>\n      <td>1.0</td>\n      <td>26.205042</td>\n      <td>24.250000</td>\n      <td>...</td>\n      <td>False</td>\n      <td>False</td>\n      <td>False</td>\n      <td>False</td>\n      <td>True</td>\n      <td>False</td>\n      <td>False</td>\n      <td>False</td>\n      <td>False</td>\n      <td>Good</td>\n    </tr>\n    <tr>\n      <th>4</th>\n      <td>5.0</td>\n      <td>4</td>\n      <td>18</td>\n      <td>3</td>\n      <td>24</td>\n      <td>12</td>\n      <td>18.76</td>\n      <td>8.0</td>\n      <td>24.301922</td>\n      <td>24.083333</td>\n      <td>...</td>\n      <td>False</td>\n      <td>True</td>\n      <td>True</td>\n      <td>False</td>\n      <td>False</td>\n      <td>False</td>\n      <td>False</td>\n      <td>False</td>\n      <td>False</td>\n      <td>Standard</td>\n    </tr>\n    <tr>\n      <th>...</th>\n      <td>...</td>\n      <td>...</td>\n      <td>...</td>\n      <td>...</td>\n      <td>...</td>\n      <td>...</td>\n      <td>...</td>\n      <td>...</td>\n      <td>...</td>\n      <td>...</td>\n      <td>...</td>\n      <td>...</td>\n      <td>...</td>\n      <td>...</td>\n      <td>...</td>\n      <td>...</td>\n      <td>...</td>\n      <td>...</td>\n      <td>...</td>\n      <td>...</td>\n      <td>...</td>\n    </tr>\n    <tr>\n      <th>47614</th>\n      <td>4.0</td>\n      <td>5</td>\n      <td>12</td>\n      <td>4</td>\n      <td>7</td>\n      <td>11</td>\n      <td>3.17</td>\n      <td>5.0</td>\n      <td>32.072697</td>\n      <td>32.166667</td>\n      <td>...</td>\n      <td>False</td>\n      <td>False</td>\n      <td>False</td>\n      <td>True</td>\n      <td>False</td>\n      <td>False</td>\n      <td>False</td>\n      <td>False</td>\n      <td>False</td>\n      <td>Good</td>\n    </tr>\n    <tr>\n      <th>47615</th>\n      <td>2.0</td>\n      <td>5</td>\n      <td>7</td>\n      <td>0</td>\n      <td>-2</td>\n      <td>12</td>\n      <td>5.16</td>\n      <td>0.0</td>\n      <td>27.192416</td>\n      <td>20.333333</td>\n      <td>...</td>\n      <td>True</td>\n      <td>False</td>\n      <td>False</td>\n      <td>False</td>\n      <td>False</td>\n      <td>False</td>\n      <td>False</td>\n      <td>False</td>\n      <td>True</td>\n      <td>Good</td>\n    </tr>\n    <tr>\n      <th>47616</th>\n      <td>5.0</td>\n      <td>5</td>\n      <td>3</td>\n      <td>3</td>\n      <td>12</td>\n      <td>9</td>\n      <td>5.55</td>\n      <td>1.0</td>\n      <td>35.131041</td>\n      <td>23.000000</td>\n      <td>...</td>\n      <td>True</td>\n      <td>False</td>\n      <td>False</td>\n      <td>False</td>\n      <td>False</td>\n      <td>True</td>\n      <td>False</td>\n      <td>False</td>\n      <td>False</td>\n      <td>Good</td>\n    </tr>\n    <tr>\n      <th>47617</th>\n      <td>1.0</td>\n      <td>7</td>\n      <td>3</td>\n      <td>3</td>\n      <td>12</td>\n      <td>9</td>\n      <td>3.90</td>\n      <td>2.0</td>\n      <td>36.826610</td>\n      <td>16.666667</td>\n      <td>...</td>\n      <td>True</td>\n      <td>False</td>\n      <td>False</td>\n      <td>False</td>\n      <td>False</td>\n      <td>False</td>\n      <td>True</td>\n      <td>False</td>\n      <td>False</td>\n      <td>Standard</td>\n    </tr>\n    <tr>\n      <th>47618</th>\n      <td>10.0</td>\n      <td>10</td>\n      <td>34</td>\n      <td>9</td>\n      <td>41</td>\n      <td>23</td>\n      <td>7.50</td>\n      <td>11.0</td>\n      <td>37.579855</td>\n      <td>11.500000</td>\n      <td>...</td>\n      <td>False</td>\n      <td>False</td>\n      <td>False</td>\n      <td>False</td>\n      <td>False</td>\n      <td>False</td>\n      <td>False</td>\n      <td>False</td>\n      <td>True</td>\n      <td>Poor</td>\n    </tr>\n  </tbody>\n</table>\n<p>47619 rows × 56 columns</p>\n</div>"
     },
     "execution_count": 60,
     "metadata": {},
     "output_type": "execute_result"
    }
   ],
   "source": [
    "train_data"
   ],
   "metadata": {
    "collapsed": false,
    "ExecuteTime": {
     "end_time": "2024-03-31T19:02:30.894868900Z",
     "start_time": "2024-03-31T19:02:30.847863400Z"
    }
   },
   "id": "5c9889a8f3f53409"
  },
  {
   "cell_type": "code",
   "execution_count": 61,
   "outputs": [
    {
     "data": {
      "text/plain": "       Num_Bank_Accounts  Num_Credit_Card  Interest_Rate  Num_of_Loan  \\\n0                      1                5             10            0   \n1                      8                7             18            6   \n2                      5                2             11            2   \n3                      6                6             32            2   \n4                      1                2             12            4   \n...                  ...              ...            ...          ...   \n19995                  8                7              8            5   \n19996                  7                3              9            4   \n19997                  4                3             14            5   \n19998                  6                4             14            3   \n19999                  6                9             16            4   \n\n       Delay_from_due_date  Num_of_Delayed_Payment  Changed_Credit_Limit  \\\n0                        9                       6                 10.72   \n1                       18                      17                 21.91   \n2                        3                       0                  3.82   \n3                       15                      13                 10.40   \n4                        1                       0                  9.74   \n...                    ...                     ...                   ...   \n19995                   12                      15                 16.11   \n19996                    8                      14                  7.68   \n19997                   13                      20                 12.30   \n19998                    4                      10                  7.14   \n19999                   15                      11                  5.58   \n\n       Num_Credit_Inquiries  Credit_Utilization_Ratio  Credit_History_Age  \\\n0                       0.0                 29.112468           23.666667   \n1                       9.0                 39.849732            0.000000   \n2                     645.0                 21.542892           15.916667   \n3                      11.0                 32.423759           19.333333   \n4                       4.0                 39.543131           20.750000   \n...                     ...                       ...                 ...   \n19995                   6.0                 34.099913           12.416667   \n19996                   5.0                 38.868023           14.166667   \n19997                  10.0                 34.074416            0.000000   \n19998                   0.0                 28.452911           21.000000   \n19999                  12.0                 28.336654           11.916667   \n\n       ...  Payment_of_Min_Amount_No  Payment_of_Min_Amount_Yes  \\\n0      ...                      True                      False   \n1      ...                     False                       True   \n2      ...                      True                      False   \n3      ...                     False                       True   \n4      ...                      True                      False   \n...    ...                       ...                        ...   \n19995  ...                     False                       True   \n19996  ...                     False                       True   \n19997  ...                     False                       True   \n19998  ...                      True                      False   \n19999  ...                     False                       True   \n\n       Payment_Behaviour_!@9#%8  \\\n0                         False   \n1                         False   \n2                         False   \n3                         False   \n4                         False   \n...                         ...   \n19995                     False   \n19996                     False   \n19997                     False   \n19998                     False   \n19999                     False   \n\n       Payment_Behaviour_High_spent_Large_value_payments  \\\n0                                                   True   \n1                                                  False   \n2                                                  False   \n3                                                  False   \n4                                                  False   \n...                                                  ...   \n19995                                              False   \n19996                                              False   \n19997                                              False   \n19998                                              False   \n19999                                              False   \n\n       Payment_Behaviour_High_spent_Medium_value_payments  \\\n0                                                  False    \n1                                                  False    \n2                                                  False    \n3                                                  False    \n4                                                   True    \n...                                                  ...    \n19995                                              False    \n19996                                               True    \n19997                                              False    \n19998                                              False    \n19999                                              False    \n\n       Payment_Behaviour_High_spent_Small_value_payments  \\\n0                                                  False   \n1                                                  False   \n2                                                  False   \n3                                                  False   \n4                                                  False   \n...                                                  ...   \n19995                                              False   \n19996                                              False   \n19997                                              False   \n19998                                              False   \n19999                                              False   \n\n       Payment_Behaviour_Low_spent_Large_value_payments  \\\n0                                                 False   \n1                                                 False   \n2                                                 False   \n3                                                 False   \n4                                                 False   \n...                                                 ...   \n19995                                              True   \n19996                                             False   \n19997                                             False   \n19998                                             False   \n19999                                             False   \n\n       Payment_Behaviour_Low_spent_Medium_value_payments  \\\n0                                                  False   \n1                                                  False   \n2                                                  False   \n3                                                  False   \n4                                                  False   \n...                                                  ...   \n19995                                              False   \n19996                                              False   \n19997                                              False   \n19998                                              False   \n19999                                              False   \n\n       Payment_Behaviour_Low_spent_Small_value_payments  Credit_Score  \n0                                                 False          Good  \n1                                                  True          Poor  \n2                                                  True          Good  \n3                                                  True          Poor  \n4                                                 False          Good  \n...                                                 ...           ...  \n19995                                             False      Standard  \n19996                                             False      Standard  \n19997                                              True          Poor  \n19998                                              True      Standard  \n19999                                              True      Standard  \n\n[20000 rows x 56 columns]",
      "text/html": "<div>\n<style scoped>\n    .dataframe tbody tr th:only-of-type {\n        vertical-align: middle;\n    }\n\n    .dataframe tbody tr th {\n        vertical-align: top;\n    }\n\n    .dataframe thead th {\n        text-align: right;\n    }\n</style>\n<table border=\"1\" class=\"dataframe\">\n  <thead>\n    <tr style=\"text-align: right;\">\n      <th></th>\n      <th>Num_Bank_Accounts</th>\n      <th>Num_Credit_Card</th>\n      <th>Interest_Rate</th>\n      <th>Num_of_Loan</th>\n      <th>Delay_from_due_date</th>\n      <th>Num_of_Delayed_Payment</th>\n      <th>Changed_Credit_Limit</th>\n      <th>Num_Credit_Inquiries</th>\n      <th>Credit_Utilization_Ratio</th>\n      <th>Credit_History_Age</th>\n      <th>...</th>\n      <th>Payment_of_Min_Amount_No</th>\n      <th>Payment_of_Min_Amount_Yes</th>\n      <th>Payment_Behaviour_!@9#%8</th>\n      <th>Payment_Behaviour_High_spent_Large_value_payments</th>\n      <th>Payment_Behaviour_High_spent_Medium_value_payments</th>\n      <th>Payment_Behaviour_High_spent_Small_value_payments</th>\n      <th>Payment_Behaviour_Low_spent_Large_value_payments</th>\n      <th>Payment_Behaviour_Low_spent_Medium_value_payments</th>\n      <th>Payment_Behaviour_Low_spent_Small_value_payments</th>\n      <th>Credit_Score</th>\n    </tr>\n  </thead>\n  <tbody>\n    <tr>\n      <th>0</th>\n      <td>1</td>\n      <td>5</td>\n      <td>10</td>\n      <td>0</td>\n      <td>9</td>\n      <td>6</td>\n      <td>10.72</td>\n      <td>0.0</td>\n      <td>29.112468</td>\n      <td>23.666667</td>\n      <td>...</td>\n      <td>True</td>\n      <td>False</td>\n      <td>False</td>\n      <td>True</td>\n      <td>False</td>\n      <td>False</td>\n      <td>False</td>\n      <td>False</td>\n      <td>False</td>\n      <td>Good</td>\n    </tr>\n    <tr>\n      <th>1</th>\n      <td>8</td>\n      <td>7</td>\n      <td>18</td>\n      <td>6</td>\n      <td>18</td>\n      <td>17</td>\n      <td>21.91</td>\n      <td>9.0</td>\n      <td>39.849732</td>\n      <td>0.000000</td>\n      <td>...</td>\n      <td>False</td>\n      <td>True</td>\n      <td>False</td>\n      <td>False</td>\n      <td>False</td>\n      <td>False</td>\n      <td>False</td>\n      <td>False</td>\n      <td>True</td>\n      <td>Poor</td>\n    </tr>\n    <tr>\n      <th>2</th>\n      <td>5</td>\n      <td>2</td>\n      <td>11</td>\n      <td>2</td>\n      <td>3</td>\n      <td>0</td>\n      <td>3.82</td>\n      <td>645.0</td>\n      <td>21.542892</td>\n      <td>15.916667</td>\n      <td>...</td>\n      <td>True</td>\n      <td>False</td>\n      <td>False</td>\n      <td>False</td>\n      <td>False</td>\n      <td>False</td>\n      <td>False</td>\n      <td>False</td>\n      <td>True</td>\n      <td>Good</td>\n    </tr>\n    <tr>\n      <th>3</th>\n      <td>6</td>\n      <td>6</td>\n      <td>32</td>\n      <td>2</td>\n      <td>15</td>\n      <td>13</td>\n      <td>10.40</td>\n      <td>11.0</td>\n      <td>32.423759</td>\n      <td>19.333333</td>\n      <td>...</td>\n      <td>False</td>\n      <td>True</td>\n      <td>False</td>\n      <td>False</td>\n      <td>False</td>\n      <td>False</td>\n      <td>False</td>\n      <td>False</td>\n      <td>True</td>\n      <td>Poor</td>\n    </tr>\n    <tr>\n      <th>4</th>\n      <td>1</td>\n      <td>2</td>\n      <td>12</td>\n      <td>4</td>\n      <td>1</td>\n      <td>0</td>\n      <td>9.74</td>\n      <td>4.0</td>\n      <td>39.543131</td>\n      <td>20.750000</td>\n      <td>...</td>\n      <td>True</td>\n      <td>False</td>\n      <td>False</td>\n      <td>False</td>\n      <td>True</td>\n      <td>False</td>\n      <td>False</td>\n      <td>False</td>\n      <td>False</td>\n      <td>Good</td>\n    </tr>\n    <tr>\n      <th>...</th>\n      <td>...</td>\n      <td>...</td>\n      <td>...</td>\n      <td>...</td>\n      <td>...</td>\n      <td>...</td>\n      <td>...</td>\n      <td>...</td>\n      <td>...</td>\n      <td>...</td>\n      <td>...</td>\n      <td>...</td>\n      <td>...</td>\n      <td>...</td>\n      <td>...</td>\n      <td>...</td>\n      <td>...</td>\n      <td>...</td>\n      <td>...</td>\n      <td>...</td>\n      <td>...</td>\n    </tr>\n    <tr>\n      <th>19995</th>\n      <td>8</td>\n      <td>7</td>\n      <td>8</td>\n      <td>5</td>\n      <td>12</td>\n      <td>15</td>\n      <td>16.11</td>\n      <td>6.0</td>\n      <td>34.099913</td>\n      <td>12.416667</td>\n      <td>...</td>\n      <td>False</td>\n      <td>True</td>\n      <td>False</td>\n      <td>False</td>\n      <td>False</td>\n      <td>False</td>\n      <td>True</td>\n      <td>False</td>\n      <td>False</td>\n      <td>Standard</td>\n    </tr>\n    <tr>\n      <th>19996</th>\n      <td>7</td>\n      <td>3</td>\n      <td>9</td>\n      <td>4</td>\n      <td>8</td>\n      <td>14</td>\n      <td>7.68</td>\n      <td>5.0</td>\n      <td>38.868023</td>\n      <td>14.166667</td>\n      <td>...</td>\n      <td>False</td>\n      <td>True</td>\n      <td>False</td>\n      <td>False</td>\n      <td>True</td>\n      <td>False</td>\n      <td>False</td>\n      <td>False</td>\n      <td>False</td>\n      <td>Standard</td>\n    </tr>\n    <tr>\n      <th>19997</th>\n      <td>4</td>\n      <td>3</td>\n      <td>14</td>\n      <td>5</td>\n      <td>13</td>\n      <td>20</td>\n      <td>12.30</td>\n      <td>10.0</td>\n      <td>34.074416</td>\n      <td>0.000000</td>\n      <td>...</td>\n      <td>False</td>\n      <td>True</td>\n      <td>False</td>\n      <td>False</td>\n      <td>False</td>\n      <td>False</td>\n      <td>False</td>\n      <td>False</td>\n      <td>True</td>\n      <td>Poor</td>\n    </tr>\n    <tr>\n      <th>19998</th>\n      <td>6</td>\n      <td>4</td>\n      <td>14</td>\n      <td>3</td>\n      <td>4</td>\n      <td>10</td>\n      <td>7.14</td>\n      <td>0.0</td>\n      <td>28.452911</td>\n      <td>21.000000</td>\n      <td>...</td>\n      <td>True</td>\n      <td>False</td>\n      <td>False</td>\n      <td>False</td>\n      <td>False</td>\n      <td>False</td>\n      <td>False</td>\n      <td>False</td>\n      <td>True</td>\n      <td>Standard</td>\n    </tr>\n    <tr>\n      <th>19999</th>\n      <td>6</td>\n      <td>9</td>\n      <td>16</td>\n      <td>4</td>\n      <td>15</td>\n      <td>11</td>\n      <td>5.58</td>\n      <td>12.0</td>\n      <td>28.336654</td>\n      <td>11.916667</td>\n      <td>...</td>\n      <td>False</td>\n      <td>True</td>\n      <td>False</td>\n      <td>False</td>\n      <td>False</td>\n      <td>False</td>\n      <td>False</td>\n      <td>False</td>\n      <td>True</td>\n      <td>Standard</td>\n    </tr>\n  </tbody>\n</table>\n<p>20000 rows × 56 columns</p>\n</div>"
     },
     "execution_count": 61,
     "metadata": {},
     "output_type": "execute_result"
    }
   ],
   "source": [
    "test_data"
   ],
   "metadata": {
    "collapsed": false,
    "ExecuteTime": {
     "end_time": "2024-03-31T19:02:30.991881100Z",
     "start_time": "2024-03-31T19:02:30.896882100Z"
    }
   },
   "id": "ed655778d291e8e2"
  },
  {
   "cell_type": "code",
   "execution_count": 62,
   "outputs": [],
   "source": [
    "train_data.to_csv(\"train_data_features_selected.csv\", index=False)\n",
    "test_data.to_csv(\"test_data_features_selected.csv\", index=False)"
   ],
   "metadata": {
    "collapsed": false,
    "ExecuteTime": {
     "end_time": "2024-03-31T19:03:23.414911900Z",
     "start_time": "2024-03-31T19:03:22.113912900Z"
    }
   },
   "id": "faea3e9807078d71"
  }
 ],
 "metadata": {
  "kernelspec": {
   "display_name": "Python 3",
   "language": "python",
   "name": "python3"
  },
  "language_info": {
   "codemirror_mode": {
    "name": "ipython",
    "version": 2
   },
   "file_extension": ".py",
   "mimetype": "text/x-python",
   "name": "python",
   "nbconvert_exporter": "python",
   "pygments_lexer": "ipython2",
   "version": "2.7.6"
  }
 },
 "nbformat": 4,
 "nbformat_minor": 5
}
