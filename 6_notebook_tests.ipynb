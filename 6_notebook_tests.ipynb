{
 "cells": [
  {
   "cell_type": "code",
   "execution_count": 8,
   "id": "initial_id",
   "metadata": {
    "collapsed": true,
    "ExecuteTime": {
     "end_time": "2024-04-08T10:38:24.577341900Z",
     "start_time": "2024-04-08T10:38:24.438347Z"
    }
   },
   "outputs": [],
   "source": [
    "import pandas as pd\n",
    "from sklearn.ensemble import RandomForestClassifier, GradientBoostingClassifier\n",
    "from sklearn.neighbors import KNeighborsClassifier\n",
    "from sklearn.preprocessing import MinMaxScaler, StandardScaler\n",
    "from sklearn.tree import DecisionTreeClassifier"
   ]
  },
  {
   "cell_type": "code",
   "execution_count": 9,
   "outputs": [],
   "source": [
    "random_state = 42\n",
    "cv_number = 3"
   ],
   "metadata": {
    "collapsed": false,
    "ExecuteTime": {
     "end_time": "2024-04-08T10:38:24.590340700Z",
     "start_time": "2024-04-08T10:38:24.459356200Z"
    }
   },
   "id": "8c374c2b26bd8684"
  },
  {
   "cell_type": "code",
   "execution_count": 10,
   "outputs": [],
   "source": [
    "train = pd.read_csv('data/train_data_features_selected_upsampled.csv')\n",
    "test = pd.read_csv('data/test_data_features_selected.csv')\n",
    "\n",
    "train_y = train[\"Credit_Score\"]\n",
    "train_x = train.drop([\"Credit_Score\"], axis=1)\n",
    "\n",
    "test_y = test[\"Credit_Score\"]\n",
    "test_x = test.drop([\"Credit_Score\"], axis=1)"
   ],
   "metadata": {
    "collapsed": false,
    "ExecuteTime": {
     "end_time": "2024-04-08T10:38:25.114367400Z",
     "start_time": "2024-04-08T10:38:24.475338300Z"
    }
   },
   "id": "3875e5361c005661"
  },
  {
   "cell_type": "code",
   "execution_count": 11,
   "outputs": [],
   "source": [
    "test_x_without_nan = test_x.fillna(0)\n",
    "\n",
    "standard_scaled_train_x = StandardScaler().fit_transform(train_x)\n",
    "standard_scaled_test_x = StandardScaler().fit_transform(test_x_without_nan)\n",
    "\n",
    "minmax_scaled_train_x = MinMaxScaler().fit_transform(train_x)\n",
    "minmax_scaled_test_x = MinMaxScaler().fit_transform(test_x_without_nan)"
   ],
   "metadata": {
    "collapsed": false,
    "ExecuteTime": {
     "end_time": "2024-04-08T10:38:25.676351300Z",
     "start_time": "2024-04-08T10:38:25.119341600Z"
    }
   },
   "id": "a82b3eea434b90a0"
  },
  {
   "cell_type": "code",
   "execution_count": 12,
   "outputs": [
    {
     "name": "stdout",
     "output_type": "stream",
     "text": [
      "              precision    recall  f1-score   support\n",
      "\n",
      "        Good       0.50      0.66      0.57      3527\n",
      "        Poor       0.41      0.05      0.08      5874\n",
      "    Standard       0.59      0.81      0.68     10599\n",
      "\n",
      "    accuracy                           0.56     20000\n",
      "   macro avg       0.50      0.50      0.44     20000\n",
      "weighted avg       0.52      0.56      0.49     20000\n"
     ]
    }
   ],
   "source": [
    "from sklearn.ensemble import BaggingClassifier\n",
    "from sklearn.metrics import classification_report\n",
    "\n",
    "bagging = BaggingClassifier(n_estimators=100, random_state=random_state)\n",
    "\n",
    "bagging.fit(standard_scaled_train_x, train_y)\n",
    "predicted_y = bagging.predict(standard_scaled_test_x)\n",
    "\n",
    "print(classification_report(test_y, predicted_y))"
   ],
   "metadata": {
    "collapsed": false,
    "ExecuteTime": {
     "end_time": "2024-04-08T10:41:04.500652800Z",
     "start_time": "2024-04-08T10:38:25.672356800Z"
    }
   },
   "id": "b5c5a18e6fa7e63f"
  },
  {
   "cell_type": "code",
   "execution_count": 13,
   "outputs": [
    {
     "name": "stdout",
     "output_type": "stream",
     "text": [
      "              precision    recall  f1-score   support\n",
      "\n",
      "        Good       0.46      0.76      0.57      3527\n",
      "        Poor       0.43      0.03      0.06      5874\n",
      "    Standard       0.59      0.77      0.67     10599\n",
      "\n",
      "    accuracy                           0.55     20000\n",
      "   macro avg       0.49      0.52      0.43     20000\n",
      "weighted avg       0.52      0.55      0.47     20000\n"
     ]
    }
   ],
   "source": [
    "bagging.fit(minmax_scaled_train_x, train_y)\n",
    "predicted_y = bagging.predict(minmax_scaled_test_x)\n",
    "\n",
    "print(classification_report(test_y, predicted_y))"
   ],
   "metadata": {
    "collapsed": false,
    "ExecuteTime": {
     "end_time": "2024-04-08T10:43:47.924706200Z",
     "start_time": "2024-04-08T10:41:04.495672200Z"
    }
   },
   "id": "e064bcd6768b63dd"
  },
  {
   "cell_type": "code",
   "execution_count": 14,
   "outputs": [
    {
     "name": "stdout",
     "output_type": "stream",
     "text": [
      "              precision    recall  f1-score   support\n",
      "\n",
      "        Good       0.51      0.72      0.59      3527\n",
      "        Poor       0.53      0.03      0.07      5874\n",
      "    Standard       0.59      0.82      0.69     10599\n",
      "\n",
      "    accuracy                           0.57     20000\n",
      "   macro avg       0.54      0.52      0.45     20000\n",
      "weighted avg       0.56      0.57      0.49     20000\n"
     ]
    }
   ],
   "source": [
    "random_forest = RandomForestClassifier(criterion='gini', max_features='sqrt', min_samples_leaf=1, min_samples_split=2, n_estimators=100, random_state=random_state)\n",
    "\n",
    "random_forest.fit(standard_scaled_train_x, train_y)\n",
    "predicted_y = random_forest.predict(standard_scaled_test_x)\n",
    "\n",
    "print(classification_report(test_y, predicted_y))"
   ],
   "metadata": {
    "collapsed": false,
    "ExecuteTime": {
     "end_time": "2024-04-08T10:44:20.546591800Z",
     "start_time": "2024-04-08T10:43:47.922712100Z"
    }
   },
   "id": "3b3b6af2a2dd7b9e"
  },
  {
   "cell_type": "code",
   "execution_count": 15,
   "outputs": [
    {
     "name": "stdout",
     "output_type": "stream",
     "text": [
      "              precision    recall  f1-score   support\n",
      "\n",
      "        Good       0.44      0.83      0.58      3527\n",
      "        Poor       0.54      0.01      0.02      5874\n",
      "    Standard       0.60      0.75      0.67     10599\n",
      "\n",
      "    accuracy                           0.55     20000\n",
      "   macro avg       0.53      0.53      0.42     20000\n",
      "weighted avg       0.55      0.55      0.46     20000\n"
     ]
    }
   ],
   "source": [
    "random_forest.fit(minmax_scaled_train_x, train_y)\n",
    "predicted_y = random_forest.predict(minmax_scaled_test_x)\n",
    "\n",
    "print(classification_report(test_y, predicted_y))"
   ],
   "metadata": {
    "collapsed": false,
    "ExecuteTime": {
     "end_time": "2024-04-08T10:44:53.910517800Z",
     "start_time": "2024-04-08T10:44:20.547589200Z"
    }
   },
   "id": "5cb397fd7c1ef437"
  },
  {
   "cell_type": "code",
   "execution_count": 16,
   "outputs": [
    {
     "name": "stdout",
     "output_type": "stream",
     "text": [
      "              precision    recall  f1-score   support\n",
      "\n",
      "        Good       0.50      0.49      0.49      3527\n",
      "        Poor       0.62      0.47      0.53      5874\n",
      "    Standard       0.65      0.74      0.70     10599\n",
      "\n",
      "    accuracy                           0.62     20000\n",
      "   macro avg       0.59      0.57      0.57     20000\n",
      "weighted avg       0.62      0.62      0.61     20000\n"
     ]
    }
   ],
   "source": [
    "knn_model = KNeighborsClassifier(algorithm='auto', n_neighbors=2, p=1, weights='distance')\n",
    "\n",
    "knn_model.fit(standard_scaled_train_x, train_y)\n",
    "predicted_y = knn_model.predict(standard_scaled_test_x)\n",
    "\n",
    "print(classification_report(test_y, predicted_y))"
   ],
   "metadata": {
    "collapsed": false,
    "ExecuteTime": {
     "end_time": "2024-04-08T10:45:14.088624900Z",
     "start_time": "2024-04-08T10:44:53.911516900Z"
    }
   },
   "id": "fcec12addb66a451"
  },
  {
   "cell_type": "code",
   "execution_count": 17,
   "outputs": [
    {
     "name": "stdout",
     "output_type": "stream",
     "text": [
      "              precision    recall  f1-score   support\n",
      "\n",
      "        Good       0.42      0.52      0.47      3527\n",
      "        Poor       0.54      0.32      0.40      5874\n",
      "    Standard       0.62      0.70      0.66     10599\n",
      "\n",
      "    accuracy                           0.56     20000\n",
      "   macro avg       0.53      0.52      0.51     20000\n",
      "weighted avg       0.56      0.56      0.55     20000\n"
     ]
    }
   ],
   "source": [
    "knn_model.fit(minmax_scaled_train_x, train_y)\n",
    "predicted_y = knn_model.predict(minmax_scaled_test_x)\n",
    "\n",
    "print(classification_report(test_y, predicted_y))"
   ],
   "metadata": {
    "collapsed": false,
    "ExecuteTime": {
     "end_time": "2024-04-08T10:45:33.330690100Z",
     "start_time": "2024-04-08T10:45:14.083632200Z"
    }
   },
   "id": "17841222187bac7e"
  },
  {
   "cell_type": "code",
   "execution_count": 18,
   "outputs": [
    {
     "name": "stdout",
     "output_type": "stream",
     "text": [
      "              precision    recall  f1-score   support\n",
      "\n",
      "        Good       0.29      0.65      0.40      3527\n",
      "        Poor       0.55      0.16      0.25      5874\n",
      "    Standard       0.58      0.56      0.57     10599\n",
      "\n",
      "    accuracy                           0.46     20000\n",
      "   macro avg       0.47      0.46      0.41     20000\n",
      "weighted avg       0.52      0.46      0.45     20000\n"
     ]
    }
   ],
   "source": [
    "d_tree_model = DecisionTreeClassifier(criterion='entropy', max_depth=None, max_features='sqrt', min_samples_leaf=1, min_samples_split=2, random_state=random_state, splitter='best')\n",
    "\n",
    "d_tree_model.fit(minmax_scaled_train_x, train_y)\n",
    "predicted_y = d_tree_model.predict(minmax_scaled_test_x)\n",
    "\n",
    "print(classification_report(test_y, predicted_y))"
   ],
   "metadata": {
    "collapsed": false,
    "ExecuteTime": {
     "end_time": "2024-04-08T10:45:34.431828400Z",
     "start_time": "2024-04-08T10:45:33.335679900Z"
    }
   },
   "id": "39d296578c69e29d"
  },
  {
   "cell_type": "code",
   "execution_count": 19,
   "outputs": [
    {
     "name": "stdout",
     "output_type": "stream",
     "text": [
      "              precision    recall  f1-score   support\n",
      "\n",
      "        Good       0.40      0.46      0.43      3527\n",
      "        Poor       0.34      0.13      0.19      5874\n",
      "    Standard       0.56      0.73      0.64     10599\n",
      "\n",
      "    accuracy                           0.51     20000\n",
      "   macro avg       0.44      0.44      0.42     20000\n",
      "weighted avg       0.47      0.51      0.47     20000\n"
     ]
    }
   ],
   "source": [
    "d_tree_model.fit(standard_scaled_train_x, train_y)\n",
    "predicted_y = d_tree_model.predict(standard_scaled_test_x)\n",
    "\n",
    "print(classification_report(test_y, predicted_y))"
   ],
   "metadata": {
    "collapsed": false,
    "ExecuteTime": {
     "end_time": "2024-04-08T10:45:35.534828600Z",
     "start_time": "2024-04-08T10:45:34.431828400Z"
    }
   },
   "id": "32099963b96796aa"
  },
  {
   "cell_type": "code",
   "execution_count": 20,
   "outputs": [
    {
     "name": "stdout",
     "output_type": "stream",
     "text": [
      "              precision    recall  f1-score   support\n",
      "\n",
      "        Good       0.48      0.51      0.50      3527\n",
      "        Poor       0.57      0.38      0.46      5874\n",
      "    Standard       0.63      0.74      0.68     10599\n",
      "\n",
      "    accuracy                           0.59     20000\n",
      "   macro avg       0.56      0.54      0.55     20000\n",
      "weighted avg       0.59      0.59      0.58     20000\n"
     ]
    }
   ],
   "source": [
    "from sklearn.svm import SVC\n",
    "\n",
    "svc = SVC(C=50, random_state=random_state)\n",
    "\n",
    "svc.fit(standard_scaled_train_x, train_y)\n",
    "predicted_y = svc.predict(standard_scaled_test_x)\n",
    "\n",
    "print(classification_report(test_y, predicted_y))"
   ],
   "metadata": {
    "collapsed": false,
    "ExecuteTime": {
     "end_time": "2024-04-08T14:19:45.336942700Z",
     "start_time": "2024-04-08T10:45:35.531827700Z"
    }
   },
   "id": "62b2f58a01b50618"
  },
  {
   "cell_type": "code",
   "execution_count": 21,
   "outputs": [
    {
     "name": "stdout",
     "output_type": "stream",
     "text": [
      "              precision    recall  f1-score   support\n",
      "\n",
      "        Good       0.44      0.77      0.56      3527\n",
      "        Poor       0.56      0.24      0.34      5874\n",
      "    Standard       0.63      0.67      0.65     10599\n",
      "\n",
      "    accuracy                           0.56     20000\n",
      "   macro avg       0.54      0.56      0.52     20000\n",
      "weighted avg       0.58      0.56      0.54     20000\n"
     ]
    }
   ],
   "source": [
    "svc.fit(minmax_scaled_train_x, train_y)\n",
    "predicted_y = svc.predict(minmax_scaled_test_x)\n",
    "\n",
    "print(classification_report(test_y, predicted_y))"
   ],
   "metadata": {
    "collapsed": false,
    "ExecuteTime": {
     "end_time": "2024-04-08T17:38:03.306696Z",
     "start_time": "2024-04-08T14:19:45.344940400Z"
    }
   },
   "id": "d8e39ea5bb3abcf4"
  },
  {
   "cell_type": "code",
   "execution_count": 22,
   "outputs": [
    {
     "name": "stdout",
     "output_type": "stream",
     "text": [
      "              precision    recall  f1-score   support\n",
      "\n",
      "        Good       0.45      0.74      0.56      3527\n",
      "        Poor       0.60      0.21      0.31      5874\n",
      "    Standard       0.62      0.70      0.66     10599\n",
      "\n",
      "    accuracy                           0.57     20000\n",
      "   macro avg       0.56      0.55      0.51     20000\n",
      "weighted avg       0.58      0.57      0.54     20000\n"
     ]
    }
   ],
   "source": [
    "g_boosting = GradientBoostingClassifier(learning_rate=1.0, max_features='sqrt', random_state=random_state)\n",
    "\n",
    "g_boosting.fit(standard_scaled_train_x, train_y)\n",
    "predicted_y = g_boosting.predict(standard_scaled_test_x)\n",
    "\n",
    "print(classification_report(test_y, predicted_y))"
   ],
   "metadata": {
    "collapsed": false,
    "ExecuteTime": {
     "end_time": "2024-04-08T17:38:22.149217300Z",
     "start_time": "2024-04-08T17:38:03.332685300Z"
    }
   },
   "id": "afcb718500a2d28"
  },
  {
   "cell_type": "code",
   "execution_count": 23,
   "outputs": [
    {
     "name": "stdout",
     "output_type": "stream",
     "text": [
      "              precision    recall  f1-score   support\n",
      "\n",
      "        Good       0.31      0.88      0.46      3527\n",
      "        Poor       0.52      0.15      0.23      5874\n",
      "    Standard       0.60      0.47      0.53     10599\n",
      "\n",
      "    accuracy                           0.45     20000\n",
      "   macro avg       0.48      0.50      0.41     20000\n",
      "weighted avg       0.52      0.45      0.43     20000\n"
     ]
    }
   ],
   "source": [
    "g_boosting.fit(minmax_scaled_train_x, train_y)\n",
    "predicted_y = g_boosting.predict(minmax_scaled_test_x)\n",
    "\n",
    "print(classification_report(test_y, predicted_y))"
   ],
   "metadata": {
    "collapsed": false,
    "ExecuteTime": {
     "end_time": "2024-04-08T17:38:41.257218900Z",
     "start_time": "2024-04-08T17:38:22.154217Z"
    }
   },
   "id": "7ff4e8b666887bb7"
  },
  {
   "cell_type": "code",
   "execution_count": 24,
   "outputs": [
    {
     "name": "stderr",
     "output_type": "stream",
     "text": [
      "C:\\Users\\bred7\\anaconda3\\envs\\veindata\\lib\\site-packages\\sklearn\\linear_model\\_logistic.py:1182: FutureWarning: `penalty='none'`has been deprecated in 1.2 and will be removed in 1.4. To keep the past behaviour, set `penalty=None`.\n",
      "  warnings.warn(\n"
     ]
    },
    {
     "name": "stdout",
     "output_type": "stream",
     "text": [
      "              precision    recall  f1-score   support\n",
      "\n",
      "        Good       0.30      0.90      0.45      3527\n",
      "        Poor       0.67      0.01      0.01      5874\n",
      "    Standard       0.56      0.50      0.53     10599\n",
      "\n",
      "    accuracy                           0.43     20000\n",
      "   macro avg       0.51      0.47      0.33     20000\n",
      "weighted avg       0.55      0.43      0.36     20000\n"
     ]
    }
   ],
   "source": [
    "from sklearn.linear_model import LogisticRegression\n",
    "\n",
    "logistic_regression = LogisticRegression(C=1, penalty='none', random_state=random_state)\n",
    "\n",
    "logistic_regression.fit(minmax_scaled_train_x, train_y)\n",
    "predicted_y = logistic_regression.predict(minmax_scaled_test_x)\n",
    "\n",
    "print(classification_report(test_y, predicted_y))"
   ],
   "metadata": {
    "collapsed": false,
    "ExecuteTime": {
     "end_time": "2024-04-08T17:38:44.310217500Z",
     "start_time": "2024-04-08T17:38:41.262218100Z"
    }
   },
   "id": "4bac0b3a1033efab"
  },
  {
   "cell_type": "code",
   "execution_count": 25,
   "outputs": [
    {
     "name": "stdout",
     "output_type": "stream",
     "text": [
      "              precision    recall  f1-score   support\n",
      "\n",
      "        Good       0.47      0.78      0.58      3527\n",
      "        Poor       0.58      0.34      0.43      5874\n",
      "    Standard       0.66      0.67      0.67     10599\n",
      "\n",
      "    accuracy                           0.59     20000\n",
      "   macro avg       0.57      0.60      0.56     20000\n",
      "weighted avg       0.61      0.59      0.58     20000\n"
     ]
    }
   ],
   "source": [
    "logistic_regression = LogisticRegression(C=1, penalty='l2', random_state=random_state)\n",
    "\n",
    "logistic_regression.fit(standard_scaled_train_x, train_y)\n",
    "predicted_y = logistic_regression.predict(standard_scaled_test_x)\n",
    "\n",
    "print(classification_report(test_y, predicted_y))"
   ],
   "metadata": {
    "collapsed": false,
    "ExecuteTime": {
     "end_time": "2024-04-08T17:38:45.959223900Z",
     "start_time": "2024-04-08T17:38:44.314218100Z"
    }
   },
   "id": "dc8e936452791890"
  },
  {
   "cell_type": "code",
   "execution_count": 26,
   "outputs": [
    {
     "name": "stdout",
     "output_type": "stream",
     "text": [
      "              precision    recall  f1-score   support\n",
      "\n",
      "        Good       0.42      0.86      0.56      3527\n",
      "        Poor       0.58      0.50      0.54      5874\n",
      "    Standard       0.70      0.51      0.59     10599\n",
      "\n",
      "    accuracy                           0.57     20000\n",
      "   macro avg       0.57      0.62      0.56     20000\n",
      "weighted avg       0.62      0.57      0.57     20000\n"
     ]
    }
   ],
   "source": [
    "from sklearn.naive_bayes import MultinomialNB\n",
    "\n",
    "nb_clf = MultinomialNB(alpha=2.0, fit_prior=True)\n",
    "\n",
    "nb_clf.fit(minmax_scaled_train_x, train_y)\n",
    "predicted_y = nb_clf.predict(minmax_scaled_test_x)\n",
    "\n",
    "print(classification_report(test_y, predicted_y))"
   ],
   "metadata": {
    "collapsed": false,
    "ExecuteTime": {
     "end_time": "2024-04-08T17:38:46.687217300Z",
     "start_time": "2024-04-08T17:38:45.959223900Z"
    }
   },
   "id": "d448c64f7042f455"
  }
 ],
 "metadata": {
  "kernelspec": {
   "display_name": "Python 3",
   "language": "python",
   "name": "python3"
  },
  "language_info": {
   "codemirror_mode": {
    "name": "ipython",
    "version": 2
   },
   "file_extension": ".py",
   "mimetype": "text/x-python",
   "name": "python",
   "nbconvert_exporter": "python",
   "pygments_lexer": "ipython2",
   "version": "2.7.6"
  }
 },
 "nbformat": 4,
 "nbformat_minor": 5
}
