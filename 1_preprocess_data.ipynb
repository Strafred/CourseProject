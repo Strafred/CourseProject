{
 "cells": [
  {
   "cell_type": "code",
   "execution_count": 1,
   "id": "initial_id",
   "metadata": {
    "collapsed": true,
    "ExecuteTime": {
     "end_time": "2024-02-20T14:39:55.047520Z",
     "start_time": "2024-02-20T14:39:52.294283Z"
    }
   },
   "outputs": [],
   "source": [
    "import pandas as pd\n",
    "from sklearn.model_selection import train_test_split"
   ]
  },
  {
   "cell_type": "code",
   "execution_count": 2,
   "outputs": [
    {
     "name": "stderr",
     "output_type": "stream",
     "text": [
      "C:\\Users\\bred7\\AppData\\Roaming\\Python\\Python39\\site-packages\\IPython\\core\\interactiveshell.py:3369: DtypeWarning: Columns (26) have mixed types.Specify dtype option on import or set low_memory=False.\n",
      "  exec(code_obj, self.user_global_ns, self.user_ns)\n"
     ]
    }
   ],
   "source": [
    "input_data = pd.read_csv('credit_score_data.csv')\n",
    "\n",
    "x, y = input_data.iloc[:, :-1], input_data.iloc[:, -1]\n",
    "x_train, x_test, y_train, y_test = train_test_split(x, y, test_size=0.2, random_state=42)"
   ],
   "metadata": {
    "collapsed": false,
    "ExecuteTime": {
     "end_time": "2024-02-20T14:39:55.918505500Z",
     "start_time": "2024-02-20T14:39:55.047520Z"
    }
   },
   "id": "3ebefb84921d10da"
  },
  {
   "cell_type": "code",
   "execution_count": 3,
   "outputs": [],
   "source": [
    "train_full = pd.concat([x_train, y_train], axis=1)\n",
    "test_full = pd.concat([x_test, y_test], axis=1)"
   ],
   "metadata": {
    "collapsed": false,
    "ExecuteTime": {
     "end_time": "2024-02-20T14:39:56.038503800Z",
     "start_time": "2024-02-20T14:39:55.914507Z"
    }
   },
   "id": "15b18e743a6f605e"
  },
  {
   "cell_type": "code",
   "execution_count": 4,
   "outputs": [
    {
     "data": {
      "text/plain": "            ID Customer_ID     Month             Name  Age          SSN  \\\n75220  0x1cebe  CUS_0x475f       May             Tomz   20  782-04-7216   \n48955  0x134d9  CUS_0x88e5     April  Poornima Guptav   25  680-32-0710   \n44966  0x11d78  CUS_0xb59c      July         Robertad   49    #F%$D@*&8   \n13568   0x6582  CUS_0x2543   January         Robertai   34  272-87-2927   \n92727  0x23551  CUS_0x20dc    August         Pascaleb   28  285-71-9431   \n...        ...         ...       ...              ...  ...          ...   \n6265    0x3ab7  CUS_0x36f9  February     Lucy Hornbyr   46  992-38-5349   \n54886  0x15798  CUS_0x70a3      July            Islan   20  291-89-8959   \n76820  0x1d81e  CUS_0x1cf3       May           Henryc   38  229-46-4057   \n860     0x1b0a  CUS_0x2c0d       May           ernieh  55_  784-23-6447   \n15795   0x728d  CUS_0x79d5     April             Tomx   33  788-50-6387   \n\n          Occupation Annual_Income  Monthly_Inhand_Salary  Num_Bank_Accounts  \\\n75220     Journalist     101399.13            8535.927500                  1   \n48955     Accountant     112882.68            9684.890000                  5   \n44966      Scientist      28101.46            2173.463807                  5   \n13568        Manager      22438.27            1856.855833                  7   \n92727  Media_Manager       20975.4            1943.950000                  2   \n...              ...           ...                    ...                ...   \n6265       Developer      82065.16            6771.763333                  5   \n54886     Accountant      14920.97            1424.414167                  6   \n76820        Manager      66858.27            5770.522500                  3   \n860           Doctor    19403.405_            1904.950417                  1   \n15795      Architect      19171.68                    NaN                 10   \n\n       ...  Credit_Mix  Outstanding_Debt Credit_Utilization_Ratio  \\\n75220  ...        Good           1061.06                42.681159   \n48955  ...        Good             722.9                40.090839   \n44966  ...    Standard            454.67                23.607892   \n13568  ...           _            167.57                27.094189   \n92727  ...        Good             731.4                26.205042   \n...    ...         ...               ...                      ...   \n6265   ...        Good            106.83                35.131041   \n54886  ...    Standard           1288.58                33.572279   \n76820  ...    Standard            601.58                37.982933   \n860    ...           _            339.11                36.826610   \n15795  ...         Bad           2092.74                37.579855   \n\n           Credit_History_Age  Payment_of_Min_Amount Total_EMI_per_month  \\\n75220   24 Years and 9 Months                     No          132.674897   \n48955  28 Years and 11 Months                     No          353.616124   \n44966   26 Years and 9 Months                     No          268.268012   \n13568                     NaN                     No           58.436308   \n92727   24 Years and 3 Months                     NM           16.196792   \n...                       ...                    ...                 ...   \n6265    23 Years and 0 Months                     No          180.340607   \n54886   13 Years and 5 Months                    Yes           19.909512   \n76820   28 Years and 1 Months                     NM          175.015182   \n860     16 Years and 8 Months                     No           39.214914   \n15795   11 Years and 6 Months                     NM           92.590913   \n\n      Amount_invested_monthly                 Payment_Behaviour  \\\n75220       114.2993860848862  High_spent_Medium_value_payments   \n48955      166.44641009831145   High_spent_Large_value_payments   \n44966                     NaN    Low_spent_Small_value_payments   \n13568      105.16564449441844    Low_spent_Large_value_payments   \n92727       67.15820105635807  High_spent_Medium_value_payments   \n...                       ...                               ...   \n6265       439.84017944810165   High_spent_Small_value_payments   \n54886      110.08423954093125    Low_spent_Small_value_payments   \n76820      364.70705194223035   Low_spent_Medium_value_payments   \n860        169.85819735076564    Low_spent_Large_value_payments   \n15795      52.613915154204705    Low_spent_Small_value_payments   \n\n          Monthly_Balance Credit_Score  \n75220   856.6184673945337     Standard  \n48955   688.4264658667721         Good  \n44966  242.92108023576716         Good  \n13568   292.0836308808341     Standard  \n92727   361.0400067119549         Good  \n...                   ...          ...  \n6265     316.995547225631         Good  \n54886  302.44766467037635         Poor  \n76820   317.3300163104016     Standard  \n860     251.4219298811392     Standard  \n15795  286.15917179141763         Poor  \n\n[80000 rows x 28 columns]",
      "text/html": "<div>\n<style scoped>\n    .dataframe tbody tr th:only-of-type {\n        vertical-align: middle;\n    }\n\n    .dataframe tbody tr th {\n        vertical-align: top;\n    }\n\n    .dataframe thead th {\n        text-align: right;\n    }\n</style>\n<table border=\"1\" class=\"dataframe\">\n  <thead>\n    <tr style=\"text-align: right;\">\n      <th></th>\n      <th>ID</th>\n      <th>Customer_ID</th>\n      <th>Month</th>\n      <th>Name</th>\n      <th>Age</th>\n      <th>SSN</th>\n      <th>Occupation</th>\n      <th>Annual_Income</th>\n      <th>Monthly_Inhand_Salary</th>\n      <th>Num_Bank_Accounts</th>\n      <th>...</th>\n      <th>Credit_Mix</th>\n      <th>Outstanding_Debt</th>\n      <th>Credit_Utilization_Ratio</th>\n      <th>Credit_History_Age</th>\n      <th>Payment_of_Min_Amount</th>\n      <th>Total_EMI_per_month</th>\n      <th>Amount_invested_monthly</th>\n      <th>Payment_Behaviour</th>\n      <th>Monthly_Balance</th>\n      <th>Credit_Score</th>\n    </tr>\n  </thead>\n  <tbody>\n    <tr>\n      <th>75220</th>\n      <td>0x1cebe</td>\n      <td>CUS_0x475f</td>\n      <td>May</td>\n      <td>Tomz</td>\n      <td>20</td>\n      <td>782-04-7216</td>\n      <td>Journalist</td>\n      <td>101399.13</td>\n      <td>8535.927500</td>\n      <td>1</td>\n      <td>...</td>\n      <td>Good</td>\n      <td>1061.06</td>\n      <td>42.681159</td>\n      <td>24 Years and 9 Months</td>\n      <td>No</td>\n      <td>132.674897</td>\n      <td>114.2993860848862</td>\n      <td>High_spent_Medium_value_payments</td>\n      <td>856.6184673945337</td>\n      <td>Standard</td>\n    </tr>\n    <tr>\n      <th>48955</th>\n      <td>0x134d9</td>\n      <td>CUS_0x88e5</td>\n      <td>April</td>\n      <td>Poornima Guptav</td>\n      <td>25</td>\n      <td>680-32-0710</td>\n      <td>Accountant</td>\n      <td>112882.68</td>\n      <td>9684.890000</td>\n      <td>5</td>\n      <td>...</td>\n      <td>Good</td>\n      <td>722.9</td>\n      <td>40.090839</td>\n      <td>28 Years and 11 Months</td>\n      <td>No</td>\n      <td>353.616124</td>\n      <td>166.44641009831145</td>\n      <td>High_spent_Large_value_payments</td>\n      <td>688.4264658667721</td>\n      <td>Good</td>\n    </tr>\n    <tr>\n      <th>44966</th>\n      <td>0x11d78</td>\n      <td>CUS_0xb59c</td>\n      <td>July</td>\n      <td>Robertad</td>\n      <td>49</td>\n      <td>#F%$D@*&amp;8</td>\n      <td>Scientist</td>\n      <td>28101.46</td>\n      <td>2173.463807</td>\n      <td>5</td>\n      <td>...</td>\n      <td>Standard</td>\n      <td>454.67</td>\n      <td>23.607892</td>\n      <td>26 Years and 9 Months</td>\n      <td>No</td>\n      <td>268.268012</td>\n      <td>NaN</td>\n      <td>Low_spent_Small_value_payments</td>\n      <td>242.92108023576716</td>\n      <td>Good</td>\n    </tr>\n    <tr>\n      <th>13568</th>\n      <td>0x6582</td>\n      <td>CUS_0x2543</td>\n      <td>January</td>\n      <td>Robertai</td>\n      <td>34</td>\n      <td>272-87-2927</td>\n      <td>Manager</td>\n      <td>22438.27</td>\n      <td>1856.855833</td>\n      <td>7</td>\n      <td>...</td>\n      <td>_</td>\n      <td>167.57</td>\n      <td>27.094189</td>\n      <td>NaN</td>\n      <td>No</td>\n      <td>58.436308</td>\n      <td>105.16564449441844</td>\n      <td>Low_spent_Large_value_payments</td>\n      <td>292.0836308808341</td>\n      <td>Standard</td>\n    </tr>\n    <tr>\n      <th>92727</th>\n      <td>0x23551</td>\n      <td>CUS_0x20dc</td>\n      <td>August</td>\n      <td>Pascaleb</td>\n      <td>28</td>\n      <td>285-71-9431</td>\n      <td>Media_Manager</td>\n      <td>20975.4</td>\n      <td>1943.950000</td>\n      <td>2</td>\n      <td>...</td>\n      <td>Good</td>\n      <td>731.4</td>\n      <td>26.205042</td>\n      <td>24 Years and 3 Months</td>\n      <td>NM</td>\n      <td>16.196792</td>\n      <td>67.15820105635807</td>\n      <td>High_spent_Medium_value_payments</td>\n      <td>361.0400067119549</td>\n      <td>Good</td>\n    </tr>\n    <tr>\n      <th>...</th>\n      <td>...</td>\n      <td>...</td>\n      <td>...</td>\n      <td>...</td>\n      <td>...</td>\n      <td>...</td>\n      <td>...</td>\n      <td>...</td>\n      <td>...</td>\n      <td>...</td>\n      <td>...</td>\n      <td>...</td>\n      <td>...</td>\n      <td>...</td>\n      <td>...</td>\n      <td>...</td>\n      <td>...</td>\n      <td>...</td>\n      <td>...</td>\n      <td>...</td>\n      <td>...</td>\n    </tr>\n    <tr>\n      <th>6265</th>\n      <td>0x3ab7</td>\n      <td>CUS_0x36f9</td>\n      <td>February</td>\n      <td>Lucy Hornbyr</td>\n      <td>46</td>\n      <td>992-38-5349</td>\n      <td>Developer</td>\n      <td>82065.16</td>\n      <td>6771.763333</td>\n      <td>5</td>\n      <td>...</td>\n      <td>Good</td>\n      <td>106.83</td>\n      <td>35.131041</td>\n      <td>23 Years and 0 Months</td>\n      <td>No</td>\n      <td>180.340607</td>\n      <td>439.84017944810165</td>\n      <td>High_spent_Small_value_payments</td>\n      <td>316.995547225631</td>\n      <td>Good</td>\n    </tr>\n    <tr>\n      <th>54886</th>\n      <td>0x15798</td>\n      <td>CUS_0x70a3</td>\n      <td>July</td>\n      <td>Islan</td>\n      <td>20</td>\n      <td>291-89-8959</td>\n      <td>Accountant</td>\n      <td>14920.97</td>\n      <td>1424.414167</td>\n      <td>6</td>\n      <td>...</td>\n      <td>Standard</td>\n      <td>1288.58</td>\n      <td>33.572279</td>\n      <td>13 Years and 5 Months</td>\n      <td>Yes</td>\n      <td>19.909512</td>\n      <td>110.08423954093125</td>\n      <td>Low_spent_Small_value_payments</td>\n      <td>302.44766467037635</td>\n      <td>Poor</td>\n    </tr>\n    <tr>\n      <th>76820</th>\n      <td>0x1d81e</td>\n      <td>CUS_0x1cf3</td>\n      <td>May</td>\n      <td>Henryc</td>\n      <td>38</td>\n      <td>229-46-4057</td>\n      <td>Manager</td>\n      <td>66858.27</td>\n      <td>5770.522500</td>\n      <td>3</td>\n      <td>...</td>\n      <td>Standard</td>\n      <td>601.58</td>\n      <td>37.982933</td>\n      <td>28 Years and 1 Months</td>\n      <td>NM</td>\n      <td>175.015182</td>\n      <td>364.70705194223035</td>\n      <td>Low_spent_Medium_value_payments</td>\n      <td>317.3300163104016</td>\n      <td>Standard</td>\n    </tr>\n    <tr>\n      <th>860</th>\n      <td>0x1b0a</td>\n      <td>CUS_0x2c0d</td>\n      <td>May</td>\n      <td>ernieh</td>\n      <td>55_</td>\n      <td>784-23-6447</td>\n      <td>Doctor</td>\n      <td>19403.405_</td>\n      <td>1904.950417</td>\n      <td>1</td>\n      <td>...</td>\n      <td>_</td>\n      <td>339.11</td>\n      <td>36.826610</td>\n      <td>16 Years and 8 Months</td>\n      <td>No</td>\n      <td>39.214914</td>\n      <td>169.85819735076564</td>\n      <td>Low_spent_Large_value_payments</td>\n      <td>251.4219298811392</td>\n      <td>Standard</td>\n    </tr>\n    <tr>\n      <th>15795</th>\n      <td>0x728d</td>\n      <td>CUS_0x79d5</td>\n      <td>April</td>\n      <td>Tomx</td>\n      <td>33</td>\n      <td>788-50-6387</td>\n      <td>Architect</td>\n      <td>19171.68</td>\n      <td>NaN</td>\n      <td>10</td>\n      <td>...</td>\n      <td>Bad</td>\n      <td>2092.74</td>\n      <td>37.579855</td>\n      <td>11 Years and 6 Months</td>\n      <td>NM</td>\n      <td>92.590913</td>\n      <td>52.613915154204705</td>\n      <td>Low_spent_Small_value_payments</td>\n      <td>286.15917179141763</td>\n      <td>Poor</td>\n    </tr>\n  </tbody>\n</table>\n<p>80000 rows × 28 columns</p>\n</div>"
     },
     "execution_count": 4,
     "metadata": {},
     "output_type": "execute_result"
    }
   ],
   "source": [
    "train_full.to_csv(\"train.csv\", index=False)\n",
    "train_full"
   ],
   "metadata": {
    "collapsed": false,
    "ExecuteTime": {
     "end_time": "2024-02-20T14:39:58.019770200Z",
     "start_time": "2024-02-20T14:39:56.022505400Z"
    }
   },
   "id": "5524d777ceea68b1"
  },
  {
   "cell_type": "code",
   "execution_count": 5,
   "outputs": [
    {
     "data": {
      "text/plain": "            ID Customer_ID     Month             Name Age          SSN  \\\n75721  0x1d1af  CUS_0x3539  February      an Arakalid  30  995-31-4669   \n80184  0x1ebd6  CUS_0x8716   January         Matthewz  18  185-99-8068   \n19864   0x8a66  CUS_0x21dc   January       Tom Miless  41  241-53-8475   \n76699  0x1d769  CUS_0x32d3     April            Lisaa  35  204-78-6176   \n92991  0x236dd  CUS_0xadad    August           Masond  27  027-11-6852   \n...        ...         ...       ...              ...  ..          ...   \n32595   0xd4fd   CUS_0x765     April          Taylorl  28  282-28-8981   \n29313   0xc1c3  CUS_0x3b9a  February     Seetharamanw  32  983-37-5040   \n37862   0xf3d8  CUS_0x5a6b      July        Charmiant  40  567-66-4662   \n53421  0x14f03  CUS_0xc6ac      June      Pav Jordank  37  057-64-6271   \n42410  0x10e80  CUS_0xbaee     March  Karen Freifelds  41  015-50-7138   \n\n          Occupation Annual_Income  Monthly_Inhand_Salary  Num_Bank_Accounts  \\\n75721        Manager      43391.96            3688.996667                  1   \n80184      Scientist      14351.21                    NaN                  8   \n19864      Developer     130125.04           10871.753333                  5   \n76699        Manager      20107.21            1631.600833                  6   \n92991         Doctor      92186.19            7487.182500                  1   \n...              ...           ...                    ...                ...   \n32595  Media_Manager     50940.09_            4106.007500                  8   \n29313         Doctor      30819.56            2547.296667                  7   \n37862      Architect       24004.5            1935.375000                  4   \n53421       Engineer      35185.56                    NaN                  6   \n42410     Journalist      66349.96            5333.163333                  6   \n\n       ...  Credit_Mix  Outstanding_Debt Credit_Utilization_Ratio  \\\n75721  ...        Good           1468.28                29.112468   \n80184  ...         Bad           4766.87                39.849732   \n19864  ...        Good           1195.05                21.542892   \n76699  ...    Standard            2544.6                32.423759   \n92991  ...        Good            809.01                39.543131   \n...    ...         ...               ...                      ...   \n32595  ...    Standard           2414.34                34.099913   \n29313  ...    Standard            401.26                38.868023   \n37862  ...    Standard            1215.0                34.074416   \n53421  ...    Standard            379.47                28.452911   \n42410  ...    Standard           1740.14                28.336654   \n\n           Credit_History_Age  Payment_of_Min_Amount Total_EMI_per_month  \\\n75721   23 Years and 8 Months                     No            0.000000   \n80184                     NaN                    Yes           61.098718   \n19864  15 Years and 11 Months                     No          204.285650   \n76699   19 Years and 4 Months                    Yes           27.106395   \n92991   20 Years and 9 Months                     No          185.797654   \n...                       ...                    ...                 ...   \n32595   12 Years and 5 Months                    Yes          210.550380   \n29313   14 Years and 2 Months                    Yes           96.848591   \n37862                     NaN                    Yes           56.365016   \n53421   21 Years and 0 Months                     No           83.278064   \n42410  11 Years and 11 Months                    Yes          165.025519   \n\n      Amount_invested_monthly                 Payment_Behaviour  \\\n75721      53.969385063055675   High_spent_Large_value_payments   \n80184      118.08021357217683    Low_spent_Small_value_payments   \n19864      1255.8993022448951    Low_spent_Small_value_payments   \n76699       66.81977464950728    Low_spent_Small_value_payments   \n92991      115.52003931707223  High_spent_Medium_value_payments   \n...                       ...                               ...   \n32595      266.03756049601714    Low_spent_Large_value_payments   \n29313        70.8621814922001  High_spent_Medium_value_payments   \n37862                     NaN    Low_spent_Small_value_payments   \n53421       343.9291924398982    Low_spent_Small_value_payments   \n42410       391.7890393382444    Low_spent_Small_value_payments   \n\n          Monthly_Balance Credit_Score  \n75721   554.9302816036111         Good  \n80184   238.3144849566528         Poor  \n19864                 NaN         Good  \n76699  359.23391378882377         Poor  \n92991   697.4005568630175         Good  \n...                   ...          ...  \n32595  204.01280945992798     Standard  \n29313   337.0188942793012     Standard  \n37862  355.88961809725936         Poor  \n53421   159.0057433126893     Standard  \n42410  266.50177526280345     Standard  \n\n[20000 rows x 28 columns]",
      "text/html": "<div>\n<style scoped>\n    .dataframe tbody tr th:only-of-type {\n        vertical-align: middle;\n    }\n\n    .dataframe tbody tr th {\n        vertical-align: top;\n    }\n\n    .dataframe thead th {\n        text-align: right;\n    }\n</style>\n<table border=\"1\" class=\"dataframe\">\n  <thead>\n    <tr style=\"text-align: right;\">\n      <th></th>\n      <th>ID</th>\n      <th>Customer_ID</th>\n      <th>Month</th>\n      <th>Name</th>\n      <th>Age</th>\n      <th>SSN</th>\n      <th>Occupation</th>\n      <th>Annual_Income</th>\n      <th>Monthly_Inhand_Salary</th>\n      <th>Num_Bank_Accounts</th>\n      <th>...</th>\n      <th>Credit_Mix</th>\n      <th>Outstanding_Debt</th>\n      <th>Credit_Utilization_Ratio</th>\n      <th>Credit_History_Age</th>\n      <th>Payment_of_Min_Amount</th>\n      <th>Total_EMI_per_month</th>\n      <th>Amount_invested_monthly</th>\n      <th>Payment_Behaviour</th>\n      <th>Monthly_Balance</th>\n      <th>Credit_Score</th>\n    </tr>\n  </thead>\n  <tbody>\n    <tr>\n      <th>75721</th>\n      <td>0x1d1af</td>\n      <td>CUS_0x3539</td>\n      <td>February</td>\n      <td>an Arakalid</td>\n      <td>30</td>\n      <td>995-31-4669</td>\n      <td>Manager</td>\n      <td>43391.96</td>\n      <td>3688.996667</td>\n      <td>1</td>\n      <td>...</td>\n      <td>Good</td>\n      <td>1468.28</td>\n      <td>29.112468</td>\n      <td>23 Years and 8 Months</td>\n      <td>No</td>\n      <td>0.000000</td>\n      <td>53.969385063055675</td>\n      <td>High_spent_Large_value_payments</td>\n      <td>554.9302816036111</td>\n      <td>Good</td>\n    </tr>\n    <tr>\n      <th>80184</th>\n      <td>0x1ebd6</td>\n      <td>CUS_0x8716</td>\n      <td>January</td>\n      <td>Matthewz</td>\n      <td>18</td>\n      <td>185-99-8068</td>\n      <td>Scientist</td>\n      <td>14351.21</td>\n      <td>NaN</td>\n      <td>8</td>\n      <td>...</td>\n      <td>Bad</td>\n      <td>4766.87</td>\n      <td>39.849732</td>\n      <td>NaN</td>\n      <td>Yes</td>\n      <td>61.098718</td>\n      <td>118.08021357217683</td>\n      <td>Low_spent_Small_value_payments</td>\n      <td>238.3144849566528</td>\n      <td>Poor</td>\n    </tr>\n    <tr>\n      <th>19864</th>\n      <td>0x8a66</td>\n      <td>CUS_0x21dc</td>\n      <td>January</td>\n      <td>Tom Miless</td>\n      <td>41</td>\n      <td>241-53-8475</td>\n      <td>Developer</td>\n      <td>130125.04</td>\n      <td>10871.753333</td>\n      <td>5</td>\n      <td>...</td>\n      <td>Good</td>\n      <td>1195.05</td>\n      <td>21.542892</td>\n      <td>15 Years and 11 Months</td>\n      <td>No</td>\n      <td>204.285650</td>\n      <td>1255.8993022448951</td>\n      <td>Low_spent_Small_value_payments</td>\n      <td>NaN</td>\n      <td>Good</td>\n    </tr>\n    <tr>\n      <th>76699</th>\n      <td>0x1d769</td>\n      <td>CUS_0x32d3</td>\n      <td>April</td>\n      <td>Lisaa</td>\n      <td>35</td>\n      <td>204-78-6176</td>\n      <td>Manager</td>\n      <td>20107.21</td>\n      <td>1631.600833</td>\n      <td>6</td>\n      <td>...</td>\n      <td>Standard</td>\n      <td>2544.6</td>\n      <td>32.423759</td>\n      <td>19 Years and 4 Months</td>\n      <td>Yes</td>\n      <td>27.106395</td>\n      <td>66.81977464950728</td>\n      <td>Low_spent_Small_value_payments</td>\n      <td>359.23391378882377</td>\n      <td>Poor</td>\n    </tr>\n    <tr>\n      <th>92991</th>\n      <td>0x236dd</td>\n      <td>CUS_0xadad</td>\n      <td>August</td>\n      <td>Masond</td>\n      <td>27</td>\n      <td>027-11-6852</td>\n      <td>Doctor</td>\n      <td>92186.19</td>\n      <td>7487.182500</td>\n      <td>1</td>\n      <td>...</td>\n      <td>Good</td>\n      <td>809.01</td>\n      <td>39.543131</td>\n      <td>20 Years and 9 Months</td>\n      <td>No</td>\n      <td>185.797654</td>\n      <td>115.52003931707223</td>\n      <td>High_spent_Medium_value_payments</td>\n      <td>697.4005568630175</td>\n      <td>Good</td>\n    </tr>\n    <tr>\n      <th>...</th>\n      <td>...</td>\n      <td>...</td>\n      <td>...</td>\n      <td>...</td>\n      <td>...</td>\n      <td>...</td>\n      <td>...</td>\n      <td>...</td>\n      <td>...</td>\n      <td>...</td>\n      <td>...</td>\n      <td>...</td>\n      <td>...</td>\n      <td>...</td>\n      <td>...</td>\n      <td>...</td>\n      <td>...</td>\n      <td>...</td>\n      <td>...</td>\n      <td>...</td>\n      <td>...</td>\n    </tr>\n    <tr>\n      <th>32595</th>\n      <td>0xd4fd</td>\n      <td>CUS_0x765</td>\n      <td>April</td>\n      <td>Taylorl</td>\n      <td>28</td>\n      <td>282-28-8981</td>\n      <td>Media_Manager</td>\n      <td>50940.09_</td>\n      <td>4106.007500</td>\n      <td>8</td>\n      <td>...</td>\n      <td>Standard</td>\n      <td>2414.34</td>\n      <td>34.099913</td>\n      <td>12 Years and 5 Months</td>\n      <td>Yes</td>\n      <td>210.550380</td>\n      <td>266.03756049601714</td>\n      <td>Low_spent_Large_value_payments</td>\n      <td>204.01280945992798</td>\n      <td>Standard</td>\n    </tr>\n    <tr>\n      <th>29313</th>\n      <td>0xc1c3</td>\n      <td>CUS_0x3b9a</td>\n      <td>February</td>\n      <td>Seetharamanw</td>\n      <td>32</td>\n      <td>983-37-5040</td>\n      <td>Doctor</td>\n      <td>30819.56</td>\n      <td>2547.296667</td>\n      <td>7</td>\n      <td>...</td>\n      <td>Standard</td>\n      <td>401.26</td>\n      <td>38.868023</td>\n      <td>14 Years and 2 Months</td>\n      <td>Yes</td>\n      <td>96.848591</td>\n      <td>70.8621814922001</td>\n      <td>High_spent_Medium_value_payments</td>\n      <td>337.0188942793012</td>\n      <td>Standard</td>\n    </tr>\n    <tr>\n      <th>37862</th>\n      <td>0xf3d8</td>\n      <td>CUS_0x5a6b</td>\n      <td>July</td>\n      <td>Charmiant</td>\n      <td>40</td>\n      <td>567-66-4662</td>\n      <td>Architect</td>\n      <td>24004.5</td>\n      <td>1935.375000</td>\n      <td>4</td>\n      <td>...</td>\n      <td>Standard</td>\n      <td>1215.0</td>\n      <td>34.074416</td>\n      <td>NaN</td>\n      <td>Yes</td>\n      <td>56.365016</td>\n      <td>NaN</td>\n      <td>Low_spent_Small_value_payments</td>\n      <td>355.88961809725936</td>\n      <td>Poor</td>\n    </tr>\n    <tr>\n      <th>53421</th>\n      <td>0x14f03</td>\n      <td>CUS_0xc6ac</td>\n      <td>June</td>\n      <td>Pav Jordank</td>\n      <td>37</td>\n      <td>057-64-6271</td>\n      <td>Engineer</td>\n      <td>35185.56</td>\n      <td>NaN</td>\n      <td>6</td>\n      <td>...</td>\n      <td>Standard</td>\n      <td>379.47</td>\n      <td>28.452911</td>\n      <td>21 Years and 0 Months</td>\n      <td>No</td>\n      <td>83.278064</td>\n      <td>343.9291924398982</td>\n      <td>Low_spent_Small_value_payments</td>\n      <td>159.0057433126893</td>\n      <td>Standard</td>\n    </tr>\n    <tr>\n      <th>42410</th>\n      <td>0x10e80</td>\n      <td>CUS_0xbaee</td>\n      <td>March</td>\n      <td>Karen Freifelds</td>\n      <td>41</td>\n      <td>015-50-7138</td>\n      <td>Journalist</td>\n      <td>66349.96</td>\n      <td>5333.163333</td>\n      <td>6</td>\n      <td>...</td>\n      <td>Standard</td>\n      <td>1740.14</td>\n      <td>28.336654</td>\n      <td>11 Years and 11 Months</td>\n      <td>Yes</td>\n      <td>165.025519</td>\n      <td>391.7890393382444</td>\n      <td>Low_spent_Small_value_payments</td>\n      <td>266.50177526280345</td>\n      <td>Standard</td>\n    </tr>\n  </tbody>\n</table>\n<p>20000 rows × 28 columns</p>\n</div>"
     },
     "execution_count": 5,
     "metadata": {},
     "output_type": "execute_result"
    }
   ],
   "source": [
    "test_full.to_csv(\"test.csv\", index=False)\n",
    "test_full"
   ],
   "metadata": {
    "collapsed": false,
    "ExecuteTime": {
     "end_time": "2024-02-20T14:39:58.552939200Z",
     "start_time": "2024-02-20T14:39:58.015774900Z"
    }
   },
   "id": "64a005904a1b1b06"
  }
 ],
 "metadata": {
  "kernelspec": {
   "display_name": "Python 3",
   "language": "python",
   "name": "python3"
  },
  "language_info": {
   "codemirror_mode": {
    "name": "ipython",
    "version": 2
   },
   "file_extension": ".py",
   "mimetype": "text/x-python",
   "name": "python",
   "nbconvert_exporter": "python",
   "pygments_lexer": "ipython2",
   "version": "2.7.6"
  }
 },
 "nbformat": 4,
 "nbformat_minor": 5
}
